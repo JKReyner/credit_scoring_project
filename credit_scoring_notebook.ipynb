{
 "cells": [
  {
   "cell_type": "markdown",
   "metadata": {},
   "source": [
    "# Analyzing borrowers’ risk of defaulting\n",
    "\n",
    "The purpose of this report, in brief, is to analyze the data provided to see if certain factors can be used as predictors for an individual's ability to repay a loan. The factors in question are the number of children they have, their marital status, their monthly income, and the reason they are seeking for the loan."
   ]
  },
  {
   "cell_type": "markdown",
   "metadata": {},
   "source": [
    "## Open the data file and have a look at the general information. "
   ]
  },
  {
   "cell_type": "code",
   "execution_count": 2,
   "metadata": {},
   "outputs": [],
   "source": [
    "# Loading all the libraries\n",
    "import pandas as pd"
   ]
  },
  {
   "cell_type": "code",
   "execution_count": 3,
   "metadata": {},
   "outputs": [
    {
     "ename": "FileNotFoundError",
     "evalue": "[Errno 2] No such file or directory: '/credit_scoring_eng.csv'",
     "output_type": "error",
     "traceback": [
      "\u001b[1;31m---------------------------------------------------------------------------\u001b[0m",
      "\u001b[1;31mFileNotFoundError\u001b[0m                         Traceback (most recent call last)",
      "\u001b[1;32m<ipython-input-3-07627dd11e53>\u001b[0m in \u001b[0;36m<module>\u001b[1;34m\u001b[0m\n\u001b[0;32m      1\u001b[0m \u001b[1;31m# Load the data\u001b[0m\u001b[1;33m\u001b[0m\u001b[1;33m\u001b[0m\u001b[1;33m\u001b[0m\u001b[0m\n\u001b[1;32m----> 2\u001b[1;33m \u001b[0mdata\u001b[0m \u001b[1;33m=\u001b[0m \u001b[0mpd\u001b[0m\u001b[1;33m.\u001b[0m\u001b[0mread_csv\u001b[0m\u001b[1;33m(\u001b[0m\u001b[1;34m'/credit_scoring_eng.csv'\u001b[0m\u001b[1;33m)\u001b[0m \u001b[1;31m#\u001b[0m\u001b[1;33m\u001b[0m\u001b[1;33m\u001b[0m\u001b[0m\n\u001b[0m",
      "\u001b[1;32m~\\anaconda3\\lib\\site-packages\\pandas\\io\\parsers.py\u001b[0m in \u001b[0;36mread_csv\u001b[1;34m(filepath_or_buffer, sep, delimiter, header, names, index_col, usecols, squeeze, prefix, mangle_dupe_cols, dtype, engine, converters, true_values, false_values, skipinitialspace, skiprows, skipfooter, nrows, na_values, keep_default_na, na_filter, verbose, skip_blank_lines, parse_dates, infer_datetime_format, keep_date_col, date_parser, dayfirst, cache_dates, iterator, chunksize, compression, thousands, decimal, lineterminator, quotechar, quoting, doublequote, escapechar, comment, encoding, dialect, error_bad_lines, warn_bad_lines, delim_whitespace, low_memory, memory_map, float_precision, storage_options)\u001b[0m\n\u001b[0;32m    608\u001b[0m     \u001b[0mkwds\u001b[0m\u001b[1;33m.\u001b[0m\u001b[0mupdate\u001b[0m\u001b[1;33m(\u001b[0m\u001b[0mkwds_defaults\u001b[0m\u001b[1;33m)\u001b[0m\u001b[1;33m\u001b[0m\u001b[1;33m\u001b[0m\u001b[0m\n\u001b[0;32m    609\u001b[0m \u001b[1;33m\u001b[0m\u001b[0m\n\u001b[1;32m--> 610\u001b[1;33m     \u001b[1;32mreturn\u001b[0m \u001b[0m_read\u001b[0m\u001b[1;33m(\u001b[0m\u001b[0mfilepath_or_buffer\u001b[0m\u001b[1;33m,\u001b[0m \u001b[0mkwds\u001b[0m\u001b[1;33m)\u001b[0m\u001b[1;33m\u001b[0m\u001b[1;33m\u001b[0m\u001b[0m\n\u001b[0m\u001b[0;32m    611\u001b[0m \u001b[1;33m\u001b[0m\u001b[0m\n\u001b[0;32m    612\u001b[0m \u001b[1;33m\u001b[0m\u001b[0m\n",
      "\u001b[1;32m~\\anaconda3\\lib\\site-packages\\pandas\\io\\parsers.py\u001b[0m in \u001b[0;36m_read\u001b[1;34m(filepath_or_buffer, kwds)\u001b[0m\n\u001b[0;32m    460\u001b[0m \u001b[1;33m\u001b[0m\u001b[0m\n\u001b[0;32m    461\u001b[0m     \u001b[1;31m# Create the parser.\u001b[0m\u001b[1;33m\u001b[0m\u001b[1;33m\u001b[0m\u001b[1;33m\u001b[0m\u001b[0m\n\u001b[1;32m--> 462\u001b[1;33m     \u001b[0mparser\u001b[0m \u001b[1;33m=\u001b[0m \u001b[0mTextFileReader\u001b[0m\u001b[1;33m(\u001b[0m\u001b[0mfilepath_or_buffer\u001b[0m\u001b[1;33m,\u001b[0m \u001b[1;33m**\u001b[0m\u001b[0mkwds\u001b[0m\u001b[1;33m)\u001b[0m\u001b[1;33m\u001b[0m\u001b[1;33m\u001b[0m\u001b[0m\n\u001b[0m\u001b[0;32m    463\u001b[0m \u001b[1;33m\u001b[0m\u001b[0m\n\u001b[0;32m    464\u001b[0m     \u001b[1;32mif\u001b[0m \u001b[0mchunksize\u001b[0m \u001b[1;32mor\u001b[0m \u001b[0miterator\u001b[0m\u001b[1;33m:\u001b[0m\u001b[1;33m\u001b[0m\u001b[1;33m\u001b[0m\u001b[0m\n",
      "\u001b[1;32m~\\anaconda3\\lib\\site-packages\\pandas\\io\\parsers.py\u001b[0m in \u001b[0;36m__init__\u001b[1;34m(self, f, engine, **kwds)\u001b[0m\n\u001b[0;32m    817\u001b[0m             \u001b[0mself\u001b[0m\u001b[1;33m.\u001b[0m\u001b[0moptions\u001b[0m\u001b[1;33m[\u001b[0m\u001b[1;34m\"has_index_names\"\u001b[0m\u001b[1;33m]\u001b[0m \u001b[1;33m=\u001b[0m \u001b[0mkwds\u001b[0m\u001b[1;33m[\u001b[0m\u001b[1;34m\"has_index_names\"\u001b[0m\u001b[1;33m]\u001b[0m\u001b[1;33m\u001b[0m\u001b[1;33m\u001b[0m\u001b[0m\n\u001b[0;32m    818\u001b[0m \u001b[1;33m\u001b[0m\u001b[0m\n\u001b[1;32m--> 819\u001b[1;33m         \u001b[0mself\u001b[0m\u001b[1;33m.\u001b[0m\u001b[0m_engine\u001b[0m \u001b[1;33m=\u001b[0m \u001b[0mself\u001b[0m\u001b[1;33m.\u001b[0m\u001b[0m_make_engine\u001b[0m\u001b[1;33m(\u001b[0m\u001b[0mself\u001b[0m\u001b[1;33m.\u001b[0m\u001b[0mengine\u001b[0m\u001b[1;33m)\u001b[0m\u001b[1;33m\u001b[0m\u001b[1;33m\u001b[0m\u001b[0m\n\u001b[0m\u001b[0;32m    820\u001b[0m \u001b[1;33m\u001b[0m\u001b[0m\n\u001b[0;32m    821\u001b[0m     \u001b[1;32mdef\u001b[0m \u001b[0mclose\u001b[0m\u001b[1;33m(\u001b[0m\u001b[0mself\u001b[0m\u001b[1;33m)\u001b[0m\u001b[1;33m:\u001b[0m\u001b[1;33m\u001b[0m\u001b[1;33m\u001b[0m\u001b[0m\n",
      "\u001b[1;32m~\\anaconda3\\lib\\site-packages\\pandas\\io\\parsers.py\u001b[0m in \u001b[0;36m_make_engine\u001b[1;34m(self, engine)\u001b[0m\n\u001b[0;32m   1048\u001b[0m             )\n\u001b[0;32m   1049\u001b[0m         \u001b[1;31m# error: Too many arguments for \"ParserBase\"\u001b[0m\u001b[1;33m\u001b[0m\u001b[1;33m\u001b[0m\u001b[1;33m\u001b[0m\u001b[0m\n\u001b[1;32m-> 1050\u001b[1;33m         \u001b[1;32mreturn\u001b[0m \u001b[0mmapping\u001b[0m\u001b[1;33m[\u001b[0m\u001b[0mengine\u001b[0m\u001b[1;33m]\u001b[0m\u001b[1;33m(\u001b[0m\u001b[0mself\u001b[0m\u001b[1;33m.\u001b[0m\u001b[0mf\u001b[0m\u001b[1;33m,\u001b[0m \u001b[1;33m**\u001b[0m\u001b[0mself\u001b[0m\u001b[1;33m.\u001b[0m\u001b[0moptions\u001b[0m\u001b[1;33m)\u001b[0m  \u001b[1;31m# type: ignore[call-arg]\u001b[0m\u001b[1;33m\u001b[0m\u001b[1;33m\u001b[0m\u001b[0m\n\u001b[0m\u001b[0;32m   1051\u001b[0m \u001b[1;33m\u001b[0m\u001b[0m\n\u001b[0;32m   1052\u001b[0m     \u001b[1;32mdef\u001b[0m \u001b[0m_failover_to_python\u001b[0m\u001b[1;33m(\u001b[0m\u001b[0mself\u001b[0m\u001b[1;33m)\u001b[0m\u001b[1;33m:\u001b[0m\u001b[1;33m\u001b[0m\u001b[1;33m\u001b[0m\u001b[0m\n",
      "\u001b[1;32m~\\anaconda3\\lib\\site-packages\\pandas\\io\\parsers.py\u001b[0m in \u001b[0;36m__init__\u001b[1;34m(self, src, **kwds)\u001b[0m\n\u001b[0;32m   1865\u001b[0m \u001b[1;33m\u001b[0m\u001b[0m\n\u001b[0;32m   1866\u001b[0m         \u001b[1;31m# open handles\u001b[0m\u001b[1;33m\u001b[0m\u001b[1;33m\u001b[0m\u001b[1;33m\u001b[0m\u001b[0m\n\u001b[1;32m-> 1867\u001b[1;33m         \u001b[0mself\u001b[0m\u001b[1;33m.\u001b[0m\u001b[0m_open_handles\u001b[0m\u001b[1;33m(\u001b[0m\u001b[0msrc\u001b[0m\u001b[1;33m,\u001b[0m \u001b[0mkwds\u001b[0m\u001b[1;33m)\u001b[0m\u001b[1;33m\u001b[0m\u001b[1;33m\u001b[0m\u001b[0m\n\u001b[0m\u001b[0;32m   1868\u001b[0m         \u001b[1;32massert\u001b[0m \u001b[0mself\u001b[0m\u001b[1;33m.\u001b[0m\u001b[0mhandles\u001b[0m \u001b[1;32mis\u001b[0m \u001b[1;32mnot\u001b[0m \u001b[1;32mNone\u001b[0m\u001b[1;33m\u001b[0m\u001b[1;33m\u001b[0m\u001b[0m\n\u001b[0;32m   1869\u001b[0m         \u001b[1;32mfor\u001b[0m \u001b[0mkey\u001b[0m \u001b[1;32min\u001b[0m \u001b[1;33m(\u001b[0m\u001b[1;34m\"storage_options\"\u001b[0m\u001b[1;33m,\u001b[0m \u001b[1;34m\"encoding\"\u001b[0m\u001b[1;33m,\u001b[0m \u001b[1;34m\"memory_map\"\u001b[0m\u001b[1;33m,\u001b[0m \u001b[1;34m\"compression\"\u001b[0m\u001b[1;33m)\u001b[0m\u001b[1;33m:\u001b[0m\u001b[1;33m\u001b[0m\u001b[1;33m\u001b[0m\u001b[0m\n",
      "\u001b[1;32m~\\anaconda3\\lib\\site-packages\\pandas\\io\\parsers.py\u001b[0m in \u001b[0;36m_open_handles\u001b[1;34m(self, src, kwds)\u001b[0m\n\u001b[0;32m   1360\u001b[0m         \u001b[0mLet\u001b[0m \u001b[0mthe\u001b[0m \u001b[0mreaders\u001b[0m \u001b[0mopen\u001b[0m \u001b[0mIOHanldes\u001b[0m \u001b[0mafter\u001b[0m \u001b[0mthey\u001b[0m \u001b[0mare\u001b[0m \u001b[0mdone\u001b[0m \u001b[1;32mwith\u001b[0m \u001b[0mtheir\u001b[0m \u001b[0mpotential\u001b[0m \u001b[0mraises\u001b[0m\u001b[1;33m.\u001b[0m\u001b[1;33m\u001b[0m\u001b[1;33m\u001b[0m\u001b[0m\n\u001b[0;32m   1361\u001b[0m         \"\"\"\n\u001b[1;32m-> 1362\u001b[1;33m         self.handles = get_handle(\n\u001b[0m\u001b[0;32m   1363\u001b[0m             \u001b[0msrc\u001b[0m\u001b[1;33m,\u001b[0m\u001b[1;33m\u001b[0m\u001b[1;33m\u001b[0m\u001b[0m\n\u001b[0;32m   1364\u001b[0m             \u001b[1;34m\"r\"\u001b[0m\u001b[1;33m,\u001b[0m\u001b[1;33m\u001b[0m\u001b[1;33m\u001b[0m\u001b[0m\n",
      "\u001b[1;32m~\\anaconda3\\lib\\site-packages\\pandas\\io\\common.py\u001b[0m in \u001b[0;36mget_handle\u001b[1;34m(path_or_buf, mode, encoding, compression, memory_map, is_text, errors, storage_options)\u001b[0m\n\u001b[0;32m    640\u001b[0m                 \u001b[0merrors\u001b[0m \u001b[1;33m=\u001b[0m \u001b[1;34m\"replace\"\u001b[0m\u001b[1;33m\u001b[0m\u001b[1;33m\u001b[0m\u001b[0m\n\u001b[0;32m    641\u001b[0m             \u001b[1;31m# Encoding\u001b[0m\u001b[1;33m\u001b[0m\u001b[1;33m\u001b[0m\u001b[1;33m\u001b[0m\u001b[0m\n\u001b[1;32m--> 642\u001b[1;33m             handle = open(\n\u001b[0m\u001b[0;32m    643\u001b[0m                 \u001b[0mhandle\u001b[0m\u001b[1;33m,\u001b[0m\u001b[1;33m\u001b[0m\u001b[1;33m\u001b[0m\u001b[0m\n\u001b[0;32m    644\u001b[0m                 \u001b[0mioargs\u001b[0m\u001b[1;33m.\u001b[0m\u001b[0mmode\u001b[0m\u001b[1;33m,\u001b[0m\u001b[1;33m\u001b[0m\u001b[1;33m\u001b[0m\u001b[0m\n",
      "\u001b[1;31mFileNotFoundError\u001b[0m: [Errno 2] No such file or directory: '/credit_scoring_eng.csv'"
     ]
    }
   ],
   "source": [
    "# Load the data\n",
    "data = pd.read_csv('/credit_scoring_eng.csv') # reference the file here"
   ]
  },
  {
   "cell_type": "markdown",
   "metadata": {},
   "source": [
    "## Task 1. Data exploration\n",
    "\n",
    "**Description of the data**\n",
    "- `children` - the number of children in the family\n",
    "- `days_employed` - work experience in days\n",
    "- `dob_years` - client's age in years\n",
    "- `education` - client's education\n",
    "- `education_id` - education identifier\n",
    "- `family_status` - marital status\n",
    "- `family_status_id` - marital status identifier\n",
    "- `gender` - gender of the client\n",
    "- `income_type` - type of employment\n",
    "- `debt` - was there any debt on loan repayment\n",
    "- `total_income` - monthly income\n",
    "- `purpose` - the purpose of obtaining a loan"
   ]
  },
  {
   "cell_type": "code",
   "execution_count": 3,
   "metadata": {},
   "outputs": [
    {
     "name": "stdout",
     "output_type": "stream",
     "text": [
      "Rows: 21525\n",
      "Columns: 12\n"
     ]
    }
   ],
   "source": [
    "# Let's see how many rows and columns our dataset has\n",
    "\n",
    "print(\"Rows:\", len(data.axes[0]))\n",
    "print(\"Columns:\", len(data.axes[1]))"
   ]
  },
  {
   "cell_type": "code",
   "execution_count": 4,
   "metadata": {
    "scrolled": true
   },
   "outputs": [
    {
     "data": {
      "text/html": [
       "<div>\n",
       "<style scoped>\n",
       "    .dataframe tbody tr th:only-of-type {\n",
       "        vertical-align: middle;\n",
       "    }\n",
       "\n",
       "    .dataframe tbody tr th {\n",
       "        vertical-align: top;\n",
       "    }\n",
       "\n",
       "    .dataframe thead th {\n",
       "        text-align: right;\n",
       "    }\n",
       "</style>\n",
       "<table border=\"1\" class=\"dataframe\">\n",
       "  <thead>\n",
       "    <tr style=\"text-align: right;\">\n",
       "      <th></th>\n",
       "      <th>children</th>\n",
       "      <th>days_employed</th>\n",
       "      <th>dob_years</th>\n",
       "      <th>education</th>\n",
       "      <th>education_id</th>\n",
       "      <th>family_status</th>\n",
       "      <th>family_status_id</th>\n",
       "      <th>gender</th>\n",
       "      <th>income_type</th>\n",
       "      <th>debt</th>\n",
       "      <th>total_income</th>\n",
       "      <th>purpose</th>\n",
       "    </tr>\n",
       "  </thead>\n",
       "  <tbody>\n",
       "    <tr>\n",
       "      <td>0</td>\n",
       "      <td>1</td>\n",
       "      <td>-8437.673028</td>\n",
       "      <td>42</td>\n",
       "      <td>bachelor's degree</td>\n",
       "      <td>0</td>\n",
       "      <td>married</td>\n",
       "      <td>0</td>\n",
       "      <td>F</td>\n",
       "      <td>employee</td>\n",
       "      <td>0</td>\n",
       "      <td>40620.102</td>\n",
       "      <td>purchase of the house</td>\n",
       "    </tr>\n",
       "    <tr>\n",
       "      <td>1</td>\n",
       "      <td>1</td>\n",
       "      <td>-4024.803754</td>\n",
       "      <td>36</td>\n",
       "      <td>secondary education</td>\n",
       "      <td>1</td>\n",
       "      <td>married</td>\n",
       "      <td>0</td>\n",
       "      <td>F</td>\n",
       "      <td>employee</td>\n",
       "      <td>0</td>\n",
       "      <td>17932.802</td>\n",
       "      <td>car purchase</td>\n",
       "    </tr>\n",
       "    <tr>\n",
       "      <td>2</td>\n",
       "      <td>0</td>\n",
       "      <td>-5623.422610</td>\n",
       "      <td>33</td>\n",
       "      <td>Secondary Education</td>\n",
       "      <td>1</td>\n",
       "      <td>married</td>\n",
       "      <td>0</td>\n",
       "      <td>M</td>\n",
       "      <td>employee</td>\n",
       "      <td>0</td>\n",
       "      <td>23341.752</td>\n",
       "      <td>purchase of the house</td>\n",
       "    </tr>\n",
       "    <tr>\n",
       "      <td>3</td>\n",
       "      <td>3</td>\n",
       "      <td>-4124.747207</td>\n",
       "      <td>32</td>\n",
       "      <td>secondary education</td>\n",
       "      <td>1</td>\n",
       "      <td>married</td>\n",
       "      <td>0</td>\n",
       "      <td>M</td>\n",
       "      <td>employee</td>\n",
       "      <td>0</td>\n",
       "      <td>42820.568</td>\n",
       "      <td>supplementary education</td>\n",
       "    </tr>\n",
       "    <tr>\n",
       "      <td>4</td>\n",
       "      <td>0</td>\n",
       "      <td>340266.072047</td>\n",
       "      <td>53</td>\n",
       "      <td>secondary education</td>\n",
       "      <td>1</td>\n",
       "      <td>civil partnership</td>\n",
       "      <td>1</td>\n",
       "      <td>F</td>\n",
       "      <td>retiree</td>\n",
       "      <td>0</td>\n",
       "      <td>25378.572</td>\n",
       "      <td>to have a wedding</td>\n",
       "    </tr>\n",
       "    <tr>\n",
       "      <td>5</td>\n",
       "      <td>0</td>\n",
       "      <td>-926.185831</td>\n",
       "      <td>27</td>\n",
       "      <td>bachelor's degree</td>\n",
       "      <td>0</td>\n",
       "      <td>civil partnership</td>\n",
       "      <td>1</td>\n",
       "      <td>M</td>\n",
       "      <td>business</td>\n",
       "      <td>0</td>\n",
       "      <td>40922.170</td>\n",
       "      <td>purchase of the house</td>\n",
       "    </tr>\n",
       "    <tr>\n",
       "      <td>6</td>\n",
       "      <td>0</td>\n",
       "      <td>-2879.202052</td>\n",
       "      <td>43</td>\n",
       "      <td>bachelor's degree</td>\n",
       "      <td>0</td>\n",
       "      <td>married</td>\n",
       "      <td>0</td>\n",
       "      <td>F</td>\n",
       "      <td>business</td>\n",
       "      <td>0</td>\n",
       "      <td>38484.156</td>\n",
       "      <td>housing transactions</td>\n",
       "    </tr>\n",
       "    <tr>\n",
       "      <td>7</td>\n",
       "      <td>0</td>\n",
       "      <td>-152.779569</td>\n",
       "      <td>50</td>\n",
       "      <td>SECONDARY EDUCATION</td>\n",
       "      <td>1</td>\n",
       "      <td>married</td>\n",
       "      <td>0</td>\n",
       "      <td>M</td>\n",
       "      <td>employee</td>\n",
       "      <td>0</td>\n",
       "      <td>21731.829</td>\n",
       "      <td>education</td>\n",
       "    </tr>\n",
       "    <tr>\n",
       "      <td>8</td>\n",
       "      <td>2</td>\n",
       "      <td>-6929.865299</td>\n",
       "      <td>35</td>\n",
       "      <td>BACHELOR'S DEGREE</td>\n",
       "      <td>0</td>\n",
       "      <td>civil partnership</td>\n",
       "      <td>1</td>\n",
       "      <td>F</td>\n",
       "      <td>employee</td>\n",
       "      <td>0</td>\n",
       "      <td>15337.093</td>\n",
       "      <td>having a wedding</td>\n",
       "    </tr>\n",
       "    <tr>\n",
       "      <td>9</td>\n",
       "      <td>0</td>\n",
       "      <td>-2188.756445</td>\n",
       "      <td>41</td>\n",
       "      <td>secondary education</td>\n",
       "      <td>1</td>\n",
       "      <td>married</td>\n",
       "      <td>0</td>\n",
       "      <td>M</td>\n",
       "      <td>employee</td>\n",
       "      <td>0</td>\n",
       "      <td>23108.150</td>\n",
       "      <td>purchase of the house for my family</td>\n",
       "    </tr>\n",
       "    <tr>\n",
       "      <td>10</td>\n",
       "      <td>2</td>\n",
       "      <td>-4171.483647</td>\n",
       "      <td>36</td>\n",
       "      <td>bachelor's degree</td>\n",
       "      <td>0</td>\n",
       "      <td>married</td>\n",
       "      <td>0</td>\n",
       "      <td>M</td>\n",
       "      <td>business</td>\n",
       "      <td>0</td>\n",
       "      <td>18230.959</td>\n",
       "      <td>buy real estate</td>\n",
       "    </tr>\n",
       "    <tr>\n",
       "      <td>11</td>\n",
       "      <td>0</td>\n",
       "      <td>-792.701887</td>\n",
       "      <td>40</td>\n",
       "      <td>secondary education</td>\n",
       "      <td>1</td>\n",
       "      <td>married</td>\n",
       "      <td>0</td>\n",
       "      <td>F</td>\n",
       "      <td>employee</td>\n",
       "      <td>0</td>\n",
       "      <td>12331.077</td>\n",
       "      <td>buy commercial real estate</td>\n",
       "    </tr>\n",
       "    <tr>\n",
       "      <td>12</td>\n",
       "      <td>0</td>\n",
       "      <td>NaN</td>\n",
       "      <td>65</td>\n",
       "      <td>secondary education</td>\n",
       "      <td>1</td>\n",
       "      <td>civil partnership</td>\n",
       "      <td>1</td>\n",
       "      <td>M</td>\n",
       "      <td>retiree</td>\n",
       "      <td>0</td>\n",
       "      <td>NaN</td>\n",
       "      <td>to have a wedding</td>\n",
       "    </tr>\n",
       "    <tr>\n",
       "      <td>13</td>\n",
       "      <td>0</td>\n",
       "      <td>-1846.641941</td>\n",
       "      <td>54</td>\n",
       "      <td>some college</td>\n",
       "      <td>2</td>\n",
       "      <td>married</td>\n",
       "      <td>0</td>\n",
       "      <td>F</td>\n",
       "      <td>employee</td>\n",
       "      <td>0</td>\n",
       "      <td>20873.317</td>\n",
       "      <td>car purchase</td>\n",
       "    </tr>\n",
       "    <tr>\n",
       "      <td>14</td>\n",
       "      <td>0</td>\n",
       "      <td>-1844.956182</td>\n",
       "      <td>56</td>\n",
       "      <td>bachelor's degree</td>\n",
       "      <td>0</td>\n",
       "      <td>civil partnership</td>\n",
       "      <td>1</td>\n",
       "      <td>F</td>\n",
       "      <td>business</td>\n",
       "      <td>1</td>\n",
       "      <td>26420.466</td>\n",
       "      <td>buy residential real estate</td>\n",
       "    </tr>\n",
       "    <tr>\n",
       "      <td>15</td>\n",
       "      <td>1</td>\n",
       "      <td>-972.364419</td>\n",
       "      <td>26</td>\n",
       "      <td>secondary education</td>\n",
       "      <td>1</td>\n",
       "      <td>married</td>\n",
       "      <td>0</td>\n",
       "      <td>F</td>\n",
       "      <td>employee</td>\n",
       "      <td>0</td>\n",
       "      <td>18691.345</td>\n",
       "      <td>construction of own property</td>\n",
       "    </tr>\n",
       "    <tr>\n",
       "      <td>16</td>\n",
       "      <td>0</td>\n",
       "      <td>-1719.934226</td>\n",
       "      <td>35</td>\n",
       "      <td>secondary education</td>\n",
       "      <td>1</td>\n",
       "      <td>married</td>\n",
       "      <td>0</td>\n",
       "      <td>F</td>\n",
       "      <td>employee</td>\n",
       "      <td>0</td>\n",
       "      <td>46272.433</td>\n",
       "      <td>property</td>\n",
       "    </tr>\n",
       "    <tr>\n",
       "      <td>17</td>\n",
       "      <td>0</td>\n",
       "      <td>-2369.999720</td>\n",
       "      <td>33</td>\n",
       "      <td>bachelor's degree</td>\n",
       "      <td>0</td>\n",
       "      <td>civil partnership</td>\n",
       "      <td>1</td>\n",
       "      <td>M</td>\n",
       "      <td>employee</td>\n",
       "      <td>0</td>\n",
       "      <td>14465.694</td>\n",
       "      <td>building a property</td>\n",
       "    </tr>\n",
       "    <tr>\n",
       "      <td>18</td>\n",
       "      <td>0</td>\n",
       "      <td>400281.136913</td>\n",
       "      <td>53</td>\n",
       "      <td>secondary education</td>\n",
       "      <td>1</td>\n",
       "      <td>widow / widower</td>\n",
       "      <td>2</td>\n",
       "      <td>F</td>\n",
       "      <td>retiree</td>\n",
       "      <td>0</td>\n",
       "      <td>9091.804</td>\n",
       "      <td>buying a second-hand car</td>\n",
       "    </tr>\n",
       "    <tr>\n",
       "      <td>19</td>\n",
       "      <td>0</td>\n",
       "      <td>-10038.818549</td>\n",
       "      <td>48</td>\n",
       "      <td>SECONDARY EDUCATION</td>\n",
       "      <td>1</td>\n",
       "      <td>divorced</td>\n",
       "      <td>3</td>\n",
       "      <td>F</td>\n",
       "      <td>employee</td>\n",
       "      <td>0</td>\n",
       "      <td>38852.977</td>\n",
       "      <td>buying my own car</td>\n",
       "    </tr>\n",
       "    <tr>\n",
       "      <td>20</td>\n",
       "      <td>1</td>\n",
       "      <td>-1311.604166</td>\n",
       "      <td>36</td>\n",
       "      <td>secondary education</td>\n",
       "      <td>1</td>\n",
       "      <td>married</td>\n",
       "      <td>0</td>\n",
       "      <td>M</td>\n",
       "      <td>employee</td>\n",
       "      <td>0</td>\n",
       "      <td>33528.423</td>\n",
       "      <td>property</td>\n",
       "    </tr>\n",
       "    <tr>\n",
       "      <td>21</td>\n",
       "      <td>1</td>\n",
       "      <td>-253.685166</td>\n",
       "      <td>33</td>\n",
       "      <td>secondary education</td>\n",
       "      <td>1</td>\n",
       "      <td>civil partnership</td>\n",
       "      <td>1</td>\n",
       "      <td>F</td>\n",
       "      <td>employee</td>\n",
       "      <td>0</td>\n",
       "      <td>21089.953</td>\n",
       "      <td>car purchase</td>\n",
       "    </tr>\n",
       "    <tr>\n",
       "      <td>22</td>\n",
       "      <td>1</td>\n",
       "      <td>-1766.644138</td>\n",
       "      <td>24</td>\n",
       "      <td>secondary education</td>\n",
       "      <td>1</td>\n",
       "      <td>civil partnership</td>\n",
       "      <td>1</td>\n",
       "      <td>F</td>\n",
       "      <td>employee</td>\n",
       "      <td>0</td>\n",
       "      <td>23948.983</td>\n",
       "      <td>buying a second-hand car</td>\n",
       "    </tr>\n",
       "    <tr>\n",
       "      <td>23</td>\n",
       "      <td>0</td>\n",
       "      <td>-272.981385</td>\n",
       "      <td>21</td>\n",
       "      <td>bachelor's degree</td>\n",
       "      <td>0</td>\n",
       "      <td>civil partnership</td>\n",
       "      <td>1</td>\n",
       "      <td>M</td>\n",
       "      <td>employee</td>\n",
       "      <td>0</td>\n",
       "      <td>20522.515</td>\n",
       "      <td>to have a wedding</td>\n",
       "    </tr>\n",
       "    <tr>\n",
       "      <td>24</td>\n",
       "      <td>1</td>\n",
       "      <td>338551.952911</td>\n",
       "      <td>57</td>\n",
       "      <td>secondary education</td>\n",
       "      <td>1</td>\n",
       "      <td>unmarried</td>\n",
       "      <td>4</td>\n",
       "      <td>F</td>\n",
       "      <td>retiree</td>\n",
       "      <td>0</td>\n",
       "      <td>46487.558</td>\n",
       "      <td>transactions with commercial real estate</td>\n",
       "    </tr>\n",
       "    <tr>\n",
       "      <td>25</td>\n",
       "      <td>0</td>\n",
       "      <td>363548.489348</td>\n",
       "      <td>67</td>\n",
       "      <td>secondary education</td>\n",
       "      <td>1</td>\n",
       "      <td>married</td>\n",
       "      <td>0</td>\n",
       "      <td>M</td>\n",
       "      <td>retiree</td>\n",
       "      <td>0</td>\n",
       "      <td>8818.041</td>\n",
       "      <td>buy real estate</td>\n",
       "    </tr>\n",
       "    <tr>\n",
       "      <td>26</td>\n",
       "      <td>0</td>\n",
       "      <td>NaN</td>\n",
       "      <td>41</td>\n",
       "      <td>secondary education</td>\n",
       "      <td>1</td>\n",
       "      <td>married</td>\n",
       "      <td>0</td>\n",
       "      <td>M</td>\n",
       "      <td>civil servant</td>\n",
       "      <td>0</td>\n",
       "      <td>NaN</td>\n",
       "      <td>education</td>\n",
       "    </tr>\n",
       "    <tr>\n",
       "      <td>27</td>\n",
       "      <td>0</td>\n",
       "      <td>-529.191635</td>\n",
       "      <td>28</td>\n",
       "      <td>bachelor's degree</td>\n",
       "      <td>0</td>\n",
       "      <td>married</td>\n",
       "      <td>0</td>\n",
       "      <td>M</td>\n",
       "      <td>employee</td>\n",
       "      <td>0</td>\n",
       "      <td>49415.837</td>\n",
       "      <td>construction of own property</td>\n",
       "    </tr>\n",
       "    <tr>\n",
       "      <td>28</td>\n",
       "      <td>1</td>\n",
       "      <td>-717.274324</td>\n",
       "      <td>26</td>\n",
       "      <td>bachelor's degree</td>\n",
       "      <td>0</td>\n",
       "      <td>married</td>\n",
       "      <td>0</td>\n",
       "      <td>F</td>\n",
       "      <td>employee</td>\n",
       "      <td>0</td>\n",
       "      <td>30058.118</td>\n",
       "      <td>construction of own property</td>\n",
       "    </tr>\n",
       "    <tr>\n",
       "      <td>29</td>\n",
       "      <td>0</td>\n",
       "      <td>NaN</td>\n",
       "      <td>63</td>\n",
       "      <td>secondary education</td>\n",
       "      <td>1</td>\n",
       "      <td>unmarried</td>\n",
       "      <td>4</td>\n",
       "      <td>F</td>\n",
       "      <td>retiree</td>\n",
       "      <td>0</td>\n",
       "      <td>NaN</td>\n",
       "      <td>building a real estate</td>\n",
       "    </tr>\n",
       "    <tr>\n",
       "      <td>30</td>\n",
       "      <td>1</td>\n",
       "      <td>335581.668515</td>\n",
       "      <td>62</td>\n",
       "      <td>secondary education</td>\n",
       "      <td>1</td>\n",
       "      <td>married</td>\n",
       "      <td>0</td>\n",
       "      <td>F</td>\n",
       "      <td>retiree</td>\n",
       "      <td>0</td>\n",
       "      <td>27432.971</td>\n",
       "      <td>transactions with commercial real estate</td>\n",
       "    </tr>\n",
       "    <tr>\n",
       "      <td>31</td>\n",
       "      <td>0</td>\n",
       "      <td>-1682.083438</td>\n",
       "      <td>47</td>\n",
       "      <td>primary education</td>\n",
       "      <td>3</td>\n",
       "      <td>married</td>\n",
       "      <td>0</td>\n",
       "      <td>F</td>\n",
       "      <td>employee</td>\n",
       "      <td>0</td>\n",
       "      <td>44077.710</td>\n",
       "      <td>housing</td>\n",
       "    </tr>\n",
       "    <tr>\n",
       "      <td>32</td>\n",
       "      <td>0</td>\n",
       "      <td>-4649.910832</td>\n",
       "      <td>34</td>\n",
       "      <td>SECONDARY EDUCATION</td>\n",
       "      <td>1</td>\n",
       "      <td>civil partnership</td>\n",
       "      <td>1</td>\n",
       "      <td>F</td>\n",
       "      <td>employee</td>\n",
       "      <td>1</td>\n",
       "      <td>22249.194</td>\n",
       "      <td>having a wedding</td>\n",
       "    </tr>\n",
       "    <tr>\n",
       "      <td>33</td>\n",
       "      <td>0</td>\n",
       "      <td>-1548.637544</td>\n",
       "      <td>48</td>\n",
       "      <td>secondary education</td>\n",
       "      <td>1</td>\n",
       "      <td>married</td>\n",
       "      <td>0</td>\n",
       "      <td>F</td>\n",
       "      <td>business</td>\n",
       "      <td>0</td>\n",
       "      <td>25159.326</td>\n",
       "      <td>purchase of the house</td>\n",
       "    </tr>\n",
       "    <tr>\n",
       "      <td>34</td>\n",
       "      <td>0</td>\n",
       "      <td>-4488.067031</td>\n",
       "      <td>35</td>\n",
       "      <td>secondary education</td>\n",
       "      <td>1</td>\n",
       "      <td>married</td>\n",
       "      <td>0</td>\n",
       "      <td>F</td>\n",
       "      <td>employee</td>\n",
       "      <td>0</td>\n",
       "      <td>16745.672</td>\n",
       "      <td>transactions with my real estate</td>\n",
       "    </tr>\n",
       "    <tr>\n",
       "      <td>35</td>\n",
       "      <td>0</td>\n",
       "      <td>394021.072184</td>\n",
       "      <td>68</td>\n",
       "      <td>secondary education</td>\n",
       "      <td>1</td>\n",
       "      <td>civil partnership</td>\n",
       "      <td>1</td>\n",
       "      <td>M</td>\n",
       "      <td>retiree</td>\n",
       "      <td>0</td>\n",
       "      <td>12448.908</td>\n",
       "      <td>having a wedding</td>\n",
       "    </tr>\n",
       "    <tr>\n",
       "      <td>36</td>\n",
       "      <td>0</td>\n",
       "      <td>-176.216688</td>\n",
       "      <td>33</td>\n",
       "      <td>secondary education</td>\n",
       "      <td>1</td>\n",
       "      <td>unmarried</td>\n",
       "      <td>4</td>\n",
       "      <td>M</td>\n",
       "      <td>employee</td>\n",
       "      <td>0</td>\n",
       "      <td>22212.904</td>\n",
       "      <td>cars</td>\n",
       "    </tr>\n",
       "    <tr>\n",
       "      <td>37</td>\n",
       "      <td>0</td>\n",
       "      <td>-6448.810860</td>\n",
       "      <td>43</td>\n",
       "      <td>BACHELOR'S DEGREE</td>\n",
       "      <td>0</td>\n",
       "      <td>civil partnership</td>\n",
       "      <td>1</td>\n",
       "      <td>F</td>\n",
       "      <td>business</td>\n",
       "      <td>0</td>\n",
       "      <td>24660.621</td>\n",
       "      <td>car purchase</td>\n",
       "    </tr>\n",
       "    <tr>\n",
       "      <td>38</td>\n",
       "      <td>0</td>\n",
       "      <td>-597.881827</td>\n",
       "      <td>25</td>\n",
       "      <td>bachelor's degree</td>\n",
       "      <td>0</td>\n",
       "      <td>unmarried</td>\n",
       "      <td>4</td>\n",
       "      <td>M</td>\n",
       "      <td>employee</td>\n",
       "      <td>1</td>\n",
       "      <td>30759.568</td>\n",
       "      <td>education</td>\n",
       "    </tr>\n",
       "    <tr>\n",
       "      <td>39</td>\n",
       "      <td>0</td>\n",
       "      <td>-650.587796</td>\n",
       "      <td>31</td>\n",
       "      <td>bachelor's degree</td>\n",
       "      <td>0</td>\n",
       "      <td>civil partnership</td>\n",
       "      <td>1</td>\n",
       "      <td>F</td>\n",
       "      <td>business</td>\n",
       "      <td>0</td>\n",
       "      <td>120678.528</td>\n",
       "      <td>to become educated</td>\n",
       "    </tr>\n",
       "    <tr>\n",
       "      <td>40</td>\n",
       "      <td>0</td>\n",
       "      <td>-1030.362606</td>\n",
       "      <td>30</td>\n",
       "      <td>secondary education</td>\n",
       "      <td>1</td>\n",
       "      <td>unmarried</td>\n",
       "      <td>4</td>\n",
       "      <td>M</td>\n",
       "      <td>business</td>\n",
       "      <td>0</td>\n",
       "      <td>22858.493</td>\n",
       "      <td>buy real estate</td>\n",
       "    </tr>\n",
       "    <tr>\n",
       "      <td>41</td>\n",
       "      <td>0</td>\n",
       "      <td>NaN</td>\n",
       "      <td>50</td>\n",
       "      <td>secondary education</td>\n",
       "      <td>1</td>\n",
       "      <td>married</td>\n",
       "      <td>0</td>\n",
       "      <td>F</td>\n",
       "      <td>civil servant</td>\n",
       "      <td>0</td>\n",
       "      <td>NaN</td>\n",
       "      <td>second-hand car purchase</td>\n",
       "    </tr>\n",
       "    <tr>\n",
       "      <td>42</td>\n",
       "      <td>0</td>\n",
       "      <td>-1257.496190</td>\n",
       "      <td>20</td>\n",
       "      <td>some college</td>\n",
       "      <td>2</td>\n",
       "      <td>unmarried</td>\n",
       "      <td>4</td>\n",
       "      <td>F</td>\n",
       "      <td>employee</td>\n",
       "      <td>0</td>\n",
       "      <td>13130.414</td>\n",
       "      <td>getting an education</td>\n",
       "    </tr>\n",
       "    <tr>\n",
       "      <td>43</td>\n",
       "      <td>0</td>\n",
       "      <td>-4375.681384</td>\n",
       "      <td>43</td>\n",
       "      <td>some college</td>\n",
       "      <td>2</td>\n",
       "      <td>divorced</td>\n",
       "      <td>3</td>\n",
       "      <td>F</td>\n",
       "      <td>business</td>\n",
       "      <td>0</td>\n",
       "      <td>43673.141</td>\n",
       "      <td>car purchase</td>\n",
       "    </tr>\n",
       "    <tr>\n",
       "      <td>44</td>\n",
       "      <td>1</td>\n",
       "      <td>-1362.041728</td>\n",
       "      <td>26</td>\n",
       "      <td>SECONDARY EDUCATION</td>\n",
       "      <td>1</td>\n",
       "      <td>married</td>\n",
       "      <td>0</td>\n",
       "      <td>F</td>\n",
       "      <td>employee</td>\n",
       "      <td>0</td>\n",
       "      <td>16124.879</td>\n",
       "      <td>buying my own car</td>\n",
       "    </tr>\n",
       "    <tr>\n",
       "      <td>45</td>\n",
       "      <td>1</td>\n",
       "      <td>-1039.451741</td>\n",
       "      <td>49</td>\n",
       "      <td>secondary education</td>\n",
       "      <td>1</td>\n",
       "      <td>unmarried</td>\n",
       "      <td>4</td>\n",
       "      <td>F</td>\n",
       "      <td>employee</td>\n",
       "      <td>0</td>\n",
       "      <td>17021.747</td>\n",
       "      <td>to become educated</td>\n",
       "    </tr>\n",
       "    <tr>\n",
       "      <td>46</td>\n",
       "      <td>2</td>\n",
       "      <td>-2262.712304</td>\n",
       "      <td>37</td>\n",
       "      <td>secondary education</td>\n",
       "      <td>1</td>\n",
       "      <td>married</td>\n",
       "      <td>0</td>\n",
       "      <td>F</td>\n",
       "      <td>business</td>\n",
       "      <td>0</td>\n",
       "      <td>29229.194</td>\n",
       "      <td>second-hand car purchase</td>\n",
       "    </tr>\n",
       "    <tr>\n",
       "      <td>47</td>\n",
       "      <td>1</td>\n",
       "      <td>-2689.137274</td>\n",
       "      <td>33</td>\n",
       "      <td>bachelor's degree</td>\n",
       "      <td>0</td>\n",
       "      <td>civil partnership</td>\n",
       "      <td>1</td>\n",
       "      <td>M</td>\n",
       "      <td>civil servant</td>\n",
       "      <td>0</td>\n",
       "      <td>57004.465</td>\n",
       "      <td>having a wedding</td>\n",
       "    </tr>\n",
       "    <tr>\n",
       "      <td>48</td>\n",
       "      <td>0</td>\n",
       "      <td>-3341.067886</td>\n",
       "      <td>45</td>\n",
       "      <td>secondary education</td>\n",
       "      <td>1</td>\n",
       "      <td>married</td>\n",
       "      <td>0</td>\n",
       "      <td>F</td>\n",
       "      <td>employee</td>\n",
       "      <td>0</td>\n",
       "      <td>25930.483</td>\n",
       "      <td>construction of own property</td>\n",
       "    </tr>\n",
       "    <tr>\n",
       "      <td>49</td>\n",
       "      <td>0</td>\n",
       "      <td>-1181.443228</td>\n",
       "      <td>54</td>\n",
       "      <td>secondary education</td>\n",
       "      <td>1</td>\n",
       "      <td>married</td>\n",
       "      <td>0</td>\n",
       "      <td>F</td>\n",
       "      <td>employee</td>\n",
       "      <td>0</td>\n",
       "      <td>7134.689</td>\n",
       "      <td>car</td>\n",
       "    </tr>\n",
       "  </tbody>\n",
       "</table>\n",
       "</div>"
      ],
      "text/plain": [
       "    children  days_employed  dob_years            education  education_id  \\\n",
       "0          1   -8437.673028         42    bachelor's degree             0   \n",
       "1          1   -4024.803754         36  secondary education             1   \n",
       "2          0   -5623.422610         33  Secondary Education             1   \n",
       "3          3   -4124.747207         32  secondary education             1   \n",
       "4          0  340266.072047         53  secondary education             1   \n",
       "5          0    -926.185831         27    bachelor's degree             0   \n",
       "6          0   -2879.202052         43    bachelor's degree             0   \n",
       "7          0    -152.779569         50  SECONDARY EDUCATION             1   \n",
       "8          2   -6929.865299         35    BACHELOR'S DEGREE             0   \n",
       "9          0   -2188.756445         41  secondary education             1   \n",
       "10         2   -4171.483647         36    bachelor's degree             0   \n",
       "11         0    -792.701887         40  secondary education             1   \n",
       "12         0            NaN         65  secondary education             1   \n",
       "13         0   -1846.641941         54         some college             2   \n",
       "14         0   -1844.956182         56    bachelor's degree             0   \n",
       "15         1    -972.364419         26  secondary education             1   \n",
       "16         0   -1719.934226         35  secondary education             1   \n",
       "17         0   -2369.999720         33    bachelor's degree             0   \n",
       "18         0  400281.136913         53  secondary education             1   \n",
       "19         0  -10038.818549         48  SECONDARY EDUCATION             1   \n",
       "20         1   -1311.604166         36  secondary education             1   \n",
       "21         1    -253.685166         33  secondary education             1   \n",
       "22         1   -1766.644138         24  secondary education             1   \n",
       "23         0    -272.981385         21    bachelor's degree             0   \n",
       "24         1  338551.952911         57  secondary education             1   \n",
       "25         0  363548.489348         67  secondary education             1   \n",
       "26         0            NaN         41  secondary education             1   \n",
       "27         0    -529.191635         28    bachelor's degree             0   \n",
       "28         1    -717.274324         26    bachelor's degree             0   \n",
       "29         0            NaN         63  secondary education             1   \n",
       "30         1  335581.668515         62  secondary education             1   \n",
       "31         0   -1682.083438         47    primary education             3   \n",
       "32         0   -4649.910832         34  SECONDARY EDUCATION             1   \n",
       "33         0   -1548.637544         48  secondary education             1   \n",
       "34         0   -4488.067031         35  secondary education             1   \n",
       "35         0  394021.072184         68  secondary education             1   \n",
       "36         0    -176.216688         33  secondary education             1   \n",
       "37         0   -6448.810860         43    BACHELOR'S DEGREE             0   \n",
       "38         0    -597.881827         25    bachelor's degree             0   \n",
       "39         0    -650.587796         31    bachelor's degree             0   \n",
       "40         0   -1030.362606         30  secondary education             1   \n",
       "41         0            NaN         50  secondary education             1   \n",
       "42         0   -1257.496190         20         some college             2   \n",
       "43         0   -4375.681384         43         some college             2   \n",
       "44         1   -1362.041728         26  SECONDARY EDUCATION             1   \n",
       "45         1   -1039.451741         49  secondary education             1   \n",
       "46         2   -2262.712304         37  secondary education             1   \n",
       "47         1   -2689.137274         33    bachelor's degree             0   \n",
       "48         0   -3341.067886         45  secondary education             1   \n",
       "49         0   -1181.443228         54  secondary education             1   \n",
       "\n",
       "        family_status  family_status_id gender    income_type  debt  \\\n",
       "0             married                 0      F       employee     0   \n",
       "1             married                 0      F       employee     0   \n",
       "2             married                 0      M       employee     0   \n",
       "3             married                 0      M       employee     0   \n",
       "4   civil partnership                 1      F        retiree     0   \n",
       "5   civil partnership                 1      M       business     0   \n",
       "6             married                 0      F       business     0   \n",
       "7             married                 0      M       employee     0   \n",
       "8   civil partnership                 1      F       employee     0   \n",
       "9             married                 0      M       employee     0   \n",
       "10            married                 0      M       business     0   \n",
       "11            married                 0      F       employee     0   \n",
       "12  civil partnership                 1      M        retiree     0   \n",
       "13            married                 0      F       employee     0   \n",
       "14  civil partnership                 1      F       business     1   \n",
       "15            married                 0      F       employee     0   \n",
       "16            married                 0      F       employee     0   \n",
       "17  civil partnership                 1      M       employee     0   \n",
       "18    widow / widower                 2      F        retiree     0   \n",
       "19           divorced                 3      F       employee     0   \n",
       "20            married                 0      M       employee     0   \n",
       "21  civil partnership                 1      F       employee     0   \n",
       "22  civil partnership                 1      F       employee     0   \n",
       "23  civil partnership                 1      M       employee     0   \n",
       "24          unmarried                 4      F        retiree     0   \n",
       "25            married                 0      M        retiree     0   \n",
       "26            married                 0      M  civil servant     0   \n",
       "27            married                 0      M       employee     0   \n",
       "28            married                 0      F       employee     0   \n",
       "29          unmarried                 4      F        retiree     0   \n",
       "30            married                 0      F        retiree     0   \n",
       "31            married                 0      F       employee     0   \n",
       "32  civil partnership                 1      F       employee     1   \n",
       "33            married                 0      F       business     0   \n",
       "34            married                 0      F       employee     0   \n",
       "35  civil partnership                 1      M        retiree     0   \n",
       "36          unmarried                 4      M       employee     0   \n",
       "37  civil partnership                 1      F       business     0   \n",
       "38          unmarried                 4      M       employee     1   \n",
       "39  civil partnership                 1      F       business     0   \n",
       "40          unmarried                 4      M       business     0   \n",
       "41            married                 0      F  civil servant     0   \n",
       "42          unmarried                 4      F       employee     0   \n",
       "43           divorced                 3      F       business     0   \n",
       "44            married                 0      F       employee     0   \n",
       "45          unmarried                 4      F       employee     0   \n",
       "46            married                 0      F       business     0   \n",
       "47  civil partnership                 1      M  civil servant     0   \n",
       "48            married                 0      F       employee     0   \n",
       "49            married                 0      F       employee     0   \n",
       "\n",
       "    total_income                                   purpose  \n",
       "0      40620.102                     purchase of the house  \n",
       "1      17932.802                              car purchase  \n",
       "2      23341.752                     purchase of the house  \n",
       "3      42820.568                   supplementary education  \n",
       "4      25378.572                         to have a wedding  \n",
       "5      40922.170                     purchase of the house  \n",
       "6      38484.156                      housing transactions  \n",
       "7      21731.829                                 education  \n",
       "8      15337.093                          having a wedding  \n",
       "9      23108.150       purchase of the house for my family  \n",
       "10     18230.959                           buy real estate  \n",
       "11     12331.077                buy commercial real estate  \n",
       "12           NaN                         to have a wedding  \n",
       "13     20873.317                              car purchase  \n",
       "14     26420.466               buy residential real estate  \n",
       "15     18691.345              construction of own property  \n",
       "16     46272.433                                  property  \n",
       "17     14465.694                       building a property  \n",
       "18      9091.804                  buying a second-hand car  \n",
       "19     38852.977                         buying my own car  \n",
       "20     33528.423                                  property  \n",
       "21     21089.953                              car purchase  \n",
       "22     23948.983                  buying a second-hand car  \n",
       "23     20522.515                         to have a wedding  \n",
       "24     46487.558  transactions with commercial real estate  \n",
       "25      8818.041                           buy real estate  \n",
       "26           NaN                                 education  \n",
       "27     49415.837              construction of own property  \n",
       "28     30058.118              construction of own property  \n",
       "29           NaN                    building a real estate  \n",
       "30     27432.971  transactions with commercial real estate  \n",
       "31     44077.710                                   housing  \n",
       "32     22249.194                          having a wedding  \n",
       "33     25159.326                     purchase of the house  \n",
       "34     16745.672          transactions with my real estate  \n",
       "35     12448.908                          having a wedding  \n",
       "36     22212.904                                      cars  \n",
       "37     24660.621                              car purchase  \n",
       "38     30759.568                                 education  \n",
       "39    120678.528                        to become educated  \n",
       "40     22858.493                           buy real estate  \n",
       "41           NaN                  second-hand car purchase  \n",
       "42     13130.414                      getting an education  \n",
       "43     43673.141                              car purchase  \n",
       "44     16124.879                         buying my own car  \n",
       "45     17021.747                        to become educated  \n",
       "46     29229.194                  second-hand car purchase  \n",
       "47     57004.465                          having a wedding  \n",
       "48     25930.483              construction of own property  \n",
       "49      7134.689                                       car  "
      ]
     },
     "execution_count": 4,
     "metadata": {},
     "output_type": "execute_result"
    }
   ],
   "source": [
    "# let's print the first 50 rows\n",
    "\n",
    "data.head(50)"
   ]
  },
  {
   "cell_type": "markdown",
   "metadata": {},
   "source": [
    "Some of the areas seem a bit odd at a quick glance.\n",
    "\n",
    "Most of the \"days_employed\" values are negative, which for a measure of time does not make logical sense.\n",
    "\n",
    "\"education\" has different types of formatting, though it seems like it should be covered by changing cases.\n",
    "\n",
    "\"purpose\" seems like it should be classified since there are different wordings with a few distinct categories appearing most often (\"home\", \"real estate\", \"wedding\", \"car\", \"education\")"
   ]
  },
  {
   "cell_type": "code",
   "execution_count": 5,
   "metadata": {
    "scrolled": false
   },
   "outputs": [
    {
     "name": "stdout",
     "output_type": "stream",
     "text": [
      "<class 'pandas.core.frame.DataFrame'>\n",
      "RangeIndex: 21525 entries, 0 to 21524\n",
      "Data columns (total 12 columns):\n",
      "children            21525 non-null int64\n",
      "days_employed       19351 non-null float64\n",
      "dob_years           21525 non-null int64\n",
      "education           21525 non-null object\n",
      "education_id        21525 non-null int64\n",
      "family_status       21525 non-null object\n",
      "family_status_id    21525 non-null int64\n",
      "gender              21525 non-null object\n",
      "income_type         21525 non-null object\n",
      "debt                21525 non-null int64\n",
      "total_income        19351 non-null float64\n",
      "purpose             21525 non-null object\n",
      "dtypes: float64(2), int64(5), object(5)\n",
      "memory usage: 2.0+ MB\n"
     ]
    }
   ],
   "source": [
    "# Get info on data\n",
    "data.info()"
   ]
  },
  {
   "cell_type": "markdown",
   "metadata": {},
   "source": [
    "Some of the columns, 'days_employed' and 'total_income' are the ones with missing values."
   ]
  },
  {
   "cell_type": "code",
   "execution_count": 6,
   "metadata": {
    "scrolled": true
   },
   "outputs": [
    {
     "name": "stdout",
     "output_type": "stream",
     "text": [
      "children               0\n",
      "days_employed       2174\n",
      "dob_years              0\n",
      "education              0\n",
      "education_id           0\n",
      "family_status          0\n",
      "family_status_id       0\n",
      "gender                 0\n",
      "income_type            0\n",
      "debt                   0\n",
      "total_income        2174\n",
      "purpose                0\n",
      "dtype: int64\n",
      "children             0.000000\n",
      "days_employed       10.099884\n",
      "dob_years            0.000000\n",
      "education            0.000000\n",
      "education_id         0.000000\n",
      "family_status        0.000000\n",
      "family_status_id     0.000000\n",
      "gender               0.000000\n",
      "income_type          0.000000\n",
      "debt                 0.000000\n",
      "total_income        10.099884\n",
      "purpose              0.000000\n",
      "dtype: float64\n"
     ]
    }
   ],
   "source": [
    "# Let's look at the filtered table with missing values in the the first column with missing data\n",
    "\n",
    "print(data.isna().sum())\n",
    "print(data.isnull().sum()/ data.shape[0] * 100)"
   ]
  },
  {
   "cell_type": "markdown",
   "metadata": {},
   "source": [
    "Our missing values are the same size and they may be related categories (employment and income). It most likely is that these missing values are for people who are currently not working and thus would not be able to fill in either. However, there is no guarantee that they are not simply missing data points."
   ]
  },
  {
   "cell_type": "code",
   "execution_count": 7,
   "metadata": {},
   "outputs": [
    {
     "name": "stdout",
     "output_type": "stream",
     "text": [
      "<class 'pandas.core.frame.DataFrame'>\n",
      "Int64Index: 2174 entries, 12 to 21510\n",
      "Data columns (total 12 columns):\n",
      "children            2174 non-null int64\n",
      "days_employed       0 non-null float64\n",
      "dob_years           2174 non-null int64\n",
      "education           2174 non-null object\n",
      "education_id        2174 non-null int64\n",
      "family_status       2174 non-null object\n",
      "family_status_id    2174 non-null int64\n",
      "gender              2174 non-null object\n",
      "income_type         2174 non-null object\n",
      "debt                2174 non-null int64\n",
      "total_income        0 non-null float64\n",
      "purpose             2174 non-null object\n",
      "dtypes: float64(2), int64(5), object(5)\n",
      "memory usage: 220.8+ KB\n"
     ]
    }
   ],
   "source": [
    "# Let's apply multiple conditions for filtering data and look at the number of rows in the filtered table.\n",
    "\n",
    "cols_with_na = ['days_employed', 'total_income']\n",
    "missing_values = []\n",
    "\n",
    "for column in cols_with_na:\n",
    "    subset = data[data[column].isna()]\n",
    "\n",
    "subset.info()"
   ]
  },
  {
   "cell_type": "markdown",
   "metadata": {},
   "source": [
    "**Intermediate conclusion**\n",
    "\n",
    "There are 2174 rows in the table which is the same as the number of missing values on both days_employed and total_income. Since it is exactly the same, this also says that there are no values missing only one of the two values. Thus, it can be generally believed that these entries are representative of people who are not currently employed.\n",
    "\n",
    "These points comprise roughly 10.1% of the data set. While it seems extremely large, it could be negligible if the data set itself is sufficiently large. However, it always would be preferable to fill missing values if there is a good way to do so.\n",
    "\n",
    "In this case, the days_employed and total_income are likely strong data to work with when performing analysis relating to loans, so they should probably be filled out. However, there may not be an elegant way to do so with the given data set, as the most clear predictors for such things (age, education, marital status) may not necessarily be able to form a whole model for such a complicated topic.\n",
    "\n",
    "Next, it would be auspicious to take a look over the subset and see if there are points that could be given a filler value of 0.0 indicating someone who is not simply in between jobs or who may simply be missing data for an unrelated reason. Students, spouses, and retirees would make the most sense to give this value. If they compose a sufficient portion of the data set, we could then make a decision on whether or not to drop the remaining values.\n",
    "\n",
    "Since the questions we are trying to answer are pertaining primarily to **income level**, **marital status**, **number of children** and **history of repaying loans**, those will be given focus."
   ]
  },
  {
   "cell_type": "code",
   "execution_count": 8,
   "metadata": {},
   "outputs": [
    {
     "name": "stdout",
     "output_type": "stream",
     "text": [
      "employee         1105\n",
      "business          508\n",
      "retiree           413\n",
      "civil servant     147\n",
      "entrepreneur        1\n",
      "Name: income_type, dtype: int64\n",
      "\n",
      " 0     1439\n",
      " 1      475\n",
      " 2      204\n",
      " 3       36\n",
      " 20       9\n",
      " 4        7\n",
      "-1        3\n",
      " 5        1\n",
      "Name: children, dtype: int64\n",
      "\n",
      "married              1237\n",
      "civil partnership     442\n",
      "unmarried             288\n",
      "divorced              112\n",
      "widow / widower        95\n",
      "Name: family_status, dtype: int64\n",
      "\n",
      "0    2004\n",
      "1     170\n",
      "Name: debt, dtype: int64\n"
     ]
    }
   ],
   "source": [
    "# Let's investigate clients who do not have data on identified characteristic and the column with the missing values\n",
    "\n",
    "retirees = subset['income_type'].value_counts()\n",
    "\n",
    "married = subset['family_status'].value_counts()\n",
    "\n",
    "child = subset['children'].value_counts()\n",
    "\n",
    "history = subset['debt'].value_counts()\n",
    "\n",
    "print(retirees, end='\\n\\n')\n",
    "\n",
    "print(child, end='\\n\\n')\n",
    "\n",
    "print(married, end='\\n\\n')\n",
    "\n",
    "print(history)"
   ]
  },
  {
   "cell_type": "code",
   "execution_count": 9,
   "metadata": {},
   "outputs": [
    {
     "name": "stdout",
     "output_type": "stream",
     "text": [
      "employee         0.508280\n",
      "business         0.233671\n",
      "retiree          0.189972\n",
      "civil servant    0.067617\n",
      "entrepreneur     0.000460\n",
      "Name: income_type, dtype: float64\n",
      "\n",
      " 0     0.661914\n",
      " 1     0.218491\n",
      " 2     0.093836\n",
      " 3     0.016559\n",
      " 20    0.004140\n",
      " 4     0.003220\n",
      "-1     0.001380\n",
      " 5     0.000460\n",
      "Name: children, dtype: float64\n",
      "\n",
      "married              0.568997\n",
      "civil partnership    0.203312\n",
      "unmarried            0.132475\n",
      "divorced             0.051518\n",
      "widow / widower      0.043698\n",
      "Name: family_status, dtype: float64\n",
      "\n",
      "0    0.921803\n",
      "1    0.078197\n",
      "Name: debt, dtype: float64\n"
     ]
    }
   ],
   "source": [
    "# Checking distribution\n",
    "\n",
    "ratio_by_income = retirees / len(subset)\n",
    "ratio_by_marital = married / len(subset)\n",
    "ratio_by_kid = child / len(subset)\n",
    "ratio_by_history = history / len(subset)\n",
    "\n",
    "print(ratio_by_income, end='\\n\\n')\n",
    "\n",
    "print(ratio_by_kid, end='\\n\\n')\n",
    "\n",
    "print(ratio_by_marital, end='\\n\\n')\n",
    "\n",
    "print(ratio_by_history)"
   ]
  },
  {
   "cell_type": "markdown",
   "metadata": {},
   "source": [
    "**Possible reasons for missing values in data**\n",
    "\n",
    "Looking over some of the data with missing values, there could be some good ways to fill out some of the missing data. Looking quickly over the data, there are at 413 values that are missing value because their income_type is listed as 'retiree'. This makes sense, as they are retired, that means they would not be employed and as a result not have an income. There may be other factors involved, such as if someone is getting married and will not be working in the future, or is in between jobs, applying for college loans, etc.\n",
    "\n",
    "Additionally, there is 1 entrepreneur who naturally does not possess a fixed income or employment duration out of uncertainty so that entry should probably be safe to drop.\n",
    "\n",
    "Married people make up 1237 rows, although there is naturally overlap with employment.\n",
    "\n",
    "For some who are on the younger end of the data, such as below age 23, a good number do appear to be pursuing education which could mean they do not hold a job and thus they would not have either of the values present. However, there also are 10 entries who have dob_years = 0, which holds for simple incomplete information. Since there are only 10 of them, I will drop those entries whose age is listed as 0.\n",
    "\n",
    "Those with 0 children, or fewer than 2 children, make up most of the entries which are missing income data. This does make sense under a similar assumption to before - those who are in pursuit of their education are more likely to have fewer children, if any.\n",
    "\n",
    "To check if the missing values are caused by random chance, a simple measure will be taken. We will take our prior ratios, the ones made by using our NULL data set, and create a second ratio based on the data set without including rows with null values, and subtract the first ratios from the second.\n",
    "\n",
    "If the result of this calculation is close to zero, then that means that the ratios we see in the null data set appear in roughly the same ratios as those in the data that has complete values. What this means, in brief, is that the missing data can be assumed as to have resulted from random chance. If, however, there is a significant difference between the two, that would suggest that perhaps there was a specific issue that caused a factor to have more missing data."
   ]
  },
  {
   "cell_type": "code",
   "execution_count": 10,
   "metadata": {},
   "outputs": [
    {
     "name": "stdout",
     "output_type": "stream",
     "text": [
      "employee                       0.517493\n",
      "business                       0.236525\n",
      "retiree                        0.177924\n",
      "civil servant                  0.067800\n",
      "unemployed                     0.000103\n",
      "paternity / maternity leave    0.000052\n",
      "student                        0.000052\n",
      "entrepreneur                   0.000052\n",
      "Name: income_type, dtype: float64\n",
      "\n",
      "married              0.575836\n",
      "civil partnership    0.193013\n",
      "unmarried            0.130484\n",
      "divorced             0.055966\n",
      "widow / widower      0.044701\n",
      "Name: family_status, dtype: float64\n",
      "\n",
      " 0     0.656814\n",
      " 1     0.224433\n",
      " 2     0.095654\n",
      " 3     0.015193\n",
      " 20    0.003462\n",
      "-1     0.002274\n",
      " 4     0.001757\n",
      " 5     0.000413\n",
      "Name: children, dtype: float64\n",
      "\n",
      "0    0.918816\n",
      "1    0.081184\n",
      "Name: debt, dtype: float64\n",
      "\n",
      "Difference in ratios of completed data and data with null values:\n",
      "business                       0.002855\n",
      "civil servant                  0.000183\n",
      "employee                       0.009213\n",
      "entrepreneur                  -0.000408\n",
      "paternity / maternity leave         NaN\n",
      "retiree                       -0.012049\n",
      "student                             NaN\n",
      "unemployed                          NaN\n",
      "Name: income_type, dtype: float64\n",
      "\n",
      "married              0.006839\n",
      "civil partnership   -0.010299\n",
      "unmarried           -0.001990\n",
      "divorced             0.004448\n",
      "widow / widower      0.001002\n",
      "Name: family_status, dtype: float64\n",
      "\n",
      "-1     0.000894\n",
      " 0    -0.005100\n",
      " 1     0.005942\n",
      " 2     0.001818\n",
      " 3    -0.001366\n",
      " 4    -0.001463\n",
      " 5    -0.000047\n",
      " 20   -0.000677\n",
      "Name: children, dtype: float64\n",
      "\n",
      "0   -0.002988\n",
      "1    0.002988\n",
      "Name: debt, dtype: float64\n"
     ]
    }
   ],
   "source": [
    "# Checking the distribution in the whole dataset\n",
    "\n",
    "ratio_data = data.dropna()\n",
    "\n",
    "ratio_by_job = (ratio_data['income_type'].value_counts()) / len(ratio_data)\n",
    "ratio_by_family = (ratio_data['family_status'].value_counts()) / len(ratio_data)\n",
    "ratio_by_child = (ratio_data['children'].value_counts()) / len(ratio_data)\n",
    "ratio_by_debt = (ratio_data['debt'].value_counts()) / len(ratio_data)\n",
    "\n",
    "print(ratio_by_job, end='\\n\\n')\n",
    "\n",
    "print(ratio_by_family, end='\\n\\n')\n",
    "\n",
    "print(ratio_by_child, end='\\n\\n')\n",
    "\n",
    "print(ratio_by_debt, end='\\n\\n')\n",
    "\n",
    "\n",
    "print(\"Difference in ratios of completed data and data with null values:\")\n",
    "print(ratio_by_job - ratio_by_income, end='\\n\\n')\n",
    "\n",
    "print(ratio_by_family - ratio_by_marital, end='\\n\\n')\n",
    "\n",
    "print(ratio_by_child - ratio_by_kid, end='\\n\\n')\n",
    "\n",
    "print(ratio_by_debt - ratio_by_history)"
   ]
  },
  {
   "cell_type": "markdown",
   "metadata": {},
   "source": [
    "**Intermediate conclusion**\n",
    "\n",
    "For the most part, the ratios being so similar in both the non-null and null data sets does suggest that most of the null values are null through random chance. However, there are some entries that have a fairly large discrepancy, that mean that the null values may be connected.\n",
    "\n",
    "The ratio is 1% higher for retirees in the null set than the full set, which makes sense on an instinctual level. There also are 0.8% fewer employees in the null set, which signals that it is more likely an employee will have these data points represented in the full set. Additionally, the full set has parental leave, student, and unemployed values represented that are not present in the null set, but each of them comprises less than 0.0001 of the total data.\n",
    "\n",
    "Married and civil partnership also seem to have a difference shown, but I do not believe that it is significant enough to make a difference, especially since they could display similar financial statuses in practice. If someone is living with a significant other, they may or may not be working.\n",
    "\n",
    "Those with 0 children are slightly less common in the full set and those with 1 child are slightly more common in the null set. If we assume that 0 children is more likely to be a student, this would make sense. 1 child could be simply random chance, but there is a plausible explanation in that one could interpolate that as a family goes from 1, to 2, or more children, the more likely there is that one of the parents stays at home (which seems to line up with the data).\n",
    "\n",
    "The difference in debt appears to be is more or less arbitrary. Someone may be less likely to acquire certain jobs if they have poor credit but as a whole credit should not have an impact on one's ability to find employment. There is only a 0.2686% difference between the sets.\n",
    "\n",
    "We do not believe that some of these more complicated explanations should immediately be used on our data set when clearing up ones that may be less random such as retirees could give the total analysis more clarity later.\n",
    "\n",
    "We have some leads, but it is not unreasonable to say that it is too soon to make conclusions. Quickly going over the remaining factors, we receive the following:"
   ]
  },
  {
   "cell_type": "code",
   "execution_count": 11,
   "metadata": {},
   "outputs": [
    {
     "name": "stdout",
     "output_type": "stream",
     "text": [
      "BACHELOR'S DEGREE      0.002391\n",
      "Bachelor's Degree      0.001058\n",
      "GRADUATE DEGREE             NaN\n",
      "Graduate Degree             NaN\n",
      "PRIMARY EDUCATION      0.000367\n",
      "Primary Education      0.000263\n",
      "SECONDARY EDUCATION    0.005613\n",
      "SOME COLLEGE          -0.002083\n",
      "Secondary Education    0.003484\n",
      "Some College          -0.001153\n",
      "bachelor's degree     -0.009971\n",
      "graduate degree             NaN\n",
      "primary education      0.003198\n",
      "secondary education   -0.009858\n",
      "some college           0.006379\n",
      "Name: education, dtype: float64\n",
      "\n",
      "BACHELOR'S DEGREE      0.002391\n",
      "Bachelor's Degree      0.001058\n",
      "GRADUATE DEGREE             NaN\n",
      "Graduate Degree             NaN\n",
      "PRIMARY EDUCATION      0.000367\n",
      "Primary Education      0.000263\n",
      "SECONDARY EDUCATION    0.005613\n",
      "SOME COLLEGE          -0.002083\n",
      "Secondary Education    0.003484\n",
      "Some College          -0.001153\n",
      "bachelor's degree     -0.009971\n",
      "graduate degree             NaN\n",
      "primary education      0.003198\n",
      "secondary education   -0.009858\n",
      "some college           0.006379\n",
      "Name: education, dtype: float64\n",
      "\n",
      "F     -0.023629\n",
      "M      0.023577\n",
      "XNA         NaN\n",
      "Name: gender, dtype: float64\n",
      "\n",
      "0   -0.002988\n",
      "1    0.002988\n",
      "Name: debt, dtype: float64\n"
     ]
    }
   ],
   "source": [
    "# Check for other reasons and patterns that could lead to missing values\n",
    "\n",
    "edu_1 = subset['education'].value_counts() / len(subset)\n",
    "edu_2 = ratio_data['education'].value_counts() / len(ratio_data)\n",
    "edu_1 = subset['education'].value_counts() / len(subset)\n",
    "edu_2 = ratio_data['education'].value_counts() / len(ratio_data)\n",
    "gen_1 = subset['gender'].value_counts() / len(subset)\n",
    "gen_2 = ratio_data['gender'].value_counts() / len(ratio_data)\n",
    "debt_1 = subset['debt'].value_counts() / len(subset)\n",
    "debt_2 = ratio_data['debt'].value_counts() / len(ratio_data)\n",
    "\n",
    "print(edu_2 - edu_1, end='\\n\\n')\n",
    "\n",
    "print(edu_2 - edu_1, end='\\n\\n')\n",
    "\n",
    "print(gen_2 - gen_1, end='\\n\\n')\n",
    "\n",
    "print(debt_2 - debt_1)"
   ]
  },
  {
   "cell_type": "markdown",
   "metadata": {},
   "source": [
    "**Conclusions**\n",
    "\n",
    "The strongest possible connection here is an apparent slightly higher amount of females in the data set with missing values, but not by much. This could suggest a possible pattern but a weak one, if any. It is likely to still be random, as there are generally more females in the data set as a whole.\n",
    "\n",
    "In some categories, missing values could be filled in with 0, since in some cases we can assume that the employment status (and, by extension, the total income) is 0. Students and employees, most obviously. For the remaining missing values. However, that may not be an ideal solution, and instead checking these values based on observed values would be more effective. For that, firstly, cleaning up data to make it more useable is important. Duplicates should be removed, data that is strikingly strange where it clearly is an error should be removed, columns should be normalized as much as possible. After the data has been cleaned, it will be in a state where it can be analyzed."
   ]
  },
  {
   "cell_type": "markdown",
   "metadata": {},
   "source": [
    "## Data transformation\n",
    "\n",
    "As we can see in some of our earlier analysis, there are different formats for capitalization for the education status. Fortunately, it is all simply a capitalization issue, there could have been many more format differences (i.e. it could have an entry of \"bachelors degree\", or \"grade school\" which would require a little more than a simple change of case). Those will be fixed now."
   ]
  },
  {
   "cell_type": "code",
   "execution_count": 12,
   "metadata": {},
   "outputs": [
    {
     "data": {
      "text/plain": [
       "array([\"bachelor's degree\", 'secondary education', 'Secondary Education',\n",
       "       'SECONDARY EDUCATION', \"BACHELOR'S DEGREE\", 'some college',\n",
       "       'primary education', \"Bachelor's Degree\", 'SOME COLLEGE',\n",
       "       'Some College', 'PRIMARY EDUCATION', 'Primary Education',\n",
       "       'Graduate Degree', 'GRADUATE DEGREE', 'graduate degree'],\n",
       "      dtype=object)"
      ]
     },
     "execution_count": 12,
     "metadata": {},
     "output_type": "execute_result"
    }
   ],
   "source": [
    "# Let's see all values in education column to check if and what spellings will need to be fixed\n",
    "data['education'].unique()"
   ]
  },
  {
   "cell_type": "code",
   "execution_count": 13,
   "metadata": {
    "scrolled": true
   },
   "outputs": [],
   "source": [
    "# Fix the registers if required\n",
    "data['education'] = data['education'].str.lower()"
   ]
  },
  {
   "cell_type": "code",
   "execution_count": 14,
   "metadata": {},
   "outputs": [
    {
     "data": {
      "text/plain": [
       "array([\"bachelor's degree\", 'secondary education', 'some college',\n",
       "       'primary education', 'graduate degree'], dtype=object)"
      ]
     },
     "execution_count": 14,
     "metadata": {},
     "output_type": "execute_result"
    }
   ],
   "source": [
    "# Checking all the values in the column to make sure we fixed them\n",
    "\n",
    "data['education'].unique()"
   ]
  },
  {
   "cell_type": "markdown",
   "metadata": {},
   "source": [
    "It was also seen before that there are strange inputs within the 'children' column that will be amended."
   ]
  },
  {
   "cell_type": "code",
   "execution_count": 15,
   "metadata": {},
   "outputs": [
    {
     "data": {
      "text/plain": [
       " 0     14149\n",
       " 1      4818\n",
       " 2      2055\n",
       " 3       330\n",
       " 20       76\n",
       "-1        47\n",
       " 4        41\n",
       " 5         9\n",
       "Name: children, dtype: int64"
      ]
     },
     "execution_count": 15,
     "metadata": {},
     "output_type": "execute_result"
    }
   ],
   "source": [
    "# Let's see the distribution of values in the `children` column\n",
    "data['children'].value_counts()"
   ]
  },
  {
   "cell_type": "markdown",
   "metadata": {},
   "source": [
    "There are exactly 76 entries in the data set that have been assigned 20 as their number of children. It is probably safe to assume that these values are meant to be 2. By the same logic, the 47 entries of children marked as -1 are likely meant to be 1."
   ]
  },
  {
   "cell_type": "code",
   "execution_count": 16,
   "metadata": {},
   "outputs": [],
   "source": [
    "# [fix the data based on your decision]\n",
    "data[data['children'] == -1] = 1\n",
    "data[data['children'] == 20] = 2"
   ]
  },
  {
   "cell_type": "code",
   "execution_count": 17,
   "metadata": {},
   "outputs": [
    {
     "data": {
      "text/plain": [
       "0    14149\n",
       "1     4865\n",
       "2     2131\n",
       "3      330\n",
       "4       41\n",
       "5        9\n",
       "Name: children, dtype: int64"
      ]
     },
     "execution_count": 17,
     "metadata": {},
     "output_type": "execute_result"
    }
   ],
   "source": [
    "# Checking the `children` column again to make sure it's all fixed\n",
    "\n",
    "data['children'].value_counts()"
   ]
  },
  {
   "cell_type": "markdown",
   "metadata": {},
   "source": [
    "The main issue in the days_employed column is clearly having many negative values, which should not normally be possible. There also is one entry in the first few rows that are extremely massive. For instance, on row 4 there is an entry with 340266.072047 days employed, which would amount to approximately 932 years. Suffice to say, it's unlikely that anyone could have worked that long.\n",
    "\n",
    "To search for sufficiently large days_employed, there are different ways we could tackle this, but with little information a simple benchmark could be to simply look at those who have been employed for a time greater than they could possibly be working. For the purpose of getting a quick look, a test will be run to see if, assuming the worker began employment at age 16 (very generous). We can also test for a couple other values - it is certainly possible that the metric of working for \"their entire life starting from 16\"."
   ]
  },
  {
   "cell_type": "code",
   "execution_count": 18,
   "metadata": {},
   "outputs": [
    {
     "name": "stdout",
     "output_type": "stream",
     "text": [
      "Employed days that are negative:\n",
      " 15809\n",
      "\n",
      "Employed days that are higher than the cutoff:\n",
      " 3622\n",
      "Employed days that are higher than 10,000 (approximately 27 years):\n",
      " 3431\n",
      "Employed days that are higher than 18,000 (approximately 49 years):\n",
      " 3431\n",
      "Employed days that are higher than 20,000 (approximately 55 years):\n",
      " 3431\n",
      "Employed days that are higher than 100,000:\n",
      " 3431\n",
      "\n",
      "Mean of the cutoff days: 345744.17191529745\n",
      "Median of the cutoff days: 362889.81787920685\n",
      "\n",
      "Mean of the non-cutoff days: -2356.2823155591896\n",
      "Median of the non-cutoff days: -1632.8080131103472\n"
     ]
    }
   ],
   "source": [
    "# Find problematic data in `days_employed`, if they exist, and calculate the percentage\n",
    "days_cutoff = data[data['days_employed'] > (((data['dob_years'] - 16) * 365))]\n",
    "days_no_cutoff = data[data['days_employed'] <= (((data['dob_years'] - 16) * 365))]\n",
    "\n",
    "print(\"Employed days that are negative:\\n\",\n",
    "      data[data['days_employed'] < 0]['days_employed'].count(), end='\\n\\n')\n",
    "\n",
    "print(\"Employed days that are higher than the cutoff:\\n\",\n",
    "      days_cutoff['days_employed'].count())\n",
    "print(\"Employed days that are higher than 10,000 (approximately 27 years):\\n\",\n",
    "     data[data['days_employed'] > 10000]['days_employed'].count())\n",
    "print(\"Employed days that are higher than 18,000 (approximately 49 years):\\n\",\n",
    "     data[data['days_employed'] > 18000]['days_employed'].count())\n",
    "print(\"Employed days that are higher than 20,000 (approximately 55 years):\\n\",\n",
    "     data[data['days_employed'] > 20000]['days_employed'].count())\n",
    "print(\"Employed days that are higher than 100,000:\\n\",\n",
    "     data[data['days_employed'] > 100000]['days_employed'].count(), end='\\n\\n')\n",
    "\n",
    "print(f\"Mean of the cutoff days: {days_cutoff['days_employed'].mean()}\")\n",
    "print(f\"Median of the cutoff days: {days_cutoff['days_employed'].median()}\", end='\\n\\n')\n",
    "\n",
    "print(f\"Mean of the non-cutoff days: {days_no_cutoff['days_employed'].mean()}\")\n",
    "print(f\"Median of the non-cutoff days: {days_no_cutoff['days_employed'].median()}\")"
   ]
  },
  {
   "cell_type": "markdown",
   "metadata": {},
   "source": [
    "These sections are mutually exclusive (one is negative, one is sufficiently large) so we can witness that over 90% of our data set has an issue with the days_employed column. It would be a good idea to examine the way that the data was gathered if a process will be repeated in the future, but at the moment cleaning it is our priority.\n",
    "\n",
    "For the negative values, those are obvious and we only need to turn them positive. For the extremely large values of days_employed, we can witness that there are fewer values in the 10,000+ categories. There may be people who have been working for their entire life -16 years, and there also may be people who have been employed for many decades. By the time we reach a little over 15,000 days, the numbers begin to taper off and by the time we reach 20,000 days, all the values are also higher than 100,000. Most of them gather around a mean and median that both are approximately 336,000 days.\n",
    "\n",
    "Thus, for the sufficiently large values, I would posit that the issue that any value with 6 digits has most likely been shifted by two figures. If we look at the values of the data that falls outside of the cutoff, the mean and median are around 2300 and 1600, respectively. This means that most of the people clearly do not reach 10,000 days of employment, and thus, it makes sense to alter values that have been employed for over 100,000 days into a four-digit value."
   ]
  },
  {
   "cell_type": "code",
   "execution_count": 19,
   "metadata": {},
   "outputs": [],
   "source": [
    "# Address the problematic values, if they exist\n",
    "\n",
    "def make_positive(value):\n",
    "    if value < 0:\n",
    "        return (value * -1)\n",
    "    return value\n",
    "\n",
    "def significant_figures(value):\n",
    "    if value > 20000:\n",
    "        return (value / 100)\n",
    "    return value\n",
    "\n",
    "data['days_employed'] = data['days_employed'].apply(make_positive)\n",
    "data['days_employed'] = data['days_employed'].apply(significant_figures)"
   ]
  },
  {
   "cell_type": "code",
   "execution_count": 20,
   "metadata": {},
   "outputs": [
    {
     "name": "stdout",
     "output_type": "stream",
     "text": [
      "                    dob_years\n",
      "days_employed                \n",
      "1.0                        47\n",
      "2.0                        76\n",
      "108.96704186614716          1\n",
      "162.9369524996826           1\n",
      "176.40448651346043          1\n",
      "...                       ...\n",
      "16264.699500887124          1\n",
      "16593.472817263817          1\n",
      "17615.563265627912          1\n",
      "18388.949900568383          1\n",
      "All                       304\n",
      "\n",
      "[184 rows x 1 columns]\n",
      "Employed days that are negative:\n",
      " 0\n",
      "Employed days that are higher than 20,000 (approximately 55 years):\n",
      " 0\n",
      "\n",
      "Mean of the days employed: 2568.463235896076\n",
      "Median of the days employed: 2169.312880287869\n"
     ]
    }
   ],
   "source": [
    "# Check the result - make sure it's fixed\n",
    "days_cutoff = data[data['days_employed'] > (((data['dob_years'] - 16) * 365))]\n",
    "print(days_cutoff.pivot_table(index='days_employed', values = 'dob_years', aggfunc='count', margins=True))\n",
    "\n",
    "print(\"Employed days that are negative:\\n\",\n",
    "      data[data['days_employed'] < 0]['days_employed'].count())\n",
    "print(\"Employed days that are higher than 20,000 (approximately 55 years):\\n\",\n",
    "     data[data['days_employed'] > 20000]['days_employed'].count(), end='\\n\\n')\n",
    "\n",
    "print(f\"Mean of the days employed: {data['days_employed'].mean()}\")\n",
    "print(f\"Median of the days employed: {data['days_employed'].median()}\")"
   ]
  },
  {
   "cell_type": "markdown",
   "metadata": {},
   "source": [
    "There still are 304 values that may seem odd to leave in, that have the person working for their entire life after 16 years of age. Be that as it may, many of them appear to be within plausible standards (ranging from a little over 100 days to the highest values of around 16-18 thousand days, or 43-49 years).\n",
    "\n",
    "The majority of these values that remain in the \"cutoff\" segment, however, are 1 or 2 days of employment. They comprise 123 of the 304 values. On an instinctual level, this seems strange, especially when the way the cutoff was made was by assuming the days employed was higher than the person's days since their 16th birthday. Unless there are a lot of people in the data set who are 16 years old and getting their data collected 1 or 2 days after taking employment, these data points might seem fishy.\n",
    "\n",
    "Also, it somewhat connects to one of the issues we have identified before, that there are some people who have a birth year of 0.\n",
    "\n",
    "Next, let's look at the age values."
   ]
  },
  {
   "cell_type": "code",
   "execution_count": 21,
   "metadata": {
    "scrolled": true
   },
   "outputs": [
    {
     "name": "stdout",
     "output_type": "stream",
     "text": [
      "35    614\n",
      "40    603\n",
      "41    603\n",
      "34    597\n",
      "38    595\n",
      "42    592\n",
      "33    577\n",
      "39    572\n",
      "31    556\n",
      "36    553\n",
      "29    543\n",
      "44    543\n",
      "48    536\n",
      "30    536\n",
      "37    531\n",
      "43    510\n",
      "50    509\n",
      "32    506\n",
      "49    505\n",
      "28    501\n",
      "45    494\n",
      "27    490\n",
      "52    483\n",
      "56    482\n",
      "47    480\n",
      "54    476\n",
      "46    469\n",
      "58    461\n",
      "53    457\n",
      "57    457\n",
      "51    446\n",
      "55    441\n",
      "59    441\n",
      "26    406\n",
      "60    376\n",
      "25    356\n",
      "61    353\n",
      "62    351\n",
      "63    268\n",
      "64    263\n",
      "24    263\n",
      "23    252\n",
      "65    194\n",
      "66    183\n",
      "22    183\n",
      "67    167\n",
      "21    110\n",
      "0     100\n",
      "68     99\n",
      "69     83\n",
      "2      76\n",
      "70     65\n",
      "71     58\n",
      "20     51\n",
      "1      47\n",
      "72     33\n",
      "19     14\n",
      "73      8\n",
      "74      6\n",
      "75      1\n",
      "Name: dob_years, dtype: int64\n",
      "Mean age: 43.06202090592335\n",
      "Median age: 42.0\n",
      "\n",
      "['car' 'housing transactions' 'housing renovation'\n",
      " 'construction of own property' 'to own a car' 'buy real estate'\n",
      " 'to get a supplementary education' 'purchase of a car' 'housing'\n",
      " 'to buy a car' 'real estate transactions' 'property' 'to have a wedding'\n",
      " 'buying my own car' 'cars' 'buy residential real estate'\n",
      " 'wedding ceremony' 'getting higher education' 'purchase of the house'\n",
      " 'car purchase' 'education' 'having a wedding'\n",
      " 'transactions with commercial real estate' 'university education'\n",
      " 'purchase of the house for my family' 'second-hand car purchase'\n",
      " 'going to university' 'profile education' 'buy commercial real estate'\n",
      " 'supplementary education' 'building a real estate' 'to become educated'\n",
      " 'getting an education' 'buying property for renting out'\n",
      " 'purchase of my own house']\n",
      "[1]\n",
      "[2]\n"
     ]
    }
   ],
   "source": [
    "# Check the `dob_years` for suspicious values and count the percentage\n",
    "\n",
    "print(data['dob_years'].value_counts())\n",
    "print(f\"Mean age: {data['dob_years'].mean()}\")\n",
    "print(f\"Median age: {data['dob_years'].median()}\", end='\\n\\n')\n",
    "\n",
    "print(data[data['dob_years'] == 0]['purpose'].unique())\n",
    "print(data[data['dob_years'] == 1]['purpose'].unique())\n",
    "print(data[data['dob_years'] == 2]['purpose'].unique())"
   ]
  },
  {
   "cell_type": "markdown",
   "metadata": {},
   "source": [
    "There are three sections in the years data set that are obvious issues: the 76 with age 2, the 47 with age 1, and the 100 with age 0. At a cursory glance, it appears that the values that have 0 as the age are ones that had some sort of issue, but the ones with values 1 and 2 are bad data points that have their entire row filled up with their respective value.\n",
    "\n",
    "By taking a look at the 'purpose' column for unique values, this becomes more apparent. The set of age = 0 has distinct purposes filled out, whereas the ages 1 and 2 have their purposes being listed as \"1\" and \"2\", which signals that there are not any points in that data set that aren't rows of 1 and 2.\n",
    "\n",
    "So, for the 1 and 2 data points, those should be removed entirely. For age = 0, we could simply assign the median age of 42 (which is close to the mean age of 43). It may be possible to try and determine the age based on values in other columns since we have access to mean/median for the average amount of days employed and could possibly use that coupled with something like education status, number of children, and marital status to attempt and approximate the age of the subject in question. We also could mark the age as unknown, though that could make working with the data more difficult.\n",
    "\n",
    "Since there are 100 points with age = 0, which comprises approximately 0.47% of our data set (even after removing the 1 and 2 points), it generally would be easier and cause less issues in this instance to remove them."
   ]
  },
  {
   "cell_type": "code",
   "execution_count": 22,
   "metadata": {},
   "outputs": [],
   "source": [
    "# Address the issues in the `dob_years` column, if they exist\n",
    "data = data[data['dob_years']>2]"
   ]
  },
  {
   "cell_type": "code",
   "execution_count": 23,
   "metadata": {},
   "outputs": [
    {
     "data": {
      "text/plain": [
       "children            0\n",
       "days_employed       0\n",
       "dob_years           0\n",
       "education           0\n",
       "education_id        0\n",
       "family_status       0\n",
       "family_status_id    0\n",
       "gender              0\n",
       "income_type         0\n",
       "debt                0\n",
       "total_income        0\n",
       "purpose             0\n",
       "dtype: int64"
      ]
     },
     "execution_count": 23,
     "metadata": {},
     "output_type": "execute_result"
    }
   ],
   "source": [
    "# Check the result - make sure it's fixed\n",
    "data[data['dob_years'] <= 2].count()"
   ]
  },
  {
   "cell_type": "markdown",
   "metadata": {},
   "source": [
    "The family status column may have some issues, but since there are no null values and we have witnessed that there are 5 categories of family status, there should be little issue. The only problem that could arise is if the family_status_id column does not match with the status' categorical descriptor."
   ]
  },
  {
   "cell_type": "code",
   "execution_count": 24,
   "metadata": {},
   "outputs": [
    {
     "data": {
      "text/plain": [
       "family_status      family_status_id\n",
       "civil partnership  1                    4139\n",
       "divorced           3                    1179\n",
       "married            0                   12254\n",
       "unmarried          4                    2783\n",
       "widow / widower    2                     947\n",
       "Name: family_status_id, dtype: int64"
      ]
     },
     "execution_count": 24,
     "metadata": {},
     "output_type": "execute_result"
    }
   ],
   "source": [
    "# Let's see the values for the column\n",
    "\n",
    "data.groupby('family_status')['family_status_id'].value_counts()"
   ]
  },
  {
   "cell_type": "markdown",
   "metadata": {},
   "source": [
    "We can confirm that simply, there is no mismatch between the family_status and family_status_id. Thus, there is no issue here.\n",
    "\n",
    "The gender column is easier. We know there are no empty values so all we need to do is see if there are unexpected values (which would tend to be ones not listed as M or F.)"
   ]
  },
  {
   "cell_type": "code",
   "execution_count": 25,
   "metadata": {},
   "outputs": [
    {
     "data": {
      "text/plain": [
       "F      14083\n",
       "M       7218\n",
       "XNA        1\n",
       "Name: gender, dtype: int64"
      ]
     },
     "execution_count": 25,
     "metadata": {},
     "output_type": "execute_result"
    }
   ],
   "source": [
    "# Let's see the values in the column\n",
    "data['gender'].value_counts()"
   ]
  },
  {
   "cell_type": "code",
   "execution_count": 26,
   "metadata": {},
   "outputs": [
    {
     "data": {
      "text/html": [
       "<div>\n",
       "<style scoped>\n",
       "    .dataframe tbody tr th:only-of-type {\n",
       "        vertical-align: middle;\n",
       "    }\n",
       "\n",
       "    .dataframe tbody tr th {\n",
       "        vertical-align: top;\n",
       "    }\n",
       "\n",
       "    .dataframe thead th {\n",
       "        text-align: right;\n",
       "    }\n",
       "</style>\n",
       "<table border=\"1\" class=\"dataframe\">\n",
       "  <thead>\n",
       "    <tr style=\"text-align: right;\">\n",
       "      <th></th>\n",
       "      <th>children</th>\n",
       "      <th>days_employed</th>\n",
       "      <th>dob_years</th>\n",
       "      <th>education</th>\n",
       "      <th>education_id</th>\n",
       "      <th>family_status</th>\n",
       "      <th>family_status_id</th>\n",
       "      <th>gender</th>\n",
       "      <th>income_type</th>\n",
       "      <th>debt</th>\n",
       "      <th>total_income</th>\n",
       "      <th>purpose</th>\n",
       "    </tr>\n",
       "  </thead>\n",
       "  <tbody>\n",
       "    <tr>\n",
       "      <td>10701</td>\n",
       "      <td>0</td>\n",
       "      <td>2358.600502</td>\n",
       "      <td>24</td>\n",
       "      <td>some college</td>\n",
       "      <td>2</td>\n",
       "      <td>civil partnership</td>\n",
       "      <td>1</td>\n",
       "      <td>XNA</td>\n",
       "      <td>business</td>\n",
       "      <td>0</td>\n",
       "      <td>32624.825</td>\n",
       "      <td>buy real estate</td>\n",
       "    </tr>\n",
       "  </tbody>\n",
       "</table>\n",
       "</div>"
      ],
      "text/plain": [
       "       children  days_employed  dob_years     education  education_id  \\\n",
       "10701         0    2358.600502         24  some college             2   \n",
       "\n",
       "           family_status  family_status_id gender income_type  debt  \\\n",
       "10701  civil partnership                 1    XNA    business     0   \n",
       "\n",
       "       total_income          purpose  \n",
       "10701     32624.825  buy real estate  "
      ]
     },
     "execution_count": 26,
     "metadata": {},
     "output_type": "execute_result"
    }
   ],
   "source": [
    "# Address the problematic values, if they exist\n",
    "data[data['gender'] == 'XNA']"
   ]
  },
  {
   "cell_type": "markdown",
   "metadata": {},
   "source": [
    "There is one gender that is listed as 'XNA'. This most likely is just an unknown value, and if necessary we would replace it with an unknown value. If we need to analyze based on gender, since we don't have any particular way to determine this, then dropping this row would be fine. However, there is no need to remove it at the moment.\n",
    "\n",
    "One other thing that seems like we might be dealing with some sort of skewed data is that there are twice as many female entries as there are men. Most people would assume that female and male should be approximately equal. We have no reason to believe that these female entries might be misattributed. It is possible that there is some cause in the data collection process that makes women more likely to be represented.\n",
    "\n",
    "The column for 'income_type' also should not be a column with notable issues. We have gotten a look at the types of income earlier in this project and did not see a significantly strange result."
   ]
  },
  {
   "cell_type": "code",
   "execution_count": 27,
   "metadata": {},
   "outputs": [
    {
     "data": {
      "text/plain": [
       "employee                       10996\n",
       "business                        5034\n",
       "retiree                         3819\n",
       "civil servant                   1447\n",
       "unemployed                         2\n",
       "entrepreneur                       2\n",
       "student                            1\n",
       "paternity / maternity leave        1\n",
       "Name: income_type, dtype: int64"
      ]
     },
     "execution_count": 27,
     "metadata": {},
     "output_type": "execute_result"
    }
   ],
   "source": [
    "# Let's see the values in the column\n",
    "data['income_type'].value_counts()"
   ]
  },
  {
   "cell_type": "markdown",
   "metadata": {},
   "source": [
    "If we needed to, it would be possible to truncate the values into fewer columns (such as counting parental leave as 'employee' or entrepreneurship as 'business'). The distinction between 'employee', 'business' and 'civil servant' seems a bit arbitrary and they might all be considered to be similar in nature, but without a more detailed description we are not equipped make any judgments on such a thing.\n",
    "\n",
    "Since there is no clear need to, the column will remain unchanged.\n",
    "\n",
    "Now we can check for duplicate entries. Due to the columns of 'days_employed', 'total_income', and 'purpose' being highly specific, it is likely that there won't be many duplicated rows that aren't mistakes. Though also it is possible that there may be some duplicated lines that had a different 'education' status that now are duplicates since we have made all the entries in that column lower case."
   ]
  },
  {
   "cell_type": "code",
   "execution_count": 28,
   "metadata": {},
   "outputs": [
    {
     "name": "stdout",
     "output_type": "stream",
     "text": [
      "<class 'pandas.core.frame.DataFrame'>\n",
      "Int64Index: 71 entries, 2849 to 21415\n",
      "Data columns (total 12 columns):\n",
      "children            71 non-null int64\n",
      "days_employed       0 non-null float64\n",
      "dob_years           71 non-null int64\n",
      "education           71 non-null object\n",
      "education_id        71 non-null int64\n",
      "family_status       71 non-null object\n",
      "family_status_id    71 non-null int64\n",
      "gender              71 non-null object\n",
      "income_type         71 non-null object\n",
      "debt                71 non-null int64\n",
      "total_income        0 non-null float64\n",
      "purpose             71 non-null object\n",
      "dtypes: float64(2), int64(5), object(5)\n",
      "memory usage: 7.2+ KB\n"
     ]
    }
   ],
   "source": [
    "# Checking duplicates\n",
    "\n",
    "data[data.duplicated()].info()"
   ]
  },
  {
   "cell_type": "code",
   "execution_count": 29,
   "metadata": {},
   "outputs": [],
   "source": [
    "# Address the duplicates, if they exist\n",
    "data = data.drop_duplicates()"
   ]
  },
  {
   "cell_type": "code",
   "execution_count": 30,
   "metadata": {},
   "outputs": [
    {
     "name": "stdout",
     "output_type": "stream",
     "text": [
      "<class 'pandas.core.frame.DataFrame'>\n",
      "Int64Index: 0 entries\n",
      "Data columns (total 12 columns):\n",
      "children            0 non-null int64\n",
      "days_employed       0 non-null float64\n",
      "dob_years           0 non-null int64\n",
      "education           0 non-null object\n",
      "education_id        0 non-null int64\n",
      "family_status       0 non-null object\n",
      "family_status_id    0 non-null int64\n",
      "gender              0 non-null object\n",
      "income_type         0 non-null object\n",
      "debt                0 non-null int64\n",
      "total_income        0 non-null float64\n",
      "purpose             0 non-null object\n",
      "dtypes: float64(2), int64(5), object(5)\n",
      "memory usage: 0.0+ bytes\n"
     ]
    }
   ],
   "source": [
    "# Last check whether we have any duplicates\n",
    "data[data.duplicated()].info()"
   ]
  },
  {
   "cell_type": "code",
   "execution_count": 31,
   "metadata": {},
   "outputs": [
    {
     "name": "stdout",
     "output_type": "stream",
     "text": [
      "<class 'pandas.core.frame.DataFrame'>\n",
      "Int64Index: 21231 entries, 0 to 21524\n",
      "Data columns (total 12 columns):\n",
      "children            21231 non-null int64\n",
      "days_employed       19150 non-null float64\n",
      "dob_years           21231 non-null int64\n",
      "education           21231 non-null object\n",
      "education_id        21231 non-null int64\n",
      "family_status       21231 non-null object\n",
      "family_status_id    21231 non-null int64\n",
      "gender              21231 non-null object\n",
      "income_type         21231 non-null object\n",
      "debt                21231 non-null int64\n",
      "total_income        19150 non-null float64\n",
      "purpose             21231 non-null object\n",
      "dtypes: float64(2), int64(5), object(5)\n",
      "memory usage: 2.1+ MB\n"
     ]
    }
   ],
   "source": [
    "# Check the size of the dataset that you now have after your first manipulations with it\n",
    "data.info()"
   ]
  },
  {
   "cell_type": "markdown",
   "metadata": {},
   "source": [
    "Most of the changes done in this case were making things more consistent in formatting. We have lost a small amount of our missing values. They used to represent 10.0999% of our data set, but now are 9.8017%. As a whole, the data set has not been made into a final state but it is now completely workable."
   ]
  },
  {
   "cell_type": "markdown",
   "metadata": {},
   "source": [
    "# Working with missing values"
   ]
  },
  {
   "cell_type": "markdown",
   "metadata": {},
   "source": [
    "### Restoring missing values in `total_income`"
   ]
  },
  {
   "cell_type": "markdown",
   "metadata": {},
   "source": [
    "As we have covered before, there are only two columns with missing values and they are exactly overlapping on the rows: 'days_employed' and 'total_income'. For the start, we most likely would want to find retired individuals and students values of 0 and work from there.\n",
    "\n",
    "First, since it goes to follow that age is likely a strong predictor for total income, ages will be grouped in sets of 10 years, from 0 to 70+."
   ]
  },
  {
   "cell_type": "code",
   "execution_count": 32,
   "metadata": {},
   "outputs": [],
   "source": [
    "# Let's write a function that calculates the age category\n",
    "\n",
    "def assign_age_group(age):\n",
    "    if age < 0 or pd.isna(age):\n",
    "        return 'NA'\n",
    "    elif age < 10:\n",
    "        return '0-9'\n",
    "    elif age < 20:\n",
    "        return '10-19'\n",
    "    elif age < 30:\n",
    "        return '20-29'\n",
    "    elif age < 40:\n",
    "        return '30-39'\n",
    "    elif age < 50:\n",
    "        return '40-49'\n",
    "    elif age < 60:\n",
    "        return '50-59'\n",
    "    elif age < 70:\n",
    "        return '60-69'\n",
    "    else:\n",
    "        return '70+'"
   ]
  },
  {
   "cell_type": "code",
   "execution_count": 33,
   "metadata": {},
   "outputs": [
    {
     "data": {
      "text/plain": [
       "0        40-49\n",
       "1        30-39\n",
       "2        30-39\n",
       "3        30-39\n",
       "4        50-59\n",
       "         ...  \n",
       "21520    40-49\n",
       "21521    60-69\n",
       "21522    30-39\n",
       "21523    30-39\n",
       "21524    40-49\n",
       "Name: dob_years, Length: 21231, dtype: object"
      ]
     },
     "execution_count": 33,
     "metadata": {},
     "output_type": "execute_result"
    }
   ],
   "source": [
    "# Test if the function works\n",
    "data['dob_years'].apply(assign_age_group)"
   ]
  },
  {
   "cell_type": "code",
   "execution_count": 34,
   "metadata": {},
   "outputs": [
    {
     "data": {
      "text/html": [
       "<div>\n",
       "<style scoped>\n",
       "    .dataframe tbody tr th:only-of-type {\n",
       "        vertical-align: middle;\n",
       "    }\n",
       "\n",
       "    .dataframe tbody tr th {\n",
       "        vertical-align: top;\n",
       "    }\n",
       "\n",
       "    .dataframe thead th {\n",
       "        text-align: right;\n",
       "    }\n",
       "</style>\n",
       "<table border=\"1\" class=\"dataframe\">\n",
       "  <thead>\n",
       "    <tr style=\"text-align: right;\">\n",
       "      <th></th>\n",
       "      <th>children</th>\n",
       "      <th>days_employed</th>\n",
       "      <th>dob_years</th>\n",
       "      <th>education</th>\n",
       "      <th>education_id</th>\n",
       "      <th>family_status</th>\n",
       "      <th>family_status_id</th>\n",
       "      <th>gender</th>\n",
       "      <th>income_type</th>\n",
       "      <th>debt</th>\n",
       "      <th>total_income</th>\n",
       "      <th>purpose</th>\n",
       "      <th>age_group</th>\n",
       "    </tr>\n",
       "  </thead>\n",
       "  <tbody>\n",
       "    <tr>\n",
       "      <td>0</td>\n",
       "      <td>1</td>\n",
       "      <td>8437.673028</td>\n",
       "      <td>42</td>\n",
       "      <td>bachelor's degree</td>\n",
       "      <td>0</td>\n",
       "      <td>married</td>\n",
       "      <td>0</td>\n",
       "      <td>F</td>\n",
       "      <td>employee</td>\n",
       "      <td>0</td>\n",
       "      <td>40620.102</td>\n",
       "      <td>purchase of the house</td>\n",
       "      <td>40-49</td>\n",
       "    </tr>\n",
       "    <tr>\n",
       "      <td>1</td>\n",
       "      <td>1</td>\n",
       "      <td>4024.803754</td>\n",
       "      <td>36</td>\n",
       "      <td>secondary education</td>\n",
       "      <td>1</td>\n",
       "      <td>married</td>\n",
       "      <td>0</td>\n",
       "      <td>F</td>\n",
       "      <td>employee</td>\n",
       "      <td>0</td>\n",
       "      <td>17932.802</td>\n",
       "      <td>car purchase</td>\n",
       "      <td>30-39</td>\n",
       "    </tr>\n",
       "    <tr>\n",
       "      <td>2</td>\n",
       "      <td>0</td>\n",
       "      <td>5623.422610</td>\n",
       "      <td>33</td>\n",
       "      <td>secondary education</td>\n",
       "      <td>1</td>\n",
       "      <td>married</td>\n",
       "      <td>0</td>\n",
       "      <td>M</td>\n",
       "      <td>employee</td>\n",
       "      <td>0</td>\n",
       "      <td>23341.752</td>\n",
       "      <td>purchase of the house</td>\n",
       "      <td>30-39</td>\n",
       "    </tr>\n",
       "    <tr>\n",
       "      <td>3</td>\n",
       "      <td>3</td>\n",
       "      <td>4124.747207</td>\n",
       "      <td>32</td>\n",
       "      <td>secondary education</td>\n",
       "      <td>1</td>\n",
       "      <td>married</td>\n",
       "      <td>0</td>\n",
       "      <td>M</td>\n",
       "      <td>employee</td>\n",
       "      <td>0</td>\n",
       "      <td>42820.568</td>\n",
       "      <td>supplementary education</td>\n",
       "      <td>30-39</td>\n",
       "    </tr>\n",
       "    <tr>\n",
       "      <td>4</td>\n",
       "      <td>0</td>\n",
       "      <td>3402.660720</td>\n",
       "      <td>53</td>\n",
       "      <td>secondary education</td>\n",
       "      <td>1</td>\n",
       "      <td>civil partnership</td>\n",
       "      <td>1</td>\n",
       "      <td>F</td>\n",
       "      <td>retiree</td>\n",
       "      <td>0</td>\n",
       "      <td>25378.572</td>\n",
       "      <td>to have a wedding</td>\n",
       "      <td>50-59</td>\n",
       "    </tr>\n",
       "    <tr>\n",
       "      <td>5</td>\n",
       "      <td>0</td>\n",
       "      <td>926.185831</td>\n",
       "      <td>27</td>\n",
       "      <td>bachelor's degree</td>\n",
       "      <td>0</td>\n",
       "      <td>civil partnership</td>\n",
       "      <td>1</td>\n",
       "      <td>M</td>\n",
       "      <td>business</td>\n",
       "      <td>0</td>\n",
       "      <td>40922.170</td>\n",
       "      <td>purchase of the house</td>\n",
       "      <td>20-29</td>\n",
       "    </tr>\n",
       "    <tr>\n",
       "      <td>6</td>\n",
       "      <td>0</td>\n",
       "      <td>2879.202052</td>\n",
       "      <td>43</td>\n",
       "      <td>bachelor's degree</td>\n",
       "      <td>0</td>\n",
       "      <td>married</td>\n",
       "      <td>0</td>\n",
       "      <td>F</td>\n",
       "      <td>business</td>\n",
       "      <td>0</td>\n",
       "      <td>38484.156</td>\n",
       "      <td>housing transactions</td>\n",
       "      <td>40-49</td>\n",
       "    </tr>\n",
       "    <tr>\n",
       "      <td>7</td>\n",
       "      <td>0</td>\n",
       "      <td>152.779569</td>\n",
       "      <td>50</td>\n",
       "      <td>secondary education</td>\n",
       "      <td>1</td>\n",
       "      <td>married</td>\n",
       "      <td>0</td>\n",
       "      <td>M</td>\n",
       "      <td>employee</td>\n",
       "      <td>0</td>\n",
       "      <td>21731.829</td>\n",
       "      <td>education</td>\n",
       "      <td>50-59</td>\n",
       "    </tr>\n",
       "    <tr>\n",
       "      <td>8</td>\n",
       "      <td>2</td>\n",
       "      <td>6929.865299</td>\n",
       "      <td>35</td>\n",
       "      <td>bachelor's degree</td>\n",
       "      <td>0</td>\n",
       "      <td>civil partnership</td>\n",
       "      <td>1</td>\n",
       "      <td>F</td>\n",
       "      <td>employee</td>\n",
       "      <td>0</td>\n",
       "      <td>15337.093</td>\n",
       "      <td>having a wedding</td>\n",
       "      <td>30-39</td>\n",
       "    </tr>\n",
       "    <tr>\n",
       "      <td>9</td>\n",
       "      <td>0</td>\n",
       "      <td>2188.756445</td>\n",
       "      <td>41</td>\n",
       "      <td>secondary education</td>\n",
       "      <td>1</td>\n",
       "      <td>married</td>\n",
       "      <td>0</td>\n",
       "      <td>M</td>\n",
       "      <td>employee</td>\n",
       "      <td>0</td>\n",
       "      <td>23108.150</td>\n",
       "      <td>purchase of the house for my family</td>\n",
       "      <td>40-49</td>\n",
       "    </tr>\n",
       "  </tbody>\n",
       "</table>\n",
       "</div>"
      ],
      "text/plain": [
       "   children  days_employed  dob_years            education  education_id  \\\n",
       "0         1    8437.673028         42    bachelor's degree             0   \n",
       "1         1    4024.803754         36  secondary education             1   \n",
       "2         0    5623.422610         33  secondary education             1   \n",
       "3         3    4124.747207         32  secondary education             1   \n",
       "4         0    3402.660720         53  secondary education             1   \n",
       "5         0     926.185831         27    bachelor's degree             0   \n",
       "6         0    2879.202052         43    bachelor's degree             0   \n",
       "7         0     152.779569         50  secondary education             1   \n",
       "8         2    6929.865299         35    bachelor's degree             0   \n",
       "9         0    2188.756445         41  secondary education             1   \n",
       "\n",
       "       family_status  family_status_id gender income_type  debt  total_income  \\\n",
       "0            married                 0      F    employee     0     40620.102   \n",
       "1            married                 0      F    employee     0     17932.802   \n",
       "2            married                 0      M    employee     0     23341.752   \n",
       "3            married                 0      M    employee     0     42820.568   \n",
       "4  civil partnership                 1      F     retiree     0     25378.572   \n",
       "5  civil partnership                 1      M    business     0     40922.170   \n",
       "6            married                 0      F    business     0     38484.156   \n",
       "7            married                 0      M    employee     0     21731.829   \n",
       "8  civil partnership                 1      F    employee     0     15337.093   \n",
       "9            married                 0      M    employee     0     23108.150   \n",
       "\n",
       "                               purpose age_group  \n",
       "0                purchase of the house     40-49  \n",
       "1                         car purchase     30-39  \n",
       "2                purchase of the house     30-39  \n",
       "3              supplementary education     30-39  \n",
       "4                    to have a wedding     50-59  \n",
       "5                purchase of the house     20-29  \n",
       "6                 housing transactions     40-49  \n",
       "7                            education     50-59  \n",
       "8                     having a wedding     30-39  \n",
       "9  purchase of the house for my family     40-49  "
      ]
     },
     "execution_count": 34,
     "metadata": {},
     "output_type": "execute_result"
    }
   ],
   "source": [
    "# Creating new column based on function\n",
    "data['age_group'] = data['dob_years'].apply(assign_age_group)\n",
    "\n",
    "data.head(10)"
   ]
  },
  {
   "cell_type": "code",
   "execution_count": 35,
   "metadata": {
    "scrolled": true
   },
   "outputs": [
    {
     "data": {
      "text/plain": [
       "age_group  dob_years\n",
       "10-19      19            14\n",
       "20-29      29           542\n",
       "           28           501\n",
       "           27           490\n",
       "           26           406\n",
       "           25           356\n",
       "           24           263\n",
       "           23           250\n",
       "           22           183\n",
       "           21           110\n",
       "           20            51\n",
       "30-39      35           613\n",
       "           34           595\n",
       "           38           594\n",
       "           33           577\n",
       "           39           571\n",
       "           31           555\n",
       "           36           552\n",
       "           30           533\n",
       "           37           530\n",
       "           32           505\n",
       "40-49      40           601\n",
       "           41           601\n",
       "           42           591\n",
       "           44           541\n",
       "           48           534\n",
       "           43           509\n",
       "           49           505\n",
       "           45           493\n",
       "           47           477\n",
       "           46           466\n",
       "50-59      50           508\n",
       "           52           483\n",
       "           56           478\n",
       "           54           473\n",
       "           53           457\n",
       "           58           454\n",
       "           57           453\n",
       "           51           444\n",
       "           55           441\n",
       "           59           440\n",
       "60-69      60           373\n",
       "           61           352\n",
       "           62           347\n",
       "           63           268\n",
       "           64           258\n",
       "           65           193\n",
       "           66           182\n",
       "           67           167\n",
       "           68            99\n",
       "           69            83\n",
       "70+        70            65\n",
       "           71            56\n",
       "           72            33\n",
       "           73             8\n",
       "           74             6\n",
       "           75             1\n",
       "Name: dob_years, dtype: int64"
      ]
     },
     "execution_count": 35,
     "metadata": {},
     "output_type": "execute_result"
    }
   ],
   "source": [
    "# Checking how values in the new column\n",
    "\n",
    "data.groupby('age_group')['dob_years'].value_counts()"
   ]
  },
  {
   "cell_type": "markdown",
   "metadata": {},
   "source": [
    "To determine the income, we could seek out the data based on educational status and age group since those would be the most logical predictors of income. Generally, when making a judgment on income status, it will be better to measure based on median. The reason is simple, in that there are people who make significantly more or significantly less money than others. Another factor that might be possible would be to see if the data includes people likely to be home makers who might be working part-time, if at all.\n",
    "\n",
    "While some factors may be connected, it might be easier to get a quick look at each one independently and see if they could singularly act as predictors. If the data set were much larger this would not be as practical, but to test across all the other values, we only need to check 6 pairwise."
   ]
  },
  {
   "cell_type": "markdown",
   "metadata": {},
   "source": [
    "In order to fill out the missing values, it is important to make a table without them to better perform analysis on the known values, to find good ways to predict them."
   ]
  },
  {
   "cell_type": "code",
   "execution_count": 36,
   "metadata": {},
   "outputs": [
    {
     "data": {
      "text/html": [
       "<div>\n",
       "<style scoped>\n",
       "    .dataframe tbody tr th:only-of-type {\n",
       "        vertical-align: middle;\n",
       "    }\n",
       "\n",
       "    .dataframe tbody tr th {\n",
       "        vertical-align: top;\n",
       "    }\n",
       "\n",
       "    .dataframe thead th {\n",
       "        text-align: right;\n",
       "    }\n",
       "</style>\n",
       "<table border=\"1\" class=\"dataframe\">\n",
       "  <thead>\n",
       "    <tr style=\"text-align: right;\">\n",
       "      <th></th>\n",
       "      <th>children</th>\n",
       "      <th>days_employed</th>\n",
       "      <th>dob_years</th>\n",
       "      <th>education</th>\n",
       "      <th>education_id</th>\n",
       "      <th>family_status</th>\n",
       "      <th>family_status_id</th>\n",
       "      <th>gender</th>\n",
       "      <th>income_type</th>\n",
       "      <th>debt</th>\n",
       "      <th>total_income</th>\n",
       "      <th>purpose</th>\n",
       "      <th>age_group</th>\n",
       "    </tr>\n",
       "  </thead>\n",
       "  <tbody>\n",
       "    <tr>\n",
       "      <td>0</td>\n",
       "      <td>1</td>\n",
       "      <td>8437.673028</td>\n",
       "      <td>42</td>\n",
       "      <td>bachelor's degree</td>\n",
       "      <td>0</td>\n",
       "      <td>married</td>\n",
       "      <td>0</td>\n",
       "      <td>F</td>\n",
       "      <td>employee</td>\n",
       "      <td>0</td>\n",
       "      <td>40620.102</td>\n",
       "      <td>purchase of the house</td>\n",
       "      <td>40-49</td>\n",
       "    </tr>\n",
       "    <tr>\n",
       "      <td>1</td>\n",
       "      <td>1</td>\n",
       "      <td>4024.803754</td>\n",
       "      <td>36</td>\n",
       "      <td>secondary education</td>\n",
       "      <td>1</td>\n",
       "      <td>married</td>\n",
       "      <td>0</td>\n",
       "      <td>F</td>\n",
       "      <td>employee</td>\n",
       "      <td>0</td>\n",
       "      <td>17932.802</td>\n",
       "      <td>car purchase</td>\n",
       "      <td>30-39</td>\n",
       "    </tr>\n",
       "    <tr>\n",
       "      <td>2</td>\n",
       "      <td>0</td>\n",
       "      <td>5623.422610</td>\n",
       "      <td>33</td>\n",
       "      <td>secondary education</td>\n",
       "      <td>1</td>\n",
       "      <td>married</td>\n",
       "      <td>0</td>\n",
       "      <td>M</td>\n",
       "      <td>employee</td>\n",
       "      <td>0</td>\n",
       "      <td>23341.752</td>\n",
       "      <td>purchase of the house</td>\n",
       "      <td>30-39</td>\n",
       "    </tr>\n",
       "    <tr>\n",
       "      <td>3</td>\n",
       "      <td>3</td>\n",
       "      <td>4124.747207</td>\n",
       "      <td>32</td>\n",
       "      <td>secondary education</td>\n",
       "      <td>1</td>\n",
       "      <td>married</td>\n",
       "      <td>0</td>\n",
       "      <td>M</td>\n",
       "      <td>employee</td>\n",
       "      <td>0</td>\n",
       "      <td>42820.568</td>\n",
       "      <td>supplementary education</td>\n",
       "      <td>30-39</td>\n",
       "    </tr>\n",
       "    <tr>\n",
       "      <td>4</td>\n",
       "      <td>0</td>\n",
       "      <td>3402.660720</td>\n",
       "      <td>53</td>\n",
       "      <td>secondary education</td>\n",
       "      <td>1</td>\n",
       "      <td>civil partnership</td>\n",
       "      <td>1</td>\n",
       "      <td>F</td>\n",
       "      <td>retiree</td>\n",
       "      <td>0</td>\n",
       "      <td>25378.572</td>\n",
       "      <td>to have a wedding</td>\n",
       "      <td>50-59</td>\n",
       "    </tr>\n",
       "    <tr>\n",
       "      <td>5</td>\n",
       "      <td>0</td>\n",
       "      <td>926.185831</td>\n",
       "      <td>27</td>\n",
       "      <td>bachelor's degree</td>\n",
       "      <td>0</td>\n",
       "      <td>civil partnership</td>\n",
       "      <td>1</td>\n",
       "      <td>M</td>\n",
       "      <td>business</td>\n",
       "      <td>0</td>\n",
       "      <td>40922.170</td>\n",
       "      <td>purchase of the house</td>\n",
       "      <td>20-29</td>\n",
       "    </tr>\n",
       "    <tr>\n",
       "      <td>6</td>\n",
       "      <td>0</td>\n",
       "      <td>2879.202052</td>\n",
       "      <td>43</td>\n",
       "      <td>bachelor's degree</td>\n",
       "      <td>0</td>\n",
       "      <td>married</td>\n",
       "      <td>0</td>\n",
       "      <td>F</td>\n",
       "      <td>business</td>\n",
       "      <td>0</td>\n",
       "      <td>38484.156</td>\n",
       "      <td>housing transactions</td>\n",
       "      <td>40-49</td>\n",
       "    </tr>\n",
       "    <tr>\n",
       "      <td>7</td>\n",
       "      <td>0</td>\n",
       "      <td>152.779569</td>\n",
       "      <td>50</td>\n",
       "      <td>secondary education</td>\n",
       "      <td>1</td>\n",
       "      <td>married</td>\n",
       "      <td>0</td>\n",
       "      <td>M</td>\n",
       "      <td>employee</td>\n",
       "      <td>0</td>\n",
       "      <td>21731.829</td>\n",
       "      <td>education</td>\n",
       "      <td>50-59</td>\n",
       "    </tr>\n",
       "    <tr>\n",
       "      <td>8</td>\n",
       "      <td>2</td>\n",
       "      <td>6929.865299</td>\n",
       "      <td>35</td>\n",
       "      <td>bachelor's degree</td>\n",
       "      <td>0</td>\n",
       "      <td>civil partnership</td>\n",
       "      <td>1</td>\n",
       "      <td>F</td>\n",
       "      <td>employee</td>\n",
       "      <td>0</td>\n",
       "      <td>15337.093</td>\n",
       "      <td>having a wedding</td>\n",
       "      <td>30-39</td>\n",
       "    </tr>\n",
       "    <tr>\n",
       "      <td>9</td>\n",
       "      <td>0</td>\n",
       "      <td>2188.756445</td>\n",
       "      <td>41</td>\n",
       "      <td>secondary education</td>\n",
       "      <td>1</td>\n",
       "      <td>married</td>\n",
       "      <td>0</td>\n",
       "      <td>M</td>\n",
       "      <td>employee</td>\n",
       "      <td>0</td>\n",
       "      <td>23108.150</td>\n",
       "      <td>purchase of the house for my family</td>\n",
       "      <td>40-49</td>\n",
       "    </tr>\n",
       "    <tr>\n",
       "      <td>10</td>\n",
       "      <td>2</td>\n",
       "      <td>4171.483647</td>\n",
       "      <td>36</td>\n",
       "      <td>bachelor's degree</td>\n",
       "      <td>0</td>\n",
       "      <td>married</td>\n",
       "      <td>0</td>\n",
       "      <td>M</td>\n",
       "      <td>business</td>\n",
       "      <td>0</td>\n",
       "      <td>18230.959</td>\n",
       "      <td>buy real estate</td>\n",
       "      <td>30-39</td>\n",
       "    </tr>\n",
       "    <tr>\n",
       "      <td>11</td>\n",
       "      <td>0</td>\n",
       "      <td>792.701887</td>\n",
       "      <td>40</td>\n",
       "      <td>secondary education</td>\n",
       "      <td>1</td>\n",
       "      <td>married</td>\n",
       "      <td>0</td>\n",
       "      <td>F</td>\n",
       "      <td>employee</td>\n",
       "      <td>0</td>\n",
       "      <td>12331.077</td>\n",
       "      <td>buy commercial real estate</td>\n",
       "      <td>40-49</td>\n",
       "    </tr>\n",
       "    <tr>\n",
       "      <td>13</td>\n",
       "      <td>0</td>\n",
       "      <td>1846.641941</td>\n",
       "      <td>54</td>\n",
       "      <td>some college</td>\n",
       "      <td>2</td>\n",
       "      <td>married</td>\n",
       "      <td>0</td>\n",
       "      <td>F</td>\n",
       "      <td>employee</td>\n",
       "      <td>0</td>\n",
       "      <td>20873.317</td>\n",
       "      <td>car purchase</td>\n",
       "      <td>50-59</td>\n",
       "    </tr>\n",
       "    <tr>\n",
       "      <td>14</td>\n",
       "      <td>0</td>\n",
       "      <td>1844.956182</td>\n",
       "      <td>56</td>\n",
       "      <td>bachelor's degree</td>\n",
       "      <td>0</td>\n",
       "      <td>civil partnership</td>\n",
       "      <td>1</td>\n",
       "      <td>F</td>\n",
       "      <td>business</td>\n",
       "      <td>1</td>\n",
       "      <td>26420.466</td>\n",
       "      <td>buy residential real estate</td>\n",
       "      <td>50-59</td>\n",
       "    </tr>\n",
       "    <tr>\n",
       "      <td>15</td>\n",
       "      <td>1</td>\n",
       "      <td>972.364419</td>\n",
       "      <td>26</td>\n",
       "      <td>secondary education</td>\n",
       "      <td>1</td>\n",
       "      <td>married</td>\n",
       "      <td>0</td>\n",
       "      <td>F</td>\n",
       "      <td>employee</td>\n",
       "      <td>0</td>\n",
       "      <td>18691.345</td>\n",
       "      <td>construction of own property</td>\n",
       "      <td>20-29</td>\n",
       "    </tr>\n",
       "  </tbody>\n",
       "</table>\n",
       "</div>"
      ],
      "text/plain": [
       "    children  days_employed  dob_years            education  education_id  \\\n",
       "0          1    8437.673028         42    bachelor's degree             0   \n",
       "1          1    4024.803754         36  secondary education             1   \n",
       "2          0    5623.422610         33  secondary education             1   \n",
       "3          3    4124.747207         32  secondary education             1   \n",
       "4          0    3402.660720         53  secondary education             1   \n",
       "5          0     926.185831         27    bachelor's degree             0   \n",
       "6          0    2879.202052         43    bachelor's degree             0   \n",
       "7          0     152.779569         50  secondary education             1   \n",
       "8          2    6929.865299         35    bachelor's degree             0   \n",
       "9          0    2188.756445         41  secondary education             1   \n",
       "10         2    4171.483647         36    bachelor's degree             0   \n",
       "11         0     792.701887         40  secondary education             1   \n",
       "13         0    1846.641941         54         some college             2   \n",
       "14         0    1844.956182         56    bachelor's degree             0   \n",
       "15         1     972.364419         26  secondary education             1   \n",
       "\n",
       "        family_status  family_status_id gender income_type  debt  \\\n",
       "0             married                 0      F    employee     0   \n",
       "1             married                 0      F    employee     0   \n",
       "2             married                 0      M    employee     0   \n",
       "3             married                 0      M    employee     0   \n",
       "4   civil partnership                 1      F     retiree     0   \n",
       "5   civil partnership                 1      M    business     0   \n",
       "6             married                 0      F    business     0   \n",
       "7             married                 0      M    employee     0   \n",
       "8   civil partnership                 1      F    employee     0   \n",
       "9             married                 0      M    employee     0   \n",
       "10            married                 0      M    business     0   \n",
       "11            married                 0      F    employee     0   \n",
       "13            married                 0      F    employee     0   \n",
       "14  civil partnership                 1      F    business     1   \n",
       "15            married                 0      F    employee     0   \n",
       "\n",
       "    total_income                              purpose age_group  \n",
       "0      40620.102                purchase of the house     40-49  \n",
       "1      17932.802                         car purchase     30-39  \n",
       "2      23341.752                purchase of the house     30-39  \n",
       "3      42820.568              supplementary education     30-39  \n",
       "4      25378.572                    to have a wedding     50-59  \n",
       "5      40922.170                purchase of the house     20-29  \n",
       "6      38484.156                 housing transactions     40-49  \n",
       "7      21731.829                            education     50-59  \n",
       "8      15337.093                     having a wedding     30-39  \n",
       "9      23108.150  purchase of the house for my family     40-49  \n",
       "10     18230.959                      buy real estate     30-39  \n",
       "11     12331.077           buy commercial real estate     40-49  \n",
       "13     20873.317                         car purchase     50-59  \n",
       "14     26420.466          buy residential real estate     50-59  \n",
       "15     18691.345         construction of own property     20-29  "
      ]
     },
     "execution_count": 36,
     "metadata": {},
     "output_type": "execute_result"
    }
   ],
   "source": [
    "# Create a table without missing values and print a few of its rows to make sure it looks fine\n",
    "no_missing_values = data.dropna()\n",
    "\n",
    "no_missing_values.head(15)"
   ]
  },
  {
   "cell_type": "code",
   "execution_count": 37,
   "metadata": {},
   "outputs": [
    {
     "name": "stdout",
     "output_type": "stream",
     "text": [
      "Mean: 26799.003246370758\n",
      "\n",
      "education\n",
      "bachelor's degree      33197.258790\n",
      "graduate degree        27960.024667\n",
      "primary education      21144.882211\n",
      "secondary education    24594.390815\n",
      "some college           29034.211363\n",
      "Name: total_income, dtype: float64\n",
      "\n",
      "age_group\n",
      "10-19    16993.942462\n",
      "20-29    25585.600814\n",
      "30-39    28314.525654\n",
      "40-49    28575.427654\n",
      "50-59    25807.707523\n",
      "60-69    23236.985508\n",
      "70+      20125.658331\n",
      "Name: total_income, dtype: float64\n",
      "\n",
      "family_status\n",
      "civil partnership    26707.016264\n",
      "divorced             27245.606570\n",
      "married              27039.070983\n",
      "unmarried            26983.707136\n",
      "widow / widower      22998.392333\n",
      "Name: total_income, dtype: float64\n",
      "\n",
      "children\n",
      "0    26430.072953\n",
      "1    27405.559686\n",
      "2    27489.198728\n",
      "3    29366.910652\n",
      "4    27289.829647\n",
      "5    27268.847250\n",
      "Name: total_income, dtype: float64\n",
      "\n",
      "income_type\n",
      "business                       32424.465009\n",
      "civil servant                  27336.442546\n",
      "employee                       25822.872585\n",
      "entrepreneur                   79866.103000\n",
      "paternity / maternity leave     8612.661000\n",
      "retiree                        21950.722935\n",
      "student                        15712.260000\n",
      "unemployed                     21014.360500\n",
      "Name: total_income, dtype: float64\n",
      "\n",
      "debt\n",
      "0    26860.218329\n",
      "1    26105.862576\n",
      "Name: total_income, dtype: float64\n",
      "\n",
      "gender\n",
      "F      24666.721477\n",
      "M      30913.888696\n",
      "XNA    32624.825000\n",
      "Name: total_income, dtype: float64\n"
     ]
    }
   ],
   "source": [
    "# Look at the mean values for income based on your identified factors\n",
    "\n",
    "print(\"Mean:\", no_missing_values['total_income'].mean(), end='\\n\\n')\n",
    "\n",
    "print(no_missing_values.groupby('education')['total_income'].mean(), end='\\n\\n')\n",
    "\n",
    "print(no_missing_values.groupby('age_group')['total_income'].mean(), end='\\n\\n')\n",
    "\n",
    "print(no_missing_values.groupby('family_status')['total_income'].mean(), end='\\n\\n')\n",
    "\n",
    "print(no_missing_values.groupby('children')['total_income'].mean(), end='\\n\\n')\n",
    "\n",
    "print(no_missing_values.groupby('income_type')['total_income'].mean(), end='\\n\\n')\n",
    "\n",
    "print(no_missing_values.groupby('debt')['total_income'].mean(), end='\\n\\n')\n",
    "\n",
    "print(no_missing_values.groupby('gender')['total_income'].mean())"
   ]
  },
  {
   "cell_type": "code",
   "execution_count": 38,
   "metadata": {
    "scrolled": true
   },
   "outputs": [
    {
     "name": "stdout",
     "output_type": "stream",
     "text": [
      "Median: 23203.328\n",
      "\n",
      "education\n",
      "bachelor's degree      28086.5425\n",
      "graduate degree        25161.5835\n",
      "primary education      18741.9760\n",
      "secondary education    21832.2410\n",
      "some college           25664.1810\n",
      "Name: total_income, dtype: float64\n",
      "\n",
      "age_group\n",
      "10-19    14934.9010\n",
      "20-29    22807.0365\n",
      "30-39    24699.5815\n",
      "40-49    24772.3820\n",
      "50-59    22195.8470\n",
      "60-69    19811.3260\n",
      "70+      18751.3240\n",
      "Name: total_income, dtype: float64\n",
      "\n",
      "family_status\n",
      "civil partnership    23199.2980\n",
      "divorced             23687.2740\n",
      "married              23369.8045\n",
      "unmarried            23176.8360\n",
      "widow / widower      20518.7285\n",
      "Name: total_income, dtype: float64\n",
      "\n",
      "children\n",
      "0    23034.0880\n",
      "1    23661.4030\n",
      "2    23136.1155\n",
      "3    25191.6190\n",
      "4    24981.6340\n",
      "5    29816.2255\n",
      "Name: total_income, dtype: float64\n",
      "\n",
      "income_type\n",
      "business                       27598.5735\n",
      "civil servant                  24076.1150\n",
      "employee                       22815.1035\n",
      "entrepreneur                   79866.1030\n",
      "paternity / maternity leave     8612.6610\n",
      "retiree                        18959.6260\n",
      "student                        15712.2600\n",
      "unemployed                     21014.3605\n",
      "Name: total_income, dtype: float64\n",
      "\n",
      "debt\n",
      "0    23226.6310\n",
      "1    22886.0585\n",
      "Name: total_income, dtype: float64\n",
      "\n",
      "gender\n",
      "F      21465.6375\n",
      "M      26828.2450\n",
      "XNA    32624.8250\n",
      "Name: total_income, dtype: float64\n",
      "\n",
      "gender\n",
      "F      14481.789567\n",
      "M      19203.690859\n",
      "XNA             NaN\n",
      "Name: total_income, dtype: float64\n"
     ]
    }
   ],
   "source": [
    "# Look at the median values for income based on your identified factors\n",
    "print(\"Median:\", no_missing_values['total_income'].median(), end='\\n\\n')\n",
    "\n",
    "print(no_missing_values.groupby('education')['total_income'].median(), end='\\n\\n')\n",
    "\n",
    "print(no_missing_values.groupby('age_group')['total_income'].median(), end='\\n\\n')\n",
    "\n",
    "print(no_missing_values.groupby('family_status')['total_income'].median(), end='\\n\\n')\n",
    "\n",
    "print(no_missing_values.groupby('children')['total_income'].median(), end='\\n\\n')\n",
    "\n",
    "print(no_missing_values.groupby('income_type')['total_income'].median(), end='\\n\\n')\n",
    "\n",
    "print(no_missing_values.groupby('debt')['total_income'].median(), end='\\n\\n')\n",
    "\n",
    "print(no_missing_values.groupby('gender')['total_income'].median(), end='\\n\\n')\n",
    "\n",
    "print(no_missing_values.groupby('gender')['total_income'].std())"
   ]
  },
  {
   "cell_type": "markdown",
   "metadata": {},
   "source": [
    "This analysis will be tested on multiple categories. Since marital status and number of children likely has a connection, and age and education are also likely connected. So they will be checked again on these multiple factors."
   ]
  },
  {
   "cell_type": "code",
   "execution_count": 39,
   "metadata": {
    "scrolled": true
   },
   "outputs": [
    {
     "name": "stdout",
     "output_type": "stream",
     "text": [
      "Mean income based on marriage and children status:\n",
      "gender                                 F             M        XNA\n",
      "family_status     children                                       \n",
      "civil partnership 0         25006.685058  29578.405501  32624.825\n",
      "                  1         24706.132940  32451.872644        NaN\n",
      "                  2         24603.293650  32847.852899        NaN\n",
      "                  3         22501.396303  44397.153833        NaN\n",
      "                  4         26723.865333  25210.974000        NaN\n",
      "                  5         20176.344000           NaN        NaN\n",
      "divorced          0         26096.476067  30721.209632        NaN\n",
      "                  1         27104.597827  30420.839141        NaN\n",
      "                  2         23548.585392  34514.304857        NaN\n",
      "                  3         23311.777625  23294.830000        NaN\n",
      "                  4         52885.145000           NaN        NaN\n",
      "married           0         24390.426410  30738.418097        NaN\n",
      "                  1         24320.083114  32254.321221        NaN\n",
      "                  2         23646.852565  33327.759081        NaN\n",
      "                  3         26085.162357  34922.709071        NaN\n",
      "                  4         27403.103400  26612.116556        NaN\n",
      "                  5         25820.583000  43050.936000        NaN\n",
      "unmarried         0         25862.814181  28611.505027        NaN\n",
      "                  1         26211.518027  29731.584316        NaN\n",
      "                  2         25554.989851  26316.865000        NaN\n",
      "                  3         21961.796167  25119.277000        NaN\n",
      "                  4         12624.133000           NaN        NaN\n",
      "widow / widower   0         22866.730801  22435.157829        NaN\n",
      "                  1         23175.170789  22849.730200        NaN\n",
      "                  2         26291.941308  23487.508750        NaN\n",
      "                  3         32523.384500           NaN        NaN\n",
      "                  4         26235.164000           NaN        NaN\n",
      "Median income based on marriage and children status:\n",
      "                                median                                  std  \\\n",
      "gender                               F           M        XNA             F   \n",
      "family_status     children                                                    \n",
      "civil partnership 0         22075.1885  26237.7985  32624.825  13799.896344   \n",
      "                  1         21870.7470  27433.4560        NaN  14370.391783   \n",
      "                  2         20806.7575  26974.3570        NaN  15438.664412   \n",
      "                  3         23242.8860  39030.3400        NaN  10606.326566   \n",
      "                  4         20226.8410  25210.9740        NaN  14997.964300   \n",
      "                  5         20176.3440         NaN        NaN           NaN   \n",
      "divorced          0         22791.6750  28166.7980        NaN  15409.811106   \n",
      "                  1         23300.1170  26688.8400        NaN  18080.647893   \n",
      "                  2         19412.1680  30526.5090        NaN  12902.981664   \n",
      "                  3         19712.3425  23294.8300        NaN   9420.096489   \n",
      "                  4         52885.1450         NaN        NaN           NaN   \n",
      "married           0         21259.9080  26747.2180        NaN  14277.266949   \n",
      "                  1         21334.8265  28521.4990        NaN  13791.530450   \n",
      "                  2         20605.1955  27607.8730        NaN  12665.856298   \n",
      "                  3         21383.0275  29485.8400        NaN  16501.366636   \n",
      "                  4         24752.2940  27251.9220        NaN  15957.512471   \n",
      "                  5         29816.2255  43050.9360        NaN  13057.056014   \n",
      "unmarried         0         21869.4660  25368.9550        NaN  16836.914421   \n",
      "                  1         22199.0600  25736.7570        NaN  17546.164277   \n",
      "                  2         21595.3170  25273.8515        NaN  13914.922730   \n",
      "                  3         20904.3760  25119.2770        NaN   8823.176720   \n",
      "                  4         12624.1330         NaN        NaN           NaN   \n",
      "widow / widower   0         20293.7600  19756.5780        NaN  12699.220153   \n",
      "                  1         21553.0500  25912.1590        NaN  13232.985021   \n",
      "                  2         24572.2550  21450.1260        NaN  11241.787163   \n",
      "                  3         29285.5345         NaN        NaN  15925.133725   \n",
      "                  4         26235.1640         NaN        NaN           NaN   \n",
      "\n",
      "                                          \n",
      "gender                                 M  \n",
      "family_status     children                \n",
      "civil partnership 0         18148.103454  \n",
      "                  1         25826.568849  \n",
      "                  2         19486.024332  \n",
      "                  3         23302.500585  \n",
      "                  4                  NaN  \n",
      "                  5                  NaN  \n",
      "divorced          0         16868.190429  \n",
      "                  1         25719.996569  \n",
      "                  2         16459.733439  \n",
      "                  3           693.630740  \n",
      "                  4                  NaN  \n",
      "married           0         19017.740846  \n",
      "                  1         19835.679410  \n",
      "                  2         21411.684958  \n",
      "                  3         22555.083899  \n",
      "                  4          6252.196354  \n",
      "                  5                  NaN  \n",
      "unmarried         0         15016.866154  \n",
      "                  1         15402.893223  \n",
      "                  2          9564.770542  \n",
      "                  3                  NaN  \n",
      "                  4                  NaN  \n",
      "widow / widower   0         11192.883832  \n",
      "                  1          8806.097601  \n",
      "                  2         10276.539445  \n",
      "                  3                  NaN  \n",
      "                  4                  NaN  \n",
      "\n",
      "Income based on age and education status:\n",
      "                                       mean       median           std\n",
      "                               total_income total_income  total_income\n",
      "age_group education                                                   \n",
      "10-19     secondary education  16011.592250   15761.5690   4368.586793\n",
      "          some college         18565.702800   14575.7170   7386.635452\n",
      "20-29     bachelor's degree    29382.496556   25956.1640  15569.404377\n",
      "          primary education    27695.271520   25488.9160  13967.428192\n",
      "          secondary education  23432.406626   21176.7800  11676.397232\n",
      "          some college         25437.661908   22709.1490  13458.658944\n",
      "30-39     bachelor's degree    34263.111162   28847.4385  22282.633128\n",
      "          graduate degree      18187.301500   18187.3015    515.543776\n",
      "          primary education    21979.584515   19542.3265   8931.521263\n",
      "          secondary education  25644.051001   22901.5250  14410.416247\n",
      "          some college         32041.530075   28470.6140  14748.685712\n",
      "40-49     bachelor's degree    35762.892649   30298.7130  24786.749389\n",
      "          graduate degree      31771.321000   31771.3210           NaN\n",
      "          primary education    23618.267667   21511.5635  13723.335008\n",
      "          secondary education  26200.754161   23001.7850  14407.134121\n",
      "          some college         33703.486528   29323.6730  20618.383324\n",
      "50-59     bachelor's degree    33626.170902   28152.1765  22584.809732\n",
      "          graduate degree      42945.794000   42945.7940           NaN\n",
      "          primary education    17797.322623   16922.6250   9086.546412\n",
      "          secondary education  24045.961273   21220.5350  13058.067129\n",
      "          some college         27623.492353   21132.3090  15278.629343\n",
      "60-69     bachelor's degree    30338.012779   25195.1730  20545.398657\n",
      "          graduate degree      28334.215000   28334.2150  17725.492575\n",
      "          primary education    18710.592883   17657.4995   8587.037470\n",
      "          secondary education  21697.500807   18873.7640  13446.931119\n",
      "          some college         29570.940682   28058.6760  12772.961075\n",
      "70+       bachelor's degree    26173.068696   25497.3920  12084.486412\n",
      "          primary education    18892.886000   15013.5050  11707.057748\n",
      "          secondary education  19245.043953   18508.5770   9239.780141\n",
      "          some college         13917.989667   14479.1930   6328.098338\n"
     ]
    }
   ],
   "source": [
    "# test for possible family status\n",
    "\n",
    "family = ['family_status', 'children']\n",
    "\n",
    "print('Mean income based on marriage and children status:')\n",
    "print(no_missing_values.pivot_table(index=family, \n",
    "                                    values = 'total_income', \n",
    "                                    columns= 'gender', \n",
    "                                    aggfunc='mean', \n",
    "                                    margins=False))\n",
    "print('Median income based on marriage and children status:')\n",
    "print(no_missing_values.pivot_table(index=family, \n",
    "                                    values = 'total_income', \n",
    "                                    columns= 'gender', \n",
    "                                    aggfunc=['median', 'std'], \n",
    "                                    margins=False), end='\\n\\n')\n",
    "\n",
    "print('Income based on age and education status:')\n",
    "print(no_missing_values.pivot_table(index=['age_group', 'education'], \n",
    "                                    values = 'total_income', \n",
    "                                    aggfunc=['mean', 'median', 'std'], \n",
    "                                    margins=False))"
   ]
  },
  {
   "cell_type": "markdown",
   "metadata": {},
   "source": [
    "To discuss the possible predictors, starting with ones that are not useful predictors:\n",
    "\n",
    "Someone defaulting on a loan in the past does not seem to have a significant impact on their current income, nor generally does their number of children. Although families with exactly 3 children have higher incomes measured both in mean and median, and the median income of a 5-child household is also higher, but there are only 9 households with 5 children so it cannot be considered statistically significant.\n",
    "\n",
    "Marital status does not generally have an impact on income, but widows/widowers have a noticeably lower income. Generally, as the number of children in a household increases from 0 to 3, women tend to make less money and men tend to make more money - which makes sense, a stay-at-home parent is more likely to be a mother. Women in general tend to have a slightly lower income, with a wider gap if the household has more children. Also, in most cases, households with 4 children have a noticeable dip in income.\n",
    "\n",
    "Whether it is a marriage or a civil partnership, the earning power of an individual does not appear to change significantly, although widows and widowers have lower earnings than divorcees. The income of people measured across married, unmarried, and divorced is fairly consistent, though especially so among women. Men's earning power across those three categories fluctuates a little more but is still relatively close.\n",
    "\n",
    "Suffice to say, there is a good reason to believe that measuring across the marital status, gender, and number of children in a household could be a useful predictor on a household income. However, this is not necessarily a perfect solution. The Standard Deviation across the data set is rather large, enough so that even an income of 0 would not be an outlier in many cases.\n",
    "\n",
    "Age group and education are far more clear-cut in that it rises as a worker peaks and then drops as they reach older ages, and also that their average income rises as they have more education. These values may sometimes be less consistent than the familial status, though in examination they do appear to have some sort of patterns.\n",
    "\n",
    "In both cases, filling things in with the median is a more practical choice. Due to the high standard deviation, it could be entirely suitable to simply fill all the empty values with the full data set's median income. Any sort of filler value we use could fluctuate wildly that it could also be a practical option to simply drop the missing values at this point. We would lose around 10% of the data set but there are tradeoffs if that 10% of the data is not present compared to if it is likely to be inaccurate.\n",
    "\n",
    "Though we will not be dropping them for the purposes of this analysis, instead filling using filtered data that usually has lower standard deviation compared to the full data as well as comparable or lower standard deviation than the data filtered by gender, does say a better option would be to use medians after the data is filtered in some way. Thus, it is possible a suitable choice will be to choose our filler values across the entire data set based on the age group and education status."
   ]
  },
  {
   "cell_type": "code",
   "execution_count": 40,
   "metadata": {},
   "outputs": [
    {
     "data": {
      "text/html": [
       "<div>\n",
       "<style scoped>\n",
       "    .dataframe tbody tr th:only-of-type {\n",
       "        vertical-align: middle;\n",
       "    }\n",
       "\n",
       "    .dataframe tbody tr th {\n",
       "        vertical-align: top;\n",
       "    }\n",
       "\n",
       "    .dataframe thead th {\n",
       "        text-align: right;\n",
       "    }\n",
       "</style>\n",
       "<table border=\"1\" class=\"dataframe\">\n",
       "  <thead>\n",
       "    <tr style=\"text-align: right;\">\n",
       "      <th></th>\n",
       "      <th>children</th>\n",
       "      <th>days_employed</th>\n",
       "      <th>dob_years</th>\n",
       "      <th>education</th>\n",
       "      <th>education_id</th>\n",
       "      <th>family_status</th>\n",
       "      <th>family_status_id</th>\n",
       "      <th>gender</th>\n",
       "      <th>income_type</th>\n",
       "      <th>debt</th>\n",
       "      <th>total_income</th>\n",
       "      <th>purpose</th>\n",
       "      <th>age_group</th>\n",
       "      <th>median_income</th>\n",
       "    </tr>\n",
       "  </thead>\n",
       "  <tbody>\n",
       "    <tr>\n",
       "      <td>12</td>\n",
       "      <td>0</td>\n",
       "      <td>NaN</td>\n",
       "      <td>65</td>\n",
       "      <td>secondary education</td>\n",
       "      <td>1</td>\n",
       "      <td>civil partnership</td>\n",
       "      <td>1</td>\n",
       "      <td>M</td>\n",
       "      <td>retiree</td>\n",
       "      <td>0</td>\n",
       "      <td>NaN</td>\n",
       "      <td>to have a wedding</td>\n",
       "      <td>60-69</td>\n",
       "      <td>18873.764</td>\n",
       "    </tr>\n",
       "    <tr>\n",
       "      <td>26</td>\n",
       "      <td>0</td>\n",
       "      <td>NaN</td>\n",
       "      <td>41</td>\n",
       "      <td>secondary education</td>\n",
       "      <td>1</td>\n",
       "      <td>married</td>\n",
       "      <td>0</td>\n",
       "      <td>M</td>\n",
       "      <td>civil servant</td>\n",
       "      <td>0</td>\n",
       "      <td>NaN</td>\n",
       "      <td>education</td>\n",
       "      <td>40-49</td>\n",
       "      <td>23001.785</td>\n",
       "    </tr>\n",
       "    <tr>\n",
       "      <td>29</td>\n",
       "      <td>0</td>\n",
       "      <td>NaN</td>\n",
       "      <td>63</td>\n",
       "      <td>secondary education</td>\n",
       "      <td>1</td>\n",
       "      <td>unmarried</td>\n",
       "      <td>4</td>\n",
       "      <td>F</td>\n",
       "      <td>retiree</td>\n",
       "      <td>0</td>\n",
       "      <td>NaN</td>\n",
       "      <td>building a real estate</td>\n",
       "      <td>60-69</td>\n",
       "      <td>18873.764</td>\n",
       "    </tr>\n",
       "    <tr>\n",
       "      <td>41</td>\n",
       "      <td>0</td>\n",
       "      <td>NaN</td>\n",
       "      <td>50</td>\n",
       "      <td>secondary education</td>\n",
       "      <td>1</td>\n",
       "      <td>married</td>\n",
       "      <td>0</td>\n",
       "      <td>F</td>\n",
       "      <td>civil servant</td>\n",
       "      <td>0</td>\n",
       "      <td>NaN</td>\n",
       "      <td>second-hand car purchase</td>\n",
       "      <td>50-59</td>\n",
       "      <td>21220.535</td>\n",
       "    </tr>\n",
       "    <tr>\n",
       "      <td>55</td>\n",
       "      <td>0</td>\n",
       "      <td>NaN</td>\n",
       "      <td>54</td>\n",
       "      <td>secondary education</td>\n",
       "      <td>1</td>\n",
       "      <td>civil partnership</td>\n",
       "      <td>1</td>\n",
       "      <td>F</td>\n",
       "      <td>retiree</td>\n",
       "      <td>1</td>\n",
       "      <td>NaN</td>\n",
       "      <td>to have a wedding</td>\n",
       "      <td>50-59</td>\n",
       "      <td>21220.535</td>\n",
       "    </tr>\n",
       "    <tr>\n",
       "      <td>...</td>\n",
       "      <td>...</td>\n",
       "      <td>...</td>\n",
       "      <td>...</td>\n",
       "      <td>...</td>\n",
       "      <td>...</td>\n",
       "      <td>...</td>\n",
       "      <td>...</td>\n",
       "      <td>...</td>\n",
       "      <td>...</td>\n",
       "      <td>...</td>\n",
       "      <td>...</td>\n",
       "      <td>...</td>\n",
       "      <td>...</td>\n",
       "      <td>...</td>\n",
       "    </tr>\n",
       "    <tr>\n",
       "      <td>21489</td>\n",
       "      <td>2</td>\n",
       "      <td>NaN</td>\n",
       "      <td>47</td>\n",
       "      <td>secondary education</td>\n",
       "      <td>1</td>\n",
       "      <td>married</td>\n",
       "      <td>0</td>\n",
       "      <td>M</td>\n",
       "      <td>business</td>\n",
       "      <td>0</td>\n",
       "      <td>NaN</td>\n",
       "      <td>purchase of a car</td>\n",
       "      <td>40-49</td>\n",
       "      <td>23001.785</td>\n",
       "    </tr>\n",
       "    <tr>\n",
       "      <td>21495</td>\n",
       "      <td>1</td>\n",
       "      <td>NaN</td>\n",
       "      <td>50</td>\n",
       "      <td>secondary education</td>\n",
       "      <td>1</td>\n",
       "      <td>civil partnership</td>\n",
       "      <td>1</td>\n",
       "      <td>F</td>\n",
       "      <td>employee</td>\n",
       "      <td>0</td>\n",
       "      <td>NaN</td>\n",
       "      <td>wedding ceremony</td>\n",
       "      <td>50-59</td>\n",
       "      <td>21220.535</td>\n",
       "    </tr>\n",
       "    <tr>\n",
       "      <td>21497</td>\n",
       "      <td>0</td>\n",
       "      <td>NaN</td>\n",
       "      <td>48</td>\n",
       "      <td>bachelor's degree</td>\n",
       "      <td>0</td>\n",
       "      <td>married</td>\n",
       "      <td>0</td>\n",
       "      <td>F</td>\n",
       "      <td>business</td>\n",
       "      <td>0</td>\n",
       "      <td>NaN</td>\n",
       "      <td>building a property</td>\n",
       "      <td>40-49</td>\n",
       "      <td>30298.713</td>\n",
       "    </tr>\n",
       "    <tr>\n",
       "      <td>21502</td>\n",
       "      <td>1</td>\n",
       "      <td>NaN</td>\n",
       "      <td>42</td>\n",
       "      <td>secondary education</td>\n",
       "      <td>1</td>\n",
       "      <td>married</td>\n",
       "      <td>0</td>\n",
       "      <td>F</td>\n",
       "      <td>employee</td>\n",
       "      <td>0</td>\n",
       "      <td>NaN</td>\n",
       "      <td>building a real estate</td>\n",
       "      <td>40-49</td>\n",
       "      <td>23001.785</td>\n",
       "    </tr>\n",
       "    <tr>\n",
       "      <td>21510</td>\n",
       "      <td>2</td>\n",
       "      <td>NaN</td>\n",
       "      <td>28</td>\n",
       "      <td>secondary education</td>\n",
       "      <td>1</td>\n",
       "      <td>married</td>\n",
       "      <td>0</td>\n",
       "      <td>F</td>\n",
       "      <td>employee</td>\n",
       "      <td>0</td>\n",
       "      <td>NaN</td>\n",
       "      <td>car purchase</td>\n",
       "      <td>20-29</td>\n",
       "      <td>21176.780</td>\n",
       "    </tr>\n",
       "  </tbody>\n",
       "</table>\n",
       "<p>2081 rows × 14 columns</p>\n",
       "</div>"
      ],
      "text/plain": [
       "       children  days_employed  dob_years            education  education_id  \\\n",
       "12            0            NaN         65  secondary education             1   \n",
       "26            0            NaN         41  secondary education             1   \n",
       "29            0            NaN         63  secondary education             1   \n",
       "41            0            NaN         50  secondary education             1   \n",
       "55            0            NaN         54  secondary education             1   \n",
       "...         ...            ...        ...                  ...           ...   \n",
       "21489         2            NaN         47  secondary education             1   \n",
       "21495         1            NaN         50  secondary education             1   \n",
       "21497         0            NaN         48    bachelor's degree             0   \n",
       "21502         1            NaN         42  secondary education             1   \n",
       "21510         2            NaN         28  secondary education             1   \n",
       "\n",
       "           family_status  family_status_id gender    income_type  debt  \\\n",
       "12     civil partnership                 1      M        retiree     0   \n",
       "26               married                 0      M  civil servant     0   \n",
       "29             unmarried                 4      F        retiree     0   \n",
       "41               married                 0      F  civil servant     0   \n",
       "55     civil partnership                 1      F        retiree     1   \n",
       "...                  ...               ...    ...            ...   ...   \n",
       "21489            married                 0      M       business     0   \n",
       "21495  civil partnership                 1      F       employee     0   \n",
       "21497            married                 0      F       business     0   \n",
       "21502            married                 0      F       employee     0   \n",
       "21510            married                 0      F       employee     0   \n",
       "\n",
       "       total_income                   purpose age_group  median_income  \n",
       "12              NaN         to have a wedding     60-69      18873.764  \n",
       "26              NaN                 education     40-49      23001.785  \n",
       "29              NaN    building a real estate     60-69      18873.764  \n",
       "41              NaN  second-hand car purchase     50-59      21220.535  \n",
       "55              NaN         to have a wedding     50-59      21220.535  \n",
       "...             ...                       ...       ...            ...  \n",
       "21489           NaN         purchase of a car     40-49      23001.785  \n",
       "21495           NaN          wedding ceremony     50-59      21220.535  \n",
       "21497           NaN       building a property     40-49      30298.713  \n",
       "21502           NaN    building a real estate     40-49      23001.785  \n",
       "21510           NaN              car purchase     20-29      21176.780  \n",
       "\n",
       "[2081 rows x 14 columns]"
      ]
     },
     "execution_count": 40,
     "metadata": {},
     "output_type": "execute_result"
    }
   ],
   "source": [
    "#  Write a function that we will use for filling in missing values\n",
    "\n",
    "# to test, a data frame will be made that creates a new column, 'median_income', to test a function that groups based on\n",
    "# age_group and education\n",
    "\n",
    "# this will be done in a new data frame so that it will be easier to check for errors before performing on the complete data\n",
    "\n",
    "test_data = data.copy(deep=False)\n",
    "test_data['median_income'] = data.groupby(['age_group', 'education'])['total_income'].transform(lambda x: x.fillna(x.median()))\n",
    "test_data[test_data.isna().any(axis=1)]"
   ]
  },
  {
   "cell_type": "code",
   "execution_count": 41,
   "metadata": {},
   "outputs": [
    {
     "data": {
      "text/html": [
       "<div>\n",
       "<style scoped>\n",
       "    .dataframe tbody tr th:only-of-type {\n",
       "        vertical-align: middle;\n",
       "    }\n",
       "\n",
       "    .dataframe tbody tr th {\n",
       "        vertical-align: top;\n",
       "    }\n",
       "\n",
       "    .dataframe thead th {\n",
       "        text-align: right;\n",
       "    }\n",
       "</style>\n",
       "<table border=\"1\" class=\"dataframe\">\n",
       "  <thead>\n",
       "    <tr style=\"text-align: right;\">\n",
       "      <th></th>\n",
       "      <th>children</th>\n",
       "      <th>days_employed</th>\n",
       "      <th>dob_years</th>\n",
       "      <th>education</th>\n",
       "      <th>education_id</th>\n",
       "      <th>family_status</th>\n",
       "      <th>family_status_id</th>\n",
       "      <th>gender</th>\n",
       "      <th>income_type</th>\n",
       "      <th>debt</th>\n",
       "      <th>total_income</th>\n",
       "      <th>purpose</th>\n",
       "      <th>age_group</th>\n",
       "    </tr>\n",
       "  </thead>\n",
       "  <tbody>\n",
       "    <tr>\n",
       "      <td>0</td>\n",
       "      <td>1</td>\n",
       "      <td>8437.673028</td>\n",
       "      <td>42</td>\n",
       "      <td>bachelor's degree</td>\n",
       "      <td>0</td>\n",
       "      <td>married</td>\n",
       "      <td>0</td>\n",
       "      <td>F</td>\n",
       "      <td>employee</td>\n",
       "      <td>0</td>\n",
       "      <td>40620.102</td>\n",
       "      <td>purchase of the house</td>\n",
       "      <td>40-49</td>\n",
       "    </tr>\n",
       "    <tr>\n",
       "      <td>1</td>\n",
       "      <td>1</td>\n",
       "      <td>4024.803754</td>\n",
       "      <td>36</td>\n",
       "      <td>secondary education</td>\n",
       "      <td>1</td>\n",
       "      <td>married</td>\n",
       "      <td>0</td>\n",
       "      <td>F</td>\n",
       "      <td>employee</td>\n",
       "      <td>0</td>\n",
       "      <td>17932.802</td>\n",
       "      <td>car purchase</td>\n",
       "      <td>30-39</td>\n",
       "    </tr>\n",
       "    <tr>\n",
       "      <td>2</td>\n",
       "      <td>0</td>\n",
       "      <td>5623.422610</td>\n",
       "      <td>33</td>\n",
       "      <td>secondary education</td>\n",
       "      <td>1</td>\n",
       "      <td>married</td>\n",
       "      <td>0</td>\n",
       "      <td>M</td>\n",
       "      <td>employee</td>\n",
       "      <td>0</td>\n",
       "      <td>23341.752</td>\n",
       "      <td>purchase of the house</td>\n",
       "      <td>30-39</td>\n",
       "    </tr>\n",
       "    <tr>\n",
       "      <td>3</td>\n",
       "      <td>3</td>\n",
       "      <td>4124.747207</td>\n",
       "      <td>32</td>\n",
       "      <td>secondary education</td>\n",
       "      <td>1</td>\n",
       "      <td>married</td>\n",
       "      <td>0</td>\n",
       "      <td>M</td>\n",
       "      <td>employee</td>\n",
       "      <td>0</td>\n",
       "      <td>42820.568</td>\n",
       "      <td>supplementary education</td>\n",
       "      <td>30-39</td>\n",
       "    </tr>\n",
       "    <tr>\n",
       "      <td>4</td>\n",
       "      <td>0</td>\n",
       "      <td>3402.660720</td>\n",
       "      <td>53</td>\n",
       "      <td>secondary education</td>\n",
       "      <td>1</td>\n",
       "      <td>civil partnership</td>\n",
       "      <td>1</td>\n",
       "      <td>F</td>\n",
       "      <td>retiree</td>\n",
       "      <td>0</td>\n",
       "      <td>25378.572</td>\n",
       "      <td>to have a wedding</td>\n",
       "      <td>50-59</td>\n",
       "    </tr>\n",
       "    <tr>\n",
       "      <td>...</td>\n",
       "      <td>...</td>\n",
       "      <td>...</td>\n",
       "      <td>...</td>\n",
       "      <td>...</td>\n",
       "      <td>...</td>\n",
       "      <td>...</td>\n",
       "      <td>...</td>\n",
       "      <td>...</td>\n",
       "      <td>...</td>\n",
       "      <td>...</td>\n",
       "      <td>...</td>\n",
       "      <td>...</td>\n",
       "      <td>...</td>\n",
       "    </tr>\n",
       "    <tr>\n",
       "      <td>21520</td>\n",
       "      <td>1</td>\n",
       "      <td>4529.316663</td>\n",
       "      <td>43</td>\n",
       "      <td>secondary education</td>\n",
       "      <td>1</td>\n",
       "      <td>civil partnership</td>\n",
       "      <td>1</td>\n",
       "      <td>F</td>\n",
       "      <td>business</td>\n",
       "      <td>0</td>\n",
       "      <td>35966.698</td>\n",
       "      <td>housing transactions</td>\n",
       "      <td>40-49</td>\n",
       "    </tr>\n",
       "    <tr>\n",
       "      <td>21521</td>\n",
       "      <td>0</td>\n",
       "      <td>3439.374041</td>\n",
       "      <td>67</td>\n",
       "      <td>secondary education</td>\n",
       "      <td>1</td>\n",
       "      <td>married</td>\n",
       "      <td>0</td>\n",
       "      <td>F</td>\n",
       "      <td>retiree</td>\n",
       "      <td>0</td>\n",
       "      <td>24959.969</td>\n",
       "      <td>purchase of a car</td>\n",
       "      <td>60-69</td>\n",
       "    </tr>\n",
       "    <tr>\n",
       "      <td>21522</td>\n",
       "      <td>1</td>\n",
       "      <td>2113.346888</td>\n",
       "      <td>38</td>\n",
       "      <td>secondary education</td>\n",
       "      <td>1</td>\n",
       "      <td>civil partnership</td>\n",
       "      <td>1</td>\n",
       "      <td>M</td>\n",
       "      <td>employee</td>\n",
       "      <td>1</td>\n",
       "      <td>14347.610</td>\n",
       "      <td>property</td>\n",
       "      <td>30-39</td>\n",
       "    </tr>\n",
       "    <tr>\n",
       "      <td>21523</td>\n",
       "      <td>3</td>\n",
       "      <td>3112.481705</td>\n",
       "      <td>38</td>\n",
       "      <td>secondary education</td>\n",
       "      <td>1</td>\n",
       "      <td>married</td>\n",
       "      <td>0</td>\n",
       "      <td>M</td>\n",
       "      <td>employee</td>\n",
       "      <td>1</td>\n",
       "      <td>39054.888</td>\n",
       "      <td>buying my own car</td>\n",
       "      <td>30-39</td>\n",
       "    </tr>\n",
       "    <tr>\n",
       "      <td>21524</td>\n",
       "      <td>2</td>\n",
       "      <td>1984.507589</td>\n",
       "      <td>40</td>\n",
       "      <td>secondary education</td>\n",
       "      <td>1</td>\n",
       "      <td>married</td>\n",
       "      <td>0</td>\n",
       "      <td>F</td>\n",
       "      <td>employee</td>\n",
       "      <td>0</td>\n",
       "      <td>13127.587</td>\n",
       "      <td>to buy a car</td>\n",
       "      <td>40-49</td>\n",
       "    </tr>\n",
       "  </tbody>\n",
       "</table>\n",
       "<p>21231 rows × 13 columns</p>\n",
       "</div>"
      ],
      "text/plain": [
       "       children  days_employed  dob_years            education  education_id  \\\n",
       "0             1    8437.673028         42    bachelor's degree             0   \n",
       "1             1    4024.803754         36  secondary education             1   \n",
       "2             0    5623.422610         33  secondary education             1   \n",
       "3             3    4124.747207         32  secondary education             1   \n",
       "4             0    3402.660720         53  secondary education             1   \n",
       "...         ...            ...        ...                  ...           ...   \n",
       "21520         1    4529.316663         43  secondary education             1   \n",
       "21521         0    3439.374041         67  secondary education             1   \n",
       "21522         1    2113.346888         38  secondary education             1   \n",
       "21523         3    3112.481705         38  secondary education             1   \n",
       "21524         2    1984.507589         40  secondary education             1   \n",
       "\n",
       "           family_status  family_status_id gender income_type  debt  \\\n",
       "0                married                 0      F    employee     0   \n",
       "1                married                 0      F    employee     0   \n",
       "2                married                 0      M    employee     0   \n",
       "3                married                 0      M    employee     0   \n",
       "4      civil partnership                 1      F     retiree     0   \n",
       "...                  ...               ...    ...         ...   ...   \n",
       "21520  civil partnership                 1      F    business     0   \n",
       "21521            married                 0      F     retiree     0   \n",
       "21522  civil partnership                 1      M    employee     1   \n",
       "21523            married                 0      M    employee     1   \n",
       "21524            married                 0      F    employee     0   \n",
       "\n",
       "       total_income                  purpose age_group  \n",
       "0         40620.102    purchase of the house     40-49  \n",
       "1         17932.802             car purchase     30-39  \n",
       "2         23341.752    purchase of the house     30-39  \n",
       "3         42820.568  supplementary education     30-39  \n",
       "4         25378.572        to have a wedding     50-59  \n",
       "...             ...                      ...       ...  \n",
       "21520     35966.698     housing transactions     40-49  \n",
       "21521     24959.969        purchase of a car     60-69  \n",
       "21522     14347.610                 property     30-39  \n",
       "21523     39054.888        buying my own car     30-39  \n",
       "21524     13127.587             to buy a car     40-49  \n",
       "\n",
       "[21231 rows x 13 columns]"
      ]
     },
     "execution_count": 41,
     "metadata": {},
     "output_type": "execute_result"
    }
   ],
   "source": [
    "# Check if it works\n",
    "\n",
    "data['total_income'] = data.groupby(['age_group', 'education'])['total_income'].transform(lambda x: x.fillna(x.median()))\n",
    "data"
   ]
  },
  {
   "cell_type": "code",
   "execution_count": 42,
   "metadata": {
    "scrolled": true
   },
   "outputs": [
    {
     "data": {
      "text/plain": [
       "False    21231\n",
       "Name: total_income, dtype: int64"
      ]
     },
     "execution_count": 42,
     "metadata": {},
     "output_type": "execute_result"
    }
   ],
   "source": [
    "# check for null values\n",
    "data['total_income'].isna().value_counts()"
   ]
  },
  {
   "cell_type": "markdown",
   "metadata": {},
   "source": [
    "###  Restoring values in `days_employed`"
   ]
  },
  {
   "cell_type": "markdown",
   "metadata": {},
   "source": [
    "For length of employment, it initially appears that a mean would be a more accurate choice to restore missing values. The reason for this being that generally, it is expected that jobs can and often do have high turnover rates, regardless of other outcomes. Most likely, when we take the median, it will be significantly lower than the mean.\n",
    "\n",
    "It also could be hypothesized that the most relevant factor by far will be the age group, as of course there is a hard cap on how long someone can be employed based specifically on their age. Their education will likely also be relevant, and their marital status may be slightly significant. For singular analysis, there are few enough factors to not test across all of them for a quick initial look."
   ]
  },
  {
   "cell_type": "code",
   "execution_count": 43,
   "metadata": {
    "pycharm": {
     "name": "#%%\n"
    }
   },
   "outputs": [
    {
     "name": "stdout",
     "output_type": "stream",
     "text": [
      "Median: 2197.610391933402 \n",
      "Std: 2149.4384845609616\n",
      "\n",
      "education\n",
      "bachelor's degree      1896.569279\n",
      "graduate degree        3569.305175\n",
      "primary education      3043.933615\n",
      "secondary education    2393.978448\n",
      "some college           1210.909349\n",
      "Name: days_employed, dtype: float64\n",
      "\n",
      "age_group\n",
      "10-19     724.492610\n",
      "20-29    1007.207074\n",
      "30-39    1601.919871\n",
      "40-49    2112.694563\n",
      "50-59    3434.808702\n",
      "60-69    3628.436183\n",
      "70+      3652.129894\n",
      "Name: days_employed, dtype: float64\n",
      "\n",
      "family_status\n",
      "civil partnership    1947.761961\n",
      "divorced             2398.424010\n",
      "married              2308.492225\n",
      "unmarried            1461.758857\n",
      "widow / widower      3554.549701\n",
      "Name: days_employed, dtype: float64\n",
      "\n",
      "children\n",
      "0    2625.852176\n",
      "1    1666.838773\n",
      "2    1683.917531\n",
      "3    1734.879824\n",
      "4    1905.879025\n",
      "5    1231.571486\n",
      "Name: days_employed, dtype: float64\n",
      "\n",
      "income_type\n",
      "business                       1556.150678\n",
      "civil servant                  2672.903939\n",
      "employee                       1573.791064\n",
      "entrepreneur                    520.848083\n",
      "paternity / maternity leave    3296.759962\n",
      "retiree                        3652.691004\n",
      "student                         578.751554\n",
      "unemployed                     3664.136527\n",
      "Name: days_employed, dtype: float64\n",
      "\n",
      "debt\n",
      "0    2270.515862\n",
      "1    1507.751267\n",
      "Name: days_employed, dtype: float64\n",
      "\n",
      "gender\n",
      "F      2540.740460\n",
      "M      1667.140839\n",
      "XNA    2358.600502\n",
      "Name: days_employed, dtype: float64\n"
     ]
    }
   ],
   "source": [
    "# Distribution of `days_employed` medians based on your identified parameters\n",
    "\n",
    "print(\"Median:\", no_missing_values['days_employed'].median(), \"\\n\"\n",
    "     \"Std:\",  no_missing_values['days_employed'].std(), end='\\n\\n')\n",
    "\n",
    "print(no_missing_values.groupby('education')['days_employed'].median(), end='\\n\\n')\n",
    "\n",
    "print(no_missing_values.groupby('age_group')['days_employed'].median(), end='\\n\\n')\n",
    "\n",
    "print(no_missing_values.groupby('family_status')['days_employed'].median(), end='\\n\\n')\n",
    "\n",
    "print(no_missing_values.groupby('children')['days_employed'].median(), end='\\n\\n')\n",
    "\n",
    "print(no_missing_values.groupby('income_type')['days_employed'].median(), end='\\n\\n')\n",
    "\n",
    "print(no_missing_values.groupby('debt')['days_employed'].median(), end='\\n\\n')\n",
    "\n",
    "print(no_missing_values.groupby('gender')['days_employed'].median())"
   ]
  },
  {
   "cell_type": "code",
   "execution_count": 44,
   "metadata": {},
   "outputs": [
    {
     "name": "stdout",
     "output_type": "stream",
     "text": [
      "Mean: 2585.412900432714\n",
      "\n",
      "education\n",
      "bachelor's degree      2431.165867\n",
      "graduate degree        3536.559416\n",
      "primary education      2540.081375\n",
      "secondary education    2684.169887\n",
      "some college           1671.195584\n",
      "Name: days_employed, dtype: float64\n",
      "\n",
      "age_group\n",
      "10-19     633.678086\n",
      "20-29    1216.823432\n",
      "30-39    2035.879026\n",
      "40-49    2758.989760\n",
      "50-59    3403.599812\n",
      "60-69    3691.642639\n",
      "70+      3731.259123\n",
      "Name: days_employed, dtype: float64\n",
      "\n",
      "family_status\n",
      "civil partnership    2470.040055\n",
      "divorced             2659.662842\n",
      "married              2671.026190\n",
      "unmarried            2074.058152\n",
      "widow / widower      3384.050437\n",
      "Name: days_employed, dtype: float64\n",
      "\n",
      "children\n",
      "0    2774.831110\n",
      "1    2249.459122\n",
      "2    2145.137153\n",
      "3    2204.802409\n",
      "4    2233.272666\n",
      "5    1432.348601\n",
      "Name: days_employed, dtype: float64\n",
      "\n",
      "income_type\n",
      "business                       2119.565621\n",
      "civil servant                  3392.119263\n",
      "employee                       2325.740892\n",
      "entrepreneur                    520.848083\n",
      "paternity / maternity leave    3296.759962\n",
      "retiree                        3650.374861\n",
      "student                         578.751554\n",
      "unemployed                     3664.136527\n",
      "Name: days_employed, dtype: float64\n",
      "\n",
      "debt\n",
      "0    2633.134065\n",
      "1    2045.064370\n",
      "Name: days_employed, dtype: float64\n",
      "\n",
      "gender\n",
      "F      2770.105354\n",
      "M      2228.950192\n",
      "XNA    2358.600502\n",
      "Name: days_employed, dtype: float64\n"
     ]
    }
   ],
   "source": [
    "# Distribution of `days_employed` means based on your identified parameters\n",
    "print(\"Mean:\", no_missing_values['days_employed'].mean(), end='\\n\\n')\n",
    "\n",
    "print(no_missing_values.groupby('education')['days_employed'].mean(), end='\\n\\n')\n",
    "\n",
    "print(no_missing_values.groupby('age_group')['days_employed'].mean(), end='\\n\\n')\n",
    "\n",
    "print(no_missing_values.groupby('family_status')['days_employed'].mean(), end='\\n\\n')\n",
    "\n",
    "print(no_missing_values.groupby('children')['days_employed'].mean(), end='\\n\\n')\n",
    "\n",
    "print(no_missing_values.groupby('income_type')['days_employed'].mean(), end='\\n\\n')\n",
    "\n",
    "print(no_missing_values.groupby('debt')['days_employed'].mean(), end='\\n\\n')\n",
    "\n",
    "print(no_missing_values.groupby('gender')['days_employed'].mean())"
   ]
  },
  {
   "cell_type": "markdown",
   "metadata": {},
   "source": [
    "As expected, the medians are noticeably lower than the means. Whether the proposed explanation is true or not is not particularly relevant for our purposes at the moment. Regardless, for both the mean and the median there is a massive range of days employed across most distinctions (usually having some entries be under 1000 and others being nearly 4000). This could suggest that the mean is a better choice to use here.\n",
    "\n",
    "In particular, this is because the clearest pattern we see on the data is by taking the mean value of the data grouped by the ages. It has a steady increase of around 700 in each age group until the groups of 60-69 and 70+ (when we will see more retirees).\n",
    "\n",
    "None of the questions that we seek to answer directly involve the number of days employed, so it generally will be less harmful to be a little less thorough when filling out this data."
   ]
  },
  {
   "cell_type": "code",
   "execution_count": 45,
   "metadata": {},
   "outputs": [
    {
     "data": {
      "text/html": [
       "<div>\n",
       "<style scoped>\n",
       "    .dataframe tbody tr th:only-of-type {\n",
       "        vertical-align: middle;\n",
       "    }\n",
       "\n",
       "    .dataframe tbody tr th {\n",
       "        vertical-align: top;\n",
       "    }\n",
       "\n",
       "    .dataframe thead th {\n",
       "        text-align: right;\n",
       "    }\n",
       "</style>\n",
       "<table border=\"1\" class=\"dataframe\">\n",
       "  <thead>\n",
       "    <tr style=\"text-align: right;\">\n",
       "      <th></th>\n",
       "      <th>children</th>\n",
       "      <th>days_employed</th>\n",
       "      <th>dob_years</th>\n",
       "      <th>education</th>\n",
       "      <th>education_id</th>\n",
       "      <th>family_status</th>\n",
       "      <th>family_status_id</th>\n",
       "      <th>gender</th>\n",
       "      <th>income_type</th>\n",
       "      <th>debt</th>\n",
       "      <th>total_income</th>\n",
       "      <th>purpose</th>\n",
       "      <th>age_group</th>\n",
       "      <th>mean_days</th>\n",
       "    </tr>\n",
       "  </thead>\n",
       "  <tbody>\n",
       "    <tr>\n",
       "      <td>12</td>\n",
       "      <td>0</td>\n",
       "      <td>NaN</td>\n",
       "      <td>65</td>\n",
       "      <td>secondary education</td>\n",
       "      <td>1</td>\n",
       "      <td>civil partnership</td>\n",
       "      <td>1</td>\n",
       "      <td>M</td>\n",
       "      <td>retiree</td>\n",
       "      <td>0</td>\n",
       "      <td>18873.764</td>\n",
       "      <td>to have a wedding</td>\n",
       "      <td>60-69</td>\n",
       "      <td>3628.436183</td>\n",
       "    </tr>\n",
       "    <tr>\n",
       "      <td>26</td>\n",
       "      <td>0</td>\n",
       "      <td>NaN</td>\n",
       "      <td>41</td>\n",
       "      <td>secondary education</td>\n",
       "      <td>1</td>\n",
       "      <td>married</td>\n",
       "      <td>0</td>\n",
       "      <td>M</td>\n",
       "      <td>civil servant</td>\n",
       "      <td>0</td>\n",
       "      <td>23001.785</td>\n",
       "      <td>education</td>\n",
       "      <td>40-49</td>\n",
       "      <td>2112.694563</td>\n",
       "    </tr>\n",
       "    <tr>\n",
       "      <td>29</td>\n",
       "      <td>0</td>\n",
       "      <td>NaN</td>\n",
       "      <td>63</td>\n",
       "      <td>secondary education</td>\n",
       "      <td>1</td>\n",
       "      <td>unmarried</td>\n",
       "      <td>4</td>\n",
       "      <td>F</td>\n",
       "      <td>retiree</td>\n",
       "      <td>0</td>\n",
       "      <td>18873.764</td>\n",
       "      <td>building a real estate</td>\n",
       "      <td>60-69</td>\n",
       "      <td>3628.436183</td>\n",
       "    </tr>\n",
       "    <tr>\n",
       "      <td>41</td>\n",
       "      <td>0</td>\n",
       "      <td>NaN</td>\n",
       "      <td>50</td>\n",
       "      <td>secondary education</td>\n",
       "      <td>1</td>\n",
       "      <td>married</td>\n",
       "      <td>0</td>\n",
       "      <td>F</td>\n",
       "      <td>civil servant</td>\n",
       "      <td>0</td>\n",
       "      <td>21220.535</td>\n",
       "      <td>second-hand car purchase</td>\n",
       "      <td>50-59</td>\n",
       "      <td>3434.808702</td>\n",
       "    </tr>\n",
       "    <tr>\n",
       "      <td>55</td>\n",
       "      <td>0</td>\n",
       "      <td>NaN</td>\n",
       "      <td>54</td>\n",
       "      <td>secondary education</td>\n",
       "      <td>1</td>\n",
       "      <td>civil partnership</td>\n",
       "      <td>1</td>\n",
       "      <td>F</td>\n",
       "      <td>retiree</td>\n",
       "      <td>1</td>\n",
       "      <td>21220.535</td>\n",
       "      <td>to have a wedding</td>\n",
       "      <td>50-59</td>\n",
       "      <td>3434.808702</td>\n",
       "    </tr>\n",
       "    <tr>\n",
       "      <td>...</td>\n",
       "      <td>...</td>\n",
       "      <td>...</td>\n",
       "      <td>...</td>\n",
       "      <td>...</td>\n",
       "      <td>...</td>\n",
       "      <td>...</td>\n",
       "      <td>...</td>\n",
       "      <td>...</td>\n",
       "      <td>...</td>\n",
       "      <td>...</td>\n",
       "      <td>...</td>\n",
       "      <td>...</td>\n",
       "      <td>...</td>\n",
       "      <td>...</td>\n",
       "    </tr>\n",
       "    <tr>\n",
       "      <td>21489</td>\n",
       "      <td>2</td>\n",
       "      <td>NaN</td>\n",
       "      <td>47</td>\n",
       "      <td>secondary education</td>\n",
       "      <td>1</td>\n",
       "      <td>married</td>\n",
       "      <td>0</td>\n",
       "      <td>M</td>\n",
       "      <td>business</td>\n",
       "      <td>0</td>\n",
       "      <td>23001.785</td>\n",
       "      <td>purchase of a car</td>\n",
       "      <td>40-49</td>\n",
       "      <td>2112.694563</td>\n",
       "    </tr>\n",
       "    <tr>\n",
       "      <td>21495</td>\n",
       "      <td>1</td>\n",
       "      <td>NaN</td>\n",
       "      <td>50</td>\n",
       "      <td>secondary education</td>\n",
       "      <td>1</td>\n",
       "      <td>civil partnership</td>\n",
       "      <td>1</td>\n",
       "      <td>F</td>\n",
       "      <td>employee</td>\n",
       "      <td>0</td>\n",
       "      <td>21220.535</td>\n",
       "      <td>wedding ceremony</td>\n",
       "      <td>50-59</td>\n",
       "      <td>3434.808702</td>\n",
       "    </tr>\n",
       "    <tr>\n",
       "      <td>21497</td>\n",
       "      <td>0</td>\n",
       "      <td>NaN</td>\n",
       "      <td>48</td>\n",
       "      <td>bachelor's degree</td>\n",
       "      <td>0</td>\n",
       "      <td>married</td>\n",
       "      <td>0</td>\n",
       "      <td>F</td>\n",
       "      <td>business</td>\n",
       "      <td>0</td>\n",
       "      <td>30298.713</td>\n",
       "      <td>building a property</td>\n",
       "      <td>40-49</td>\n",
       "      <td>2112.694563</td>\n",
       "    </tr>\n",
       "    <tr>\n",
       "      <td>21502</td>\n",
       "      <td>1</td>\n",
       "      <td>NaN</td>\n",
       "      <td>42</td>\n",
       "      <td>secondary education</td>\n",
       "      <td>1</td>\n",
       "      <td>married</td>\n",
       "      <td>0</td>\n",
       "      <td>F</td>\n",
       "      <td>employee</td>\n",
       "      <td>0</td>\n",
       "      <td>23001.785</td>\n",
       "      <td>building a real estate</td>\n",
       "      <td>40-49</td>\n",
       "      <td>2112.694563</td>\n",
       "    </tr>\n",
       "    <tr>\n",
       "      <td>21510</td>\n",
       "      <td>2</td>\n",
       "      <td>NaN</td>\n",
       "      <td>28</td>\n",
       "      <td>secondary education</td>\n",
       "      <td>1</td>\n",
       "      <td>married</td>\n",
       "      <td>0</td>\n",
       "      <td>F</td>\n",
       "      <td>employee</td>\n",
       "      <td>0</td>\n",
       "      <td>21176.780</td>\n",
       "      <td>car purchase</td>\n",
       "      <td>20-29</td>\n",
       "      <td>1007.207074</td>\n",
       "    </tr>\n",
       "  </tbody>\n",
       "</table>\n",
       "<p>2081 rows × 14 columns</p>\n",
       "</div>"
      ],
      "text/plain": [
       "       children  days_employed  dob_years            education  education_id  \\\n",
       "12            0            NaN         65  secondary education             1   \n",
       "26            0            NaN         41  secondary education             1   \n",
       "29            0            NaN         63  secondary education             1   \n",
       "41            0            NaN         50  secondary education             1   \n",
       "55            0            NaN         54  secondary education             1   \n",
       "...         ...            ...        ...                  ...           ...   \n",
       "21489         2            NaN         47  secondary education             1   \n",
       "21495         1            NaN         50  secondary education             1   \n",
       "21497         0            NaN         48    bachelor's degree             0   \n",
       "21502         1            NaN         42  secondary education             1   \n",
       "21510         2            NaN         28  secondary education             1   \n",
       "\n",
       "           family_status  family_status_id gender    income_type  debt  \\\n",
       "12     civil partnership                 1      M        retiree     0   \n",
       "26               married                 0      M  civil servant     0   \n",
       "29             unmarried                 4      F        retiree     0   \n",
       "41               married                 0      F  civil servant     0   \n",
       "55     civil partnership                 1      F        retiree     1   \n",
       "...                  ...               ...    ...            ...   ...   \n",
       "21489            married                 0      M       business     0   \n",
       "21495  civil partnership                 1      F       employee     0   \n",
       "21497            married                 0      F       business     0   \n",
       "21502            married                 0      F       employee     0   \n",
       "21510            married                 0      F       employee     0   \n",
       "\n",
       "       total_income                   purpose age_group    mean_days  \n",
       "12        18873.764         to have a wedding     60-69  3628.436183  \n",
       "26        23001.785                 education     40-49  2112.694563  \n",
       "29        18873.764    building a real estate     60-69  3628.436183  \n",
       "41        21220.535  second-hand car purchase     50-59  3434.808702  \n",
       "55        21220.535         to have a wedding     50-59  3434.808702  \n",
       "...             ...                       ...       ...          ...  \n",
       "21489     23001.785         purchase of a car     40-49  2112.694563  \n",
       "21495     21220.535          wedding ceremony     50-59  3434.808702  \n",
       "21497     30298.713       building a property     40-49  2112.694563  \n",
       "21502     23001.785    building a real estate     40-49  2112.694563  \n",
       "21510     21176.780              car purchase     20-29  1007.207074  \n",
       "\n",
       "[2081 rows x 14 columns]"
      ]
     },
     "execution_count": 45,
     "metadata": {},
     "output_type": "execute_result"
    }
   ],
   "source": [
    "# Let's write a function that calculates means or medians (depending on your decision) based on your identified parameter\n",
    "test_data = data.copy(deep=False)\n",
    "test_data['mean_days'] = data.groupby('age_group')['days_employed'].transform(lambda x: x.fillna(x.median()))\n",
    "test_data[test_data.isna().any(axis=1)]"
   ]
  },
  {
   "cell_type": "code",
   "execution_count": 46,
   "metadata": {},
   "outputs": [
    {
     "data": {
      "text/html": [
       "<div>\n",
       "<style scoped>\n",
       "    .dataframe tbody tr th:only-of-type {\n",
       "        vertical-align: middle;\n",
       "    }\n",
       "\n",
       "    .dataframe tbody tr th {\n",
       "        vertical-align: top;\n",
       "    }\n",
       "\n",
       "    .dataframe thead th {\n",
       "        text-align: right;\n",
       "    }\n",
       "</style>\n",
       "<table border=\"1\" class=\"dataframe\">\n",
       "  <thead>\n",
       "    <tr style=\"text-align: right;\">\n",
       "      <th></th>\n",
       "      <th>children</th>\n",
       "      <th>days_employed</th>\n",
       "      <th>dob_years</th>\n",
       "      <th>education</th>\n",
       "      <th>education_id</th>\n",
       "      <th>family_status</th>\n",
       "      <th>family_status_id</th>\n",
       "      <th>gender</th>\n",
       "      <th>income_type</th>\n",
       "      <th>debt</th>\n",
       "      <th>total_income</th>\n",
       "      <th>purpose</th>\n",
       "      <th>age_group</th>\n",
       "    </tr>\n",
       "  </thead>\n",
       "  <tbody>\n",
       "    <tr>\n",
       "      <td>0</td>\n",
       "      <td>1</td>\n",
       "      <td>8437.673028</td>\n",
       "      <td>42</td>\n",
       "      <td>bachelor's degree</td>\n",
       "      <td>0</td>\n",
       "      <td>married</td>\n",
       "      <td>0</td>\n",
       "      <td>F</td>\n",
       "      <td>employee</td>\n",
       "      <td>0</td>\n",
       "      <td>40620.102</td>\n",
       "      <td>purchase of the house</td>\n",
       "      <td>40-49</td>\n",
       "    </tr>\n",
       "    <tr>\n",
       "      <td>1</td>\n",
       "      <td>1</td>\n",
       "      <td>4024.803754</td>\n",
       "      <td>36</td>\n",
       "      <td>secondary education</td>\n",
       "      <td>1</td>\n",
       "      <td>married</td>\n",
       "      <td>0</td>\n",
       "      <td>F</td>\n",
       "      <td>employee</td>\n",
       "      <td>0</td>\n",
       "      <td>17932.802</td>\n",
       "      <td>car purchase</td>\n",
       "      <td>30-39</td>\n",
       "    </tr>\n",
       "    <tr>\n",
       "      <td>2</td>\n",
       "      <td>0</td>\n",
       "      <td>5623.422610</td>\n",
       "      <td>33</td>\n",
       "      <td>secondary education</td>\n",
       "      <td>1</td>\n",
       "      <td>married</td>\n",
       "      <td>0</td>\n",
       "      <td>M</td>\n",
       "      <td>employee</td>\n",
       "      <td>0</td>\n",
       "      <td>23341.752</td>\n",
       "      <td>purchase of the house</td>\n",
       "      <td>30-39</td>\n",
       "    </tr>\n",
       "    <tr>\n",
       "      <td>3</td>\n",
       "      <td>3</td>\n",
       "      <td>4124.747207</td>\n",
       "      <td>32</td>\n",
       "      <td>secondary education</td>\n",
       "      <td>1</td>\n",
       "      <td>married</td>\n",
       "      <td>0</td>\n",
       "      <td>M</td>\n",
       "      <td>employee</td>\n",
       "      <td>0</td>\n",
       "      <td>42820.568</td>\n",
       "      <td>supplementary education</td>\n",
       "      <td>30-39</td>\n",
       "    </tr>\n",
       "    <tr>\n",
       "      <td>4</td>\n",
       "      <td>0</td>\n",
       "      <td>3402.660720</td>\n",
       "      <td>53</td>\n",
       "      <td>secondary education</td>\n",
       "      <td>1</td>\n",
       "      <td>civil partnership</td>\n",
       "      <td>1</td>\n",
       "      <td>F</td>\n",
       "      <td>retiree</td>\n",
       "      <td>0</td>\n",
       "      <td>25378.572</td>\n",
       "      <td>to have a wedding</td>\n",
       "      <td>50-59</td>\n",
       "    </tr>\n",
       "    <tr>\n",
       "      <td>...</td>\n",
       "      <td>...</td>\n",
       "      <td>...</td>\n",
       "      <td>...</td>\n",
       "      <td>...</td>\n",
       "      <td>...</td>\n",
       "      <td>...</td>\n",
       "      <td>...</td>\n",
       "      <td>...</td>\n",
       "      <td>...</td>\n",
       "      <td>...</td>\n",
       "      <td>...</td>\n",
       "      <td>...</td>\n",
       "      <td>...</td>\n",
       "    </tr>\n",
       "    <tr>\n",
       "      <td>21520</td>\n",
       "      <td>1</td>\n",
       "      <td>4529.316663</td>\n",
       "      <td>43</td>\n",
       "      <td>secondary education</td>\n",
       "      <td>1</td>\n",
       "      <td>civil partnership</td>\n",
       "      <td>1</td>\n",
       "      <td>F</td>\n",
       "      <td>business</td>\n",
       "      <td>0</td>\n",
       "      <td>35966.698</td>\n",
       "      <td>housing transactions</td>\n",
       "      <td>40-49</td>\n",
       "    </tr>\n",
       "    <tr>\n",
       "      <td>21521</td>\n",
       "      <td>0</td>\n",
       "      <td>3439.374041</td>\n",
       "      <td>67</td>\n",
       "      <td>secondary education</td>\n",
       "      <td>1</td>\n",
       "      <td>married</td>\n",
       "      <td>0</td>\n",
       "      <td>F</td>\n",
       "      <td>retiree</td>\n",
       "      <td>0</td>\n",
       "      <td>24959.969</td>\n",
       "      <td>purchase of a car</td>\n",
       "      <td>60-69</td>\n",
       "    </tr>\n",
       "    <tr>\n",
       "      <td>21522</td>\n",
       "      <td>1</td>\n",
       "      <td>2113.346888</td>\n",
       "      <td>38</td>\n",
       "      <td>secondary education</td>\n",
       "      <td>1</td>\n",
       "      <td>civil partnership</td>\n",
       "      <td>1</td>\n",
       "      <td>M</td>\n",
       "      <td>employee</td>\n",
       "      <td>1</td>\n",
       "      <td>14347.610</td>\n",
       "      <td>property</td>\n",
       "      <td>30-39</td>\n",
       "    </tr>\n",
       "    <tr>\n",
       "      <td>21523</td>\n",
       "      <td>3</td>\n",
       "      <td>3112.481705</td>\n",
       "      <td>38</td>\n",
       "      <td>secondary education</td>\n",
       "      <td>1</td>\n",
       "      <td>married</td>\n",
       "      <td>0</td>\n",
       "      <td>M</td>\n",
       "      <td>employee</td>\n",
       "      <td>1</td>\n",
       "      <td>39054.888</td>\n",
       "      <td>buying my own car</td>\n",
       "      <td>30-39</td>\n",
       "    </tr>\n",
       "    <tr>\n",
       "      <td>21524</td>\n",
       "      <td>2</td>\n",
       "      <td>1984.507589</td>\n",
       "      <td>40</td>\n",
       "      <td>secondary education</td>\n",
       "      <td>1</td>\n",
       "      <td>married</td>\n",
       "      <td>0</td>\n",
       "      <td>F</td>\n",
       "      <td>employee</td>\n",
       "      <td>0</td>\n",
       "      <td>13127.587</td>\n",
       "      <td>to buy a car</td>\n",
       "      <td>40-49</td>\n",
       "    </tr>\n",
       "  </tbody>\n",
       "</table>\n",
       "<p>21231 rows × 13 columns</p>\n",
       "</div>"
      ],
      "text/plain": [
       "       children  days_employed  dob_years            education  education_id  \\\n",
       "0             1    8437.673028         42    bachelor's degree             0   \n",
       "1             1    4024.803754         36  secondary education             1   \n",
       "2             0    5623.422610         33  secondary education             1   \n",
       "3             3    4124.747207         32  secondary education             1   \n",
       "4             0    3402.660720         53  secondary education             1   \n",
       "...         ...            ...        ...                  ...           ...   \n",
       "21520         1    4529.316663         43  secondary education             1   \n",
       "21521         0    3439.374041         67  secondary education             1   \n",
       "21522         1    2113.346888         38  secondary education             1   \n",
       "21523         3    3112.481705         38  secondary education             1   \n",
       "21524         2    1984.507589         40  secondary education             1   \n",
       "\n",
       "           family_status  family_status_id gender income_type  debt  \\\n",
       "0                married                 0      F    employee     0   \n",
       "1                married                 0      F    employee     0   \n",
       "2                married                 0      M    employee     0   \n",
       "3                married                 0      M    employee     0   \n",
       "4      civil partnership                 1      F     retiree     0   \n",
       "...                  ...               ...    ...         ...   ...   \n",
       "21520  civil partnership                 1      F    business     0   \n",
       "21521            married                 0      F     retiree     0   \n",
       "21522  civil partnership                 1      M    employee     1   \n",
       "21523            married                 0      M    employee     1   \n",
       "21524            married                 0      F    employee     0   \n",
       "\n",
       "       total_income                  purpose age_group  \n",
       "0         40620.102    purchase of the house     40-49  \n",
       "1         17932.802             car purchase     30-39  \n",
       "2         23341.752    purchase of the house     30-39  \n",
       "3         42820.568  supplementary education     30-39  \n",
       "4         25378.572        to have a wedding     50-59  \n",
       "...             ...                      ...       ...  \n",
       "21520     35966.698     housing transactions     40-49  \n",
       "21521     24959.969        purchase of a car     60-69  \n",
       "21522     14347.610                 property     30-39  \n",
       "21523     39054.888        buying my own car     30-39  \n",
       "21524     13127.587             to buy a car     40-49  \n",
       "\n",
       "[21231 rows x 13 columns]"
      ]
     },
     "execution_count": 46,
     "metadata": {},
     "output_type": "execute_result"
    }
   ],
   "source": [
    "# Apply function\n",
    "\n",
    "data['days_employed'] = data.groupby('age_group')['days_employed'].transform(lambda x: x.fillna(x.median()))\n",
    "data"
   ]
  },
  {
   "cell_type": "code",
   "execution_count": 47,
   "metadata": {},
   "outputs": [
    {
     "data": {
      "text/plain": [
       "False    21231\n",
       "Name: days_employed, dtype: int64"
      ]
     },
     "execution_count": 47,
     "metadata": {},
     "output_type": "execute_result"
    }
   ],
   "source": [
    "# Check if function worked\n",
    "\n",
    "data['days_employed'].isna().value_counts()"
   ]
  },
  {
   "cell_type": "markdown",
   "metadata": {},
   "source": [
    "## Categorization of data\n",
    "\n",
    "Now we should categorize the data, where necessary, to make analysis simpler.\n",
    "\n",
    "Most notably, we should have as few entries in the \"purpose\" column as we can, within reason. From the exposure of loans we can get from a quick glance over portions of the data, house purchases, car purchase, real estate, wedding, and education are the most common purposes given.\n",
    "\n",
    "The numerical data of the total income is also useful to categorize. If we wished to do something such as create a linear model, it would be fine to work with the data as-is. However, we are simply looking for correlations and patterns. We will get an immense amount of unique points if we do that with our data set. Categorizing the numerical data is a quick solution."
   ]
  },
  {
   "cell_type": "code",
   "execution_count": 48,
   "metadata": {
    "scrolled": true
   },
   "outputs": [
    {
     "data": {
      "text/plain": [
       "array(['purchase of the house', 'car purchase', 'supplementary education',\n",
       "       'to have a wedding', 'housing transactions', 'education',\n",
       "       'having a wedding', 'purchase of the house for my family',\n",
       "       'buy real estate', 'buy commercial real estate',\n",
       "       'buy residential real estate', 'construction of own property',\n",
       "       'property', 'building a property', 'buying a second-hand car',\n",
       "       'buying my own car', 'transactions with commercial real estate',\n",
       "       'building a real estate', 'housing',\n",
       "       'transactions with my real estate', 'cars', 'to become educated',\n",
       "       'second-hand car purchase', 'getting an education', 'car',\n",
       "       'wedding ceremony', 'to get a supplementary education',\n",
       "       'purchase of my own house', 'real estate transactions',\n",
       "       'getting higher education', 'to own a car', 'purchase of a car',\n",
       "       'profile education', 'university education',\n",
       "       'buying property for renting out', 'to buy a car',\n",
       "       'housing renovation', 'going to university'], dtype=object)"
      ]
     },
     "execution_count": 48,
     "metadata": {},
     "output_type": "execute_result"
    }
   ],
   "source": [
    "# Print the values for your selected data for categorization\n",
    "data['purpose'].unique()"
   ]
  },
  {
   "cell_type": "markdown",
   "metadata": {},
   "source": [
    "These include a few things that might be a bit different, such as \"renovation\". To get a better idea of if renovation might be better to include in an \"other\" section, if there are some that have a small number of entries."
   ]
  },
  {
   "cell_type": "code",
   "execution_count": 49,
   "metadata": {},
   "outputs": [
    {
     "data": {
      "text/plain": [
       "wedding ceremony                            785\n",
       "having a wedding                            759\n",
       "to have a wedding                           755\n",
       "real estate transactions                    669\n",
       "buy commercial real estate                  655\n",
       "buying property for renting out             647\n",
       "transactions with commercial real estate    643\n",
       "housing transactions                        641\n",
       "purchase of the house for my family         636\n",
       "housing                                     635\n",
       "purchase of the house                       634\n",
       "property                                    627\n",
       "construction of own property                626\n",
       "transactions with my real estate            623\n",
       "building a property                         619\n",
       "purchase of my own house                    618\n",
       "building a real estate                      617\n",
       "buy real estate                             613\n",
       "housing renovation                          602\n",
       "buy residential real estate                 599\n",
       "buying my own car                           501\n",
       "going to university                         493\n",
       "car                                         487\n",
       "second-hand car purchase                    479\n",
       "cars                                        474\n",
       "buying a second-hand car                    471\n",
       "to own a car                                470\n",
       "to buy a car                                465\n",
       "car purchase                                457\n",
       "purchase of a car                           454\n",
       "supplementary education                     453\n",
       "university education                        443\n",
       "to get a supplementary education            442\n",
       "education                                   439\n",
       "getting an education                        439\n",
       "profile education                           431\n",
       "getting higher education                    423\n",
       "to become educated                          407\n",
       "Name: purpose, dtype: int64"
      ]
     },
     "execution_count": 49,
     "metadata": {},
     "output_type": "execute_result"
    }
   ],
   "source": [
    "# Check the unique values\n",
    "data['purpose'].value_counts()"
   ]
  },
  {
   "cell_type": "markdown",
   "metadata": {},
   "source": [
    "In this group, we can see values that could be classed as:\n",
    "\n",
    "'wedding' ('wedding ceremony', 'having a wedding', 'to have a wedding')\n",
    "\n",
    "'house purchase' ('housing transactions', 'purchase of the house for my family', 'housing', 'purchase of the house', 'purchase of my own house')\n",
    "\n",
    "'real estate' ('real estate transactions', 'buy commercial real estate', 'transactions with commercial real estate', 'buy residential real estate', 'transactions with my real estate', 'buy real estate')\n",
    "\n",
    "'car purchase' ('buying my own car', 'car', 'second-hand car purchase', 'cars', 'buying a second-hand car', 'to own a car', 'to buy a car', 'car purchase', 'purchase of a car')\n",
    "\n",
    "'education' ('going to university', 'supplementary education', 'university education', 'to get a supplementary education', 'education', 'getting an education', 'profile education', 'getting higher education', 'to become educated')\n",
    "\n",
    "The remaining values are a little vague and could be in one of multiple categories depending on the details. I think that one clean-cut category would be 'construction / renovation' ('construction of own property', 'building a property', 'building a real estate', 'housing renovation'). Vague ones are 'buying property for renting out' and 'property' which could be under either 'house purchase' or 'real estate'.\n",
    "\n",
    "In this case, 'buying property for renting out' will be placed into 'real estate' and the 'property' will be put into 'house purchase'."
   ]
  },
  {
   "cell_type": "code",
   "execution_count": 50,
   "metadata": {},
   "outputs": [],
   "source": [
    "# Let's write a function to categorize the data based on common topics\n",
    "def categorize_data(x):\n",
    "    wedding = ['wedding ceremony', 'having a wedding', 'to have a wedding', 'wedding']\n",
    "    house_purchase = ['housing transactions', 'purchase of the house for my family', 'housing', 'purchase of the house', \n",
    "                      'purchase of my own house', 'property', 'house_purchase']\n",
    "    real_estate = ['real estate transactions', 'buy commercial real estate', 'transactions with commercial real estate', \n",
    "                   'buy residential real estate', 'transactions with my real estate', 'buy real estate', \n",
    "                   'buying property for renting out', 'real_estate']\n",
    "    car_purchase = ['buying my own car', 'car', 'second-hand car purchase', 'cars', 'buying a second-hand car', 'to own a car', \n",
    "                    'to buy a car', 'car purchase', 'purchase of a car', 'car_purchase']\n",
    "    education = ['going to university', 'supplementary education', 'university education', 'to get a supplementary education', \n",
    "                 'education', 'getting an education', 'profile education', 'getting higher education', 'to become educated']\n",
    "    construction_renovation = ['construction of own property', 'building a property', 'building a real estate', \n",
    "                               'housing renovation', 'construction_renovation']\n",
    "    if x['purpose'] in wedding:\n",
    "        return 'wedding'\n",
    "    if x['purpose'] in house_purchase:\n",
    "        return 'house_purchase'\n",
    "    if x['purpose'] in real_estate:\n",
    "        return 'real_estate'\n",
    "    if x['purpose'] in car_purchase:\n",
    "        return 'car_purchase'\n",
    "    if x['purpose'] in education:\n",
    "        return 'education'\n",
    "    if x['purpose'] in construction_renovation:\n",
    "        return 'construction_renovation'"
   ]
  },
  {
   "cell_type": "code",
   "execution_count": 51,
   "metadata": {},
   "outputs": [
    {
     "data": {
      "text/html": [
       "<div>\n",
       "<style scoped>\n",
       "    .dataframe tbody tr th:only-of-type {\n",
       "        vertical-align: middle;\n",
       "    }\n",
       "\n",
       "    .dataframe tbody tr th {\n",
       "        vertical-align: top;\n",
       "    }\n",
       "\n",
       "    .dataframe thead th {\n",
       "        text-align: right;\n",
       "    }\n",
       "</style>\n",
       "<table border=\"1\" class=\"dataframe\">\n",
       "  <thead>\n",
       "    <tr style=\"text-align: right;\">\n",
       "      <th></th>\n",
       "      <th>children</th>\n",
       "      <th>days_employed</th>\n",
       "      <th>dob_years</th>\n",
       "      <th>education</th>\n",
       "      <th>education_id</th>\n",
       "      <th>family_status</th>\n",
       "      <th>family_status_id</th>\n",
       "      <th>gender</th>\n",
       "      <th>income_type</th>\n",
       "      <th>debt</th>\n",
       "      <th>total_income</th>\n",
       "      <th>purpose</th>\n",
       "      <th>age_group</th>\n",
       "    </tr>\n",
       "  </thead>\n",
       "  <tbody>\n",
       "    <tr>\n",
       "      <td>0</td>\n",
       "      <td>1</td>\n",
       "      <td>8437.673028</td>\n",
       "      <td>42</td>\n",
       "      <td>bachelor's degree</td>\n",
       "      <td>0</td>\n",
       "      <td>married</td>\n",
       "      <td>0</td>\n",
       "      <td>F</td>\n",
       "      <td>employee</td>\n",
       "      <td>0</td>\n",
       "      <td>40620.102</td>\n",
       "      <td>house_purchase</td>\n",
       "      <td>40-49</td>\n",
       "    </tr>\n",
       "    <tr>\n",
       "      <td>1</td>\n",
       "      <td>1</td>\n",
       "      <td>4024.803754</td>\n",
       "      <td>36</td>\n",
       "      <td>secondary education</td>\n",
       "      <td>1</td>\n",
       "      <td>married</td>\n",
       "      <td>0</td>\n",
       "      <td>F</td>\n",
       "      <td>employee</td>\n",
       "      <td>0</td>\n",
       "      <td>17932.802</td>\n",
       "      <td>car_purchase</td>\n",
       "      <td>30-39</td>\n",
       "    </tr>\n",
       "    <tr>\n",
       "      <td>2</td>\n",
       "      <td>0</td>\n",
       "      <td>5623.422610</td>\n",
       "      <td>33</td>\n",
       "      <td>secondary education</td>\n",
       "      <td>1</td>\n",
       "      <td>married</td>\n",
       "      <td>0</td>\n",
       "      <td>M</td>\n",
       "      <td>employee</td>\n",
       "      <td>0</td>\n",
       "      <td>23341.752</td>\n",
       "      <td>house_purchase</td>\n",
       "      <td>30-39</td>\n",
       "    </tr>\n",
       "    <tr>\n",
       "      <td>3</td>\n",
       "      <td>3</td>\n",
       "      <td>4124.747207</td>\n",
       "      <td>32</td>\n",
       "      <td>secondary education</td>\n",
       "      <td>1</td>\n",
       "      <td>married</td>\n",
       "      <td>0</td>\n",
       "      <td>M</td>\n",
       "      <td>employee</td>\n",
       "      <td>0</td>\n",
       "      <td>42820.568</td>\n",
       "      <td>education</td>\n",
       "      <td>30-39</td>\n",
       "    </tr>\n",
       "    <tr>\n",
       "      <td>4</td>\n",
       "      <td>0</td>\n",
       "      <td>3402.660720</td>\n",
       "      <td>53</td>\n",
       "      <td>secondary education</td>\n",
       "      <td>1</td>\n",
       "      <td>civil partnership</td>\n",
       "      <td>1</td>\n",
       "      <td>F</td>\n",
       "      <td>retiree</td>\n",
       "      <td>0</td>\n",
       "      <td>25378.572</td>\n",
       "      <td>wedding</td>\n",
       "      <td>50-59</td>\n",
       "    </tr>\n",
       "    <tr>\n",
       "      <td>...</td>\n",
       "      <td>...</td>\n",
       "      <td>...</td>\n",
       "      <td>...</td>\n",
       "      <td>...</td>\n",
       "      <td>...</td>\n",
       "      <td>...</td>\n",
       "      <td>...</td>\n",
       "      <td>...</td>\n",
       "      <td>...</td>\n",
       "      <td>...</td>\n",
       "      <td>...</td>\n",
       "      <td>...</td>\n",
       "      <td>...</td>\n",
       "    </tr>\n",
       "    <tr>\n",
       "      <td>21520</td>\n",
       "      <td>1</td>\n",
       "      <td>4529.316663</td>\n",
       "      <td>43</td>\n",
       "      <td>secondary education</td>\n",
       "      <td>1</td>\n",
       "      <td>civil partnership</td>\n",
       "      <td>1</td>\n",
       "      <td>F</td>\n",
       "      <td>business</td>\n",
       "      <td>0</td>\n",
       "      <td>35966.698</td>\n",
       "      <td>house_purchase</td>\n",
       "      <td>40-49</td>\n",
       "    </tr>\n",
       "    <tr>\n",
       "      <td>21521</td>\n",
       "      <td>0</td>\n",
       "      <td>3439.374041</td>\n",
       "      <td>67</td>\n",
       "      <td>secondary education</td>\n",
       "      <td>1</td>\n",
       "      <td>married</td>\n",
       "      <td>0</td>\n",
       "      <td>F</td>\n",
       "      <td>retiree</td>\n",
       "      <td>0</td>\n",
       "      <td>24959.969</td>\n",
       "      <td>car_purchase</td>\n",
       "      <td>60-69</td>\n",
       "    </tr>\n",
       "    <tr>\n",
       "      <td>21522</td>\n",
       "      <td>1</td>\n",
       "      <td>2113.346888</td>\n",
       "      <td>38</td>\n",
       "      <td>secondary education</td>\n",
       "      <td>1</td>\n",
       "      <td>civil partnership</td>\n",
       "      <td>1</td>\n",
       "      <td>M</td>\n",
       "      <td>employee</td>\n",
       "      <td>1</td>\n",
       "      <td>14347.610</td>\n",
       "      <td>house_purchase</td>\n",
       "      <td>30-39</td>\n",
       "    </tr>\n",
       "    <tr>\n",
       "      <td>21523</td>\n",
       "      <td>3</td>\n",
       "      <td>3112.481705</td>\n",
       "      <td>38</td>\n",
       "      <td>secondary education</td>\n",
       "      <td>1</td>\n",
       "      <td>married</td>\n",
       "      <td>0</td>\n",
       "      <td>M</td>\n",
       "      <td>employee</td>\n",
       "      <td>1</td>\n",
       "      <td>39054.888</td>\n",
       "      <td>car_purchase</td>\n",
       "      <td>30-39</td>\n",
       "    </tr>\n",
       "    <tr>\n",
       "      <td>21524</td>\n",
       "      <td>2</td>\n",
       "      <td>1984.507589</td>\n",
       "      <td>40</td>\n",
       "      <td>secondary education</td>\n",
       "      <td>1</td>\n",
       "      <td>married</td>\n",
       "      <td>0</td>\n",
       "      <td>F</td>\n",
       "      <td>employee</td>\n",
       "      <td>0</td>\n",
       "      <td>13127.587</td>\n",
       "      <td>car_purchase</td>\n",
       "      <td>40-49</td>\n",
       "    </tr>\n",
       "  </tbody>\n",
       "</table>\n",
       "<p>21231 rows × 13 columns</p>\n",
       "</div>"
      ],
      "text/plain": [
       "       children  days_employed  dob_years            education  education_id  \\\n",
       "0             1    8437.673028         42    bachelor's degree             0   \n",
       "1             1    4024.803754         36  secondary education             1   \n",
       "2             0    5623.422610         33  secondary education             1   \n",
       "3             3    4124.747207         32  secondary education             1   \n",
       "4             0    3402.660720         53  secondary education             1   \n",
       "...         ...            ...        ...                  ...           ...   \n",
       "21520         1    4529.316663         43  secondary education             1   \n",
       "21521         0    3439.374041         67  secondary education             1   \n",
       "21522         1    2113.346888         38  secondary education             1   \n",
       "21523         3    3112.481705         38  secondary education             1   \n",
       "21524         2    1984.507589         40  secondary education             1   \n",
       "\n",
       "           family_status  family_status_id gender income_type  debt  \\\n",
       "0                married                 0      F    employee     0   \n",
       "1                married                 0      F    employee     0   \n",
       "2                married                 0      M    employee     0   \n",
       "3                married                 0      M    employee     0   \n",
       "4      civil partnership                 1      F     retiree     0   \n",
       "...                  ...               ...    ...         ...   ...   \n",
       "21520  civil partnership                 1      F    business     0   \n",
       "21521            married                 0      F     retiree     0   \n",
       "21522  civil partnership                 1      M    employee     1   \n",
       "21523            married                 0      M    employee     1   \n",
       "21524            married                 0      F    employee     0   \n",
       "\n",
       "       total_income         purpose age_group  \n",
       "0         40620.102  house_purchase     40-49  \n",
       "1         17932.802    car_purchase     30-39  \n",
       "2         23341.752  house_purchase     30-39  \n",
       "3         42820.568       education     30-39  \n",
       "4         25378.572         wedding     50-59  \n",
       "...             ...             ...       ...  \n",
       "21520     35966.698  house_purchase     40-49  \n",
       "21521     24959.969    car_purchase     60-69  \n",
       "21522     14347.610  house_purchase     30-39  \n",
       "21523     39054.888    car_purchase     30-39  \n",
       "21524     13127.587    car_purchase     40-49  \n",
       "\n",
       "[21231 rows x 13 columns]"
      ]
     },
     "execution_count": 51,
     "metadata": {},
     "output_type": "execute_result"
    }
   ],
   "source": [
    "# Create a column with the categories and count the values for them\n",
    "\n",
    "data['purpose'] = data.apply(categorize_data, axis = 1)\n",
    "data"
   ]
  },
  {
   "cell_type": "markdown",
   "metadata": {},
   "source": [
    "Since we are going to be doing some simple descriptive statistics, categorizing the numerical data will make it more easy to read. If we wish to do more in-depth statistics such as linear regression, keeping the numerical data would be required but for the current purpose it is better to make categories.\n",
    "\n",
    "We are not working with days_employed, but if we were then categorizing that would be something to do. Instead, 'total_income' is the variable we should categorize by separating it into groups. Most likely a good way to separate would be in sets of 10,000 but based on the appearance of the data it might be better to do it in a different way. We shall check what the total_income data looks like to determine how to categorize."
   ]
  },
  {
   "cell_type": "code",
   "execution_count": 52,
   "metadata": {},
   "outputs": [
    {
     "data": {
      "text/plain": [
       "count     21231.000000\n",
       "mean      26477.600107\n",
       "std       15748.933187\n",
       "min        3306.762000\n",
       "25%       17197.758500\n",
       "50%       23001.785000\n",
       "75%       31329.465500\n",
       "max      362496.645000\n",
       "Name: total_income, dtype: float64"
      ]
     },
     "execution_count": 52,
     "metadata": {},
     "output_type": "execute_result"
    }
   ],
   "source": [
    "# Looking through all the numerical data in your selected column for categorization\n",
    "data['total_income'].describe()"
   ]
  },
  {
   "cell_type": "markdown",
   "metadata": {},
   "source": [
    "It is clear here that there are some extremely high outliers in this column. The max is over 10 times higher than the third quartile. Based on the median and the standard deviation, 95% of all the data falls between 3306.762000 (the minimum on the entire data set) and 54499.651374. So rather than groups of 10,000, we could get more robust analysis if we split in sets of 5,000. This will give us 95% of our data in 11 groups, which will be useful to scan for patterns."
   ]
  },
  {
   "cell_type": "code",
   "execution_count": 53,
   "metadata": {},
   "outputs": [
    {
     "data": {
      "text/html": [
       "<div>\n",
       "<style scoped>\n",
       "    .dataframe tbody tr th:only-of-type {\n",
       "        vertical-align: middle;\n",
       "    }\n",
       "\n",
       "    .dataframe tbody tr th {\n",
       "        vertical-align: top;\n",
       "    }\n",
       "\n",
       "    .dataframe thead th {\n",
       "        text-align: right;\n",
       "    }\n",
       "</style>\n",
       "<table border=\"1\" class=\"dataframe\">\n",
       "  <thead>\n",
       "    <tr style=\"text-align: right;\">\n",
       "      <th></th>\n",
       "      <th>children</th>\n",
       "      <th>days_employed</th>\n",
       "      <th>dob_years</th>\n",
       "      <th>education</th>\n",
       "      <th>education_id</th>\n",
       "      <th>family_status</th>\n",
       "      <th>family_status_id</th>\n",
       "      <th>gender</th>\n",
       "      <th>income_type</th>\n",
       "      <th>debt</th>\n",
       "      <th>total_income</th>\n",
       "      <th>purpose</th>\n",
       "      <th>age_group</th>\n",
       "      <th>income_rank</th>\n",
       "    </tr>\n",
       "  </thead>\n",
       "  <tbody>\n",
       "    <tr>\n",
       "      <td>0</td>\n",
       "      <td>1</td>\n",
       "      <td>8437.673028</td>\n",
       "      <td>42</td>\n",
       "      <td>bachelor's degree</td>\n",
       "      <td>0</td>\n",
       "      <td>married</td>\n",
       "      <td>0</td>\n",
       "      <td>F</td>\n",
       "      <td>employee</td>\n",
       "      <td>0</td>\n",
       "      <td>40620.102</td>\n",
       "      <td>house_purchase</td>\n",
       "      <td>40-49</td>\n",
       "      <td>8.0</td>\n",
       "    </tr>\n",
       "    <tr>\n",
       "      <td>1</td>\n",
       "      <td>1</td>\n",
       "      <td>4024.803754</td>\n",
       "      <td>36</td>\n",
       "      <td>secondary education</td>\n",
       "      <td>1</td>\n",
       "      <td>married</td>\n",
       "      <td>0</td>\n",
       "      <td>F</td>\n",
       "      <td>employee</td>\n",
       "      <td>0</td>\n",
       "      <td>17932.802</td>\n",
       "      <td>car_purchase</td>\n",
       "      <td>30-39</td>\n",
       "      <td>4.0</td>\n",
       "    </tr>\n",
       "    <tr>\n",
       "      <td>2</td>\n",
       "      <td>0</td>\n",
       "      <td>5623.422610</td>\n",
       "      <td>33</td>\n",
       "      <td>secondary education</td>\n",
       "      <td>1</td>\n",
       "      <td>married</td>\n",
       "      <td>0</td>\n",
       "      <td>M</td>\n",
       "      <td>employee</td>\n",
       "      <td>0</td>\n",
       "      <td>23341.752</td>\n",
       "      <td>house_purchase</td>\n",
       "      <td>30-39</td>\n",
       "      <td>5.0</td>\n",
       "    </tr>\n",
       "    <tr>\n",
       "      <td>3</td>\n",
       "      <td>3</td>\n",
       "      <td>4124.747207</td>\n",
       "      <td>32</td>\n",
       "      <td>secondary education</td>\n",
       "      <td>1</td>\n",
       "      <td>married</td>\n",
       "      <td>0</td>\n",
       "      <td>M</td>\n",
       "      <td>employee</td>\n",
       "      <td>0</td>\n",
       "      <td>42820.568</td>\n",
       "      <td>education</td>\n",
       "      <td>30-39</td>\n",
       "      <td>9.0</td>\n",
       "    </tr>\n",
       "    <tr>\n",
       "      <td>4</td>\n",
       "      <td>0</td>\n",
       "      <td>3402.660720</td>\n",
       "      <td>53</td>\n",
       "      <td>secondary education</td>\n",
       "      <td>1</td>\n",
       "      <td>civil partnership</td>\n",
       "      <td>1</td>\n",
       "      <td>F</td>\n",
       "      <td>retiree</td>\n",
       "      <td>0</td>\n",
       "      <td>25378.572</td>\n",
       "      <td>wedding</td>\n",
       "      <td>50-59</td>\n",
       "      <td>5.0</td>\n",
       "    </tr>\n",
       "    <tr>\n",
       "      <td>...</td>\n",
       "      <td>...</td>\n",
       "      <td>...</td>\n",
       "      <td>...</td>\n",
       "      <td>...</td>\n",
       "      <td>...</td>\n",
       "      <td>...</td>\n",
       "      <td>...</td>\n",
       "      <td>...</td>\n",
       "      <td>...</td>\n",
       "      <td>...</td>\n",
       "      <td>...</td>\n",
       "      <td>...</td>\n",
       "      <td>...</td>\n",
       "      <td>...</td>\n",
       "    </tr>\n",
       "    <tr>\n",
       "      <td>21520</td>\n",
       "      <td>1</td>\n",
       "      <td>4529.316663</td>\n",
       "      <td>43</td>\n",
       "      <td>secondary education</td>\n",
       "      <td>1</td>\n",
       "      <td>civil partnership</td>\n",
       "      <td>1</td>\n",
       "      <td>F</td>\n",
       "      <td>business</td>\n",
       "      <td>0</td>\n",
       "      <td>35966.698</td>\n",
       "      <td>house_purchase</td>\n",
       "      <td>40-49</td>\n",
       "      <td>7.0</td>\n",
       "    </tr>\n",
       "    <tr>\n",
       "      <td>21521</td>\n",
       "      <td>0</td>\n",
       "      <td>3439.374041</td>\n",
       "      <td>67</td>\n",
       "      <td>secondary education</td>\n",
       "      <td>1</td>\n",
       "      <td>married</td>\n",
       "      <td>0</td>\n",
       "      <td>F</td>\n",
       "      <td>retiree</td>\n",
       "      <td>0</td>\n",
       "      <td>24959.969</td>\n",
       "      <td>car_purchase</td>\n",
       "      <td>60-69</td>\n",
       "      <td>5.0</td>\n",
       "    </tr>\n",
       "    <tr>\n",
       "      <td>21522</td>\n",
       "      <td>1</td>\n",
       "      <td>2113.346888</td>\n",
       "      <td>38</td>\n",
       "      <td>secondary education</td>\n",
       "      <td>1</td>\n",
       "      <td>civil partnership</td>\n",
       "      <td>1</td>\n",
       "      <td>M</td>\n",
       "      <td>employee</td>\n",
       "      <td>1</td>\n",
       "      <td>14347.610</td>\n",
       "      <td>house_purchase</td>\n",
       "      <td>30-39</td>\n",
       "      <td>3.0</td>\n",
       "    </tr>\n",
       "    <tr>\n",
       "      <td>21523</td>\n",
       "      <td>3</td>\n",
       "      <td>3112.481705</td>\n",
       "      <td>38</td>\n",
       "      <td>secondary education</td>\n",
       "      <td>1</td>\n",
       "      <td>married</td>\n",
       "      <td>0</td>\n",
       "      <td>M</td>\n",
       "      <td>employee</td>\n",
       "      <td>1</td>\n",
       "      <td>39054.888</td>\n",
       "      <td>car_purchase</td>\n",
       "      <td>30-39</td>\n",
       "      <td>8.0</td>\n",
       "    </tr>\n",
       "    <tr>\n",
       "      <td>21524</td>\n",
       "      <td>2</td>\n",
       "      <td>1984.507589</td>\n",
       "      <td>40</td>\n",
       "      <td>secondary education</td>\n",
       "      <td>1</td>\n",
       "      <td>married</td>\n",
       "      <td>0</td>\n",
       "      <td>F</td>\n",
       "      <td>employee</td>\n",
       "      <td>0</td>\n",
       "      <td>13127.587</td>\n",
       "      <td>car_purchase</td>\n",
       "      <td>40-49</td>\n",
       "      <td>3.0</td>\n",
       "    </tr>\n",
       "  </tbody>\n",
       "</table>\n",
       "<p>21231 rows × 14 columns</p>\n",
       "</div>"
      ],
      "text/plain": [
       "       children  days_employed  dob_years            education  education_id  \\\n",
       "0             1    8437.673028         42    bachelor's degree             0   \n",
       "1             1    4024.803754         36  secondary education             1   \n",
       "2             0    5623.422610         33  secondary education             1   \n",
       "3             3    4124.747207         32  secondary education             1   \n",
       "4             0    3402.660720         53  secondary education             1   \n",
       "...         ...            ...        ...                  ...           ...   \n",
       "21520         1    4529.316663         43  secondary education             1   \n",
       "21521         0    3439.374041         67  secondary education             1   \n",
       "21522         1    2113.346888         38  secondary education             1   \n",
       "21523         3    3112.481705         38  secondary education             1   \n",
       "21524         2    1984.507589         40  secondary education             1   \n",
       "\n",
       "           family_status  family_status_id gender income_type  debt  \\\n",
       "0                married                 0      F    employee     0   \n",
       "1                married                 0      F    employee     0   \n",
       "2                married                 0      M    employee     0   \n",
       "3                married                 0      M    employee     0   \n",
       "4      civil partnership                 1      F     retiree     0   \n",
       "...                  ...               ...    ...         ...   ...   \n",
       "21520  civil partnership                 1      F    business     0   \n",
       "21521            married                 0      F     retiree     0   \n",
       "21522  civil partnership                 1      M    employee     1   \n",
       "21523            married                 0      M    employee     1   \n",
       "21524            married                 0      F    employee     0   \n",
       "\n",
       "       total_income         purpose age_group  income_rank  \n",
       "0         40620.102  house_purchase     40-49          8.0  \n",
       "1         17932.802    car_purchase     30-39          4.0  \n",
       "2         23341.752  house_purchase     30-39          5.0  \n",
       "3         42820.568       education     30-39          9.0  \n",
       "4         25378.572         wedding     50-59          5.0  \n",
       "...             ...             ...       ...          ...  \n",
       "21520     35966.698  house_purchase     40-49          7.0  \n",
       "21521     24959.969    car_purchase     60-69          5.0  \n",
       "21522     14347.610  house_purchase     30-39          3.0  \n",
       "21523     39054.888    car_purchase     30-39          8.0  \n",
       "21524     13127.587    car_purchase     40-49          3.0  \n",
       "\n",
       "[21231 rows x 14 columns]"
      ]
     },
     "execution_count": 53,
     "metadata": {},
     "output_type": "execute_result"
    }
   ],
   "source": [
    "# Creating column with categories\n",
    "\n",
    "data['income_rank'] = round(data['total_income']/5000)\n",
    "data"
   ]
  },
  {
   "cell_type": "code",
   "execution_count": 54,
   "metadata": {
    "scrolled": true
   },
   "outputs": [
    {
     "data": {
      "text/plain": [
       "1.0      255\n",
       "2.0     1815\n",
       "3.0     3452\n",
       "4.0     4303\n",
       "5.0     3976\n",
       "6.0     2621\n",
       "7.0     1535\n",
       "8.0     1019\n",
       "9.0      741\n",
       "10.0     398\n",
       "11.0     330\n",
       "12.0     209\n",
       "13.0     151\n",
       "14.0     103\n",
       "15.0      72\n",
       "16.0      56\n",
       "17.0      40\n",
       "18.0      28\n",
       "19.0      20\n",
       "20.0      13\n",
       "21.0      17\n",
       "22.0      19\n",
       "23.0       8\n",
       "24.0       5\n",
       "25.0       2\n",
       "26.0       4\n",
       "27.0       5\n",
       "28.0       3\n",
       "29.0       3\n",
       "31.0       2\n",
       "32.0       3\n",
       "33.0       2\n",
       "34.0       1\n",
       "35.0       5\n",
       "36.0       1\n",
       "38.0       1\n",
       "39.0       1\n",
       "40.0       1\n",
       "41.0       2\n",
       "43.0       1\n",
       "46.0       1\n",
       "50.0       1\n",
       "51.0       1\n",
       "55.0       3\n",
       "70.0       1\n",
       "72.0       1\n",
       "Name: income_rank, dtype: int64"
      ]
     },
     "execution_count": 54,
     "metadata": {},
     "output_type": "execute_result"
    }
   ],
   "source": [
    "# Count each categories values to see the distribution\n",
    "data['income_rank'].value_counts().sort_index()"
   ]
  },
  {
   "cell_type": "markdown",
   "metadata": {},
   "source": [
    "We can see here that even though 95% of our data is in the first 11 groups, there are still quite a few entries in the next few groups. It doesn't begin to truly taper off until we approach around group 25 (125,000 income) but even then there are entries in most of the groups until 55 (income of 275,000) where it then jumps to group 70 (350,000).\n",
    "\n",
    "This makes sense, as not only are there fewer wealthy people in general, they also should be less likely to be applying for loans - at least, for the purposes that we see given in the data set."
   ]
  },
  {
   "cell_type": "markdown",
   "metadata": {},
   "source": [
    "## Checking the Hypotheses\n"
   ]
  },
  {
   "cell_type": "markdown",
   "metadata": {},
   "source": [
    "**Is there a correlation between having children and paying back on time?**"
   ]
  },
  {
   "cell_type": "code",
   "execution_count": 55,
   "metadata": {},
   "outputs": [
    {
     "name": "stdout",
     "output_type": "stream",
     "text": [
      "Correlation of 'debt' and 'children': 0.024958000127971815\n",
      "\n"
     ]
    },
    {
     "data": {
      "text/html": [
       "<div>\n",
       "<style scoped>\n",
       "    .dataframe tbody tr th:only-of-type {\n",
       "        vertical-align: middle;\n",
       "    }\n",
       "\n",
       "    .dataframe tbody tr th {\n",
       "        vertical-align: top;\n",
       "    }\n",
       "\n",
       "    .dataframe thead th {\n",
       "        text-align: right;\n",
       "    }\n",
       "</style>\n",
       "<table border=\"1\" class=\"dataframe\">\n",
       "  <thead>\n",
       "    <tr style=\"text-align: right;\">\n",
       "      <th>debt</th>\n",
       "      <th>0</th>\n",
       "      <th>1</th>\n",
       "      <th>All</th>\n",
       "    </tr>\n",
       "    <tr>\n",
       "      <th>children</th>\n",
       "      <th></th>\n",
       "      <th></th>\n",
       "      <th></th>\n",
       "    </tr>\n",
       "  </thead>\n",
       "  <tbody>\n",
       "    <tr>\n",
       "      <td>0</td>\n",
       "      <td>12964.0</td>\n",
       "      <td>1058.0</td>\n",
       "      <td>14022</td>\n",
       "    </tr>\n",
       "    <tr>\n",
       "      <td>1</td>\n",
       "      <td>4351.0</td>\n",
       "      <td>441.0</td>\n",
       "      <td>4792</td>\n",
       "    </tr>\n",
       "    <tr>\n",
       "      <td>2</td>\n",
       "      <td>1845.0</td>\n",
       "      <td>194.0</td>\n",
       "      <td>2039</td>\n",
       "    </tr>\n",
       "    <tr>\n",
       "      <td>3</td>\n",
       "      <td>301.0</td>\n",
       "      <td>27.0</td>\n",
       "      <td>328</td>\n",
       "    </tr>\n",
       "    <tr>\n",
       "      <td>4</td>\n",
       "      <td>37.0</td>\n",
       "      <td>4.0</td>\n",
       "      <td>41</td>\n",
       "    </tr>\n",
       "    <tr>\n",
       "      <td>5</td>\n",
       "      <td>9.0</td>\n",
       "      <td>NaN</td>\n",
       "      <td>9</td>\n",
       "    </tr>\n",
       "    <tr>\n",
       "      <td>All</td>\n",
       "      <td>19507.0</td>\n",
       "      <td>1724.0</td>\n",
       "      <td>21231</td>\n",
       "    </tr>\n",
       "  </tbody>\n",
       "</table>\n",
       "</div>"
      ],
      "text/plain": [
       "debt            0       1    All\n",
       "children                        \n",
       "0         12964.0  1058.0  14022\n",
       "1          4351.0   441.0   4792\n",
       "2          1845.0   194.0   2039\n",
       "3           301.0    27.0    328\n",
       "4            37.0     4.0     41\n",
       "5             9.0     NaN      9\n",
       "All       19507.0  1724.0  21231"
      ]
     },
     "execution_count": 55,
     "metadata": {},
     "output_type": "execute_result"
    }
   ],
   "source": [
    "# Check the children data and paying back on time\n",
    "\n",
    "print(\"Correlation of 'debt' and 'children':\", data['debt'].corr(data['children']), end='\\n\\n')\n",
    "\n",
    "# Calculating default-rate based on the number of children\n",
    "\n",
    "pd.pivot_table(data, columns='debt', values='gender', index='children', aggfunc='count', margins=True)"
   ]
  },
  {
   "cell_type": "markdown",
   "metadata": {},
   "source": [
    "**Conclusion**\n",
    "\n",
    "Checking a pivot table for purely checking the rate of defaulting in each group in the \"children\" value, we see fairly consistent values. In order of 0 to 5 children, the percent of loans that were not paid back on time are as follows: 7.5453%, 9.2028%, 9.5145%, 8.2317%, 9.7561%, 0%.\n",
    "\n",
    "Disregarding the 0% for 5 children, as the sample size was obviously too small, we see that there is a slightly higher rate of defaulting for those with children, but it is very close to the rate of those without children.\n",
    "\n",
    "Running a simple correlation algorithm, we receive a value of approximately 0.02496 between \"debt\" and \"children\". This means that there is almost no correlation between the number of children in a family and their ability to pay back a loan."
   ]
  },
  {
   "cell_type": "markdown",
   "metadata": {},
   "source": [
    "**Is there a correlation between family status and paying back on time?**"
   ]
  },
  {
   "cell_type": "code",
   "execution_count": 56,
   "metadata": {},
   "outputs": [
    {
     "name": "stdout",
     "output_type": "stream",
     "text": [
      "Correlation of 'debt' and 'family_status_id': 0.020530792656592012\n",
      "\n"
     ]
    },
    {
     "data": {
      "text/html": [
       "<div>\n",
       "<style scoped>\n",
       "    .dataframe tbody tr th:only-of-type {\n",
       "        vertical-align: middle;\n",
       "    }\n",
       "\n",
       "    .dataframe tbody tr th {\n",
       "        vertical-align: top;\n",
       "    }\n",
       "\n",
       "    .dataframe thead th {\n",
       "        text-align: right;\n",
       "    }\n",
       "</style>\n",
       "<table border=\"1\" class=\"dataframe\">\n",
       "  <thead>\n",
       "    <tr style=\"text-align: right;\">\n",
       "      <th>debt</th>\n",
       "      <th>0</th>\n",
       "      <th>1</th>\n",
       "      <th>All</th>\n",
       "    </tr>\n",
       "    <tr>\n",
       "      <th>family_status</th>\n",
       "      <th></th>\n",
       "      <th></th>\n",
       "      <th></th>\n",
       "    </tr>\n",
       "  </thead>\n",
       "  <tbody>\n",
       "    <tr>\n",
       "      <td>civil partnership</td>\n",
       "      <td>3730</td>\n",
       "      <td>383</td>\n",
       "      <td>4113</td>\n",
       "    </tr>\n",
       "    <tr>\n",
       "      <td>divorced</td>\n",
       "      <td>1095</td>\n",
       "      <td>84</td>\n",
       "      <td>1179</td>\n",
       "    </tr>\n",
       "    <tr>\n",
       "      <td>married</td>\n",
       "      <td>11290</td>\n",
       "      <td>923</td>\n",
       "      <td>12213</td>\n",
       "    </tr>\n",
       "    <tr>\n",
       "      <td>unmarried</td>\n",
       "      <td>2508</td>\n",
       "      <td>272</td>\n",
       "      <td>2780</td>\n",
       "    </tr>\n",
       "    <tr>\n",
       "      <td>widow / widower</td>\n",
       "      <td>884</td>\n",
       "      <td>62</td>\n",
       "      <td>946</td>\n",
       "    </tr>\n",
       "    <tr>\n",
       "      <td>All</td>\n",
       "      <td>19507</td>\n",
       "      <td>1724</td>\n",
       "      <td>21231</td>\n",
       "    </tr>\n",
       "  </tbody>\n",
       "</table>\n",
       "</div>"
      ],
      "text/plain": [
       "debt                   0     1    All\n",
       "family_status                        \n",
       "civil partnership   3730   383   4113\n",
       "divorced            1095    84   1179\n",
       "married            11290   923  12213\n",
       "unmarried           2508   272   2780\n",
       "widow / widower      884    62    946\n",
       "All                19507  1724  21231"
      ]
     },
     "execution_count": 56,
     "metadata": {},
     "output_type": "execute_result"
    }
   ],
   "source": [
    "# Check the family status data and paying back on time\n",
    "\n",
    "print(\"Correlation of 'debt' and 'family_status_id':\", data['debt'].corr(data['family_status_id']), end='\\n\\n')\n",
    "\n",
    "# Calculating default-rate based on family status\n",
    "\n",
    "pd.pivot_table(data, columns='debt', values='gender', index='family_status', aggfunc='count', margins=True)"
   ]
  },
  {
   "cell_type": "markdown",
   "metadata": {},
   "source": [
    "**Conclusion**\n",
    "\n",
    "The rates of defaulting on the loan based on family status are as follows: Unmarried = 9.7842%, Civil Partnership = 9.3119%, Married = 7.5575%, Divorced = 7.1247%, Widow/widower = 6.5539% with a total rate of 8.1202%, and a correlation rate of 0.0205 (another case of almost no correlation). These numbers look similar to the previous ones, although they are a little lower.\n",
    "\n",
    "It does not appear that there is a large correlation between the family status and paying a loan back on time. Analyzing the family status along with the number of children, though, is something that should be examined. As we can see, there is a low rate of defaulting among married couples (and, oddly, divorcees and widows/widowers have even lower rates, when one would think that given their general lower income that they should be more likely to be unable to repay a loan).\n",
    "\n",
    "This seems a little odd if we consider that, based on children = 0 having the highest rate of paying back loans, we would expect unmarried people to not have the highest rate of defaulting. It may be in our best interest to examine how the two interact."
   ]
  },
  {
   "cell_type": "code",
   "execution_count": 57,
   "metadata": {},
   "outputs": [
    {
     "data": {
      "text/html": [
       "<div>\n",
       "<style scoped>\n",
       "    .dataframe tbody tr th:only-of-type {\n",
       "        vertical-align: middle;\n",
       "    }\n",
       "\n",
       "    .dataframe tbody tr th {\n",
       "        vertical-align: top;\n",
       "    }\n",
       "\n",
       "    .dataframe thead th {\n",
       "        text-align: right;\n",
       "    }\n",
       "</style>\n",
       "<table border=\"1\" class=\"dataframe\">\n",
       "  <thead>\n",
       "    <tr style=\"text-align: right;\">\n",
       "      <th></th>\n",
       "      <th>debt</th>\n",
       "      <th>0</th>\n",
       "      <th>1</th>\n",
       "      <th>All</th>\n",
       "    </tr>\n",
       "    <tr>\n",
       "      <th>family_status</th>\n",
       "      <th>children</th>\n",
       "      <th></th>\n",
       "      <th></th>\n",
       "      <th></th>\n",
       "    </tr>\n",
       "  </thead>\n",
       "  <tbody>\n",
       "    <tr>\n",
       "      <td rowspan=\"6\" valign=\"top\">civil partnership</td>\n",
       "      <td>0</td>\n",
       "      <td>2490.0</td>\n",
       "      <td>227.0</td>\n",
       "      <td>2717</td>\n",
       "    </tr>\n",
       "    <tr>\n",
       "      <td>1</td>\n",
       "      <td>871.0</td>\n",
       "      <td>118.0</td>\n",
       "      <td>989</td>\n",
       "    </tr>\n",
       "    <tr>\n",
       "      <td>2</td>\n",
       "      <td>311.0</td>\n",
       "      <td>30.0</td>\n",
       "      <td>341</td>\n",
       "    </tr>\n",
       "    <tr>\n",
       "      <td>3</td>\n",
       "      <td>48.0</td>\n",
       "      <td>8.0</td>\n",
       "      <td>56</td>\n",
       "    </tr>\n",
       "    <tr>\n",
       "      <td>4</td>\n",
       "      <td>8.0</td>\n",
       "      <td>NaN</td>\n",
       "      <td>8</td>\n",
       "    </tr>\n",
       "    <tr>\n",
       "      <td>5</td>\n",
       "      <td>2.0</td>\n",
       "      <td>NaN</td>\n",
       "      <td>2</td>\n",
       "    </tr>\n",
       "    <tr>\n",
       "      <td rowspan=\"5\" valign=\"top\">divorced</td>\n",
       "      <td>0</td>\n",
       "      <td>722.0</td>\n",
       "      <td>55.0</td>\n",
       "      <td>777</td>\n",
       "    </tr>\n",
       "    <tr>\n",
       "      <td>1</td>\n",
       "      <td>290.0</td>\n",
       "      <td>21.0</td>\n",
       "      <td>311</td>\n",
       "    </tr>\n",
       "    <tr>\n",
       "      <td>2</td>\n",
       "      <td>72.0</td>\n",
       "      <td>7.0</td>\n",
       "      <td>79</td>\n",
       "    </tr>\n",
       "    <tr>\n",
       "      <td>3</td>\n",
       "      <td>10.0</td>\n",
       "      <td>1.0</td>\n",
       "      <td>11</td>\n",
       "    </tr>\n",
       "    <tr>\n",
       "      <td>4</td>\n",
       "      <td>1.0</td>\n",
       "      <td>NaN</td>\n",
       "      <td>1</td>\n",
       "    </tr>\n",
       "    <tr>\n",
       "      <td rowspan=\"6\" valign=\"top\">married</td>\n",
       "      <td>0</td>\n",
       "      <td>6923.0</td>\n",
       "      <td>514.0</td>\n",
       "      <td>7437</td>\n",
       "    </tr>\n",
       "    <tr>\n",
       "      <td>1</td>\n",
       "      <td>2724.0</td>\n",
       "      <td>244.0</td>\n",
       "      <td>2968</td>\n",
       "    </tr>\n",
       "    <tr>\n",
       "      <td>2</td>\n",
       "      <td>1380.0</td>\n",
       "      <td>145.0</td>\n",
       "      <td>1525</td>\n",
       "    </tr>\n",
       "    <tr>\n",
       "      <td>3</td>\n",
       "      <td>230.0</td>\n",
       "      <td>17.0</td>\n",
       "      <td>247</td>\n",
       "    </tr>\n",
       "    <tr>\n",
       "      <td>4</td>\n",
       "      <td>26.0</td>\n",
       "      <td>3.0</td>\n",
       "      <td>29</td>\n",
       "    </tr>\n",
       "    <tr>\n",
       "      <td>5</td>\n",
       "      <td>7.0</td>\n",
       "      <td>NaN</td>\n",
       "      <td>7</td>\n",
       "    </tr>\n",
       "    <tr>\n",
       "      <td rowspan=\"5\" valign=\"top\">unmarried</td>\n",
       "      <td>0</td>\n",
       "      <td>2039.0</td>\n",
       "      <td>210.0</td>\n",
       "      <td>2249</td>\n",
       "    </tr>\n",
       "    <tr>\n",
       "      <td>1</td>\n",
       "      <td>396.0</td>\n",
       "      <td>51.0</td>\n",
       "      <td>447</td>\n",
       "    </tr>\n",
       "    <tr>\n",
       "      <td>2</td>\n",
       "      <td>65.0</td>\n",
       "      <td>9.0</td>\n",
       "      <td>74</td>\n",
       "    </tr>\n",
       "    <tr>\n",
       "      <td>3</td>\n",
       "      <td>7.0</td>\n",
       "      <td>1.0</td>\n",
       "      <td>8</td>\n",
       "    </tr>\n",
       "    <tr>\n",
       "      <td>4</td>\n",
       "      <td>1.0</td>\n",
       "      <td>1.0</td>\n",
       "      <td>2</td>\n",
       "    </tr>\n",
       "    <tr>\n",
       "      <td rowspan=\"5\" valign=\"top\">widow / widower</td>\n",
       "      <td>0</td>\n",
       "      <td>790.0</td>\n",
       "      <td>52.0</td>\n",
       "      <td>842</td>\n",
       "    </tr>\n",
       "    <tr>\n",
       "      <td>1</td>\n",
       "      <td>70.0</td>\n",
       "      <td>7.0</td>\n",
       "      <td>77</td>\n",
       "    </tr>\n",
       "    <tr>\n",
       "      <td>2</td>\n",
       "      <td>17.0</td>\n",
       "      <td>3.0</td>\n",
       "      <td>20</td>\n",
       "    </tr>\n",
       "    <tr>\n",
       "      <td>3</td>\n",
       "      <td>6.0</td>\n",
       "      <td>NaN</td>\n",
       "      <td>6</td>\n",
       "    </tr>\n",
       "    <tr>\n",
       "      <td>4</td>\n",
       "      <td>1.0</td>\n",
       "      <td>NaN</td>\n",
       "      <td>1</td>\n",
       "    </tr>\n",
       "    <tr>\n",
       "      <td>All</td>\n",
       "      <td></td>\n",
       "      <td>19507.0</td>\n",
       "      <td>1724.0</td>\n",
       "      <td>21231</td>\n",
       "    </tr>\n",
       "  </tbody>\n",
       "</table>\n",
       "</div>"
      ],
      "text/plain": [
       "debt                              0       1    All\n",
       "family_status     children                        \n",
       "civil partnership 0          2490.0   227.0   2717\n",
       "                  1           871.0   118.0    989\n",
       "                  2           311.0    30.0    341\n",
       "                  3            48.0     8.0     56\n",
       "                  4             8.0     NaN      8\n",
       "                  5             2.0     NaN      2\n",
       "divorced          0           722.0    55.0    777\n",
       "                  1           290.0    21.0    311\n",
       "                  2            72.0     7.0     79\n",
       "                  3            10.0     1.0     11\n",
       "                  4             1.0     NaN      1\n",
       "married           0          6923.0   514.0   7437\n",
       "                  1          2724.0   244.0   2968\n",
       "                  2          1380.0   145.0   1525\n",
       "                  3           230.0    17.0    247\n",
       "                  4            26.0     3.0     29\n",
       "                  5             7.0     NaN      7\n",
       "unmarried         0          2039.0   210.0   2249\n",
       "                  1           396.0    51.0    447\n",
       "                  2            65.0     9.0     74\n",
       "                  3             7.0     1.0      8\n",
       "                  4             1.0     1.0      2\n",
       "widow / widower   0           790.0    52.0    842\n",
       "                  1            70.0     7.0     77\n",
       "                  2            17.0     3.0     20\n",
       "                  3             6.0     NaN      6\n",
       "                  4             1.0     NaN      1\n",
       "All                         19507.0  1724.0  21231"
      ]
     },
     "execution_count": 57,
     "metadata": {},
     "output_type": "execute_result"
    }
   ],
   "source": [
    "pd.pivot_table(data, columns='debt', values='gender', index=['family_status', 'children'], aggfunc='count', margins=True)"
   ]
  },
  {
   "cell_type": "markdown",
   "metadata": {},
   "source": [
    "This pivot table does contain a wider range of defaulting rates and does provide some logical results (such as married people having the lower rates of defaulting on loans) but largely it has only widened the gap, from around 7-9% to approximately 6-11% (with a couple of ratios reaching around 15% in data points with fewer observations). Splitting in this manner does seem to show a slightly higher correlation, but even so, it is rather minor."
   ]
  },
  {
   "cell_type": "markdown",
   "metadata": {},
   "source": [
    "**Is there a correlation between income level and paying back on time?**"
   ]
  },
  {
   "cell_type": "code",
   "execution_count": 58,
   "metadata": {},
   "outputs": [
    {
     "name": "stdout",
     "output_type": "stream",
     "text": [
      "Correlation of 'debt' and 'total_income': -0.013064282392381285\n",
      "Correlation of 'debt' and 'income_rank': -0.012824455029007956\n",
      "\n"
     ]
    },
    {
     "data": {
      "text/html": [
       "<div>\n",
       "<style scoped>\n",
       "    .dataframe tbody tr th:only-of-type {\n",
       "        vertical-align: middle;\n",
       "    }\n",
       "\n",
       "    .dataframe tbody tr th {\n",
       "        vertical-align: top;\n",
       "    }\n",
       "\n",
       "    .dataframe thead th {\n",
       "        text-align: right;\n",
       "    }\n",
       "</style>\n",
       "<table border=\"1\" class=\"dataframe\">\n",
       "  <thead>\n",
       "    <tr style=\"text-align: right;\">\n",
       "      <th>debt</th>\n",
       "      <th>0</th>\n",
       "      <th>1</th>\n",
       "      <th>All</th>\n",
       "    </tr>\n",
       "    <tr>\n",
       "      <th>income_rank</th>\n",
       "      <th></th>\n",
       "      <th></th>\n",
       "      <th></th>\n",
       "    </tr>\n",
       "  </thead>\n",
       "  <tbody>\n",
       "    <tr>\n",
       "      <td>1.0</td>\n",
       "      <td>238.0</td>\n",
       "      <td>17.0</td>\n",
       "      <td>255</td>\n",
       "    </tr>\n",
       "    <tr>\n",
       "      <td>2.0</td>\n",
       "      <td>1679.0</td>\n",
       "      <td>136.0</td>\n",
       "      <td>1815</td>\n",
       "    </tr>\n",
       "    <tr>\n",
       "      <td>3.0</td>\n",
       "      <td>3160.0</td>\n",
       "      <td>292.0</td>\n",
       "      <td>3452</td>\n",
       "    </tr>\n",
       "    <tr>\n",
       "      <td>4.0</td>\n",
       "      <td>3938.0</td>\n",
       "      <td>365.0</td>\n",
       "      <td>4303</td>\n",
       "    </tr>\n",
       "    <tr>\n",
       "      <td>5.0</td>\n",
       "      <td>3612.0</td>\n",
       "      <td>364.0</td>\n",
       "      <td>3976</td>\n",
       "    </tr>\n",
       "    <tr>\n",
       "      <td>6.0</td>\n",
       "      <td>2410.0</td>\n",
       "      <td>211.0</td>\n",
       "      <td>2621</td>\n",
       "    </tr>\n",
       "    <tr>\n",
       "      <td>7.0</td>\n",
       "      <td>1422.0</td>\n",
       "      <td>113.0</td>\n",
       "      <td>1535</td>\n",
       "    </tr>\n",
       "    <tr>\n",
       "      <td>8.0</td>\n",
       "      <td>950.0</td>\n",
       "      <td>69.0</td>\n",
       "      <td>1019</td>\n",
       "    </tr>\n",
       "    <tr>\n",
       "      <td>9.0</td>\n",
       "      <td>693.0</td>\n",
       "      <td>48.0</td>\n",
       "      <td>741</td>\n",
       "    </tr>\n",
       "    <tr>\n",
       "      <td>10.0</td>\n",
       "      <td>368.0</td>\n",
       "      <td>30.0</td>\n",
       "      <td>398</td>\n",
       "    </tr>\n",
       "    <tr>\n",
       "      <td>11.0</td>\n",
       "      <td>301.0</td>\n",
       "      <td>29.0</td>\n",
       "      <td>330</td>\n",
       "    </tr>\n",
       "    <tr>\n",
       "      <td>12.0</td>\n",
       "      <td>193.0</td>\n",
       "      <td>16.0</td>\n",
       "      <td>209</td>\n",
       "    </tr>\n",
       "    <tr>\n",
       "      <td>13.0</td>\n",
       "      <td>141.0</td>\n",
       "      <td>10.0</td>\n",
       "      <td>151</td>\n",
       "    </tr>\n",
       "    <tr>\n",
       "      <td>14.0</td>\n",
       "      <td>97.0</td>\n",
       "      <td>6.0</td>\n",
       "      <td>103</td>\n",
       "    </tr>\n",
       "    <tr>\n",
       "      <td>15.0</td>\n",
       "      <td>69.0</td>\n",
       "      <td>3.0</td>\n",
       "      <td>72</td>\n",
       "    </tr>\n",
       "    <tr>\n",
       "      <td>16.0</td>\n",
       "      <td>53.0</td>\n",
       "      <td>3.0</td>\n",
       "      <td>56</td>\n",
       "    </tr>\n",
       "    <tr>\n",
       "      <td>17.0</td>\n",
       "      <td>37.0</td>\n",
       "      <td>3.0</td>\n",
       "      <td>40</td>\n",
       "    </tr>\n",
       "    <tr>\n",
       "      <td>18.0</td>\n",
       "      <td>27.0</td>\n",
       "      <td>1.0</td>\n",
       "      <td>28</td>\n",
       "    </tr>\n",
       "    <tr>\n",
       "      <td>19.0</td>\n",
       "      <td>20.0</td>\n",
       "      <td>NaN</td>\n",
       "      <td>20</td>\n",
       "    </tr>\n",
       "    <tr>\n",
       "      <td>20.0</td>\n",
       "      <td>10.0</td>\n",
       "      <td>3.0</td>\n",
       "      <td>13</td>\n",
       "    </tr>\n",
       "    <tr>\n",
       "      <td>21.0</td>\n",
       "      <td>17.0</td>\n",
       "      <td>NaN</td>\n",
       "      <td>17</td>\n",
       "    </tr>\n",
       "    <tr>\n",
       "      <td>22.0</td>\n",
       "      <td>19.0</td>\n",
       "      <td>NaN</td>\n",
       "      <td>19</td>\n",
       "    </tr>\n",
       "    <tr>\n",
       "      <td>23.0</td>\n",
       "      <td>7.0</td>\n",
       "      <td>1.0</td>\n",
       "      <td>8</td>\n",
       "    </tr>\n",
       "    <tr>\n",
       "      <td>24.0</td>\n",
       "      <td>5.0</td>\n",
       "      <td>NaN</td>\n",
       "      <td>5</td>\n",
       "    </tr>\n",
       "    <tr>\n",
       "      <td>25.0</td>\n",
       "      <td>2.0</td>\n",
       "      <td>NaN</td>\n",
       "      <td>2</td>\n",
       "    </tr>\n",
       "    <tr>\n",
       "      <td>26.0</td>\n",
       "      <td>3.0</td>\n",
       "      <td>1.0</td>\n",
       "      <td>4</td>\n",
       "    </tr>\n",
       "    <tr>\n",
       "      <td>27.0</td>\n",
       "      <td>5.0</td>\n",
       "      <td>NaN</td>\n",
       "      <td>5</td>\n",
       "    </tr>\n",
       "    <tr>\n",
       "      <td>28.0</td>\n",
       "      <td>2.0</td>\n",
       "      <td>1.0</td>\n",
       "      <td>3</td>\n",
       "    </tr>\n",
       "    <tr>\n",
       "      <td>29.0</td>\n",
       "      <td>3.0</td>\n",
       "      <td>NaN</td>\n",
       "      <td>3</td>\n",
       "    </tr>\n",
       "    <tr>\n",
       "      <td>31.0</td>\n",
       "      <td>2.0</td>\n",
       "      <td>NaN</td>\n",
       "      <td>2</td>\n",
       "    </tr>\n",
       "    <tr>\n",
       "      <td>32.0</td>\n",
       "      <td>3.0</td>\n",
       "      <td>NaN</td>\n",
       "      <td>3</td>\n",
       "    </tr>\n",
       "    <tr>\n",
       "      <td>33.0</td>\n",
       "      <td>1.0</td>\n",
       "      <td>1.0</td>\n",
       "      <td>2</td>\n",
       "    </tr>\n",
       "    <tr>\n",
       "      <td>34.0</td>\n",
       "      <td>1.0</td>\n",
       "      <td>NaN</td>\n",
       "      <td>1</td>\n",
       "    </tr>\n",
       "    <tr>\n",
       "      <td>35.0</td>\n",
       "      <td>5.0</td>\n",
       "      <td>NaN</td>\n",
       "      <td>5</td>\n",
       "    </tr>\n",
       "    <tr>\n",
       "      <td>36.0</td>\n",
       "      <td>1.0</td>\n",
       "      <td>NaN</td>\n",
       "      <td>1</td>\n",
       "    </tr>\n",
       "    <tr>\n",
       "      <td>38.0</td>\n",
       "      <td>1.0</td>\n",
       "      <td>NaN</td>\n",
       "      <td>1</td>\n",
       "    </tr>\n",
       "    <tr>\n",
       "      <td>39.0</td>\n",
       "      <td>1.0</td>\n",
       "      <td>NaN</td>\n",
       "      <td>1</td>\n",
       "    </tr>\n",
       "    <tr>\n",
       "      <td>40.0</td>\n",
       "      <td>1.0</td>\n",
       "      <td>NaN</td>\n",
       "      <td>1</td>\n",
       "    </tr>\n",
       "    <tr>\n",
       "      <td>41.0</td>\n",
       "      <td>2.0</td>\n",
       "      <td>NaN</td>\n",
       "      <td>2</td>\n",
       "    </tr>\n",
       "    <tr>\n",
       "      <td>43.0</td>\n",
       "      <td>1.0</td>\n",
       "      <td>NaN</td>\n",
       "      <td>1</td>\n",
       "    </tr>\n",
       "    <tr>\n",
       "      <td>46.0</td>\n",
       "      <td>1.0</td>\n",
       "      <td>NaN</td>\n",
       "      <td>1</td>\n",
       "    </tr>\n",
       "    <tr>\n",
       "      <td>50.0</td>\n",
       "      <td>1.0</td>\n",
       "      <td>NaN</td>\n",
       "      <td>1</td>\n",
       "    </tr>\n",
       "    <tr>\n",
       "      <td>51.0</td>\n",
       "      <td>1.0</td>\n",
       "      <td>NaN</td>\n",
       "      <td>1</td>\n",
       "    </tr>\n",
       "    <tr>\n",
       "      <td>55.0</td>\n",
       "      <td>3.0</td>\n",
       "      <td>NaN</td>\n",
       "      <td>3</td>\n",
       "    </tr>\n",
       "    <tr>\n",
       "      <td>70.0</td>\n",
       "      <td>NaN</td>\n",
       "      <td>1.0</td>\n",
       "      <td>1</td>\n",
       "    </tr>\n",
       "    <tr>\n",
       "      <td>72.0</td>\n",
       "      <td>1.0</td>\n",
       "      <td>NaN</td>\n",
       "      <td>1</td>\n",
       "    </tr>\n",
       "    <tr>\n",
       "      <td>All</td>\n",
       "      <td>19507.0</td>\n",
       "      <td>1724.0</td>\n",
       "      <td>21231</td>\n",
       "    </tr>\n",
       "  </tbody>\n",
       "</table>\n",
       "</div>"
      ],
      "text/plain": [
       "debt               0       1    All\n",
       "income_rank                        \n",
       "1.0            238.0    17.0    255\n",
       "2.0           1679.0   136.0   1815\n",
       "3.0           3160.0   292.0   3452\n",
       "4.0           3938.0   365.0   4303\n",
       "5.0           3612.0   364.0   3976\n",
       "6.0           2410.0   211.0   2621\n",
       "7.0           1422.0   113.0   1535\n",
       "8.0            950.0    69.0   1019\n",
       "9.0            693.0    48.0    741\n",
       "10.0           368.0    30.0    398\n",
       "11.0           301.0    29.0    330\n",
       "12.0           193.0    16.0    209\n",
       "13.0           141.0    10.0    151\n",
       "14.0            97.0     6.0    103\n",
       "15.0            69.0     3.0     72\n",
       "16.0            53.0     3.0     56\n",
       "17.0            37.0     3.0     40\n",
       "18.0            27.0     1.0     28\n",
       "19.0            20.0     NaN     20\n",
       "20.0            10.0     3.0     13\n",
       "21.0            17.0     NaN     17\n",
       "22.0            19.0     NaN     19\n",
       "23.0             7.0     1.0      8\n",
       "24.0             5.0     NaN      5\n",
       "25.0             2.0     NaN      2\n",
       "26.0             3.0     1.0      4\n",
       "27.0             5.0     NaN      5\n",
       "28.0             2.0     1.0      3\n",
       "29.0             3.0     NaN      3\n",
       "31.0             2.0     NaN      2\n",
       "32.0             3.0     NaN      3\n",
       "33.0             1.0     1.0      2\n",
       "34.0             1.0     NaN      1\n",
       "35.0             5.0     NaN      5\n",
       "36.0             1.0     NaN      1\n",
       "38.0             1.0     NaN      1\n",
       "39.0             1.0     NaN      1\n",
       "40.0             1.0     NaN      1\n",
       "41.0             2.0     NaN      2\n",
       "43.0             1.0     NaN      1\n",
       "46.0             1.0     NaN      1\n",
       "50.0             1.0     NaN      1\n",
       "51.0             1.0     NaN      1\n",
       "55.0             3.0     NaN      3\n",
       "70.0             NaN     1.0      1\n",
       "72.0             1.0     NaN      1\n",
       "All          19507.0  1724.0  21231"
      ]
     },
     "execution_count": 58,
     "metadata": {},
     "output_type": "execute_result"
    }
   ],
   "source": [
    "# Check the income level data and paying back on time\n",
    "print(\"Correlation of 'debt' and 'total_income':\", data['debt'].corr(data['total_income']))\n",
    "print(\"Correlation of 'debt' and 'income_rank':\", data['debt'].corr(data['income_rank']), end='\\n\\n')\n",
    "\n",
    "# Calculating default-rate based on income level\n",
    "\n",
    "pd.pivot_table(data, columns='debt', values='gender', index='income_rank', aggfunc='count', margins=True)"
   ]
  },
  {
   "cell_type": "markdown",
   "metadata": {},
   "source": [
    "**Conclusion**\n",
    "\n",
    "In this case, we see that the correlation is still fairly weak, though in some cases there does appear to be different results. The rates of defaulting still are estimating to around 7-9%, which is the same as our previous tests and still close to our unfiltered defaulting rate of 8.1202%. However, in this case we do see a pattern that is completely unsurprising: As total_income rises, the rate of people who have failed to repay a loan steadily drops.\n",
    "\n",
    "There are some higher rates of defaulting in the lowest couple income brackets, which tells me there might be possibly different results if the income rank is made wider. For that purpose, we will test again where income ranks are separated by 10,000 and 15,000 rather than the current 5,000."
   ]
  },
  {
   "cell_type": "code",
   "execution_count": 59,
   "metadata": {},
   "outputs": [
    {
     "name": "stdout",
     "output_type": "stream",
     "text": [
      "Correlation of 'debt' and 'income_rank': -0.013568627126992236\n",
      "\n"
     ]
    },
    {
     "data": {
      "text/html": [
       "<div>\n",
       "<style scoped>\n",
       "    .dataframe tbody tr th:only-of-type {\n",
       "        vertical-align: middle;\n",
       "    }\n",
       "\n",
       "    .dataframe tbody tr th {\n",
       "        vertical-align: top;\n",
       "    }\n",
       "\n",
       "    .dataframe thead th {\n",
       "        text-align: right;\n",
       "    }\n",
       "</style>\n",
       "<table border=\"1\" class=\"dataframe\">\n",
       "  <thead>\n",
       "    <tr style=\"text-align: right;\">\n",
       "      <th>debt</th>\n",
       "      <th>0</th>\n",
       "      <th>1</th>\n",
       "      <th>All</th>\n",
       "    </tr>\n",
       "    <tr>\n",
       "      <th>income_rank</th>\n",
       "      <th></th>\n",
       "      <th></th>\n",
       "      <th></th>\n",
       "    </tr>\n",
       "  </thead>\n",
       "  <tbody>\n",
       "    <tr>\n",
       "      <td>0.0</td>\n",
       "      <td>24.0</td>\n",
       "      <td>2.0</td>\n",
       "      <td>26</td>\n",
       "    </tr>\n",
       "    <tr>\n",
       "      <td>1.0</td>\n",
       "      <td>3385.0</td>\n",
       "      <td>295.0</td>\n",
       "      <td>3680</td>\n",
       "    </tr>\n",
       "    <tr>\n",
       "      <td>2.0</td>\n",
       "      <td>7713.0</td>\n",
       "      <td>732.0</td>\n",
       "      <td>8445</td>\n",
       "    </tr>\n",
       "    <tr>\n",
       "      <td>3.0</td>\n",
       "      <td>4649.0</td>\n",
       "      <td>407.0</td>\n",
       "      <td>5056</td>\n",
       "    </tr>\n",
       "    <tr>\n",
       "      <td>4.0</td>\n",
       "      <td>2027.0</td>\n",
       "      <td>156.0</td>\n",
       "      <td>2183</td>\n",
       "    </tr>\n",
       "    <tr>\n",
       "      <td>5.0</td>\n",
       "      <td>839.0</td>\n",
       "      <td>70.0</td>\n",
       "      <td>909</td>\n",
       "    </tr>\n",
       "    <tr>\n",
       "      <td>6.0</td>\n",
       "      <td>406.0</td>\n",
       "      <td>33.0</td>\n",
       "      <td>439</td>\n",
       "    </tr>\n",
       "    <tr>\n",
       "      <td>7.0</td>\n",
       "      <td>192.0</td>\n",
       "      <td>13.0</td>\n",
       "      <td>205</td>\n",
       "    </tr>\n",
       "    <tr>\n",
       "      <td>8.0</td>\n",
       "      <td>110.0</td>\n",
       "      <td>6.0</td>\n",
       "      <td>116</td>\n",
       "    </tr>\n",
       "    <tr>\n",
       "      <td>9.0</td>\n",
       "      <td>56.0</td>\n",
       "      <td>2.0</td>\n",
       "      <td>58</td>\n",
       "    </tr>\n",
       "    <tr>\n",
       "      <td>10.0</td>\n",
       "      <td>28.0</td>\n",
       "      <td>3.0</td>\n",
       "      <td>31</td>\n",
       "    </tr>\n",
       "    <tr>\n",
       "      <td>11.0</td>\n",
       "      <td>29.0</td>\n",
       "      <td>1.0</td>\n",
       "      <td>30</td>\n",
       "    </tr>\n",
       "    <tr>\n",
       "      <td>12.0</td>\n",
       "      <td>9.0</td>\n",
       "      <td>NaN</td>\n",
       "      <td>9</td>\n",
       "    </tr>\n",
       "    <tr>\n",
       "      <td>13.0</td>\n",
       "      <td>6.0</td>\n",
       "      <td>1.0</td>\n",
       "      <td>7</td>\n",
       "    </tr>\n",
       "    <tr>\n",
       "      <td>14.0</td>\n",
       "      <td>6.0</td>\n",
       "      <td>1.0</td>\n",
       "      <td>7</td>\n",
       "    </tr>\n",
       "    <tr>\n",
       "      <td>15.0</td>\n",
       "      <td>4.0</td>\n",
       "      <td>NaN</td>\n",
       "      <td>4</td>\n",
       "    </tr>\n",
       "    <tr>\n",
       "      <td>16.0</td>\n",
       "      <td>4.0</td>\n",
       "      <td>1.0</td>\n",
       "      <td>5</td>\n",
       "    </tr>\n",
       "    <tr>\n",
       "      <td>17.0</td>\n",
       "      <td>4.0</td>\n",
       "      <td>NaN</td>\n",
       "      <td>4</td>\n",
       "    </tr>\n",
       "    <tr>\n",
       "      <td>18.0</td>\n",
       "      <td>3.0</td>\n",
       "      <td>NaN</td>\n",
       "      <td>3</td>\n",
       "    </tr>\n",
       "    <tr>\n",
       "      <td>19.0</td>\n",
       "      <td>1.0</td>\n",
       "      <td>NaN</td>\n",
       "      <td>1</td>\n",
       "    </tr>\n",
       "    <tr>\n",
       "      <td>20.0</td>\n",
       "      <td>3.0</td>\n",
       "      <td>NaN</td>\n",
       "      <td>3</td>\n",
       "    </tr>\n",
       "    <tr>\n",
       "      <td>21.0</td>\n",
       "      <td>1.0</td>\n",
       "      <td>NaN</td>\n",
       "      <td>1</td>\n",
       "    </tr>\n",
       "    <tr>\n",
       "      <td>22.0</td>\n",
       "      <td>1.0</td>\n",
       "      <td>NaN</td>\n",
       "      <td>1</td>\n",
       "    </tr>\n",
       "    <tr>\n",
       "      <td>23.0</td>\n",
       "      <td>1.0</td>\n",
       "      <td>NaN</td>\n",
       "      <td>1</td>\n",
       "    </tr>\n",
       "    <tr>\n",
       "      <td>25.0</td>\n",
       "      <td>1.0</td>\n",
       "      <td>NaN</td>\n",
       "      <td>1</td>\n",
       "    </tr>\n",
       "    <tr>\n",
       "      <td>26.0</td>\n",
       "      <td>1.0</td>\n",
       "      <td>NaN</td>\n",
       "      <td>1</td>\n",
       "    </tr>\n",
       "    <tr>\n",
       "      <td>27.0</td>\n",
       "      <td>2.0</td>\n",
       "      <td>NaN</td>\n",
       "      <td>2</td>\n",
       "    </tr>\n",
       "    <tr>\n",
       "      <td>28.0</td>\n",
       "      <td>1.0</td>\n",
       "      <td>NaN</td>\n",
       "      <td>1</td>\n",
       "    </tr>\n",
       "    <tr>\n",
       "      <td>35.0</td>\n",
       "      <td>NaN</td>\n",
       "      <td>1.0</td>\n",
       "      <td>1</td>\n",
       "    </tr>\n",
       "    <tr>\n",
       "      <td>36.0</td>\n",
       "      <td>1.0</td>\n",
       "      <td>NaN</td>\n",
       "      <td>1</td>\n",
       "    </tr>\n",
       "    <tr>\n",
       "      <td>All</td>\n",
       "      <td>19507.0</td>\n",
       "      <td>1724.0</td>\n",
       "      <td>21231</td>\n",
       "    </tr>\n",
       "  </tbody>\n",
       "</table>\n",
       "</div>"
      ],
      "text/plain": [
       "debt               0       1    All\n",
       "income_rank                        \n",
       "0.0             24.0     2.0     26\n",
       "1.0           3385.0   295.0   3680\n",
       "2.0           7713.0   732.0   8445\n",
       "3.0           4649.0   407.0   5056\n",
       "4.0           2027.0   156.0   2183\n",
       "5.0            839.0    70.0    909\n",
       "6.0            406.0    33.0    439\n",
       "7.0            192.0    13.0    205\n",
       "8.0            110.0     6.0    116\n",
       "9.0             56.0     2.0     58\n",
       "10.0            28.0     3.0     31\n",
       "11.0            29.0     1.0     30\n",
       "12.0             9.0     NaN      9\n",
       "13.0             6.0     1.0      7\n",
       "14.0             6.0     1.0      7\n",
       "15.0             4.0     NaN      4\n",
       "16.0             4.0     1.0      5\n",
       "17.0             4.0     NaN      4\n",
       "18.0             3.0     NaN      3\n",
       "19.0             1.0     NaN      1\n",
       "20.0             3.0     NaN      3\n",
       "21.0             1.0     NaN      1\n",
       "22.0             1.0     NaN      1\n",
       "23.0             1.0     NaN      1\n",
       "25.0             1.0     NaN      1\n",
       "26.0             1.0     NaN      1\n",
       "27.0             2.0     NaN      2\n",
       "28.0             1.0     NaN      1\n",
       "35.0             NaN     1.0      1\n",
       "36.0             1.0     NaN      1\n",
       "All          19507.0  1724.0  21231"
      ]
     },
     "execution_count": 59,
     "metadata": {},
     "output_type": "execute_result"
    }
   ],
   "source": [
    "# separating income rank by 10000\n",
    "\n",
    "data['income_rank'] = round(data['total_income']/10000)\n",
    "\n",
    "print(\"Correlation of 'debt' and 'income_rank':\", data['debt'].corr(data['income_rank']), end='\\n\\n')\n",
    "\n",
    "# Calculating default-rate based on income level\n",
    "\n",
    "pd.pivot_table(data, columns='debt', values='gender', index='income_rank', aggfunc='count', margins=True)"
   ]
  },
  {
   "cell_type": "code",
   "execution_count": 60,
   "metadata": {},
   "outputs": [
    {
     "name": "stdout",
     "output_type": "stream",
     "text": [
      "Correlation of 'debt' and 'income_rank': -0.011109358541784575\n",
      "\n"
     ]
    },
    {
     "data": {
      "text/html": [
       "<div>\n",
       "<style scoped>\n",
       "    .dataframe tbody tr th:only-of-type {\n",
       "        vertical-align: middle;\n",
       "    }\n",
       "\n",
       "    .dataframe tbody tr th {\n",
       "        vertical-align: top;\n",
       "    }\n",
       "\n",
       "    .dataframe thead th {\n",
       "        text-align: right;\n",
       "    }\n",
       "</style>\n",
       "<table border=\"1\" class=\"dataframe\">\n",
       "  <thead>\n",
       "    <tr style=\"text-align: right;\">\n",
       "      <th>debt</th>\n",
       "      <th>0</th>\n",
       "      <th>1</th>\n",
       "      <th>All</th>\n",
       "    </tr>\n",
       "    <tr>\n",
       "      <th>income_rank</th>\n",
       "      <th></th>\n",
       "      <th></th>\n",
       "      <th></th>\n",
       "    </tr>\n",
       "  </thead>\n",
       "  <tbody>\n",
       "    <tr>\n",
       "      <td>0.0</td>\n",
       "      <td>238.0</td>\n",
       "      <td>17.0</td>\n",
       "      <td>255</td>\n",
       "    </tr>\n",
       "    <tr>\n",
       "      <td>1.0</td>\n",
       "      <td>8777.0</td>\n",
       "      <td>793.0</td>\n",
       "      <td>9570</td>\n",
       "    </tr>\n",
       "    <tr>\n",
       "      <td>2.0</td>\n",
       "      <td>7444.0</td>\n",
       "      <td>688.0</td>\n",
       "      <td>8132</td>\n",
       "    </tr>\n",
       "    <tr>\n",
       "      <td>3.0</td>\n",
       "      <td>2011.0</td>\n",
       "      <td>147.0</td>\n",
       "      <td>2158</td>\n",
       "    </tr>\n",
       "    <tr>\n",
       "      <td>4.0</td>\n",
       "      <td>635.0</td>\n",
       "      <td>55.0</td>\n",
       "      <td>690</td>\n",
       "    </tr>\n",
       "    <tr>\n",
       "      <td>5.0</td>\n",
       "      <td>219.0</td>\n",
       "      <td>12.0</td>\n",
       "      <td>231</td>\n",
       "    </tr>\n",
       "    <tr>\n",
       "      <td>6.0</td>\n",
       "      <td>84.0</td>\n",
       "      <td>4.0</td>\n",
       "      <td>88</td>\n",
       "    </tr>\n",
       "    <tr>\n",
       "      <td>7.0</td>\n",
       "      <td>46.0</td>\n",
       "      <td>3.0</td>\n",
       "      <td>49</td>\n",
       "    </tr>\n",
       "    <tr>\n",
       "      <td>8.0</td>\n",
       "      <td>14.0</td>\n",
       "      <td>1.0</td>\n",
       "      <td>15</td>\n",
       "    </tr>\n",
       "    <tr>\n",
       "      <td>9.0</td>\n",
       "      <td>10.0</td>\n",
       "      <td>2.0</td>\n",
       "      <td>12</td>\n",
       "    </tr>\n",
       "    <tr>\n",
       "      <td>10.0</td>\n",
       "      <td>5.0</td>\n",
       "      <td>NaN</td>\n",
       "      <td>5</td>\n",
       "    </tr>\n",
       "    <tr>\n",
       "      <td>11.0</td>\n",
       "      <td>5.0</td>\n",
       "      <td>1.0</td>\n",
       "      <td>6</td>\n",
       "    </tr>\n",
       "    <tr>\n",
       "      <td>12.0</td>\n",
       "      <td>6.0</td>\n",
       "      <td>NaN</td>\n",
       "      <td>6</td>\n",
       "    </tr>\n",
       "    <tr>\n",
       "      <td>13.0</td>\n",
       "      <td>3.0</td>\n",
       "      <td>NaN</td>\n",
       "      <td>3</td>\n",
       "    </tr>\n",
       "    <tr>\n",
       "      <td>14.0</td>\n",
       "      <td>3.0</td>\n",
       "      <td>NaN</td>\n",
       "      <td>3</td>\n",
       "    </tr>\n",
       "    <tr>\n",
       "      <td>15.0</td>\n",
       "      <td>1.0</td>\n",
       "      <td>NaN</td>\n",
       "      <td>1</td>\n",
       "    </tr>\n",
       "    <tr>\n",
       "      <td>17.0</td>\n",
       "      <td>2.0</td>\n",
       "      <td>NaN</td>\n",
       "      <td>2</td>\n",
       "    </tr>\n",
       "    <tr>\n",
       "      <td>18.0</td>\n",
       "      <td>3.0</td>\n",
       "      <td>NaN</td>\n",
       "      <td>3</td>\n",
       "    </tr>\n",
       "    <tr>\n",
       "      <td>23.0</td>\n",
       "      <td>NaN</td>\n",
       "      <td>1.0</td>\n",
       "      <td>1</td>\n",
       "    </tr>\n",
       "    <tr>\n",
       "      <td>24.0</td>\n",
       "      <td>1.0</td>\n",
       "      <td>NaN</td>\n",
       "      <td>1</td>\n",
       "    </tr>\n",
       "    <tr>\n",
       "      <td>All</td>\n",
       "      <td>19507.0</td>\n",
       "      <td>1724.0</td>\n",
       "      <td>21231</td>\n",
       "    </tr>\n",
       "  </tbody>\n",
       "</table>\n",
       "</div>"
      ],
      "text/plain": [
       "debt               0       1    All\n",
       "income_rank                        \n",
       "0.0            238.0    17.0    255\n",
       "1.0           8777.0   793.0   9570\n",
       "2.0           7444.0   688.0   8132\n",
       "3.0           2011.0   147.0   2158\n",
       "4.0            635.0    55.0    690\n",
       "5.0            219.0    12.0    231\n",
       "6.0             84.0     4.0     88\n",
       "7.0             46.0     3.0     49\n",
       "8.0             14.0     1.0     15\n",
       "9.0             10.0     2.0     12\n",
       "10.0             5.0     NaN      5\n",
       "11.0             5.0     1.0      6\n",
       "12.0             6.0     NaN      6\n",
       "13.0             3.0     NaN      3\n",
       "14.0             3.0     NaN      3\n",
       "15.0             1.0     NaN      1\n",
       "17.0             2.0     NaN      2\n",
       "18.0             3.0     NaN      3\n",
       "23.0             NaN     1.0      1\n",
       "24.0             1.0     NaN      1\n",
       "All          19507.0  1724.0  21231"
      ]
     },
     "execution_count": 60,
     "metadata": {},
     "output_type": "execute_result"
    }
   ],
   "source": [
    "# separating income rank by 15000\n",
    "\n",
    "data['income_rank'] = round(data['total_income']/15000)\n",
    "\n",
    "print(\"Correlation of 'debt' and 'income_rank':\", data['debt'].corr(data['income_rank']), end='\\n\\n')\n",
    "\n",
    "# Calculating default-rate based on income level\n",
    "\n",
    "pd.pivot_table(data, columns='debt', values='gender', index='income_rank', aggfunc='count', margins=True)"
   ]
  },
  {
   "cell_type": "markdown",
   "metadata": {},
   "source": [
    "Separating the data with wider margins does show the same patterns. It appears a little less clear since the rates fluctuate more, the points where they switch are a bit harder to notice. We will thus return the income_rank to being separated by values of 5000."
   ]
  },
  {
   "cell_type": "code",
   "execution_count": 61,
   "metadata": {},
   "outputs": [],
   "source": [
    "data['income_rank'] = round(data['total_income']/5000)"
   ]
  },
  {
   "cell_type": "markdown",
   "metadata": {},
   "source": [
    "**How does credit purpose affect the default rate?**"
   ]
  },
  {
   "cell_type": "code",
   "execution_count": 62,
   "metadata": {},
   "outputs": [
    {
     "data": {
      "text/html": [
       "<div>\n",
       "<style scoped>\n",
       "    .dataframe tbody tr th:only-of-type {\n",
       "        vertical-align: middle;\n",
       "    }\n",
       "\n",
       "    .dataframe tbody tr th {\n",
       "        vertical-align: top;\n",
       "    }\n",
       "\n",
       "    .dataframe thead th {\n",
       "        text-align: right;\n",
       "    }\n",
       "</style>\n",
       "<table border=\"1\" class=\"dataframe\">\n",
       "  <thead>\n",
       "    <tr style=\"text-align: right;\">\n",
       "      <th>debt</th>\n",
       "      <th>0</th>\n",
       "      <th>1</th>\n",
       "      <th>All</th>\n",
       "    </tr>\n",
       "    <tr>\n",
       "      <th>purpose</th>\n",
       "      <th></th>\n",
       "      <th></th>\n",
       "      <th></th>\n",
       "    </tr>\n",
       "  </thead>\n",
       "  <tbody>\n",
       "    <tr>\n",
       "      <td>car_purchase</td>\n",
       "      <td>3861</td>\n",
       "      <td>397</td>\n",
       "      <td>4258</td>\n",
       "    </tr>\n",
       "    <tr>\n",
       "      <td>construction_renovation</td>\n",
       "      <td>2286</td>\n",
       "      <td>178</td>\n",
       "      <td>2464</td>\n",
       "    </tr>\n",
       "    <tr>\n",
       "      <td>education</td>\n",
       "      <td>3601</td>\n",
       "      <td>369</td>\n",
       "      <td>3970</td>\n",
       "    </tr>\n",
       "    <tr>\n",
       "      <td>house_purchase</td>\n",
       "      <td>3531</td>\n",
       "      <td>260</td>\n",
       "      <td>3791</td>\n",
       "    </tr>\n",
       "    <tr>\n",
       "      <td>real_estate</td>\n",
       "      <td>4110</td>\n",
       "      <td>339</td>\n",
       "      <td>4449</td>\n",
       "    </tr>\n",
       "    <tr>\n",
       "      <td>wedding</td>\n",
       "      <td>2118</td>\n",
       "      <td>181</td>\n",
       "      <td>2299</td>\n",
       "    </tr>\n",
       "    <tr>\n",
       "      <td>All</td>\n",
       "      <td>19507</td>\n",
       "      <td>1724</td>\n",
       "      <td>21231</td>\n",
       "    </tr>\n",
       "  </tbody>\n",
       "</table>\n",
       "</div>"
      ],
      "text/plain": [
       "debt                         0     1    All\n",
       "purpose                                    \n",
       "car_purchase              3861   397   4258\n",
       "construction_renovation   2286   178   2464\n",
       "education                 3601   369   3970\n",
       "house_purchase            3531   260   3791\n",
       "real_estate               4110   339   4449\n",
       "wedding                   2118   181   2299\n",
       "All                      19507  1724  21231"
      ]
     },
     "execution_count": 62,
     "metadata": {},
     "output_type": "execute_result"
    }
   ],
   "source": [
    "# Check the percentages for default rate for each credit purpose and analyze them\n",
    "\n",
    "pd.pivot_table(data, columns='debt', values='gender', index='purpose', aggfunc='count', margins=True)"
   ]
  },
  {
   "cell_type": "markdown",
   "metadata": {},
   "source": [
    "**Conclusion**\n",
    "\n",
    "Our percentages are as follows: Car purchase = 9.3236%, construction/renovation = 7.2240%, education = 9.2947%, house purchase = 6.8583%, real estate = 7.6197%, wedding = 7.8730%.\n",
    "\n",
    "Car purchase and education being slightly higher makes sense, as those would tend to be loans taken out by someone who is younger and may not be as financially stable, so they probably are more liable to default on their loan. Weddings, purchases of property, and renovation are things that generally people undergo when they are already in a position where they are actively making money, and they are able to budget accordingly.\n",
    "\n",
    "To see how this works, we will generate a second pivot table that includes the age group. We should suspect that for the younger groups in general, the rate of default should be higher."
   ]
  },
  {
   "cell_type": "code",
   "execution_count": 63,
   "metadata": {},
   "outputs": [
    {
     "data": {
      "text/html": [
       "<div>\n",
       "<style scoped>\n",
       "    .dataframe tbody tr th:only-of-type {\n",
       "        vertical-align: middle;\n",
       "    }\n",
       "\n",
       "    .dataframe tbody tr th {\n",
       "        vertical-align: top;\n",
       "    }\n",
       "\n",
       "    .dataframe thead th {\n",
       "        text-align: right;\n",
       "    }\n",
       "</style>\n",
       "<table border=\"1\" class=\"dataframe\">\n",
       "  <thead>\n",
       "    <tr style=\"text-align: right;\">\n",
       "      <th></th>\n",
       "      <th>debt</th>\n",
       "      <th>0</th>\n",
       "      <th>1</th>\n",
       "      <th>All</th>\n",
       "    </tr>\n",
       "    <tr>\n",
       "      <th>purpose</th>\n",
       "      <th>age_group</th>\n",
       "      <th></th>\n",
       "      <th></th>\n",
       "      <th></th>\n",
       "    </tr>\n",
       "  </thead>\n",
       "  <tbody>\n",
       "    <tr>\n",
       "      <td rowspan=\"7\" valign=\"top\">car_purchase</td>\n",
       "      <td>10-19</td>\n",
       "      <td>3.0</td>\n",
       "      <td>NaN</td>\n",
       "      <td>3</td>\n",
       "    </tr>\n",
       "    <tr>\n",
       "      <td>20-29</td>\n",
       "      <td>517.0</td>\n",
       "      <td>76.0</td>\n",
       "      <td>593</td>\n",
       "    </tr>\n",
       "    <tr>\n",
       "      <td>30-39</td>\n",
       "      <td>996.0</td>\n",
       "      <td>134.0</td>\n",
       "      <td>1130</td>\n",
       "    </tr>\n",
       "    <tr>\n",
       "      <td>40-49</td>\n",
       "      <td>990.0</td>\n",
       "      <td>90.0</td>\n",
       "      <td>1080</td>\n",
       "    </tr>\n",
       "    <tr>\n",
       "      <td>50-59</td>\n",
       "      <td>865.0</td>\n",
       "      <td>65.0</td>\n",
       "      <td>930</td>\n",
       "    </tr>\n",
       "    <tr>\n",
       "      <td>60-69</td>\n",
       "      <td>460.0</td>\n",
       "      <td>28.0</td>\n",
       "      <td>488</td>\n",
       "    </tr>\n",
       "    <tr>\n",
       "      <td>70+</td>\n",
       "      <td>30.0</td>\n",
       "      <td>4.0</td>\n",
       "      <td>34</td>\n",
       "    </tr>\n",
       "    <tr>\n",
       "      <td rowspan=\"7\" valign=\"top\">construction_renovation</td>\n",
       "      <td>10-19</td>\n",
       "      <td>1.0</td>\n",
       "      <td>NaN</td>\n",
       "      <td>1</td>\n",
       "    </tr>\n",
       "    <tr>\n",
       "      <td>20-29</td>\n",
       "      <td>351.0</td>\n",
       "      <td>36.0</td>\n",
       "      <td>387</td>\n",
       "    </tr>\n",
       "    <tr>\n",
       "      <td>30-39</td>\n",
       "      <td>588.0</td>\n",
       "      <td>58.0</td>\n",
       "      <td>646</td>\n",
       "    </tr>\n",
       "    <tr>\n",
       "      <td>40-49</td>\n",
       "      <td>590.0</td>\n",
       "      <td>39.0</td>\n",
       "      <td>629</td>\n",
       "    </tr>\n",
       "    <tr>\n",
       "      <td>50-59</td>\n",
       "      <td>487.0</td>\n",
       "      <td>34.0</td>\n",
       "      <td>521</td>\n",
       "    </tr>\n",
       "    <tr>\n",
       "      <td>60-69</td>\n",
       "      <td>250.0</td>\n",
       "      <td>10.0</td>\n",
       "      <td>260</td>\n",
       "    </tr>\n",
       "    <tr>\n",
       "      <td>70+</td>\n",
       "      <td>19.0</td>\n",
       "      <td>1.0</td>\n",
       "      <td>20</td>\n",
       "    </tr>\n",
       "    <tr>\n",
       "      <td rowspan=\"7\" valign=\"top\">education</td>\n",
       "      <td>10-19</td>\n",
       "      <td>1.0</td>\n",
       "      <td>NaN</td>\n",
       "      <td>1</td>\n",
       "    </tr>\n",
       "    <tr>\n",
       "      <td>20-29</td>\n",
       "      <td>522.0</td>\n",
       "      <td>78.0</td>\n",
       "      <td>600</td>\n",
       "    </tr>\n",
       "    <tr>\n",
       "      <td>30-39</td>\n",
       "      <td>921.0</td>\n",
       "      <td>117.0</td>\n",
       "      <td>1038</td>\n",
       "    </tr>\n",
       "    <tr>\n",
       "      <td>40-49</td>\n",
       "      <td>891.0</td>\n",
       "      <td>81.0</td>\n",
       "      <td>972</td>\n",
       "    </tr>\n",
       "    <tr>\n",
       "      <td>50-59</td>\n",
       "      <td>815.0</td>\n",
       "      <td>65.0</td>\n",
       "      <td>880</td>\n",
       "    </tr>\n",
       "    <tr>\n",
       "      <td>60-69</td>\n",
       "      <td>419.0</td>\n",
       "      <td>28.0</td>\n",
       "      <td>447</td>\n",
       "    </tr>\n",
       "    <tr>\n",
       "      <td>70+</td>\n",
       "      <td>32.0</td>\n",
       "      <td>NaN</td>\n",
       "      <td>32</td>\n",
       "    </tr>\n",
       "    <tr>\n",
       "      <td rowspan=\"6\" valign=\"top\">house_purchase</td>\n",
       "      <td>20-29</td>\n",
       "      <td>505.0</td>\n",
       "      <td>58.0</td>\n",
       "      <td>563</td>\n",
       "    </tr>\n",
       "    <tr>\n",
       "      <td>30-39</td>\n",
       "      <td>956.0</td>\n",
       "      <td>79.0</td>\n",
       "      <td>1035</td>\n",
       "    </tr>\n",
       "    <tr>\n",
       "      <td>40-49</td>\n",
       "      <td>888.0</td>\n",
       "      <td>55.0</td>\n",
       "      <td>943</td>\n",
       "    </tr>\n",
       "    <tr>\n",
       "      <td>50-59</td>\n",
       "      <td>770.0</td>\n",
       "      <td>47.0</td>\n",
       "      <td>817</td>\n",
       "    </tr>\n",
       "    <tr>\n",
       "      <td>60-69</td>\n",
       "      <td>385.0</td>\n",
       "      <td>20.0</td>\n",
       "      <td>405</td>\n",
       "    </tr>\n",
       "    <tr>\n",
       "      <td>70+</td>\n",
       "      <td>27.0</td>\n",
       "      <td>1.0</td>\n",
       "      <td>28</td>\n",
       "    </tr>\n",
       "    <tr>\n",
       "      <td rowspan=\"7\" valign=\"top\">real_estate</td>\n",
       "      <td>10-19</td>\n",
       "      <td>5.0</td>\n",
       "      <td>1.0</td>\n",
       "      <td>6</td>\n",
       "    </tr>\n",
       "    <tr>\n",
       "      <td>20-29</td>\n",
       "      <td>603.0</td>\n",
       "      <td>68.0</td>\n",
       "      <td>671</td>\n",
       "    </tr>\n",
       "    <tr>\n",
       "      <td>30-39</td>\n",
       "      <td>1054.0</td>\n",
       "      <td>100.0</td>\n",
       "      <td>1154</td>\n",
       "    </tr>\n",
       "    <tr>\n",
       "      <td>40-49</td>\n",
       "      <td>1026.0</td>\n",
       "      <td>94.0</td>\n",
       "      <td>1120</td>\n",
       "    </tr>\n",
       "    <tr>\n",
       "      <td>50-59</td>\n",
       "      <td>931.0</td>\n",
       "      <td>57.0</td>\n",
       "      <td>988</td>\n",
       "    </tr>\n",
       "    <tr>\n",
       "      <td>60-69</td>\n",
       "      <td>455.0</td>\n",
       "      <td>19.0</td>\n",
       "      <td>474</td>\n",
       "    </tr>\n",
       "    <tr>\n",
       "      <td>70+</td>\n",
       "      <td>36.0</td>\n",
       "      <td>NaN</td>\n",
       "      <td>36</td>\n",
       "    </tr>\n",
       "    <tr>\n",
       "      <td rowspan=\"7\" valign=\"top\">wedding</td>\n",
       "      <td>10-19</td>\n",
       "      <td>3.0</td>\n",
       "      <td>NaN</td>\n",
       "      <td>3</td>\n",
       "    </tr>\n",
       "    <tr>\n",
       "      <td>20-29</td>\n",
       "      <td>306.0</td>\n",
       "      <td>32.0</td>\n",
       "      <td>338</td>\n",
       "    </tr>\n",
       "    <tr>\n",
       "      <td>30-39</td>\n",
       "      <td>562.0</td>\n",
       "      <td>60.0</td>\n",
       "      <td>622</td>\n",
       "    </tr>\n",
       "    <tr>\n",
       "      <td>40-49</td>\n",
       "      <td>532.0</td>\n",
       "      <td>42.0</td>\n",
       "      <td>574</td>\n",
       "    </tr>\n",
       "    <tr>\n",
       "      <td>50-59</td>\n",
       "      <td>460.0</td>\n",
       "      <td>35.0</td>\n",
       "      <td>495</td>\n",
       "    </tr>\n",
       "    <tr>\n",
       "      <td>60-69</td>\n",
       "      <td>236.0</td>\n",
       "      <td>12.0</td>\n",
       "      <td>248</td>\n",
       "    </tr>\n",
       "    <tr>\n",
       "      <td>70+</td>\n",
       "      <td>19.0</td>\n",
       "      <td>NaN</td>\n",
       "      <td>19</td>\n",
       "    </tr>\n",
       "    <tr>\n",
       "      <td>All</td>\n",
       "      <td></td>\n",
       "      <td>19507.0</td>\n",
       "      <td>1724.0</td>\n",
       "      <td>21231</td>\n",
       "    </tr>\n",
       "  </tbody>\n",
       "</table>\n",
       "</div>"
      ],
      "text/plain": [
       "debt                                     0       1    All\n",
       "purpose                 age_group                        \n",
       "car_purchase            10-19          3.0     NaN      3\n",
       "                        20-29        517.0    76.0    593\n",
       "                        30-39        996.0   134.0   1130\n",
       "                        40-49        990.0    90.0   1080\n",
       "                        50-59        865.0    65.0    930\n",
       "                        60-69        460.0    28.0    488\n",
       "                        70+           30.0     4.0     34\n",
       "construction_renovation 10-19          1.0     NaN      1\n",
       "                        20-29        351.0    36.0    387\n",
       "                        30-39        588.0    58.0    646\n",
       "                        40-49        590.0    39.0    629\n",
       "                        50-59        487.0    34.0    521\n",
       "                        60-69        250.0    10.0    260\n",
       "                        70+           19.0     1.0     20\n",
       "education               10-19          1.0     NaN      1\n",
       "                        20-29        522.0    78.0    600\n",
       "                        30-39        921.0   117.0   1038\n",
       "                        40-49        891.0    81.0    972\n",
       "                        50-59        815.0    65.0    880\n",
       "                        60-69        419.0    28.0    447\n",
       "                        70+           32.0     NaN     32\n",
       "house_purchase          20-29        505.0    58.0    563\n",
       "                        30-39        956.0    79.0   1035\n",
       "                        40-49        888.0    55.0    943\n",
       "                        50-59        770.0    47.0    817\n",
       "                        60-69        385.0    20.0    405\n",
       "                        70+           27.0     1.0     28\n",
       "real_estate             10-19          5.0     1.0      6\n",
       "                        20-29        603.0    68.0    671\n",
       "                        30-39       1054.0   100.0   1154\n",
       "                        40-49       1026.0    94.0   1120\n",
       "                        50-59        931.0    57.0    988\n",
       "                        60-69        455.0    19.0    474\n",
       "                        70+           36.0     NaN     36\n",
       "wedding                 10-19          3.0     NaN      3\n",
       "                        20-29        306.0    32.0    338\n",
       "                        30-39        562.0    60.0    622\n",
       "                        40-49        532.0    42.0    574\n",
       "                        50-59        460.0    35.0    495\n",
       "                        60-69        236.0    12.0    248\n",
       "                        70+           19.0     NaN     19\n",
       "All                                19507.0  1724.0  21231"
      ]
     },
     "execution_count": 63,
     "metadata": {},
     "output_type": "execute_result"
    }
   ],
   "source": [
    "pd.pivot_table(data, columns='debt', values='gender', index=['purpose', 'age_group'], aggfunc='count', margins=True)"
   ]
  },
  {
   "cell_type": "markdown",
   "metadata": {},
   "source": [
    "Here we see that regardless of the purpose, the age groups do have a clear correlation with the rate of loan repayment."
   ]
  },
  {
   "cell_type": "markdown",
   "metadata": {},
   "source": [
    "# General Conclusion \n",
    "\n",
    "If there were any issues within the data set, it may be that there was a flaw in how the missing values were filled out. They were done so with very simple methodology that largely was looking only at a couple predictors, for ranges of numbers that were incredibly volatile.\n",
    "\n",
    "From this point, we can say that even if there is a predictive effect that these factors have on whether or not someone will repay a loan, the effect is fairly small. In a largescale scenario, checking for someone's marital status, number of children, income level, or purpose for applying to a loan do seem to have an influence on whether or not they will default, however, the effect they do have in such situations is rather small.\n",
    "\n",
    "For a high-risk industry, however, it is suitable to use these small discrepancies as predictors. The results do appear to make logical sense as means to help predict a person's ability to repay a loan. Combining the number of children with the martial status makes a better estimate for that segment. The reason for taking out a loan may be better to analyze when taken in account with the age group of an individual.\n",
    "\n",
    "Interestingly, there is not much indication that the income level is a strong predictor of if one is able to pay back their loan. The default rate shown in the data set fluctuates a bit too much without a clear pattern. This may be a lack of information - the amount provided in the loan would be a good factor to account for, as well. Even if the purpose is the same, the amount loaned out is important. For instance, if two people are both attempting to take a loan for a car purchase, where one of them has an income of 15,000 and seeking a loan for a \\\\$20,000 used car and one holds an income of 30,000 but is seeking a loan for a \\\\$50,000 new car, it will be easier for the lower income person to pay back the loan. Additionally, 'total_income' does not appear to account for a household income, but only individual income."
   ]
  }
 ],
 "metadata": {
  "ExecuteTimeLog": [
   {
    "duration": 2741,
    "start_time": "2021-10-21T01:08:49.480Z"
   },
   {
    "duration": 52,
    "start_time": "2021-10-21T01:08:53.315Z"
   },
   {
    "duration": 49,
    "start_time": "2021-10-21T01:08:57.432Z"
   },
   {
    "duration": 70,
    "start_time": "2021-10-21T01:09:07.706Z"
   },
   {
    "duration": 44,
    "start_time": "2022-01-07T01:25:14.346Z"
   },
   {
    "duration": 5,
    "start_time": "2022-01-07T01:25:17.114Z"
   },
   {
    "duration": 33,
    "start_time": "2022-01-07T01:25:18.390Z"
   },
   {
    "duration": 14,
    "start_time": "2022-01-07T01:25:45.495Z"
   },
   {
    "duration": 8,
    "start_time": "2022-01-07T01:26:26.558Z"
   },
   {
    "duration": 10,
    "start_time": "2022-01-07T01:26:46.130Z"
   },
   {
    "duration": 10,
    "start_time": "2022-01-07T01:26:48.938Z"
   },
   {
    "duration": 10,
    "start_time": "2022-01-07T01:27:51.915Z"
   },
   {
    "duration": 170,
    "start_time": "2022-01-07T02:11:13.618Z"
   },
   {
    "duration": 240,
    "start_time": "2022-01-07T02:11:26.007Z"
   },
   {
    "duration": 14,
    "start_time": "2022-01-07T02:14:36.195Z"
   },
   {
    "duration": 6,
    "start_time": "2022-01-07T02:14:41.979Z"
   },
   {
    "duration": 219,
    "start_time": "2022-01-07T02:21:52.261Z"
   },
   {
    "duration": 191,
    "start_time": "2022-01-07T02:22:06.429Z"
   },
   {
    "duration": 210,
    "start_time": "2022-01-07T02:22:28.505Z"
   },
   {
    "duration": 10,
    "start_time": "2022-01-07T02:22:53.250Z"
   },
   {
    "duration": 177,
    "start_time": "2022-01-07T02:23:06.001Z"
   },
   {
    "duration": 13,
    "start_time": "2022-01-07T02:23:23.221Z"
   },
   {
    "duration": 19,
    "start_time": "2022-01-07T02:25:34.001Z"
   },
   {
    "duration": 6,
    "start_time": "2022-01-07T02:40:34.231Z"
   },
   {
    "duration": 9,
    "start_time": "2022-01-07T02:40:54.792Z"
   },
   {
    "duration": 7,
    "start_time": "2022-01-07T02:41:38.335Z"
   },
   {
    "duration": 7,
    "start_time": "2022-01-07T02:42:10.467Z"
   },
   {
    "duration": 7,
    "start_time": "2022-01-07T02:42:34.031Z"
   },
   {
    "duration": 8,
    "start_time": "2022-01-07T02:42:44.091Z"
   },
   {
    "duration": 7,
    "start_time": "2022-01-07T02:42:57.572Z"
   },
   {
    "duration": 12,
    "start_time": "2022-01-07T02:43:33.911Z"
   },
   {
    "duration": 7,
    "start_time": "2022-01-07T02:44:06.615Z"
   },
   {
    "duration": 5,
    "start_time": "2022-01-07T02:44:22.528Z"
   },
   {
    "duration": 11,
    "start_time": "2022-01-07T02:50:31.436Z"
   },
   {
    "duration": 5,
    "start_time": "2022-01-07T02:51:07.148Z"
   },
   {
    "duration": 11,
    "start_time": "2022-01-07T02:51:10.956Z"
   },
   {
    "duration": 19,
    "start_time": "2022-01-07T02:51:24.500Z"
   },
   {
    "duration": 13,
    "start_time": "2022-01-07T02:52:04.356Z"
   },
   {
    "duration": 13,
    "start_time": "2022-01-07T02:52:28.017Z"
   },
   {
    "duration": 7,
    "start_time": "2022-01-07T02:52:42.996Z"
   },
   {
    "duration": 11,
    "start_time": "2022-01-07T02:55:26.149Z"
   },
   {
    "duration": 10,
    "start_time": "2022-01-07T02:57:28.098Z"
   },
   {
    "duration": 15,
    "start_time": "2022-01-07T02:59:50.701Z"
   },
   {
    "duration": 16,
    "start_time": "2022-01-07T03:00:02.497Z"
   },
   {
    "duration": 8,
    "start_time": "2022-01-07T03:00:26.278Z"
   },
   {
    "duration": 32,
    "start_time": "2022-01-07T03:02:00.589Z"
   },
   {
    "duration": 18,
    "start_time": "2022-01-07T03:04:58.857Z"
   },
   {
    "duration": 58,
    "start_time": "2022-01-07T03:05:19.073Z"
   },
   {
    "duration": 10,
    "start_time": "2022-01-07T03:05:28.053Z"
   },
   {
    "duration": 19,
    "start_time": "2022-01-07T03:05:58.633Z"
   },
   {
    "duration": 8,
    "start_time": "2022-01-07T03:06:21.614Z"
   },
   {
    "duration": 5585,
    "start_time": "2022-01-07T03:12:32.978Z"
   },
   {
    "duration": 16,
    "start_time": "2022-01-07T03:12:50.842Z"
   },
   {
    "duration": 12,
    "start_time": "2022-01-07T03:12:59.102Z"
   },
   {
    "duration": 21,
    "start_time": "2022-01-07T03:14:54.382Z"
   },
   {
    "duration": 20,
    "start_time": "2022-01-07T03:16:01.450Z"
   },
   {
    "duration": 193,
    "start_time": "2022-01-07T05:29:06.127Z"
   },
   {
    "duration": 180,
    "start_time": "2022-01-07T05:29:18.131Z"
   },
   {
    "duration": 178,
    "start_time": "2022-01-07T05:29:46.352Z"
   },
   {
    "duration": 6,
    "start_time": "2022-01-07T05:30:30.727Z"
   },
   {
    "duration": 182,
    "start_time": "2022-01-07T05:30:59.659Z"
   },
   {
    "duration": 68,
    "start_time": "2022-01-07T05:38:09.264Z"
   },
   {
    "duration": 60,
    "start_time": "2022-01-07T05:38:17.535Z"
   },
   {
    "duration": 4300,
    "start_time": "2022-01-07T05:38:25.714Z"
   },
   {
    "duration": 177,
    "start_time": "2022-01-07T05:39:52.503Z"
   },
   {
    "duration": 4,
    "start_time": "2022-01-07T05:39:58.057Z"
   },
   {
    "duration": 176,
    "start_time": "2022-01-07T05:40:08.137Z"
   },
   {
    "duration": 192,
    "start_time": "2022-01-07T05:40:13.289Z"
   },
   {
    "duration": 101,
    "start_time": "2022-01-07T05:40:36.365Z"
   },
   {
    "duration": 176,
    "start_time": "2022-01-07T05:41:10.749Z"
   },
   {
    "duration": 17,
    "start_time": "2022-01-07T05:41:14.229Z"
   },
   {
    "duration": 215,
    "start_time": "2022-01-07T05:42:40.327Z"
   },
   {
    "duration": 28,
    "start_time": "2022-01-07T05:42:58.933Z"
   },
   {
    "duration": 28,
    "start_time": "2022-01-07T05:43:19.009Z"
   },
   {
    "duration": 74,
    "start_time": "2022-01-07T05:45:25.429Z"
   },
   {
    "duration": 207,
    "start_time": "2022-01-07T05:45:40.669Z"
   },
   {
    "duration": 28,
    "start_time": "2022-01-07T05:46:01.050Z"
   },
   {
    "duration": 100,
    "start_time": "2022-01-07T05:46:39.529Z"
   },
   {
    "duration": 33,
    "start_time": "2022-01-07T05:46:45.505Z"
   },
   {
    "duration": 38,
    "start_time": "2022-01-07T05:46:50.177Z"
   },
   {
    "duration": 27,
    "start_time": "2022-01-07T05:47:45.761Z"
   },
   {
    "duration": 29,
    "start_time": "2022-01-07T05:47:52.757Z"
   },
   {
    "duration": 187,
    "start_time": "2022-01-07T05:49:03.058Z"
   },
   {
    "duration": 211,
    "start_time": "2022-01-07T05:49:13.281Z"
   },
   {
    "duration": 31,
    "start_time": "2022-01-07T05:49:26.593Z"
   },
   {
    "duration": 301,
    "start_time": "2022-01-07T17:25:59.164Z"
   },
   {
    "duration": 242,
    "start_time": "2022-01-07T17:26:02.972Z"
   },
   {
    "duration": 269,
    "start_time": "2022-01-07T17:27:09.320Z"
   },
   {
    "duration": 2,
    "start_time": "2022-01-07T17:27:24.560Z"
   },
   {
    "duration": 284,
    "start_time": "2022-01-07T17:27:47.376Z"
   },
   {
    "duration": 715,
    "start_time": "2022-01-07T17:27:55.208Z"
   },
   {
    "duration": -337,
    "start_time": "2022-01-07T17:28:16.585Z"
   },
   {
    "duration": 9,
    "start_time": "2022-01-07T17:28:30.476Z"
   },
   {
    "duration": 9,
    "start_time": "2022-01-07T17:28:35.800Z"
   },
   {
    "duration": 5,
    "start_time": "2022-01-07T17:28:39.536Z"
   },
   {
    "duration": 4,
    "start_time": "2022-01-07T17:31:35.564Z"
   },
   {
    "duration": 339,
    "start_time": "2022-01-07T17:32:50.165Z"
   },
   {
    "duration": 226,
    "start_time": "2022-01-07T17:32:55.584Z"
   },
   {
    "duration": 343,
    "start_time": "2022-01-07T17:33:02.952Z"
   },
   {
    "duration": 4,
    "start_time": "2022-01-07T17:33:16.309Z"
   },
   {
    "duration": 6,
    "start_time": "2022-01-07T17:33:24.964Z"
   },
   {
    "duration": 21,
    "start_time": "2022-01-07T17:37:35.036Z"
   },
   {
    "duration": 6,
    "start_time": "2022-01-07T17:37:39.598Z"
   },
   {
    "duration": 8,
    "start_time": "2022-01-07T17:48:32.244Z"
   },
   {
    "duration": 310,
    "start_time": "2022-01-07T17:48:58.357Z"
   },
   {
    "duration": 12,
    "start_time": "2022-01-07T17:49:16.745Z"
   },
   {
    "duration": 314,
    "start_time": "2022-01-07T17:49:35.845Z"
   },
   {
    "duration": 10,
    "start_time": "2022-01-07T17:49:51.401Z"
   },
   {
    "duration": 11,
    "start_time": "2022-01-07T17:51:16.221Z"
   },
   {
    "duration": 23,
    "start_time": "2022-01-07T17:52:27.433Z"
   },
   {
    "duration": 250,
    "start_time": "2022-01-07T17:52:36.977Z"
   },
   {
    "duration": 109,
    "start_time": "2022-01-07T17:52:39.714Z"
   },
   {
    "duration": 261,
    "start_time": "2022-01-07T17:52:42.653Z"
   },
   {
    "duration": 110,
    "start_time": "2022-01-07T17:53:03.112Z"
   },
   {
    "duration": 131,
    "start_time": "2022-01-07T17:53:07.657Z"
   },
   {
    "duration": 90,
    "start_time": "2022-01-07T17:53:51.053Z"
   },
   {
    "duration": 18,
    "start_time": "2022-01-07T17:54:09.465Z"
   },
   {
    "duration": 14,
    "start_time": "2022-01-07T17:54:21.361Z"
   },
   {
    "duration": 15,
    "start_time": "2022-01-07T18:04:34.500Z"
   },
   {
    "duration": 17,
    "start_time": "2022-01-07T18:05:34.573Z"
   },
   {
    "duration": 22,
    "start_time": "2022-01-07T18:06:01.929Z"
   },
   {
    "duration": 52,
    "start_time": "2022-01-07T18:06:08.501Z"
   },
   {
    "duration": 15,
    "start_time": "2022-01-07T18:06:22.340Z"
   },
   {
    "duration": 17,
    "start_time": "2022-01-07T18:06:41.445Z"
   },
   {
    "duration": 15,
    "start_time": "2022-01-07T18:09:46.867Z"
   },
   {
    "duration": 12,
    "start_time": "2022-01-07T18:09:58.302Z"
   },
   {
    "duration": 89,
    "start_time": "2022-01-07T18:10:14.651Z"
   },
   {
    "duration": 81,
    "start_time": "2022-01-07T18:10:18.843Z"
   },
   {
    "duration": 92,
    "start_time": "2022-01-07T18:10:44.638Z"
   },
   {
    "duration": 12,
    "start_time": "2022-01-07T18:10:50.622Z"
   },
   {
    "duration": 229,
    "start_time": "2022-01-07T18:10:55.198Z"
   },
   {
    "duration": 15,
    "start_time": "2022-01-07T18:10:59.902Z"
   },
   {
    "duration": 10,
    "start_time": "2022-01-07T18:11:12.499Z"
   },
   {
    "duration": 11,
    "start_time": "2022-01-07T18:11:17.454Z"
   },
   {
    "duration": 12,
    "start_time": "2022-01-07T18:11:30.167Z"
   },
   {
    "duration": 9,
    "start_time": "2022-01-07T18:41:29.733Z"
   },
   {
    "duration": 8,
    "start_time": "2022-01-07T18:42:12.126Z"
   },
   {
    "duration": 8,
    "start_time": "2022-01-07T18:42:26.318Z"
   },
   {
    "duration": 8,
    "start_time": "2022-01-07T18:42:32.806Z"
   },
   {
    "duration": 7,
    "start_time": "2022-01-07T18:42:40.414Z"
   },
   {
    "duration": 250,
    "start_time": "2022-01-07T18:44:11.244Z"
   },
   {
    "duration": 240,
    "start_time": "2022-01-07T18:44:43.235Z"
   },
   {
    "duration": 288,
    "start_time": "2022-01-07T18:44:48.370Z"
   },
   {
    "duration": 232,
    "start_time": "2022-01-07T18:46:27.783Z"
   },
   {
    "duration": 15,
    "start_time": "2022-01-07T18:46:33.319Z"
   },
   {
    "duration": 240,
    "start_time": "2022-01-07T18:47:22.391Z"
   },
   {
    "duration": 247,
    "start_time": "2022-01-07T18:47:31.500Z"
   },
   {
    "duration": 246,
    "start_time": "2022-01-07T18:47:45.211Z"
   },
   {
    "duration": 80,
    "start_time": "2022-01-07T18:48:01.799Z"
   },
   {
    "duration": 235,
    "start_time": "2022-01-07T18:48:05.887Z"
   },
   {
    "duration": 293,
    "start_time": "2022-01-07T18:48:15.131Z"
   },
   {
    "duration": 12,
    "start_time": "2022-01-07T18:50:52.940Z"
   },
   {
    "duration": 9,
    "start_time": "2022-01-07T18:51:00.587Z"
   },
   {
    "duration": 5,
    "start_time": "2022-01-07T18:51:10.739Z"
   },
   {
    "duration": 5,
    "start_time": "2022-01-07T18:52:07.046Z"
   },
   {
    "duration": 243,
    "start_time": "2022-01-07T18:52:11.734Z"
   },
   {
    "duration": 6,
    "start_time": "2022-01-07T18:52:15.263Z"
   },
   {
    "duration": 7,
    "start_time": "2022-01-07T18:52:43.755Z"
   },
   {
    "duration": 8,
    "start_time": "2022-01-07T18:53:43.804Z"
   },
   {
    "duration": 237,
    "start_time": "2022-01-07T18:54:16.539Z"
   },
   {
    "duration": 23,
    "start_time": "2022-01-07T18:54:30.584Z"
   },
   {
    "duration": 9,
    "start_time": "2022-01-07T18:54:56.983Z"
   },
   {
    "duration": 82,
    "start_time": "2022-01-07T18:55:32.462Z"
   },
   {
    "duration": 14,
    "start_time": "2022-01-07T18:55:40.647Z"
   },
   {
    "duration": 11,
    "start_time": "2022-01-07T18:56:24.855Z"
   },
   {
    "duration": 247,
    "start_time": "2022-01-07T18:56:32.647Z"
   },
   {
    "duration": 12,
    "start_time": "2022-01-07T18:56:36.383Z"
   },
   {
    "duration": 12,
    "start_time": "2022-01-07T18:57:08.174Z"
   },
   {
    "duration": 12,
    "start_time": "2022-01-07T18:57:17.390Z"
   },
   {
    "duration": 14,
    "start_time": "2022-01-07T18:58:39.282Z"
   },
   {
    "duration": 14,
    "start_time": "2022-01-07T18:59:35.935Z"
   },
   {
    "duration": 15,
    "start_time": "2022-01-07T18:59:45.143Z"
   },
   {
    "duration": 13,
    "start_time": "2022-01-07T19:00:30.775Z"
   },
   {
    "duration": 13,
    "start_time": "2022-01-07T19:03:13.407Z"
   },
   {
    "duration": 15,
    "start_time": "2022-01-07T19:03:40.858Z"
   },
   {
    "duration": 14,
    "start_time": "2022-01-07T19:03:54.671Z"
   },
   {
    "duration": 20,
    "start_time": "2022-01-07T19:04:01.447Z"
   },
   {
    "duration": 15,
    "start_time": "2022-01-07T19:04:07.455Z"
   },
   {
    "duration": 19,
    "start_time": "2022-01-07T19:04:21.947Z"
   },
   {
    "duration": 18,
    "start_time": "2022-01-07T19:07:46.315Z"
   },
   {
    "duration": 18,
    "start_time": "2022-01-07T19:08:54.671Z"
   },
   {
    "duration": 19,
    "start_time": "2022-01-07T19:09:29.547Z"
   },
   {
    "duration": 250,
    "start_time": "2022-01-07T19:10:06.071Z"
   },
   {
    "duration": 382,
    "start_time": "2022-01-07T19:10:12.787Z"
   },
   {
    "duration": 298,
    "start_time": "2022-01-07T19:10:31.395Z"
   },
   {
    "duration": 16,
    "start_time": "2022-01-07T19:10:37.895Z"
   },
   {
    "duration": 20,
    "start_time": "2022-01-07T19:13:34.203Z"
   },
   {
    "duration": 24,
    "start_time": "2022-01-07T19:14:00.278Z"
   },
   {
    "duration": 26,
    "start_time": "2022-01-07T19:14:20.431Z"
   },
   {
    "duration": 29,
    "start_time": "2022-01-07T19:14:29.234Z"
   },
   {
    "duration": 21,
    "start_time": "2022-01-07T19:15:56.118Z"
   },
   {
    "duration": 22,
    "start_time": "2022-01-07T19:16:00.583Z"
   },
   {
    "duration": 15,
    "start_time": "2022-01-07T19:20:28.851Z"
   },
   {
    "duration": 8,
    "start_time": "2022-01-07T19:20:30.706Z"
   },
   {
    "duration": 7,
    "start_time": "2022-01-07T19:20:49.735Z"
   },
   {
    "duration": 21,
    "start_time": "2022-01-07T19:21:24.026Z"
   },
   {
    "duration": 15,
    "start_time": "2022-01-07T19:21:34.447Z"
   },
   {
    "duration": 16,
    "start_time": "2022-01-07T19:21:49.235Z"
   },
   {
    "duration": 15,
    "start_time": "2022-01-07T19:22:13.644Z"
   },
   {
    "duration": 9,
    "start_time": "2022-01-07T19:22:38.911Z"
   },
   {
    "duration": 247,
    "start_time": "2022-01-07T19:23:05.485Z"
   },
   {
    "duration": 12,
    "start_time": "2022-01-07T19:23:09.459Z"
   },
   {
    "duration": 9,
    "start_time": "2022-01-07T19:24:07.623Z"
   },
   {
    "duration": 9,
    "start_time": "2022-01-07T19:25:27.483Z"
   },
   {
    "duration": 12,
    "start_time": "2022-01-07T19:25:33.386Z"
   },
   {
    "duration": 7,
    "start_time": "2022-01-07T19:26:56.247Z"
   },
   {
    "duration": 29,
    "start_time": "2022-01-07T19:27:03.123Z"
   },
   {
    "duration": 42,
    "start_time": "2022-01-07T19:28:03.683Z"
   },
   {
    "duration": 61,
    "start_time": "2022-01-07T19:28:51.155Z"
   },
   {
    "duration": 326,
    "start_time": "2022-01-07T19:28:59.667Z"
   },
   {
    "duration": 23,
    "start_time": "2022-01-07T19:29:08.131Z"
   },
   {
    "duration": 7,
    "start_time": "2022-01-07T19:44:57.378Z"
   },
   {
    "duration": 15,
    "start_time": "2022-01-07T20:16:22.640Z"
   },
   {
    "duration": 15,
    "start_time": "2022-01-07T20:17:10.880Z"
   },
   {
    "duration": 15,
    "start_time": "2022-01-07T20:17:17.231Z"
   },
   {
    "duration": 30,
    "start_time": "2022-01-07T20:17:40.619Z"
   },
   {
    "duration": 23,
    "start_time": "2022-01-07T20:18:47.475Z"
   },
   {
    "duration": 11,
    "start_time": "2022-01-07T20:18:56.408Z"
   },
   {
    "duration": 17,
    "start_time": "2022-01-07T20:22:26.192Z"
   },
   {
    "duration": 11,
    "start_time": "2022-01-07T20:23:10.087Z"
   },
   {
    "duration": 21,
    "start_time": "2022-01-07T20:24:39.291Z"
   },
   {
    "duration": 18,
    "start_time": "2022-01-07T20:28:46.331Z"
   },
   {
    "duration": 6,
    "start_time": "2022-01-07T20:44:20.942Z"
   },
   {
    "duration": 4,
    "start_time": "2022-01-07T20:44:28.339Z"
   },
   {
    "duration": 238,
    "start_time": "2022-01-07T20:44:53.517Z"
   },
   {
    "duration": 4,
    "start_time": "2022-01-07T20:45:07.670Z"
   },
   {
    "duration": 5,
    "start_time": "2022-01-07T20:45:11.662Z"
   },
   {
    "duration": 252,
    "start_time": "2022-01-07T20:47:53.062Z"
   },
   {
    "duration": 4,
    "start_time": "2022-01-07T20:48:00.138Z"
   },
   {
    "duration": 7,
    "start_time": "2022-01-07T20:48:06.842Z"
   },
   {
    "duration": 255,
    "start_time": "2022-01-07T20:48:10.858Z"
   },
   {
    "duration": 232,
    "start_time": "2022-01-07T20:48:16.250Z"
   },
   {
    "duration": 8,
    "start_time": "2022-01-07T20:48:20.890Z"
   },
   {
    "duration": 9,
    "start_time": "2022-01-07T20:48:31.334Z"
   },
   {
    "duration": 8,
    "start_time": "2022-01-07T20:48:36.142Z"
   },
   {
    "duration": 8,
    "start_time": "2022-01-07T20:48:59.841Z"
   },
   {
    "duration": 230,
    "start_time": "2022-01-07T20:50:58.822Z"
   },
   {
    "duration": 87,
    "start_time": "2022-01-07T20:51:07.510Z"
   },
   {
    "duration": 125,
    "start_time": "2022-01-07T20:51:14.407Z"
   },
   {
    "duration": 6,
    "start_time": "2022-01-07T20:51:24.114Z"
   },
   {
    "duration": 8,
    "start_time": "2022-01-07T20:52:22.458Z"
   },
   {
    "duration": 5,
    "start_time": "2022-01-07T21:19:24.006Z"
   },
   {
    "duration": 15,
    "start_time": "2022-01-07T21:29:23.162Z"
   },
   {
    "duration": 13,
    "start_time": "2022-01-07T21:29:31.586Z"
   },
   {
    "duration": 20,
    "start_time": "2022-01-07T21:29:58.822Z"
   },
   {
    "duration": 293,
    "start_time": "2022-01-07T21:30:30.526Z"
   },
   {
    "duration": 22,
    "start_time": "2022-01-07T21:30:35.741Z"
   },
   {
    "duration": 17,
    "start_time": "2022-01-07T21:31:59.274Z"
   },
   {
    "duration": 17,
    "start_time": "2022-01-07T21:32:09.350Z"
   },
   {
    "duration": 16,
    "start_time": "2022-01-07T21:32:20.446Z"
   },
   {
    "duration": 15,
    "start_time": "2022-01-07T21:32:46.490Z"
   },
   {
    "duration": 17,
    "start_time": "2022-01-07T21:32:50.051Z"
   },
   {
    "duration": 11,
    "start_time": "2022-01-07T21:33:13.974Z"
   },
   {
    "duration": 3,
    "start_time": "2022-01-07T22:17:40.890Z"
   },
   {
    "duration": 5868,
    "start_time": "2022-01-07T22:17:55.934Z"
   },
   {
    "duration": 17,
    "start_time": "2022-01-07T22:18:12.713Z"
   },
   {
    "duration": 39,
    "start_time": "2022-01-07T22:18:45.318Z"
   },
   {
    "duration": 23,
    "start_time": "2022-01-07T22:18:56.574Z"
   },
   {
    "duration": 24,
    "start_time": "2022-01-07T22:19:29.162Z"
   },
   {
    "duration": 8,
    "start_time": "2022-01-07T22:22:14.674Z"
   },
   {
    "duration": 9,
    "start_time": "2022-01-07T22:22:27.977Z"
   },
   {
    "duration": 265,
    "start_time": "2022-01-07T22:25:54.690Z"
   },
   {
    "duration": 12,
    "start_time": "2022-01-07T22:26:05.442Z"
   },
   {
    "duration": 8,
    "start_time": "2022-01-07T22:26:19.062Z"
   },
   {
    "duration": 8,
    "start_time": "2022-01-07T22:26:26.021Z"
   },
   {
    "duration": 22,
    "start_time": "2022-01-07T23:03:56.323Z"
   },
   {
    "duration": 244,
    "start_time": "2022-01-07T23:05:47.442Z"
   },
   {
    "duration": 359,
    "start_time": "2022-01-07T23:06:01.150Z"
   },
   {
    "duration": 12,
    "start_time": "2022-01-07T23:06:19.250Z"
   },
   {
    "duration": 6,
    "start_time": "2022-01-07T23:06:33.890Z"
   },
   {
    "duration": 9,
    "start_time": "2022-01-07T23:06:45.773Z"
   },
   {
    "duration": 20,
    "start_time": "2022-01-07T23:07:20.572Z"
   },
   {
    "duration": 18,
    "start_time": "2022-01-07T23:08:13.734Z"
   },
   {
    "duration": 20,
    "start_time": "2022-01-07T23:08:27.188Z"
   },
   {
    "duration": 21,
    "start_time": "2022-01-07T23:10:23.289Z"
   },
   {
    "duration": 323,
    "start_time": "2022-01-07T23:20:58.534Z"
   },
   {
    "duration": 375,
    "start_time": "2022-01-07T23:21:15.886Z"
   },
   {
    "duration": 19,
    "start_time": "2022-01-07T23:22:12.527Z"
   },
   {
    "duration": 281,
    "start_time": "2022-01-08T00:29:09.930Z"
   },
   {
    "duration": 29,
    "start_time": "2022-01-08T00:31:51.037Z"
   },
   {
    "duration": 56,
    "start_time": "2022-01-08T00:34:24.061Z"
   },
   {
    "duration": 48,
    "start_time": "2022-01-08T00:34:37.751Z"
   },
   {
    "duration": 41,
    "start_time": "2022-01-08T00:35:08.411Z"
   },
   {
    "duration": 41,
    "start_time": "2022-01-08T00:35:16.236Z"
   },
   {
    "duration": 29,
    "start_time": "2022-01-08T00:36:18.614Z"
   },
   {
    "duration": 30,
    "start_time": "2022-01-08T00:37:15.361Z"
   },
   {
    "duration": 45,
    "start_time": "2022-01-08T00:38:45.966Z"
   },
   {
    "duration": 616,
    "start_time": "2022-01-08T00:39:05.577Z"
   },
   {
    "duration": 82,
    "start_time": "2022-01-08T00:39:42.735Z"
   },
   {
    "duration": 54,
    "start_time": "2022-01-08T00:39:59.609Z"
   },
   {
    "duration": 118,
    "start_time": "2022-01-08T00:40:23.773Z"
   },
   {
    "duration": 43,
    "start_time": "2022-01-08T00:41:22.720Z"
   },
   {
    "duration": 39,
    "start_time": "2022-01-08T00:43:33.788Z"
   },
   {
    "duration": 29,
    "start_time": "2022-01-08T00:43:49.680Z"
   },
   {
    "duration": 31,
    "start_time": "2022-01-08T00:49:59.977Z"
   },
   {
    "duration": 32,
    "start_time": "2022-01-08T00:50:30.277Z"
   },
   {
    "duration": 51,
    "start_time": "2022-01-08T00:50:53.520Z"
   },
   {
    "duration": 39,
    "start_time": "2022-01-08T00:51:33.974Z"
   },
   {
    "duration": 51,
    "start_time": "2022-01-08T00:53:43.820Z"
   },
   {
    "duration": 56,
    "start_time": "2022-01-08T01:05:55.892Z"
   },
   {
    "duration": 68,
    "start_time": "2022-01-08T01:06:12.578Z"
   },
   {
    "duration": 55,
    "start_time": "2022-01-08T01:06:31.358Z"
   },
   {
    "duration": 87,
    "start_time": "2022-01-08T01:08:22.590Z"
   },
   {
    "duration": 280,
    "start_time": "2022-01-08T01:09:36.257Z"
   },
   {
    "duration": 49,
    "start_time": "2022-01-08T01:09:51.349Z"
   },
   {
    "duration": 292,
    "start_time": "2022-01-08T01:10:05.864Z"
   },
   {
    "duration": 80,
    "start_time": "2022-01-08T01:10:20.986Z"
   },
   {
    "duration": 53,
    "start_time": "2022-01-08T01:10:23.754Z"
   },
   {
    "duration": 77,
    "start_time": "2022-01-08T01:37:41.238Z"
   },
   {
    "duration": 73,
    "start_time": "2022-01-08T01:38:00.840Z"
   },
   {
    "duration": 17,
    "start_time": "2022-01-08T01:50:36.926Z"
   },
   {
    "duration": 22,
    "start_time": "2022-01-08T01:50:50.625Z"
   },
   {
    "duration": 23,
    "start_time": "2022-01-08T01:51:12.879Z"
   },
   {
    "duration": 10,
    "start_time": "2022-01-08T01:51:37.353Z"
   },
   {
    "duration": 23,
    "start_time": "2022-01-08T01:51:44.137Z"
   },
   {
    "duration": 23,
    "start_time": "2022-01-08T01:51:55.219Z"
   },
   {
    "duration": 24,
    "start_time": "2022-01-08T02:12:44.970Z"
   },
   {
    "duration": 21,
    "start_time": "2022-01-08T02:12:51.346Z"
   },
   {
    "duration": 282,
    "start_time": "2022-01-08T02:31:02.736Z"
   },
   {
    "duration": 18,
    "start_time": "2022-01-08T02:31:17.442Z"
   },
   {
    "duration": 22,
    "start_time": "2022-01-08T02:31:26.649Z"
   },
   {
    "duration": 6629,
    "start_time": "2022-01-08T02:31:38.390Z"
   },
   {
    "duration": 92,
    "start_time": "2022-01-08T02:31:47.465Z"
   },
   {
    "duration": 253,
    "start_time": "2022-01-08T02:31:50.435Z"
   },
   {
    "duration": 19,
    "start_time": "2022-01-08T02:31:57.425Z"
   },
   {
    "duration": 87,
    "start_time": "2022-01-08T02:32:47.488Z"
   },
   {
    "duration": 37,
    "start_time": "2022-01-08T02:32:54.497Z"
   },
   {
    "duration": 360,
    "start_time": "2022-01-08T02:35:21.497Z"
   },
   {
    "duration": 20,
    "start_time": "2022-01-08T02:36:22.642Z"
   },
   {
    "duration": 22,
    "start_time": "2022-01-08T02:37:36.864Z"
   },
   {
    "duration": 22,
    "start_time": "2022-01-08T02:37:44.120Z"
   },
   {
    "duration": 31,
    "start_time": "2022-01-08T02:38:20.700Z"
   },
   {
    "duration": 96,
    "start_time": "2022-01-08T02:38:56.075Z"
   },
   {
    "duration": 21,
    "start_time": "2022-01-08T02:38:59.621Z"
   },
   {
    "duration": 262,
    "start_time": "2022-01-08T02:39:27.775Z"
   },
   {
    "duration": 2732,
    "start_time": "2022-01-08T02:39:52.258Z"
   },
   {
    "duration": 6820,
    "start_time": "2022-01-08T02:39:58.089Z"
   },
   {
    "duration": 6550,
    "start_time": "2022-01-08T02:40:09.253Z"
   },
   {
    "duration": 268,
    "start_time": "2022-01-08T02:44:42.725Z"
   },
   {
    "duration": 252,
    "start_time": "2022-01-08T02:45:14.632Z"
   },
   {
    "duration": 18,
    "start_time": "2022-01-08T02:47:07.529Z"
   },
   {
    "duration": 17,
    "start_time": "2022-01-08T02:49:24.268Z"
   },
   {
    "duration": 319,
    "start_time": "2022-01-08T02:49:29.296Z"
   },
   {
    "duration": 16,
    "start_time": "2022-01-08T02:49:41.737Z"
   },
   {
    "duration": 23,
    "start_time": "2022-01-08T02:53:29.974Z"
   },
   {
    "duration": 22,
    "start_time": "2022-01-08T02:53:38.151Z"
   },
   {
    "duration": 18,
    "start_time": "2022-01-08T02:54:35.536Z"
   },
   {
    "duration": 92,
    "start_time": "2022-01-08T02:54:42.641Z"
   },
   {
    "duration": 82,
    "start_time": "2022-01-08T02:54:47.193Z"
   },
   {
    "duration": 91,
    "start_time": "2022-01-08T02:54:50.066Z"
   },
   {
    "duration": 16,
    "start_time": "2022-01-08T02:55:10.213Z"
   },
   {
    "duration": 18,
    "start_time": "2022-01-08T02:55:24.846Z"
   },
   {
    "duration": 5949,
    "start_time": "2022-01-08T02:55:39.330Z"
   },
   {
    "duration": 20,
    "start_time": "2022-01-08T02:55:52.286Z"
   },
   {
    "duration": 13,
    "start_time": "2022-01-08T03:02:27.185Z"
   },
   {
    "duration": 5913,
    "start_time": "2022-01-08T03:02:40.356Z"
   },
   {
    "duration": 7,
    "start_time": "2022-01-08T03:03:05.355Z"
   },
   {
    "duration": 3455,
    "start_time": "2022-01-08T03:03:45.871Z"
   },
   {
    "duration": 4132,
    "start_time": "2022-01-08T03:04:05.066Z"
   },
   {
    "duration": 5815,
    "start_time": "2022-01-08T03:14:22.212Z"
   },
   {
    "duration": 13,
    "start_time": "2022-01-08T03:14:40.006Z"
   },
   {
    "duration": 1183,
    "start_time": "2022-01-08T03:16:40.378Z"
   },
   {
    "duration": 248,
    "start_time": "2022-01-08T03:22:09.693Z"
   },
   {
    "duration": 233,
    "start_time": "2022-01-08T03:22:17.998Z"
   },
   {
    "duration": 15,
    "start_time": "2022-01-08T03:23:05.599Z"
   },
   {
    "duration": 17,
    "start_time": "2022-01-08T03:23:17.792Z"
   },
   {
    "duration": -263,
    "start_time": "2022-01-08T03:25:35.355Z"
   },
   {
    "duration": 6729,
    "start_time": "2022-01-08T03:25:47.423Z"
   },
   {
    "duration": 20,
    "start_time": "2022-01-08T03:26:10.652Z"
   },
   {
    "duration": 7126,
    "start_time": "2022-01-08T03:26:20.708Z"
   },
   {
    "duration": 18,
    "start_time": "2022-01-08T03:26:35.753Z"
   },
   {
    "duration": 19,
    "start_time": "2022-01-08T03:26:50.611Z"
   },
   {
    "duration": 254,
    "start_time": "2022-01-08T03:27:46.434Z"
   },
   {
    "duration": 97,
    "start_time": "2022-01-08T03:27:54.331Z"
   },
   {
    "duration": 19,
    "start_time": "2022-01-08T03:27:59.285Z"
   },
   {
    "duration": 324,
    "start_time": "2022-01-08T03:29:02.030Z"
   },
   {
    "duration": 18,
    "start_time": "2022-01-08T03:29:06.151Z"
   },
   {
    "duration": -255,
    "start_time": "2022-01-08T03:29:24.230Z"
   },
   {
    "duration": 6062,
    "start_time": "2022-01-08T03:29:56.278Z"
   },
   {
    "duration": 20,
    "start_time": "2022-01-08T03:30:28.173Z"
   },
   {
    "duration": 18,
    "start_time": "2022-01-08T03:31:08.778Z"
   },
   {
    "duration": 18,
    "start_time": "2022-01-08T03:31:50.913Z"
   },
   {
    "duration": 18,
    "start_time": "2022-01-08T03:32:11.581Z"
   },
   {
    "duration": 1167,
    "start_time": "2022-01-08T03:32:27.063Z"
   },
   {
    "duration": 19,
    "start_time": "2022-01-08T03:34:15.480Z"
   },
   {
    "duration": 19,
    "start_time": "2022-01-08T03:34:20.360Z"
   },
   {
    "duration": 17,
    "start_time": "2022-01-08T03:34:24.003Z"
   },
   {
    "duration": 16,
    "start_time": "2022-01-08T03:34:44.269Z"
   },
   {
    "duration": 697,
    "start_time": "2022-01-08T03:34:46.997Z"
   },
   {
    "duration": 16,
    "start_time": "2022-01-08T03:35:16.986Z"
   },
   {
    "duration": 7130,
    "start_time": "2022-01-08T03:35:30.660Z"
   },
   {
    "duration": 19,
    "start_time": "2022-01-08T03:36:28.813Z"
   },
   {
    "duration": 22,
    "start_time": "2022-01-08T03:37:30.138Z"
   },
   {
    "duration": 341,
    "start_time": "2022-01-08T03:38:02.101Z"
   },
   {
    "duration": 986,
    "start_time": "2022-01-08T03:38:07.542Z"
   },
   {
    "duration": 81,
    "start_time": "2022-01-08T03:38:11.333Z"
   },
   {
    "duration": 954,
    "start_time": "2022-01-08T03:38:15.125Z"
   },
   {
    "duration": -248,
    "start_time": "2022-01-08T03:39:33.198Z"
   },
   {
    "duration": 23,
    "start_time": "2022-01-08T03:39:54.373Z"
   },
   {
    "duration": 21,
    "start_time": "2022-01-08T03:40:14.497Z"
   },
   {
    "duration": 4342,
    "start_time": "2022-01-08T03:41:45.351Z"
   },
   {
    "duration": 16,
    "start_time": "2022-01-08T03:41:56.424Z"
   },
   {
    "duration": 838591,
    "start_time": "2022-01-08T03:42:32.526Z"
   },
   {
    "duration": 29,
    "start_time": "2022-01-08T04:29:32.573Z"
   },
   {
    "duration": 69,
    "start_time": "2022-01-08T04:30:53.586Z"
   },
   {
    "duration": 75,
    "start_time": "2022-01-08T04:31:14.415Z"
   },
   {
    "duration": 9,
    "start_time": "2022-01-08T05:21:18.779Z"
   },
   {
    "duration": 64869,
    "start_time": "2022-01-08T05:21:25.704Z"
   },
   {
    "duration": 10,
    "start_time": "2022-01-08T05:24:56.570Z"
   },
   {
    "duration": 9,
    "start_time": "2022-01-08T05:25:00.523Z"
   },
   {
    "duration": 63489,
    "start_time": "2022-01-08T05:25:03.234Z"
   },
   {
    "duration": 666,
    "start_time": "2022-01-08T16:03:55.450Z"
   },
   {
    "duration": 897,
    "start_time": "2022-01-08T16:04:41.414Z"
   },
   {
    "duration": 5,
    "start_time": "2022-01-08T16:04:42.314Z"
   },
   {
    "duration": 44,
    "start_time": "2022-01-08T16:04:42.322Z"
   },
   {
    "duration": 14,
    "start_time": "2022-01-08T16:04:42.369Z"
   },
   {
    "duration": 36,
    "start_time": "2022-01-08T16:04:42.386Z"
   },
   {
    "duration": 14,
    "start_time": "2022-01-08T16:04:42.424Z"
   },
   {
    "duration": 16,
    "start_time": "2022-01-08T16:04:42.441Z"
   },
   {
    "duration": 18,
    "start_time": "2022-01-08T16:04:42.459Z"
   },
   {
    "duration": 30,
    "start_time": "2022-01-08T16:04:42.519Z"
   },
   {
    "duration": 69,
    "start_time": "2022-01-08T16:04:42.552Z"
   },
   {
    "duration": 3,
    "start_time": "2022-01-08T16:04:42.624Z"
   },
   {
    "duration": 10,
    "start_time": "2022-01-08T16:04:42.629Z"
   },
   {
    "duration": 13,
    "start_time": "2022-01-08T16:04:42.642Z"
   },
   {
    "duration": 11,
    "start_time": "2022-01-08T16:04:42.658Z"
   },
   {
    "duration": 47,
    "start_time": "2022-01-08T16:04:42.671Z"
   },
   {
    "duration": 29,
    "start_time": "2022-01-08T16:04:42.721Z"
   },
   {
    "duration": 7,
    "start_time": "2022-01-08T16:04:42.753Z"
   },
   {
    "duration": 60,
    "start_time": "2022-01-08T16:04:42.763Z"
   },
   {
    "duration": 30,
    "start_time": "2022-01-08T16:04:42.826Z"
   },
   {
    "duration": 34,
    "start_time": "2022-01-08T16:04:42.859Z"
   },
   {
    "duration": 30,
    "start_time": "2022-01-08T16:04:42.896Z"
   },
   {
    "duration": 7,
    "start_time": "2022-01-08T16:04:42.928Z"
   },
   {
    "duration": 7,
    "start_time": "2022-01-08T16:04:42.938Z"
   },
   {
    "duration": 13,
    "start_time": "2022-01-08T16:04:42.948Z"
   },
   {
    "duration": 3,
    "start_time": "2022-01-08T16:04:42.964Z"
   },
   {
    "duration": 5,
    "start_time": "2022-01-08T16:04:42.969Z"
   },
   {
    "duration": 7,
    "start_time": "2022-01-08T16:04:42.980Z"
   },
   {
    "duration": 11,
    "start_time": "2022-01-08T16:04:42.991Z"
   },
   {
    "duration": 2,
    "start_time": "2022-01-08T16:04:43.018Z"
   },
   {
    "duration": 11,
    "start_time": "2022-01-08T16:04:43.022Z"
   },
   {
    "duration": 3,
    "start_time": "2022-01-08T16:04:43.035Z"
   },
   {
    "duration": 5,
    "start_time": "2022-01-08T16:04:43.040Z"
   },
   {
    "duration": 30,
    "start_time": "2022-01-08T16:04:43.047Z"
   },
   {
    "duration": 25,
    "start_time": "2022-01-08T16:04:43.079Z"
   },
   {
    "duration": 32,
    "start_time": "2022-01-08T16:04:43.107Z"
   },
   {
    "duration": 13,
    "start_time": "2022-01-08T16:04:43.141Z"
   },
   {
    "duration": 3,
    "start_time": "2022-01-08T16:04:43.157Z"
   },
   {
    "duration": 7,
    "start_time": "2022-01-08T16:04:43.162Z"
   },
   {
    "duration": 29,
    "start_time": "2022-01-08T16:04:43.172Z"
   },
   {
    "duration": 51,
    "start_time": "2022-01-08T16:04:43.203Z"
   },
   {
    "duration": 14,
    "start_time": "2022-01-08T16:04:43.257Z"
   },
   {
    "duration": 45,
    "start_time": "2022-01-08T16:04:43.273Z"
   },
   {
    "duration": 33,
    "start_time": "2022-01-08T16:04:43.320Z"
   },
   {
    "duration": 39,
    "start_time": "2022-01-08T16:04:43.356Z"
   },
   {
    "duration": 152,
    "start_time": "2022-01-08T16:04:43.398Z"
   },
   {
    "duration": 12,
    "start_time": "2022-01-08T16:04:43.553Z"
   },
   {
    "duration": 115298,
    "start_time": "2022-01-08T16:04:43.567Z"
   },
   {
    "duration": 3,
    "start_time": "2022-01-08T16:06:38.867Z"
   },
   {
    "duration": 5,
    "start_time": "2022-01-08T16:06:38.873Z"
   },
   {
    "duration": 5,
    "start_time": "2022-01-08T16:06:38.880Z"
   },
   {
    "duration": 30,
    "start_time": "2022-01-08T16:06:38.887Z"
   },
   {
    "duration": 8,
    "start_time": "2022-01-08T16:06:38.919Z"
   },
   {
    "duration": 6,
    "start_time": "2022-01-08T16:06:38.929Z"
   },
   {
    "duration": 5,
    "start_time": "2022-01-08T16:06:38.937Z"
   },
   {
    "duration": 5,
    "start_time": "2022-01-08T16:06:38.944Z"
   },
   {
    "duration": 10,
    "start_time": "2022-01-08T16:06:38.952Z"
   },
   {
    "duration": 11,
    "start_time": "2022-01-08T16:06:38.964Z"
   },
   {
    "duration": 6,
    "start_time": "2022-01-08T16:06:38.977Z"
   },
   {
    "duration": 32,
    "start_time": "2022-01-08T16:06:38.985Z"
   },
   {
    "duration": 6,
    "start_time": "2022-01-08T16:06:39.020Z"
   },
   {
    "duration": 6,
    "start_time": "2022-01-08T16:06:39.028Z"
   },
   {
    "duration": 9,
    "start_time": "2022-01-08T16:06:39.036Z"
   },
   {
    "duration": 5,
    "start_time": "2022-01-08T16:06:39.048Z"
   },
   {
    "duration": 5,
    "start_time": "2022-01-08T16:06:39.056Z"
   },
   {
    "duration": 5,
    "start_time": "2022-01-08T16:06:39.063Z"
   },
   {
    "duration": 4,
    "start_time": "2022-01-08T16:06:39.071Z"
   },
   {
    "duration": 4,
    "start_time": "2022-01-08T16:06:39.078Z"
   },
   {
    "duration": 4,
    "start_time": "2022-01-08T16:06:39.118Z"
   },
   {
    "duration": 7,
    "start_time": "2022-01-08T16:06:39.124Z"
   },
   {
    "duration": 7,
    "start_time": "2022-01-08T16:06:39.133Z"
   },
   {
    "duration": 5,
    "start_time": "2022-01-08T16:06:39.142Z"
   },
   {
    "duration": 6,
    "start_time": "2022-01-08T16:06:39.149Z"
   },
   {
    "duration": 12,
    "start_time": "2022-01-08T17:02:13.239Z"
   },
   {
    "duration": 105692,
    "start_time": "2022-01-08T17:02:13.979Z"
   },
   {
    "duration": 15,
    "start_time": "2022-01-08T17:07:52.672Z"
   },
   {
    "duration": 677,
    "start_time": "2022-01-08T17:07:58.433Z"
   },
   {
    "duration": 14,
    "start_time": "2022-01-08T17:10:15.763Z"
   },
   {
    "duration": 795,
    "start_time": "2022-01-08T17:10:17.985Z"
   },
   {
    "duration": 12,
    "start_time": "2022-01-08T17:24:12.258Z"
   },
   {
    "duration": 646,
    "start_time": "2022-01-08T17:24:13.410Z"
   },
   {
    "duration": 12,
    "start_time": "2022-01-08T17:24:34.013Z"
   },
   {
    "duration": 824,
    "start_time": "2022-01-08T17:24:35.614Z"
   },
   {
    "duration": 12,
    "start_time": "2022-01-08T17:24:58.986Z"
   },
   {
    "duration": 901,
    "start_time": "2022-01-08T17:25:00.130Z"
   },
   {
    "duration": 396,
    "start_time": "2022-01-08T17:26:48.261Z"
   },
   {
    "duration": 342,
    "start_time": "2022-01-08T17:26:56.240Z"
   },
   {
    "duration": 36442,
    "start_time": "2022-01-08T17:27:06.102Z"
   },
   {
    "duration": 12,
    "start_time": "2022-01-08T17:30:16.250Z"
   },
   {
    "duration": 13,
    "start_time": "2022-01-08T17:30:45.136Z"
   },
   {
    "duration": 12,
    "start_time": "2022-01-08T17:31:01.651Z"
   },
   {
    "duration": 715,
    "start_time": "2022-01-08T17:31:05.131Z"
   },
   {
    "duration": 12,
    "start_time": "2022-01-08T17:31:19.813Z"
   },
   {
    "duration": 634,
    "start_time": "2022-01-08T17:31:23.993Z"
   },
   {
    "duration": 19,
    "start_time": "2022-01-08T17:38:19.269Z"
   },
   {
    "duration": 14,
    "start_time": "2022-01-08T17:44:54.725Z"
   },
   {
    "duration": 313,
    "start_time": "2022-01-08T17:45:05.045Z"
   },
   {
    "duration": 808,
    "start_time": "2022-01-08T17:45:12.585Z"
   },
   {
    "duration": 5662,
    "start_time": "2022-01-08T17:46:02.850Z"
   },
   {
    "duration": 110961,
    "start_time": "2022-01-08T17:46:41.095Z"
   },
   {
    "duration": 17,
    "start_time": "2022-01-08T18:12:01.267Z"
   },
   {
    "duration": 257463,
    "start_time": "2022-01-08T18:12:05.087Z"
   },
   {
    "duration": 15,
    "start_time": "2022-01-08T18:26:18.176Z"
   },
   {
    "duration": 267664,
    "start_time": "2022-01-08T18:26:20.373Z"
   },
   {
    "duration": 17,
    "start_time": "2022-01-08T18:32:12.043Z"
   },
   {
    "duration": 624,
    "start_time": "2022-01-08T18:32:15.027Z"
   },
   {
    "duration": 16,
    "start_time": "2022-01-08T18:32:42.066Z"
   },
   {
    "duration": 15,
    "start_time": "2022-01-08T18:32:45.889Z"
   },
   {
    "duration": 349,
    "start_time": "2022-01-08T18:36:40.666Z"
   },
   {
    "duration": 886,
    "start_time": "2022-01-08T18:36:49.229Z"
   },
   {
    "duration": 8,
    "start_time": "2022-01-08T18:36:50.118Z"
   },
   {
    "duration": 61,
    "start_time": "2022-01-08T18:36:50.131Z"
   },
   {
    "duration": 29,
    "start_time": "2022-01-08T18:36:50.195Z"
   },
   {
    "duration": 12,
    "start_time": "2022-01-08T18:36:50.228Z"
   },
   {
    "duration": 24,
    "start_time": "2022-01-08T18:36:50.242Z"
   },
   {
    "duration": 29,
    "start_time": "2022-01-08T18:36:50.269Z"
   },
   {
    "duration": 50,
    "start_time": "2022-01-08T18:36:50.302Z"
   },
   {
    "duration": 32,
    "start_time": "2022-01-08T18:36:50.355Z"
   },
   {
    "duration": 56,
    "start_time": "2022-01-08T18:36:50.390Z"
   },
   {
    "duration": 4,
    "start_time": "2022-01-08T18:36:50.448Z"
   },
   {
    "duration": 24,
    "start_time": "2022-01-08T18:36:50.455Z"
   },
   {
    "duration": 30,
    "start_time": "2022-01-08T18:36:50.481Z"
   },
   {
    "duration": 17,
    "start_time": "2022-01-08T18:36:50.513Z"
   },
   {
    "duration": 18,
    "start_time": "2022-01-08T18:36:50.533Z"
   },
   {
    "duration": 50,
    "start_time": "2022-01-08T18:36:50.554Z"
   },
   {
    "duration": 13,
    "start_time": "2022-01-08T18:36:50.606Z"
   },
   {
    "duration": 50,
    "start_time": "2022-01-08T18:36:50.622Z"
   },
   {
    "duration": 44,
    "start_time": "2022-01-08T18:36:50.674Z"
   },
   {
    "duration": 57,
    "start_time": "2022-01-08T18:36:50.721Z"
   },
   {
    "duration": 44,
    "start_time": "2022-01-08T18:36:50.781Z"
   },
   {
    "duration": 9,
    "start_time": "2022-01-08T18:36:50.827Z"
   },
   {
    "duration": 22,
    "start_time": "2022-01-08T18:36:50.841Z"
   },
   {
    "duration": 25,
    "start_time": "2022-01-08T18:36:50.866Z"
   },
   {
    "duration": 23,
    "start_time": "2022-01-08T18:36:50.893Z"
   },
   {
    "duration": 15,
    "start_time": "2022-01-08T18:36:50.919Z"
   },
   {
    "duration": 12,
    "start_time": "2022-01-08T18:36:50.937Z"
   },
   {
    "duration": 32,
    "start_time": "2022-01-08T18:36:50.951Z"
   },
   {
    "duration": 12,
    "start_time": "2022-01-08T18:36:50.985Z"
   },
   {
    "duration": 27,
    "start_time": "2022-01-08T18:36:51.000Z"
   },
   {
    "duration": 28,
    "start_time": "2022-01-08T18:36:51.030Z"
   },
   {
    "duration": 25,
    "start_time": "2022-01-08T18:36:51.061Z"
   },
   {
    "duration": 55,
    "start_time": "2022-01-08T18:36:51.089Z"
   },
   {
    "duration": 24,
    "start_time": "2022-01-08T18:36:51.148Z"
   },
   {
    "duration": 59,
    "start_time": "2022-01-08T18:36:51.175Z"
   },
   {
    "duration": 23,
    "start_time": "2022-01-08T18:36:51.237Z"
   },
   {
    "duration": 14,
    "start_time": "2022-01-08T18:36:51.262Z"
   },
   {
    "duration": 22,
    "start_time": "2022-01-08T18:36:51.279Z"
   },
   {
    "duration": 51,
    "start_time": "2022-01-08T18:36:51.303Z"
   },
   {
    "duration": 52,
    "start_time": "2022-01-08T18:36:51.356Z"
   },
   {
    "duration": 22,
    "start_time": "2022-01-08T18:36:51.411Z"
   },
   {
    "duration": 43,
    "start_time": "2022-01-08T18:36:51.435Z"
   },
   {
    "duration": 52,
    "start_time": "2022-01-08T18:36:51.481Z"
   },
   {
    "duration": 42,
    "start_time": "2022-01-08T18:36:51.535Z"
   },
   {
    "duration": 182,
    "start_time": "2022-01-08T18:36:51.579Z"
   },
   {
    "duration": 16,
    "start_time": "2022-01-08T18:36:51.764Z"
   },
   {
    "duration": 837,
    "start_time": "2022-01-08T18:41:44.395Z"
   },
   {
    "duration": 5,
    "start_time": "2022-01-08T18:41:45.234Z"
   },
   {
    "duration": 52,
    "start_time": "2022-01-08T18:41:45.243Z"
   },
   {
    "duration": 15,
    "start_time": "2022-01-08T18:41:45.318Z"
   },
   {
    "duration": 11,
    "start_time": "2022-01-08T18:41:45.335Z"
   },
   {
    "duration": 14,
    "start_time": "2022-01-08T18:41:45.348Z"
   },
   {
    "duration": 15,
    "start_time": "2022-01-08T18:41:45.364Z"
   },
   {
    "duration": 17,
    "start_time": "2022-01-08T18:41:45.417Z"
   },
   {
    "duration": 30,
    "start_time": "2022-01-08T18:41:45.438Z"
   },
   {
    "duration": 75,
    "start_time": "2022-01-08T18:41:45.471Z"
   },
   {
    "duration": 3,
    "start_time": "2022-01-08T18:41:45.549Z"
   },
   {
    "duration": 11,
    "start_time": "2022-01-08T18:41:45.554Z"
   },
   {
    "duration": 15,
    "start_time": "2022-01-08T18:41:45.567Z"
   },
   {
    "duration": 38,
    "start_time": "2022-01-08T18:41:45.584Z"
   },
   {
    "duration": 8,
    "start_time": "2022-01-08T18:41:45.624Z"
   },
   {
    "duration": 28,
    "start_time": "2022-01-08T18:41:45.635Z"
   },
   {
    "duration": 8,
    "start_time": "2022-01-08T18:41:45.666Z"
   },
   {
    "duration": 73,
    "start_time": "2022-01-08T18:41:45.676Z"
   },
   {
    "duration": 23,
    "start_time": "2022-01-08T18:41:45.752Z"
   },
   {
    "duration": 69,
    "start_time": "2022-01-08T18:41:45.777Z"
   },
   {
    "duration": 16,
    "start_time": "2022-01-08T18:41:45.849Z"
   },
   {
    "duration": 8,
    "start_time": "2022-01-08T18:41:45.867Z"
   },
   {
    "duration": 40,
    "start_time": "2022-01-08T18:41:45.877Z"
   },
   {
    "duration": 12,
    "start_time": "2022-01-08T18:41:45.919Z"
   },
   {
    "duration": 5,
    "start_time": "2022-01-08T18:41:45.933Z"
   },
   {
    "duration": 7,
    "start_time": "2022-01-08T18:41:45.940Z"
   },
   {
    "duration": 10,
    "start_time": "2022-01-08T18:41:45.952Z"
   },
   {
    "duration": 53,
    "start_time": "2022-01-08T18:41:45.965Z"
   },
   {
    "duration": 10,
    "start_time": "2022-01-08T18:41:46.021Z"
   },
   {
    "duration": 19,
    "start_time": "2022-01-08T18:41:46.033Z"
   },
   {
    "duration": 12,
    "start_time": "2022-01-08T18:41:46.055Z"
   },
   {
    "duration": 11,
    "start_time": "2022-01-08T18:41:46.069Z"
   },
   {
    "duration": 39,
    "start_time": "2022-01-08T18:41:46.083Z"
   },
   {
    "duration": 25,
    "start_time": "2022-01-08T18:41:46.125Z"
   },
   {
    "duration": 27,
    "start_time": "2022-01-08T18:41:46.153Z"
   },
   {
    "duration": 42,
    "start_time": "2022-01-08T18:41:46.182Z"
   },
   {
    "duration": 3,
    "start_time": "2022-01-08T18:41:46.226Z"
   },
   {
    "duration": 7,
    "start_time": "2022-01-08T18:41:46.231Z"
   },
   {
    "duration": 33,
    "start_time": "2022-01-08T18:41:46.240Z"
   },
   {
    "duration": 81,
    "start_time": "2022-01-08T18:41:46.275Z"
   },
   {
    "duration": 14,
    "start_time": "2022-01-08T18:41:46.358Z"
   },
   {
    "duration": 63,
    "start_time": "2022-01-08T18:41:46.375Z"
   },
   {
    "duration": 33,
    "start_time": "2022-01-08T18:41:46.440Z"
   },
   {
    "duration": 66,
    "start_time": "2022-01-08T18:41:46.475Z"
   },
   {
    "duration": 150,
    "start_time": "2022-01-08T18:41:46.543Z"
   },
   {
    "duration": 17,
    "start_time": "2022-01-08T18:41:56.905Z"
   },
   {
    "duration": 141848,
    "start_time": "2022-01-08T18:42:00.076Z"
   },
   {
    "duration": 14,
    "start_time": "2022-01-08T18:50:57.813Z"
   },
   {
    "duration": 749,
    "start_time": "2022-01-08T18:50:59.917Z"
   },
   {
    "duration": 13,
    "start_time": "2022-01-08T18:51:20.392Z"
   },
   {
    "duration": 632,
    "start_time": "2022-01-08T18:51:21.977Z"
   },
   {
    "duration": 12,
    "start_time": "2022-01-08T18:51:37.877Z"
   },
   {
    "duration": 144060,
    "start_time": "2022-01-08T18:51:37.892Z"
   },
   {
    "duration": 14,
    "start_time": "2022-01-08T19:05:26.873Z"
   },
   {
    "duration": 14,
    "start_time": "2022-01-08T19:06:14.912Z"
   },
   {
    "duration": 722,
    "start_time": "2022-01-08T19:06:16.277Z"
   },
   {
    "duration": 359,
    "start_time": "2022-01-08T19:08:03.158Z"
   },
   {
    "duration": 328,
    "start_time": "2022-01-08T19:08:37.374Z"
   },
   {
    "duration": 21,
    "start_time": "2022-01-08T19:09:00.687Z"
   },
   {
    "duration": 7316,
    "start_time": "2022-01-08T19:09:48.128Z"
   },
   {
    "duration": 8660,
    "start_time": "2022-01-08T19:10:08.234Z"
   },
   {
    "duration": 12,
    "start_time": "2022-01-08T19:12:27.521Z"
   },
   {
    "duration": 10,
    "start_time": "2022-01-08T19:12:35.794Z"
   },
   {
    "duration": 2227,
    "start_time": "2022-01-08T19:12:42.539Z"
   },
   {
    "duration": 11,
    "start_time": "2022-01-08T19:12:53.515Z"
   },
   {
    "duration": 177,
    "start_time": "2022-01-08T19:13:17.806Z"
   },
   {
    "duration": 105,
    "start_time": "2022-01-08T19:13:34.563Z"
   },
   {
    "duration": 96,
    "start_time": "2022-01-08T19:13:45.821Z"
   },
   {
    "duration": 19,
    "start_time": "2022-01-08T19:13:56.310Z"
   },
   {
    "duration": 17,
    "start_time": "2022-01-08T19:14:14.193Z"
   },
   {
    "duration": 19,
    "start_time": "2022-01-08T19:14:39.620Z"
   },
   {
    "duration": 39,
    "start_time": "2022-01-08T19:14:45.790Z"
   },
   {
    "duration": 45,
    "start_time": "2022-01-08T19:15:22.140Z"
   },
   {
    "duration": 65,
    "start_time": "2022-01-08T19:15:26.149Z"
   },
   {
    "duration": 32,
    "start_time": "2022-01-08T19:15:29.981Z"
   },
   {
    "duration": 39,
    "start_time": "2022-01-08T19:15:35.751Z"
   },
   {
    "duration": 13,
    "start_time": "2022-01-08T19:16:56.628Z"
   },
   {
    "duration": 13,
    "start_time": "2022-01-08T19:17:02.825Z"
   },
   {
    "duration": 29,
    "start_time": "2022-01-08T19:23:41.835Z"
   },
   {
    "duration": 645,
    "start_time": "2022-01-08T19:24:08.199Z"
   },
   {
    "duration": 18,
    "start_time": "2022-01-08T19:24:24.471Z"
   },
   {
    "duration": 137266,
    "start_time": "2022-01-08T19:24:27.155Z"
   },
   {
    "duration": 19,
    "start_time": "2022-01-08T19:26:55.321Z"
   },
   {
    "duration": 599,
    "start_time": "2022-01-08T19:26:58.074Z"
   },
   {
    "duration": 21,
    "start_time": "2022-01-08T19:27:48.600Z"
   },
   {
    "duration": 4074,
    "start_time": "2022-01-08T19:27:51.090Z"
   },
   {
    "duration": 18,
    "start_time": "2022-01-08T19:30:35.349Z"
   },
   {
    "duration": 4634,
    "start_time": "2022-01-08T19:30:37.719Z"
   },
   {
    "duration": 22800,
    "start_time": "2022-01-08T19:30:52.920Z"
   },
   {
    "duration": -714,
    "start_time": "2022-01-08T19:31:16.440Z"
   },
   {
    "duration": 19,
    "start_time": "2022-01-08T19:31:22.562Z"
   },
   {
    "duration": 127655,
    "start_time": "2022-01-08T19:31:27.637Z"
   },
   {
    "duration": 19,
    "start_time": "2022-01-08T19:58:23.252Z"
   },
   {
    "duration": 175658,
    "start_time": "2022-01-08T19:58:25.141Z"
   },
   {
    "duration": -1111,
    "start_time": "2022-01-08T20:01:21.913Z"
   },
   {
    "duration": 19,
    "start_time": "2022-01-08T20:01:23.166Z"
   },
   {
    "duration": 314,
    "start_time": "2022-01-08T20:01:26.350Z"
   },
   {
    "duration": 317,
    "start_time": "2022-01-08T20:01:36.664Z"
   },
   {
    "duration": 18,
    "start_time": "2022-01-08T20:01:51.501Z"
   },
   {
    "duration": 123083,
    "start_time": "2022-01-08T20:01:54.389Z"
   },
   {
    "duration": 300,
    "start_time": "2022-01-08T20:04:19.748Z"
   },
   {
    "duration": 12,
    "start_time": "2022-01-08T20:04:31.805Z"
   },
   {
    "duration": 10,
    "start_time": "2022-01-08T20:04:41.790Z"
   },
   {
    "duration": 10,
    "start_time": "2022-01-08T20:04:48.448Z"
   },
   {
    "duration": 14,
    "start_time": "2022-01-08T20:05:00.578Z"
   },
   {
    "duration": 12,
    "start_time": "2022-01-08T20:05:08.154Z"
   },
   {
    "duration": 20,
    "start_time": "2022-01-08T20:05:16.044Z"
   },
   {
    "duration": 11,
    "start_time": "2022-01-08T20:05:28.014Z"
   },
   {
    "duration": 15,
    "start_time": "2022-01-08T20:05:32.893Z"
   },
   {
    "duration": 23,
    "start_time": "2022-01-08T20:05:57.642Z"
   },
   {
    "duration": 12,
    "start_time": "2022-01-08T20:06:48.522Z"
   },
   {
    "duration": 21,
    "start_time": "2022-01-08T20:07:24.641Z"
   },
   {
    "duration": 17,
    "start_time": "2022-01-08T20:07:31.569Z"
   },
   {
    "duration": 20,
    "start_time": "2022-01-08T20:07:54.253Z"
   },
   {
    "duration": 11,
    "start_time": "2022-01-08T20:08:09.560Z"
   },
   {
    "duration": 50,
    "start_time": "2022-01-08T20:08:46.857Z"
   },
   {
    "duration": 5,
    "start_time": "2022-01-08T20:08:46.909Z"
   },
   {
    "duration": 45,
    "start_time": "2022-01-08T20:08:46.918Z"
   },
   {
    "duration": 16,
    "start_time": "2022-01-08T20:08:46.966Z"
   },
   {
    "duration": 43,
    "start_time": "2022-01-08T20:08:46.984Z"
   },
   {
    "duration": 15,
    "start_time": "2022-01-08T20:08:47.030Z"
   },
   {
    "duration": 18,
    "start_time": "2022-01-08T20:08:47.048Z"
   },
   {
    "duration": 47,
    "start_time": "2022-01-08T20:08:47.069Z"
   },
   {
    "duration": 33,
    "start_time": "2022-01-08T20:08:47.123Z"
   },
   {
    "duration": 78,
    "start_time": "2022-01-08T20:08:47.159Z"
   },
   {
    "duration": 4,
    "start_time": "2022-01-08T20:08:47.240Z"
   },
   {
    "duration": 9,
    "start_time": "2022-01-08T20:08:47.247Z"
   },
   {
    "duration": 15,
    "start_time": "2022-01-08T20:08:47.258Z"
   },
   {
    "duration": 46,
    "start_time": "2022-01-08T20:08:47.276Z"
   },
   {
    "duration": 12,
    "start_time": "2022-01-08T20:08:47.325Z"
   },
   {
    "duration": 30,
    "start_time": "2022-01-08T20:08:47.339Z"
   },
   {
    "duration": 7,
    "start_time": "2022-01-08T20:08:47.372Z"
   },
   {
    "duration": 75,
    "start_time": "2022-01-08T20:08:47.381Z"
   },
   {
    "duration": 22,
    "start_time": "2022-01-08T20:08:47.458Z"
   },
   {
    "duration": 40,
    "start_time": "2022-01-08T20:08:47.516Z"
   },
   {
    "duration": 16,
    "start_time": "2022-01-08T20:08:47.559Z"
   },
   {
    "duration": 7,
    "start_time": "2022-01-08T20:08:47.578Z"
   },
   {
    "duration": 8,
    "start_time": "2022-01-08T20:08:47.618Z"
   },
   {
    "duration": 12,
    "start_time": "2022-01-08T20:08:47.628Z"
   },
   {
    "duration": 4,
    "start_time": "2022-01-08T20:08:47.643Z"
   },
   {
    "duration": 7,
    "start_time": "2022-01-08T20:08:47.650Z"
   },
   {
    "duration": 8,
    "start_time": "2022-01-08T20:08:47.663Z"
   },
   {
    "duration": 18,
    "start_time": "2022-01-08T20:08:47.719Z"
   },
   {
    "duration": 4,
    "start_time": "2022-01-08T20:08:47.740Z"
   },
   {
    "duration": 13,
    "start_time": "2022-01-08T20:08:47.747Z"
   },
   {
    "duration": 7,
    "start_time": "2022-01-08T20:08:47.762Z"
   },
   {
    "duration": 7,
    "start_time": "2022-01-08T20:08:47.771Z"
   },
   {
    "duration": 38,
    "start_time": "2022-01-08T20:08:47.819Z"
   },
   {
    "duration": 58,
    "start_time": "2022-01-08T20:08:47.860Z"
   },
   {
    "duration": 32,
    "start_time": "2022-01-08T20:08:47.921Z"
   },
   {
    "duration": 17,
    "start_time": "2022-01-08T20:08:47.956Z"
   },
   {
    "duration": 3,
    "start_time": "2022-01-08T20:08:47.976Z"
   },
   {
    "duration": 6,
    "start_time": "2022-01-08T20:08:48.018Z"
   },
   {
    "duration": 40,
    "start_time": "2022-01-08T20:08:48.027Z"
   },
   {
    "duration": 72,
    "start_time": "2022-01-08T20:08:48.069Z"
   },
   {
    "duration": 15,
    "start_time": "2022-01-08T20:08:48.143Z"
   },
   {
    "duration": 56,
    "start_time": "2022-01-08T20:08:48.160Z"
   },
   {
    "duration": 38,
    "start_time": "2022-01-08T20:08:48.219Z"
   },
   {
    "duration": 66,
    "start_time": "2022-01-08T20:08:48.260Z"
   },
   {
    "duration": 154,
    "start_time": "2022-01-08T20:08:48.329Z"
   },
   {
    "duration": 42,
    "start_time": "2022-01-08T20:08:48.486Z"
   },
   {
    "duration": 119955,
    "start_time": "2022-01-08T20:08:48.531Z"
   },
   {
    "duration": 21,
    "start_time": "2022-01-08T20:14:36.925Z"
   },
   {
    "duration": 635,
    "start_time": "2022-01-08T20:14:39.901Z"
   },
   {
    "duration": 23,
    "start_time": "2022-01-08T20:15:43.649Z"
   },
   {
    "duration": 117450,
    "start_time": "2022-01-08T20:15:46.449Z"
   },
   {
    "duration": 281,
    "start_time": "2022-01-08T20:31:46.695Z"
   },
   {
    "duration": 8022,
    "start_time": "2022-01-08T20:32:02.817Z"
   },
   {
    "duration": 295,
    "start_time": "2022-01-08T20:33:09.764Z"
   },
   {
    "duration": 19,
    "start_time": "2022-01-08T20:38:10.577Z"
   },
   {
    "duration": 619,
    "start_time": "2022-01-08T20:38:36.679Z"
   },
   {
    "duration": 34,
    "start_time": "2022-01-08T21:42:25.041Z"
   },
   {
    "duration": 34,
    "start_time": "2022-01-08T21:46:15.254Z"
   },
   {
    "duration": 30,
    "start_time": "2022-01-08T21:46:21.631Z"
   },
   {
    "duration": 9,
    "start_time": "2022-01-08T23:18:25.168Z"
   },
   {
    "duration": 297,
    "start_time": "2022-01-08T23:20:13.676Z"
   },
   {
    "duration": 291,
    "start_time": "2022-01-08T23:20:18.513Z"
   },
   {
    "duration": 312,
    "start_time": "2022-01-08T23:20:28.307Z"
   },
   {
    "duration": 318,
    "start_time": "2022-01-08T23:20:38.452Z"
   },
   {
    "duration": 297,
    "start_time": "2022-01-08T23:20:43.670Z"
   },
   {
    "duration": 23,
    "start_time": "2022-01-09T00:49:07.603Z"
   },
   {
    "duration": 640,
    "start_time": "2022-01-09T00:49:11.702Z"
   },
   {
    "duration": 21,
    "start_time": "2022-01-09T00:49:51.044Z"
   },
   {
    "duration": 20,
    "start_time": "2022-01-09T00:50:06.703Z"
   },
   {
    "duration": 774,
    "start_time": "2022-01-09T00:50:08.881Z"
   },
   {
    "duration": 20,
    "start_time": "2022-01-09T00:50:19.121Z"
   },
   {
    "duration": 661,
    "start_time": "2022-01-09T00:50:21.417Z"
   },
   {
    "duration": 19,
    "start_time": "2022-01-09T00:50:38.212Z"
   },
   {
    "duration": -1441,
    "start_time": "2022-01-09T01:30:32.531Z"
   },
   {
    "duration": 94,
    "start_time": "2022-01-09T01:30:45.569Z"
   },
   {
    "duration": 96,
    "start_time": "2022-01-09T01:31:13.245Z"
   },
   {
    "duration": 239,
    "start_time": "2022-01-09T01:32:09.462Z"
   },
   {
    "duration": 320,
    "start_time": "2022-01-09T01:32:43.261Z"
   },
   {
    "duration": 1754,
    "start_time": "2022-01-09T01:33:10.105Z"
   },
   {
    "duration": 238,
    "start_time": "2022-01-09T01:33:20.627Z"
   },
   {
    "duration": 236,
    "start_time": "2022-01-09T01:33:36.989Z"
   },
   {
    "duration": 235,
    "start_time": "2022-01-09T01:34:08.273Z"
   },
   {
    "duration": 19,
    "start_time": "2022-01-09T01:34:23.293Z"
   },
   {
    "duration": 512,
    "start_time": "2022-01-09T01:34:31.541Z"
   },
   {
    "duration": 250,
    "start_time": "2022-01-09T01:34:47.167Z"
   },
   {
    "duration": 212,
    "start_time": "2022-01-09T01:35:00.033Z"
   },
   {
    "duration": 123,
    "start_time": "2022-01-09T01:35:13.525Z"
   },
   {
    "duration": 242,
    "start_time": "2022-01-09T01:35:28.166Z"
   },
   {
    "duration": 579,
    "start_time": "2022-01-09T01:36:27.031Z"
   },
   {
    "duration": 539,
    "start_time": "2022-01-09T01:36:35.025Z"
   },
   {
    "duration": 301,
    "start_time": "2022-01-09T01:36:44.821Z"
   },
   {
    "duration": 289,
    "start_time": "2022-01-09T01:36:49.203Z"
   },
   {
    "duration": 292,
    "start_time": "2022-01-09T01:36:55.323Z"
   },
   {
    "duration": 365,
    "start_time": "2022-01-09T01:37:01.317Z"
   },
   {
    "duration": 5913,
    "start_time": "2022-01-09T01:37:07.713Z"
   },
   {
    "duration": 136,
    "start_time": "2022-01-09T01:37:24.009Z"
   },
   {
    "duration": 584,
    "start_time": "2022-01-09T01:37:45.348Z"
   },
   {
    "duration": 101,
    "start_time": "2022-01-09T01:38:19.777Z"
   },
   {
    "duration": 7496,
    "start_time": "2022-01-09T01:38:34.126Z"
   },
   {
    "duration": 7938,
    "start_time": "2022-01-09T01:39:27.429Z"
   },
   {
    "duration": 308,
    "start_time": "2022-01-09T01:39:41.166Z"
   },
   {
    "duration": 36,
    "start_time": "2022-01-09T01:40:00.574Z"
   },
   {
    "duration": 332,
    "start_time": "2022-01-09T01:40:30.822Z"
   },
   {
    "duration": 40,
    "start_time": "2022-01-09T01:40:41.784Z"
   },
   {
    "duration": 310,
    "start_time": "2022-01-09T01:40:56.896Z"
   },
   {
    "duration": 551,
    "start_time": "2022-01-09T01:41:02.582Z"
   },
   {
    "duration": 296,
    "start_time": "2022-01-09T01:41:29.647Z"
   },
   {
    "duration": 517,
    "start_time": "2022-01-09T01:41:49.835Z"
   },
   {
    "duration": 50,
    "start_time": "2022-01-09T01:42:05.998Z"
   },
   {
    "duration": 73,
    "start_time": "2022-01-09T01:42:27.853Z"
   },
   {
    "duration": 4,
    "start_time": "2022-01-09T01:42:33.673Z"
   },
   {
    "duration": 35,
    "start_time": "2022-01-09T01:42:37.992Z"
   },
   {
    "duration": 51,
    "start_time": "2022-01-09T01:43:05.692Z"
   },
   {
    "duration": 4,
    "start_time": "2022-01-09T01:43:05.746Z"
   },
   {
    "duration": 72,
    "start_time": "2022-01-09T01:43:05.754Z"
   },
   {
    "duration": 18,
    "start_time": "2022-01-09T01:43:05.829Z"
   },
   {
    "duration": 11,
    "start_time": "2022-01-09T01:43:05.849Z"
   },
   {
    "duration": 12,
    "start_time": "2022-01-09T01:43:05.863Z"
   },
   {
    "duration": 48,
    "start_time": "2022-01-09T01:43:05.877Z"
   },
   {
    "duration": 22,
    "start_time": "2022-01-09T01:43:05.928Z"
   },
   {
    "duration": 28,
    "start_time": "2022-01-09T01:43:05.955Z"
   },
   {
    "duration": 67,
    "start_time": "2022-01-09T01:43:05.986Z"
   },
   {
    "duration": 2,
    "start_time": "2022-01-09T01:43:06.056Z"
   },
   {
    "duration": 9,
    "start_time": "2022-01-09T01:43:06.060Z"
   },
   {
    "duration": 13,
    "start_time": "2022-01-09T01:43:06.072Z"
   },
   {
    "duration": 37,
    "start_time": "2022-01-09T01:43:06.088Z"
   },
   {
    "duration": 7,
    "start_time": "2022-01-09T01:43:06.128Z"
   },
   {
    "duration": 29,
    "start_time": "2022-01-09T01:43:06.138Z"
   },
   {
    "duration": 46,
    "start_time": "2022-01-09T01:43:06.170Z"
   },
   {
    "duration": 38,
    "start_time": "2022-01-09T01:43:06.219Z"
   },
   {
    "duration": 23,
    "start_time": "2022-01-09T01:43:06.259Z"
   },
   {
    "duration": 64,
    "start_time": "2022-01-09T01:43:06.285Z"
   },
   {
    "duration": 18,
    "start_time": "2022-01-09T01:43:06.351Z"
   },
   {
    "duration": 7,
    "start_time": "2022-01-09T01:43:06.371Z"
   },
   {
    "duration": 40,
    "start_time": "2022-01-09T01:43:06.381Z"
   },
   {
    "duration": 14,
    "start_time": "2022-01-09T01:43:06.423Z"
   },
   {
    "duration": 3,
    "start_time": "2022-01-09T01:43:06.439Z"
   },
   {
    "duration": 4,
    "start_time": "2022-01-09T01:43:06.445Z"
   },
   {
    "duration": 9,
    "start_time": "2022-01-09T01:43:06.454Z"
   },
   {
    "duration": 58,
    "start_time": "2022-01-09T01:43:06.465Z"
   },
   {
    "duration": 5,
    "start_time": "2022-01-09T01:43:06.526Z"
   },
   {
    "duration": 12,
    "start_time": "2022-01-09T01:43:06.534Z"
   },
   {
    "duration": 3,
    "start_time": "2022-01-09T01:43:06.549Z"
   },
   {
    "duration": 4,
    "start_time": "2022-01-09T01:43:06.555Z"
   },
   {
    "duration": 66,
    "start_time": "2022-01-09T01:43:06.561Z"
   },
   {
    "duration": 22,
    "start_time": "2022-01-09T01:43:06.629Z"
   },
   {
    "duration": 25,
    "start_time": "2022-01-09T01:43:06.654Z"
   },
   {
    "duration": 38,
    "start_time": "2022-01-09T01:43:06.681Z"
   },
   {
    "duration": 3,
    "start_time": "2022-01-09T01:43:06.722Z"
   },
   {
    "duration": 7,
    "start_time": "2022-01-09T01:43:06.727Z"
   },
   {
    "duration": 33,
    "start_time": "2022-01-09T01:43:06.737Z"
   },
   {
    "duration": 81,
    "start_time": "2022-01-09T01:43:06.773Z"
   },
   {
    "duration": 16,
    "start_time": "2022-01-09T01:43:06.857Z"
   },
   {
    "duration": 66,
    "start_time": "2022-01-09T01:43:06.875Z"
   },
   {
    "duration": 34,
    "start_time": "2022-01-09T01:43:06.944Z"
   },
   {
    "duration": 69,
    "start_time": "2022-01-09T01:43:06.980Z"
   },
   {
    "duration": 36,
    "start_time": "2022-01-09T01:43:16.256Z"
   },
   {
    "duration": 73,
    "start_time": "2022-01-09T01:43:23.330Z"
   },
   {
    "duration": 79,
    "start_time": "2022-01-09T01:44:45.550Z"
   },
   {
    "duration": 81,
    "start_time": "2022-01-09T01:46:02.462Z"
   },
   {
    "duration": 108,
    "start_time": "2022-01-09T01:46:40.520Z"
   },
   {
    "duration": 64,
    "start_time": "2022-01-09T01:47:30.682Z"
   },
   {
    "duration": 116,
    "start_time": "2022-01-09T01:48:13.928Z"
   },
   {
    "duration": 79,
    "start_time": "2022-01-09T01:48:41.381Z"
   },
   {
    "duration": 80,
    "start_time": "2022-01-09T01:49:21.786Z"
   },
   {
    "duration": 36,
    "start_time": "2022-01-09T01:50:18.460Z"
   },
   {
    "duration": 81,
    "start_time": "2022-01-09T01:50:31.139Z"
   },
   {
    "duration": 37,
    "start_time": "2022-01-09T01:50:34.035Z"
   },
   {
    "duration": 49,
    "start_time": "2022-01-09T01:51:31.759Z"
   },
   {
    "duration": 4,
    "start_time": "2022-01-09T01:51:31.811Z"
   },
   {
    "duration": 35,
    "start_time": "2022-01-09T01:51:31.818Z"
   },
   {
    "duration": 16,
    "start_time": "2022-01-09T01:51:31.856Z"
   },
   {
    "duration": 10,
    "start_time": "2022-01-09T01:51:31.875Z"
   },
   {
    "duration": 14,
    "start_time": "2022-01-09T01:51:31.917Z"
   },
   {
    "duration": 17,
    "start_time": "2022-01-09T01:51:31.933Z"
   },
   {
    "duration": 34,
    "start_time": "2022-01-09T01:51:31.952Z"
   },
   {
    "duration": 43,
    "start_time": "2022-01-09T01:51:31.990Z"
   },
   {
    "duration": 41,
    "start_time": "2022-01-09T01:51:32.036Z"
   },
   {
    "duration": 2,
    "start_time": "2022-01-09T01:51:32.079Z"
   },
   {
    "duration": 35,
    "start_time": "2022-01-09T01:51:32.083Z"
   },
   {
    "duration": 13,
    "start_time": "2022-01-09T01:51:32.120Z"
   },
   {
    "duration": 12,
    "start_time": "2022-01-09T01:51:32.136Z"
   },
   {
    "duration": 16,
    "start_time": "2022-01-09T01:51:32.150Z"
   },
   {
    "duration": 50,
    "start_time": "2022-01-09T01:51:32.168Z"
   },
   {
    "duration": 7,
    "start_time": "2022-01-09T01:51:32.221Z"
   },
   {
    "duration": 46,
    "start_time": "2022-01-09T01:51:32.230Z"
   },
   {
    "duration": 41,
    "start_time": "2022-01-09T01:51:32.278Z"
   },
   {
    "duration": 36,
    "start_time": "2022-01-09T01:51:32.321Z"
   },
   {
    "duration": 18,
    "start_time": "2022-01-09T01:51:32.359Z"
   },
   {
    "duration": 40,
    "start_time": "2022-01-09T01:51:32.380Z"
   },
   {
    "duration": 7,
    "start_time": "2022-01-09T01:51:32.423Z"
   },
   {
    "duration": 21,
    "start_time": "2022-01-09T01:51:32.432Z"
   },
   {
    "duration": 4,
    "start_time": "2022-01-09T01:51:32.455Z"
   },
   {
    "duration": 8,
    "start_time": "2022-01-09T01:51:32.462Z"
   },
   {
    "duration": 8,
    "start_time": "2022-01-09T01:51:32.475Z"
   },
   {
    "duration": 12,
    "start_time": "2022-01-09T01:51:32.518Z"
   },
   {
    "duration": 10,
    "start_time": "2022-01-09T01:51:32.533Z"
   },
   {
    "duration": 14,
    "start_time": "2022-01-09T01:51:32.545Z"
   },
   {
    "duration": 6,
    "start_time": "2022-01-09T01:51:32.562Z"
   },
   {
    "duration": 5,
    "start_time": "2022-01-09T01:51:32.570Z"
   },
   {
    "duration": 61,
    "start_time": "2022-01-09T01:51:32.578Z"
   },
   {
    "duration": 25,
    "start_time": "2022-01-09T01:51:32.642Z"
   },
   {
    "duration": 55,
    "start_time": "2022-01-09T01:51:32.669Z"
   },
   {
    "duration": 14,
    "start_time": "2022-01-09T01:51:32.726Z"
   },
   {
    "duration": 3,
    "start_time": "2022-01-09T01:51:32.743Z"
   },
   {
    "duration": 5,
    "start_time": "2022-01-09T01:51:32.749Z"
   },
   {
    "duration": 62,
    "start_time": "2022-01-09T01:51:32.757Z"
   },
   {
    "duration": 44,
    "start_time": "2022-01-09T01:51:32.822Z"
   },
   {
    "duration": 19,
    "start_time": "2022-01-09T01:51:32.868Z"
   },
   {
    "duration": 54,
    "start_time": "2022-01-09T01:51:32.889Z"
   },
   {
    "duration": 33,
    "start_time": "2022-01-09T01:51:32.946Z"
   },
   {
    "duration": 71,
    "start_time": "2022-01-09T01:51:32.982Z"
   },
   {
    "duration": 81,
    "start_time": "2022-01-09T01:51:42.841Z"
   },
   {
    "duration": 38,
    "start_time": "2022-01-09T01:51:48.513Z"
   },
   {
    "duration": 61,
    "start_time": "2022-01-09T01:51:56.007Z"
   },
   {
    "duration": 45,
    "start_time": "2022-01-09T01:51:56.071Z"
   },
   {
    "duration": 36,
    "start_time": "2022-01-09T01:51:56.120Z"
   },
   {
    "duration": 17,
    "start_time": "2022-01-09T01:51:56.160Z"
   },
   {
    "duration": 47,
    "start_time": "2022-01-09T01:51:56.180Z"
   },
   {
    "duration": 17,
    "start_time": "2022-01-09T01:51:56.229Z"
   },
   {
    "duration": 17,
    "start_time": "2022-01-09T01:51:56.249Z"
   },
   {
    "duration": 54,
    "start_time": "2022-01-09T01:51:56.272Z"
   },
   {
    "duration": 30,
    "start_time": "2022-01-09T01:51:56.330Z"
   },
   {
    "duration": 83,
    "start_time": "2022-01-09T01:51:56.363Z"
   },
   {
    "duration": 3,
    "start_time": "2022-01-09T01:51:56.448Z"
   },
   {
    "duration": 11,
    "start_time": "2022-01-09T01:51:56.454Z"
   },
   {
    "duration": 13,
    "start_time": "2022-01-09T01:51:56.468Z"
   },
   {
    "duration": 35,
    "start_time": "2022-01-09T01:51:56.484Z"
   },
   {
    "duration": 9,
    "start_time": "2022-01-09T01:51:56.521Z"
   },
   {
    "duration": 29,
    "start_time": "2022-01-09T01:51:56.532Z"
   },
   {
    "duration": 8,
    "start_time": "2022-01-09T01:51:56.563Z"
   },
   {
    "duration": 77,
    "start_time": "2022-01-09T01:51:56.573Z"
   },
   {
    "duration": 21,
    "start_time": "2022-01-09T01:51:56.653Z"
   },
   {
    "duration": 68,
    "start_time": "2022-01-09T01:51:56.677Z"
   },
   {
    "duration": 17,
    "start_time": "2022-01-09T01:51:56.747Z"
   },
   {
    "duration": 7,
    "start_time": "2022-01-09T01:51:56.766Z"
   },
   {
    "duration": 41,
    "start_time": "2022-01-09T01:51:56.779Z"
   },
   {
    "duration": 14,
    "start_time": "2022-01-09T01:51:56.824Z"
   },
   {
    "duration": 3,
    "start_time": "2022-01-09T01:51:56.841Z"
   },
   {
    "duration": 9,
    "start_time": "2022-01-09T01:51:56.847Z"
   },
   {
    "duration": 9,
    "start_time": "2022-01-09T01:51:56.859Z"
   },
   {
    "duration": 54,
    "start_time": "2022-01-09T01:51:56.871Z"
   },
   {
    "duration": 4,
    "start_time": "2022-01-09T01:51:56.927Z"
   },
   {
    "duration": 11,
    "start_time": "2022-01-09T01:51:56.934Z"
   },
   {
    "duration": 5,
    "start_time": "2022-01-09T01:51:56.947Z"
   },
   {
    "duration": 9,
    "start_time": "2022-01-09T01:51:56.954Z"
   },
   {
    "duration": 67,
    "start_time": "2022-01-09T01:51:56.966Z"
   },
   {
    "duration": 24,
    "start_time": "2022-01-09T01:51:57.036Z"
   },
   {
    "duration": 26,
    "start_time": "2022-01-09T01:51:57.062Z"
   },
   {
    "duration": 38,
    "start_time": "2022-01-09T01:51:57.090Z"
   },
   {
    "duration": 3,
    "start_time": "2022-01-09T01:51:57.131Z"
   },
   {
    "duration": 6,
    "start_time": "2022-01-09T01:51:57.136Z"
   },
   {
    "duration": 28,
    "start_time": "2022-01-09T01:51:57.144Z"
   },
   {
    "duration": 100,
    "start_time": "2022-01-09T01:51:57.174Z"
   },
   {
    "duration": 16,
    "start_time": "2022-01-09T01:51:57.277Z"
   },
   {
    "duration": 49,
    "start_time": "2022-01-09T01:51:57.295Z"
   },
   {
    "duration": 32,
    "start_time": "2022-01-09T01:51:57.346Z"
   },
   {
    "duration": 65,
    "start_time": "2022-01-09T01:51:57.380Z"
   },
   {
    "duration": 78,
    "start_time": "2022-01-09T01:53:27.009Z"
   },
   {
    "duration": 33,
    "start_time": "2022-01-09T01:53:30.889Z"
   },
   {
    "duration": 337,
    "start_time": "2022-01-09T01:54:19.955Z"
   },
   {
    "duration": 49,
    "start_time": "2022-01-09T01:54:45.053Z"
   },
   {
    "duration": 51,
    "start_time": "2022-01-09T01:54:57.056Z"
   },
   {
    "duration": 350,
    "start_time": "2022-01-09T01:55:06.224Z"
   },
   {
    "duration": 80,
    "start_time": "2022-01-09T01:55:12.003Z"
   },
   {
    "duration": 51,
    "start_time": "2022-01-09T01:55:15.395Z"
   },
   {
    "duration": 76,
    "start_time": "2022-01-09T01:55:27.428Z"
   },
   {
    "duration": 45,
    "start_time": "2022-01-09T02:05:36.022Z"
   },
   {
    "duration": 44,
    "start_time": "2022-01-09T02:05:40.782Z"
   },
   {
    "duration": 433,
    "start_time": "2022-01-09T02:05:47.574Z"
   },
   {
    "duration": 48,
    "start_time": "2022-01-09T02:05:50.998Z"
   },
   {
    "duration": 69,
    "start_time": "2022-01-09T02:06:14.371Z"
   },
   {
    "duration": 9,
    "start_time": "2022-01-09T02:07:24.134Z"
   },
   {
    "duration": 58,
    "start_time": "2022-01-09T02:49:09.843Z"
   },
   {
    "duration": 46,
    "start_time": "2022-01-09T03:39:24.680Z"
   },
   {
    "duration": 407,
    "start_time": "2022-01-09T03:40:23.818Z"
   },
   {
    "duration": 8,
    "start_time": "2022-01-09T03:40:33.172Z"
   },
   {
    "duration": 7,
    "start_time": "2022-01-09T03:44:21.486Z"
   },
   {
    "duration": 10,
    "start_time": "2022-01-09T03:46:32.829Z"
   },
   {
    "duration": 7,
    "start_time": "2022-01-09T06:22:54.520Z"
   },
   {
    "duration": 936,
    "start_time": "2022-01-09T06:23:56.588Z"
   },
   {
    "duration": 608,
    "start_time": "2022-01-09T20:00:37.863Z"
   },
   {
    "duration": 3,
    "start_time": "2022-01-09T20:00:38.473Z"
   },
   {
    "duration": 29,
    "start_time": "2022-01-09T20:00:38.478Z"
   },
   {
    "duration": 10,
    "start_time": "2022-01-09T20:00:38.509Z"
   },
   {
    "duration": 11,
    "start_time": "2022-01-09T20:00:38.520Z"
   },
   {
    "duration": 9,
    "start_time": "2022-01-09T20:00:38.533Z"
   },
   {
    "duration": 9,
    "start_time": "2022-01-09T20:00:38.544Z"
   },
   {
    "duration": 35,
    "start_time": "2022-01-09T20:00:38.556Z"
   },
   {
    "duration": 20,
    "start_time": "2022-01-09T20:00:38.594Z"
   },
   {
    "duration": 26,
    "start_time": "2022-01-09T20:00:38.615Z"
   },
   {
    "duration": 3,
    "start_time": "2022-01-09T20:00:38.642Z"
   },
   {
    "duration": 8,
    "start_time": "2022-01-09T20:00:38.646Z"
   },
   {
    "duration": 39,
    "start_time": "2022-01-09T20:00:38.655Z"
   },
   {
    "duration": 7,
    "start_time": "2022-01-09T20:00:38.696Z"
   },
   {
    "duration": 6,
    "start_time": "2022-01-09T20:00:38.705Z"
   },
   {
    "duration": 21,
    "start_time": "2022-01-09T20:00:38.712Z"
   },
   {
    "duration": 6,
    "start_time": "2022-01-09T20:00:38.734Z"
   },
   {
    "duration": 59,
    "start_time": "2022-01-09T20:00:38.742Z"
   },
   {
    "duration": 16,
    "start_time": "2022-01-09T20:00:38.802Z"
   },
   {
    "duration": 26,
    "start_time": "2022-01-09T20:00:38.820Z"
   },
   {
    "duration": 12,
    "start_time": "2022-01-09T20:00:38.848Z"
   },
   {
    "duration": 30,
    "start_time": "2022-01-09T20:00:38.862Z"
   },
   {
    "duration": 6,
    "start_time": "2022-01-09T20:00:38.897Z"
   },
   {
    "duration": 9,
    "start_time": "2022-01-09T20:00:38.906Z"
   },
   {
    "duration": 2,
    "start_time": "2022-01-09T20:00:38.918Z"
   },
   {
    "duration": 4,
    "start_time": "2022-01-09T20:00:38.922Z"
   },
   {
    "duration": 8,
    "start_time": "2022-01-09T20:00:38.928Z"
   },
   {
    "duration": 10,
    "start_time": "2022-01-09T20:00:38.938Z"
   },
   {
    "duration": 3,
    "start_time": "2022-01-09T20:00:38.992Z"
   },
   {
    "duration": 8,
    "start_time": "2022-01-09T20:00:38.997Z"
   },
   {
    "duration": 5,
    "start_time": "2022-01-09T20:00:39.006Z"
   },
   {
    "duration": 5,
    "start_time": "2022-01-09T20:00:39.012Z"
   },
   {
    "duration": 20,
    "start_time": "2022-01-09T20:00:39.019Z"
   },
   {
    "duration": 50,
    "start_time": "2022-01-09T20:00:39.041Z"
   },
   {
    "duration": 19,
    "start_time": "2022-01-09T20:00:39.093Z"
   },
   {
    "duration": 12,
    "start_time": "2022-01-09T20:00:39.114Z"
   },
   {
    "duration": 3,
    "start_time": "2022-01-09T20:00:39.128Z"
   },
   {
    "duration": 5,
    "start_time": "2022-01-09T20:00:39.133Z"
   },
   {
    "duration": 52,
    "start_time": "2022-01-09T20:00:39.140Z"
   },
   {
    "duration": 27,
    "start_time": "2022-01-09T20:00:39.194Z"
   },
   {
    "duration": 12,
    "start_time": "2022-01-09T20:00:39.223Z"
   },
   {
    "duration": 24,
    "start_time": "2022-01-09T20:00:39.237Z"
   },
   {
    "duration": 25,
    "start_time": "2022-01-09T20:00:39.292Z"
   },
   {
    "duration": 30,
    "start_time": "2022-01-09T20:00:39.319Z"
   },
   {
    "duration": 118,
    "start_time": "2022-01-09T20:00:39.350Z"
   },
   {
    "duration": 64,
    "start_time": "2022-01-09T20:00:39.469Z"
   },
   {
    "duration": 44,
    "start_time": "2022-01-09T20:00:39.534Z"
   },
   {
    "duration": 6,
    "start_time": "2022-01-09T20:00:39.591Z"
   },
   {
    "duration": 2,
    "start_time": "2022-01-09T20:00:39.599Z"
   },
   {
    "duration": 7,
    "start_time": "2022-01-09T20:00:39.602Z"
   },
   {
    "duration": 4,
    "start_time": "2022-01-09T20:00:39.611Z"
   },
   {
    "duration": 27,
    "start_time": "2022-01-09T20:00:39.617Z"
   },
   {
    "duration": 51,
    "start_time": "2022-01-09T20:00:39.646Z"
   },
   {
    "duration": 39,
    "start_time": "2022-01-09T20:00:39.699Z"
   },
   {
    "duration": 30,
    "start_time": "2022-01-09T20:00:39.739Z"
   },
   {
    "duration": 22,
    "start_time": "2022-01-09T20:00:39.770Z"
   },
   {
    "duration": 8,
    "start_time": "2022-01-09T20:00:39.794Z"
   },
   {
    "duration": 2,
    "start_time": "2022-01-09T20:00:39.804Z"
   },
   {
    "duration": 5,
    "start_time": "2022-01-09T20:00:39.807Z"
   },
   {
    "duration": 7,
    "start_time": "2022-01-09T20:00:39.814Z"
   },
   {
    "duration": 7,
    "start_time": "2022-01-09T20:00:39.822Z"
   },
   {
    "duration": 5,
    "start_time": "2022-01-09T20:00:39.831Z"
   },
   {
    "duration": 435,
    "start_time": "2022-01-09T20:01:03.194Z"
   },
   {
    "duration": 6,
    "start_time": "2022-01-09T20:01:11.125Z"
   },
   {
    "duration": 543,
    "start_time": "2022-01-09T20:01:13.289Z"
   },
   {
    "duration": 528,
    "start_time": "2022-01-09T21:54:15.609Z"
   },
   {
    "duration": 800,
    "start_time": "2022-01-09T22:04:04.939Z"
   },
   {
    "duration": 44,
    "start_time": "2022-01-09T22:05:42.893Z"
   },
   {
    "duration": 4,
    "start_time": "2022-01-09T22:05:42.939Z"
   },
   {
    "duration": 22,
    "start_time": "2022-01-09T22:05:42.945Z"
   },
   {
    "duration": 11,
    "start_time": "2022-01-09T22:05:42.992Z"
   },
   {
    "duration": 8,
    "start_time": "2022-01-09T22:05:43.005Z"
   },
   {
    "duration": 12,
    "start_time": "2022-01-09T22:05:43.014Z"
   },
   {
    "duration": 10,
    "start_time": "2022-01-09T22:05:43.028Z"
   },
   {
    "duration": 7,
    "start_time": "2022-01-09T22:05:43.040Z"
   },
   {
    "duration": 22,
    "start_time": "2022-01-09T22:05:43.092Z"
   },
   {
    "duration": 26,
    "start_time": "2022-01-09T22:05:43.116Z"
   },
   {
    "duration": 3,
    "start_time": "2022-01-09T22:05:43.144Z"
   },
   {
    "duration": 6,
    "start_time": "2022-01-09T22:05:43.149Z"
   },
   {
    "duration": 40,
    "start_time": "2022-01-09T22:05:43.157Z"
   },
   {
    "duration": 5,
    "start_time": "2022-01-09T22:05:43.198Z"
   },
   {
    "duration": 10,
    "start_time": "2022-01-09T22:05:43.204Z"
   },
   {
    "duration": 22,
    "start_time": "2022-01-09T22:05:43.215Z"
   },
   {
    "duration": 6,
    "start_time": "2022-01-09T22:05:43.239Z"
   },
   {
    "duration": 52,
    "start_time": "2022-01-09T22:05:43.247Z"
   },
   {
    "duration": 15,
    "start_time": "2022-01-09T22:05:43.301Z"
   },
   {
    "duration": 25,
    "start_time": "2022-01-09T22:05:43.318Z"
   },
   {
    "duration": 12,
    "start_time": "2022-01-09T22:05:43.345Z"
   },
   {
    "duration": 6,
    "start_time": "2022-01-09T22:05:43.358Z"
   },
   {
    "duration": 5,
    "start_time": "2022-01-09T22:05:43.393Z"
   },
   {
    "duration": 15,
    "start_time": "2022-01-09T22:05:43.401Z"
   },
   {
    "duration": 3,
    "start_time": "2022-01-09T22:05:43.417Z"
   },
   {
    "duration": 8,
    "start_time": "2022-01-09T22:05:43.421Z"
   },
   {
    "duration": 20,
    "start_time": "2022-01-09T22:05:43.431Z"
   },
   {
    "duration": 12,
    "start_time": "2022-01-09T22:05:43.453Z"
   },
   {
    "duration": 25,
    "start_time": "2022-01-09T22:05:43.466Z"
   },
   {
    "duration": 13,
    "start_time": "2022-01-09T22:05:43.494Z"
   },
   {
    "duration": 12,
    "start_time": "2022-01-09T22:05:43.509Z"
   },
   {
    "duration": 5,
    "start_time": "2022-01-09T22:05:43.523Z"
   },
   {
    "duration": 22,
    "start_time": "2022-01-09T22:05:43.530Z"
   },
   {
    "duration": 19,
    "start_time": "2022-01-09T22:05:43.554Z"
   },
   {
    "duration": 34,
    "start_time": "2022-01-09T22:05:43.574Z"
   },
   {
    "duration": 9,
    "start_time": "2022-01-09T22:05:43.610Z"
   },
   {
    "duration": 4,
    "start_time": "2022-01-09T22:05:43.621Z"
   },
   {
    "duration": 5,
    "start_time": "2022-01-09T22:05:43.627Z"
   },
   {
    "duration": 20,
    "start_time": "2022-01-09T22:05:43.634Z"
   },
   {
    "duration": 55,
    "start_time": "2022-01-09T22:05:43.655Z"
   },
   {
    "duration": 16,
    "start_time": "2022-01-09T22:05:43.711Z"
   },
   {
    "duration": 23,
    "start_time": "2022-01-09T22:05:43.729Z"
   },
   {
    "duration": 51,
    "start_time": "2022-01-09T22:05:43.754Z"
   },
   {
    "duration": 29,
    "start_time": "2022-01-09T22:05:43.807Z"
   },
   {
    "duration": 107,
    "start_time": "2022-01-09T22:05:43.838Z"
   },
   {
    "duration": 58,
    "start_time": "2022-01-09T22:05:43.947Z"
   },
   {
    "duration": 42,
    "start_time": "2022-01-09T22:05:44.007Z"
   },
   {
    "duration": 5,
    "start_time": "2022-01-09T22:05:44.051Z"
   },
   {
    "duration": 5,
    "start_time": "2022-01-09T22:05:44.057Z"
   },
   {
    "duration": 27,
    "start_time": "2022-01-09T22:05:44.064Z"
   },
   {
    "duration": 6,
    "start_time": "2022-01-09T22:05:44.093Z"
   },
   {
    "duration": 30,
    "start_time": "2022-01-09T22:05:44.100Z"
   },
   {
    "duration": 21,
    "start_time": "2022-01-09T22:05:44.132Z"
   },
   {
    "duration": 80,
    "start_time": "2022-01-09T22:05:44.154Z"
   },
   {
    "duration": 35,
    "start_time": "2022-01-09T22:05:44.236Z"
   },
   {
    "duration": 2,
    "start_time": "2022-01-09T22:05:44.273Z"
   },
   {
    "duration": 8,
    "start_time": "2022-01-09T22:05:44.292Z"
   },
   {
    "duration": 3,
    "start_time": "2022-01-09T22:05:44.302Z"
   },
   {
    "duration": 4,
    "start_time": "2022-01-09T22:05:44.307Z"
   },
   {
    "duration": 11,
    "start_time": "2022-01-09T22:05:44.313Z"
   },
   {
    "duration": 7,
    "start_time": "2022-01-09T22:05:44.326Z"
   },
   {
    "duration": 5,
    "start_time": "2022-01-09T22:05:46.662Z"
   },
   {
    "duration": 562,
    "start_time": "2022-01-09T22:05:48.933Z"
   },
   {
    "duration": 559,
    "start_time": "2022-01-09T22:05:52.038Z"
   },
   {
    "duration": 45,
    "start_time": "2022-01-09T23:33:37.937Z"
   },
   {
    "duration": 3,
    "start_time": "2022-01-09T23:33:37.984Z"
   },
   {
    "duration": 23,
    "start_time": "2022-01-09T23:33:37.989Z"
   },
   {
    "duration": 11,
    "start_time": "2022-01-09T23:33:38.014Z"
   },
   {
    "duration": 8,
    "start_time": "2022-01-09T23:33:38.027Z"
   },
   {
    "duration": 10,
    "start_time": "2022-01-09T23:33:38.036Z"
   },
   {
    "duration": 10,
    "start_time": "2022-01-09T23:33:38.047Z"
   },
   {
    "duration": 36,
    "start_time": "2022-01-09T23:33:38.059Z"
   },
   {
    "duration": 21,
    "start_time": "2022-01-09T23:33:38.097Z"
   },
   {
    "duration": 27,
    "start_time": "2022-01-09T23:33:38.120Z"
   },
   {
    "duration": 2,
    "start_time": "2022-01-09T23:33:38.148Z"
   },
   {
    "duration": 40,
    "start_time": "2022-01-09T23:33:38.152Z"
   },
   {
    "duration": 9,
    "start_time": "2022-01-09T23:33:38.194Z"
   },
   {
    "duration": 8,
    "start_time": "2022-01-09T23:33:38.205Z"
   },
   {
    "duration": 8,
    "start_time": "2022-01-09T23:33:38.214Z"
   },
   {
    "duration": 22,
    "start_time": "2022-01-09T23:33:38.223Z"
   },
   {
    "duration": 5,
    "start_time": "2022-01-09T23:33:38.247Z"
   },
   {
    "duration": 48,
    "start_time": "2022-01-09T23:33:38.254Z"
   },
   {
    "duration": 13,
    "start_time": "2022-01-09T23:33:38.304Z"
   },
   {
    "duration": 23,
    "start_time": "2022-01-09T23:33:38.319Z"
   },
   {
    "duration": 11,
    "start_time": "2022-01-09T23:33:38.343Z"
   },
   {
    "duration": 5,
    "start_time": "2022-01-09T23:33:38.356Z"
   },
   {
    "duration": 5,
    "start_time": "2022-01-09T23:33:38.395Z"
   },
   {
    "duration": 9,
    "start_time": "2022-01-09T23:33:38.402Z"
   },
   {
    "duration": 2,
    "start_time": "2022-01-09T23:33:38.412Z"
   },
   {
    "duration": 4,
    "start_time": "2022-01-09T23:33:38.416Z"
   },
   {
    "duration": 8,
    "start_time": "2022-01-09T23:33:38.421Z"
   },
   {
    "duration": 9,
    "start_time": "2022-01-09T23:33:38.431Z"
   },
   {
    "duration": 4,
    "start_time": "2022-01-09T23:33:38.442Z"
   },
   {
    "duration": 9,
    "start_time": "2022-01-09T23:33:38.447Z"
   },
   {
    "duration": 6,
    "start_time": "2022-01-09T23:33:38.457Z"
   },
   {
    "duration": 7,
    "start_time": "2022-01-09T23:33:38.491Z"
   },
   {
    "duration": 20,
    "start_time": "2022-01-09T23:33:38.500Z"
   },
   {
    "duration": 13,
    "start_time": "2022-01-09T23:33:38.522Z"
   },
   {
    "duration": 16,
    "start_time": "2022-01-09T23:33:38.537Z"
   },
   {
    "duration": 9,
    "start_time": "2022-01-09T23:33:38.555Z"
   },
   {
    "duration": 2,
    "start_time": "2022-01-09T23:33:38.592Z"
   },
   {
    "duration": 7,
    "start_time": "2022-01-09T23:33:38.595Z"
   },
   {
    "duration": 17,
    "start_time": "2022-01-09T23:33:38.604Z"
   },
   {
    "duration": 26,
    "start_time": "2022-01-09T23:33:38.623Z"
   },
   {
    "duration": 11,
    "start_time": "2022-01-09T23:33:38.651Z"
   },
   {
    "duration": 43,
    "start_time": "2022-01-09T23:33:38.663Z"
   },
   {
    "duration": 22,
    "start_time": "2022-01-09T23:33:38.707Z"
   },
   {
    "duration": 26,
    "start_time": "2022-01-09T23:33:38.730Z"
   },
   {
    "duration": 101,
    "start_time": "2022-01-09T23:33:38.757Z"
   },
   {
    "duration": 61,
    "start_time": "2022-01-09T23:33:38.859Z"
   },
   {
    "duration": 42,
    "start_time": "2022-01-09T23:33:38.921Z"
   },
   {
    "duration": 5,
    "start_time": "2022-01-09T23:33:38.964Z"
   },
   {
    "duration": 4,
    "start_time": "2022-01-09T23:33:38.971Z"
   },
   {
    "duration": 2,
    "start_time": "2022-01-09T23:33:38.991Z"
   },
   {
    "duration": 5,
    "start_time": "2022-01-09T23:33:38.994Z"
   },
   {
    "duration": 24,
    "start_time": "2022-01-09T23:33:39.001Z"
   },
   {
    "duration": 20,
    "start_time": "2022-01-09T23:33:39.027Z"
   },
   {
    "duration": 64,
    "start_time": "2022-01-09T23:33:39.049Z"
   },
   {
    "duration": 30,
    "start_time": "2022-01-09T23:33:39.114Z"
   },
   {
    "duration": 2,
    "start_time": "2022-01-09T23:33:39.145Z"
   },
   {
    "duration": 10,
    "start_time": "2022-01-09T23:33:39.149Z"
   },
   {
    "duration": 7,
    "start_time": "2022-01-09T23:33:39.161Z"
   },
   {
    "duration": 15,
    "start_time": "2022-01-09T23:33:39.170Z"
   },
   {
    "duration": 14,
    "start_time": "2022-01-09T23:33:39.186Z"
   },
   {
    "duration": 22,
    "start_time": "2022-01-09T23:33:39.201Z"
   },
   {
    "duration": 12,
    "start_time": "2022-01-09T23:33:39.225Z"
   },
   {
    "duration": 525,
    "start_time": "2022-01-09T23:33:39.238Z"
   },
   {
    "duration": 9,
    "start_time": "2022-01-09T23:33:46.913Z"
   },
   {
    "duration": 471,
    "start_time": "2022-01-09T23:58:21.731Z"
   },
   {
    "duration": 4468,
    "start_time": "2022-01-09T23:58:48.238Z"
   },
   {
    "duration": 4,
    "start_time": "2022-01-09T23:59:14.548Z"
   },
   {
    "duration": 12647,
    "start_time": "2022-01-09T23:59:29.942Z"
   },
   {
    "duration": 12674,
    "start_time": "2022-01-10T00:00:09.718Z"
   },
   {
    "duration": 3,
    "start_time": "2022-01-10T00:00:53.857Z"
   },
   {
    "duration": 12494,
    "start_time": "2022-01-10T00:00:56.492Z"
   },
   {
    "duration": 3,
    "start_time": "2022-01-10T00:02:25.714Z"
   },
   {
    "duration": 12504,
    "start_time": "2022-01-10T00:02:27.257Z"
   },
   {
    "duration": 115,
    "start_time": "2022-01-10T00:07:22.056Z"
   },
   {
    "duration": 2847,
    "start_time": "2022-01-10T00:07:34.514Z"
   },
   {
    "duration": 12183,
    "start_time": "2022-01-10T00:08:14.609Z"
   },
   {
    "duration": 3,
    "start_time": "2022-01-10T00:12:33.866Z"
   },
   {
    "duration": 12409,
    "start_time": "2022-01-10T00:12:34.864Z"
   },
   {
    "duration": 3,
    "start_time": "2022-01-10T00:12:56.805Z"
   },
   {
    "duration": 12304,
    "start_time": "2022-01-10T00:12:57.429Z"
   },
   {
    "duration": 4491,
    "start_time": "2022-01-10T00:33:23.426Z"
   },
   {
    "duration": 6,
    "start_time": "2022-01-10T00:35:02.168Z"
   },
   {
    "duration": 707,
    "start_time": "2022-01-10T00:35:13.551Z"
   },
   {
    "duration": 7,
    "start_time": "2022-01-10T00:35:20.016Z"
   },
   {
    "duration": 183,
    "start_time": "2022-01-10T01:00:19.275Z"
   },
   {
    "duration": 7,
    "start_time": "2022-01-10T01:00:26.436Z"
   },
   {
    "duration": 171,
    "start_time": "2022-01-10T01:00:46.712Z"
   },
   {
    "duration": 175,
    "start_time": "2022-01-10T01:00:57.370Z"
   },
   {
    "duration": 6,
    "start_time": "2022-01-10T01:01:08.643Z"
   },
   {
    "duration": 26,
    "start_time": "2022-01-10T01:02:18.542Z"
   },
   {
    "duration": 197,
    "start_time": "2022-01-10T01:03:12.943Z"
   },
   {
    "duration": 6,
    "start_time": "2022-01-10T01:03:17.535Z"
   },
   {
    "duration": 176,
    "start_time": "2022-01-10T01:03:27.504Z"
   },
   {
    "duration": 9,
    "start_time": "2022-01-10T01:03:55.693Z"
   },
   {
    "duration": 16,
    "start_time": "2022-01-10T02:53:53.423Z"
   },
   {
    "duration": 18,
    "start_time": "2022-01-10T02:54:11.259Z"
   },
   {
    "duration": 17,
    "start_time": "2022-01-10T02:55:14.784Z"
   },
   {
    "duration": 28,
    "start_time": "2022-01-10T02:56:02.640Z"
   },
   {
    "duration": 26,
    "start_time": "2022-01-10T02:56:13.816Z"
   },
   {
    "duration": 26,
    "start_time": "2022-01-10T02:56:18.090Z"
   },
   {
    "duration": 26,
    "start_time": "2022-01-10T02:56:51.075Z"
   },
   {
    "duration": 186,
    "start_time": "2022-01-10T03:02:04.501Z"
   },
   {
    "duration": 463,
    "start_time": "2022-01-10T03:02:10.505Z"
   },
   {
    "duration": 576,
    "start_time": "2022-01-10T03:02:18.882Z"
   },
   {
    "duration": 68,
    "start_time": "2022-01-10T03:02:40.109Z"
   },
   {
    "duration": 5,
    "start_time": "2022-01-10T03:02:44.392Z"
   },
   {
    "duration": 5,
    "start_time": "2022-01-10T03:02:51.951Z"
   },
   {
    "duration": 309,
    "start_time": "2022-01-10T03:04:01.425Z"
   },
   {
    "duration": 5,
    "start_time": "2022-01-10T03:04:06.979Z"
   },
   {
    "duration": 188,
    "start_time": "2022-01-10T03:07:30.676Z"
   },
   {
    "duration": 5,
    "start_time": "2022-01-10T03:07:50.959Z"
   },
   {
    "duration": 6,
    "start_time": "2022-01-10T03:08:24.259Z"
   },
   {
    "duration": 5,
    "start_time": "2022-01-10T03:08:26.532Z"
   },
   {
    "duration": 5,
    "start_time": "2022-01-10T03:08:32.548Z"
   },
   {
    "duration": 187,
    "start_time": "2022-01-10T03:08:52.159Z"
   },
   {
    "duration": 61,
    "start_time": "2022-01-10T03:08:57.745Z"
   },
   {
    "duration": 67,
    "start_time": "2022-01-10T03:09:01.585Z"
   },
   {
    "duration": 57,
    "start_time": "2022-01-10T03:09:04.681Z"
   },
   {
    "duration": 619,
    "start_time": "2022-01-10T03:09:06.556Z"
   },
   {
    "duration": 5,
    "start_time": "2022-01-10T03:09:15.797Z"
   },
   {
    "duration": 5,
    "start_time": "2022-01-10T03:09:35.614Z"
   },
   {
    "duration": 6,
    "start_time": "2022-01-10T03:09:47.985Z"
   },
   {
    "duration": 6,
    "start_time": "2022-01-10T03:09:54.160Z"
   },
   {
    "duration": 6,
    "start_time": "2022-01-10T03:10:00.313Z"
   },
   {
    "duration": 28,
    "start_time": "2022-01-10T03:10:52.142Z"
   },
   {
    "duration": 176,
    "start_time": "2022-01-10T03:11:02.526Z"
   },
   {
    "duration": 152,
    "start_time": "2022-01-10T03:11:05.857Z"
   },
   {
    "duration": 259,
    "start_time": "2022-01-10T03:11:16.183Z"
   },
   {
    "duration": 229,
    "start_time": "2022-01-10T03:11:39.059Z"
   },
   {
    "duration": 395,
    "start_time": "2022-01-10T03:11:49.437Z"
   },
   {
    "duration": 160,
    "start_time": "2022-01-10T03:11:57.927Z"
   },
   {
    "duration": 82,
    "start_time": "2022-01-10T03:12:18.328Z"
   },
   {
    "duration": 49,
    "start_time": "2022-01-10T03:13:04.029Z"
   },
   {
    "duration": 45,
    "start_time": "2022-01-10T03:58:00.087Z"
   },
   {
    "duration": 37,
    "start_time": "2022-01-10T04:27:00.674Z"
   },
   {
    "duration": 68,
    "start_time": "2022-01-10T04:27:15.285Z"
   },
   {
    "duration": 76,
    "start_time": "2022-01-10T04:27:45.674Z"
   },
   {
    "duration": 52,
    "start_time": "2022-01-10T04:28:07.966Z"
   },
   {
    "duration": 43,
    "start_time": "2022-01-10T04:28:31.944Z"
   },
   {
    "duration": 42,
    "start_time": "2022-01-10T04:28:44.763Z"
   },
   {
    "duration": 44,
    "start_time": "2022-01-10T04:29:06.237Z"
   },
   {
    "duration": 45,
    "start_time": "2022-01-10T04:29:16.535Z"
   },
   {
    "duration": 47,
    "start_time": "2022-01-10T04:29:45.051Z"
   },
   {
    "duration": 44,
    "start_time": "2022-01-10T04:29:53.397Z"
   },
   {
    "duration": 43,
    "start_time": "2022-01-10T04:29:57.197Z"
   },
   {
    "duration": 4214,
    "start_time": "2022-01-10T05:20:46.694Z"
   },
   {
    "duration": 48,
    "start_time": "2022-01-10T05:21:09.885Z"
   },
   {
    "duration": 51,
    "start_time": "2022-01-10T05:28:17.140Z"
   },
   {
    "duration": 52,
    "start_time": "2022-01-10T05:28:22.543Z"
   },
   {
    "duration": 48,
    "start_time": "2022-01-10T05:29:02.020Z"
   },
   {
    "duration": 46,
    "start_time": "2022-01-10T05:29:17.253Z"
   },
   {
    "duration": 49,
    "start_time": "2022-01-10T05:29:33.837Z"
   },
   {
    "duration": 49,
    "start_time": "2022-01-10T05:30:09.318Z"
   },
   {
    "duration": 47,
    "start_time": "2022-01-10T05:30:11.823Z"
   },
   {
    "duration": 4,
    "start_time": "2022-01-10T05:39:34.168Z"
   },
   {
    "duration": 942,
    "start_time": "2022-01-10T16:06:45.936Z"
   },
   {
    "duration": 5,
    "start_time": "2022-01-10T16:06:46.881Z"
   },
   {
    "duration": 59,
    "start_time": "2022-01-10T16:06:46.889Z"
   },
   {
    "duration": 15,
    "start_time": "2022-01-10T16:06:46.951Z"
   },
   {
    "duration": 11,
    "start_time": "2022-01-10T16:06:46.968Z"
   },
   {
    "duration": 46,
    "start_time": "2022-01-10T16:06:46.982Z"
   },
   {
    "duration": 23,
    "start_time": "2022-01-10T16:06:47.030Z"
   },
   {
    "duration": 17,
    "start_time": "2022-01-10T16:06:47.057Z"
   },
   {
    "duration": 60,
    "start_time": "2022-01-10T16:06:47.078Z"
   },
   {
    "duration": 49,
    "start_time": "2022-01-10T16:06:47.141Z"
   },
   {
    "duration": 4,
    "start_time": "2022-01-10T16:06:47.223Z"
   },
   {
    "duration": 10,
    "start_time": "2022-01-10T16:06:47.230Z"
   },
   {
    "duration": 14,
    "start_time": "2022-01-10T16:06:47.243Z"
   },
   {
    "duration": 12,
    "start_time": "2022-01-10T16:06:47.259Z"
   },
   {
    "duration": 8,
    "start_time": "2022-01-10T16:06:47.273Z"
   },
   {
    "duration": 64,
    "start_time": "2022-01-10T16:06:47.284Z"
   },
   {
    "duration": 8,
    "start_time": "2022-01-10T16:06:47.350Z"
   },
   {
    "duration": 70,
    "start_time": "2022-01-10T16:06:47.361Z"
   },
   {
    "duration": 24,
    "start_time": "2022-01-10T16:06:47.434Z"
   },
   {
    "duration": 69,
    "start_time": "2022-01-10T16:06:47.460Z"
   },
   {
    "duration": 30,
    "start_time": "2022-01-10T16:06:47.531Z"
   },
   {
    "duration": 9,
    "start_time": "2022-01-10T16:06:47.564Z"
   },
   {
    "duration": 9,
    "start_time": "2022-01-10T16:06:47.584Z"
   },
   {
    "duration": 16,
    "start_time": "2022-01-10T16:06:47.622Z"
   },
   {
    "duration": 4,
    "start_time": "2022-01-10T16:06:47.641Z"
   },
   {
    "duration": 4,
    "start_time": "2022-01-10T16:06:47.648Z"
   },
   {
    "duration": 13,
    "start_time": "2022-01-10T16:06:47.655Z"
   },
   {
    "duration": 54,
    "start_time": "2022-01-10T16:06:47.670Z"
   },
   {
    "duration": 3,
    "start_time": "2022-01-10T16:06:47.727Z"
   },
   {
    "duration": 11,
    "start_time": "2022-01-10T16:06:47.734Z"
   },
   {
    "duration": 5,
    "start_time": "2022-01-10T16:06:47.748Z"
   },
   {
    "duration": 5,
    "start_time": "2022-01-10T16:06:47.756Z"
   },
   {
    "duration": 71,
    "start_time": "2022-01-10T16:06:47.763Z"
   },
   {
    "duration": 23,
    "start_time": "2022-01-10T16:06:47.837Z"
   },
   {
    "duration": 25,
    "start_time": "2022-01-10T16:06:47.862Z"
   },
   {
    "duration": 44,
    "start_time": "2022-01-10T16:06:47.890Z"
   },
   {
    "duration": 4,
    "start_time": "2022-01-10T16:06:47.936Z"
   },
   {
    "duration": 7,
    "start_time": "2022-01-10T16:06:47.943Z"
   },
   {
    "duration": 35,
    "start_time": "2022-01-10T16:06:47.953Z"
   },
   {
    "duration": 66,
    "start_time": "2022-01-10T16:06:48.024Z"
   },
   {
    "duration": 35,
    "start_time": "2022-01-10T16:06:48.093Z"
   },
   {
    "duration": 44,
    "start_time": "2022-01-10T16:06:48.130Z"
   },
   {
    "duration": 73,
    "start_time": "2022-01-10T16:06:48.177Z"
   },
   {
    "duration": 40,
    "start_time": "2022-01-10T16:06:48.253Z"
   },
   {
    "duration": 215,
    "start_time": "2022-01-10T16:06:48.297Z"
   },
   {
    "duration": 89,
    "start_time": "2022-01-10T16:06:48.523Z"
   },
   {
    "duration": 75,
    "start_time": "2022-01-10T16:06:48.624Z"
   },
   {
    "duration": 25,
    "start_time": "2022-01-10T16:06:48.702Z"
   },
   {
    "duration": 5,
    "start_time": "2022-01-10T16:06:48.730Z"
   },
   {
    "duration": 9,
    "start_time": "2022-01-10T16:06:48.737Z"
   },
   {
    "duration": 26,
    "start_time": "2022-01-10T16:06:48.750Z"
   },
   {
    "duration": 58,
    "start_time": "2022-01-10T16:06:48.778Z"
   },
   {
    "duration": 31,
    "start_time": "2022-01-10T16:06:48.839Z"
   },
   {
    "duration": 85,
    "start_time": "2022-01-10T16:06:48.873Z"
   },
   {
    "duration": 62,
    "start_time": "2022-01-10T16:06:48.961Z"
   },
   {
    "duration": 3,
    "start_time": "2022-01-10T16:06:49.026Z"
   },
   {
    "duration": 16,
    "start_time": "2022-01-10T16:06:49.032Z"
   },
   {
    "duration": 4,
    "start_time": "2022-01-10T16:06:49.051Z"
   },
   {
    "duration": 7,
    "start_time": "2022-01-10T16:06:49.057Z"
   },
   {
    "duration": 9,
    "start_time": "2022-01-10T16:06:49.067Z"
   },
   {
    "duration": 52,
    "start_time": "2022-01-10T16:06:49.078Z"
   },
   {
    "duration": 10,
    "start_time": "2022-01-10T16:06:49.132Z"
   },
   {
    "duration": 1031,
    "start_time": "2022-01-10T16:06:49.145Z"
   },
   {
    "duration": 12,
    "start_time": "2022-01-10T16:06:50.179Z"
   },
   {
    "duration": 4,
    "start_time": "2022-01-10T16:06:50.193Z"
   },
   {
    "duration": 2,
    "start_time": "2022-01-10T16:06:50.224Z"
   },
   {
    "duration": 45,
    "start_time": "2022-01-10T16:06:50.229Z"
   },
   {
    "duration": 8,
    "start_time": "2022-01-10T16:06:50.282Z"
   },
   {
    "duration": 103,
    "start_time": "2022-01-10T16:06:50.293Z"
   },
   {
    "duration": 83,
    "start_time": "2022-01-10T16:06:50.399Z"
   },
   {
    "duration": 103,
    "start_time": "2022-01-10T16:06:50.485Z"
   },
   {
    "duration": 96,
    "start_time": "2022-01-10T16:06:50.590Z"
   },
   {
    "duration": 88,
    "start_time": "2022-01-10T16:06:50.688Z"
   },
   {
    "duration": 92,
    "start_time": "2022-01-10T16:06:50.778Z"
   },
   {
    "duration": 4,
    "start_time": "2022-01-10T16:06:50.873Z"
   },
   {
    "duration": 64,
    "start_time": "2022-01-10T16:07:47.657Z"
   },
   {
    "duration": 93,
    "start_time": "2022-01-10T19:59:28.185Z"
   },
   {
    "duration": 22,
    "start_time": "2022-01-10T20:47:59.714Z"
   },
   {
    "duration": 20,
    "start_time": "2022-01-10T20:48:03.054Z"
   },
   {
    "duration": 29,
    "start_time": "2022-01-10T20:49:23.338Z"
   },
   {
    "duration": 40,
    "start_time": "2022-01-10T20:51:21.833Z"
   },
   {
    "duration": 39,
    "start_time": "2022-01-10T20:51:39.096Z"
   },
   {
    "duration": 41,
    "start_time": "2022-01-10T20:51:54.226Z"
   },
   {
    "duration": 40,
    "start_time": "2022-01-10T20:52:09.715Z"
   },
   {
    "duration": 53,
    "start_time": "2022-01-10T20:52:22.077Z"
   },
   {
    "duration": 52,
    "start_time": "2022-01-10T20:52:36.228Z"
   },
   {
    "duration": 5,
    "start_time": "2022-01-10T20:52:36.283Z"
   },
   {
    "duration": 49,
    "start_time": "2022-01-10T20:52:36.291Z"
   },
   {
    "duration": 18,
    "start_time": "2022-01-10T20:52:36.343Z"
   },
   {
    "duration": 12,
    "start_time": "2022-01-10T20:52:36.364Z"
   },
   {
    "duration": 44,
    "start_time": "2022-01-10T20:52:36.379Z"
   },
   {
    "duration": 17,
    "start_time": "2022-01-10T20:52:36.426Z"
   },
   {
    "duration": 11,
    "start_time": "2022-01-10T20:52:36.448Z"
   },
   {
    "duration": 39,
    "start_time": "2022-01-10T20:52:38.951Z"
   },
   {
    "duration": 40,
    "start_time": "2022-01-10T20:57:18.016Z"
   },
   {
    "duration": 30,
    "start_time": "2022-01-10T21:09:32.142Z"
   },
   {
    "duration": 25,
    "start_time": "2022-01-10T21:10:20.384Z"
   },
   {
    "duration": 34,
    "start_time": "2022-01-10T21:11:18.712Z"
   },
   {
    "duration": 36,
    "start_time": "2022-01-10T21:12:12.026Z"
   },
   {
    "duration": 74,
    "start_time": "2022-01-10T21:13:08.658Z"
   },
   {
    "duration": 197,
    "start_time": "2022-01-10T21:13:49.338Z"
   },
   {
    "duration": 93,
    "start_time": "2022-01-10T21:15:16.799Z"
   },
   {
    "duration": 38,
    "start_time": "2022-01-10T21:16:30.497Z"
   },
   {
    "duration": 25,
    "start_time": "2022-01-10T21:59:19.599Z"
   },
   {
    "duration": 34,
    "start_time": "2022-01-10T22:07:16.092Z"
   },
   {
    "duration": 34,
    "start_time": "2022-01-10T22:07:22.232Z"
   },
   {
    "duration": 552,
    "start_time": "2022-01-10T22:08:42.973Z"
   },
   {
    "duration": 63,
    "start_time": "2022-01-10T22:08:49.853Z"
   },
   {
    "duration": 6,
    "start_time": "2022-01-10T22:08:49.918Z"
   },
   {
    "duration": 104,
    "start_time": "2022-01-10T22:08:49.929Z"
   },
   {
    "duration": 17,
    "start_time": "2022-01-10T22:08:50.037Z"
   },
   {
    "duration": 12,
    "start_time": "2022-01-10T22:08:50.057Z"
   },
   {
    "duration": 46,
    "start_time": "2022-01-10T22:08:50.084Z"
   },
   {
    "duration": 23,
    "start_time": "2022-01-10T22:08:50.132Z"
   },
   {
    "duration": 28,
    "start_time": "2022-01-10T22:08:50.158Z"
   },
   {
    "duration": 71,
    "start_time": "2022-01-10T22:08:50.191Z"
   },
   {
    "duration": 58,
    "start_time": "2022-01-10T22:08:50.265Z"
   },
   {
    "duration": 8,
    "start_time": "2022-01-10T22:08:50.326Z"
   },
   {
    "duration": 15,
    "start_time": "2022-01-10T22:08:50.337Z"
   },
   {
    "duration": 14,
    "start_time": "2022-01-10T22:08:50.356Z"
   },
   {
    "duration": 53,
    "start_time": "2022-01-10T22:08:50.373Z"
   },
   {
    "duration": 35,
    "start_time": "2022-01-10T22:08:50.429Z"
   },
   {
    "duration": 9,
    "start_time": "2022-01-10T22:08:50.466Z"
   },
   {
    "duration": 67,
    "start_time": "2022-01-10T22:08:50.477Z"
   },
   {
    "duration": 22,
    "start_time": "2022-01-10T22:08:50.547Z"
   },
   {
    "duration": 74,
    "start_time": "2022-01-10T22:08:50.572Z"
   },
   {
    "duration": 23,
    "start_time": "2022-01-10T22:08:50.649Z"
   },
   {
    "duration": 20,
    "start_time": "2022-01-10T22:08:50.675Z"
   },
   {
    "duration": 30,
    "start_time": "2022-01-10T22:08:50.698Z"
   },
   {
    "duration": 26,
    "start_time": "2022-01-10T22:08:50.731Z"
   },
   {
    "duration": 14,
    "start_time": "2022-01-10T22:08:50.760Z"
   },
   {
    "duration": 56,
    "start_time": "2022-01-10T22:08:50.777Z"
   },
   {
    "duration": 14,
    "start_time": "2022-01-10T22:08:50.836Z"
   },
   {
    "duration": 39,
    "start_time": "2022-01-10T22:08:50.856Z"
   },
   {
    "duration": 42,
    "start_time": "2022-01-10T22:08:50.899Z"
   },
   {
    "duration": 28,
    "start_time": "2022-01-10T22:08:50.944Z"
   },
   {
    "duration": 14,
    "start_time": "2022-01-10T22:08:50.974Z"
   },
   {
    "duration": 7,
    "start_time": "2022-01-10T22:08:51.024Z"
   },
   {
    "duration": 34,
    "start_time": "2022-01-10T22:08:51.035Z"
   },
   {
    "duration": 64,
    "start_time": "2022-01-10T22:08:51.072Z"
   },
   {
    "duration": 19,
    "start_time": "2022-01-10T22:08:51.138Z"
   },
   {
    "duration": 74,
    "start_time": "2022-01-10T22:08:51.161Z"
   },
   {
    "duration": 44,
    "start_time": "2022-01-10T22:08:51.238Z"
   },
   {
    "duration": 72,
    "start_time": "2022-01-10T22:08:51.286Z"
   },
   {
    "duration": 182,
    "start_time": "2022-01-10T22:08:51.361Z"
   },
   {
    "duration": 124,
    "start_time": "2022-01-10T22:08:51.546Z"
   },
   {
    "duration": 94,
    "start_time": "2022-01-10T22:08:51.673Z"
   },
   {
    "duration": 9,
    "start_time": "2022-01-10T22:08:51.770Z"
   },
   {
    "duration": 61,
    "start_time": "2022-01-10T22:08:51.782Z"
   },
   {
    "duration": 35,
    "start_time": "2022-01-10T22:08:51.846Z"
   },
   {
    "duration": 90,
    "start_time": "2022-01-10T22:08:51.884Z"
   },
   {
    "duration": 79,
    "start_time": "2022-01-10T22:08:51.977Z"
   },
   {
    "duration": 9,
    "start_time": "2022-01-10T22:08:52.059Z"
   },
   {
    "duration": 5,
    "start_time": "2022-01-10T22:08:52.071Z"
   },
   {
    "duration": 6,
    "start_time": "2022-01-10T22:08:52.079Z"
   },
   {
    "duration": 38,
    "start_time": "2022-01-10T22:08:52.088Z"
   },
   {
    "duration": 10,
    "start_time": "2022-01-10T22:08:52.128Z"
   },
   {
    "duration": 8,
    "start_time": "2022-01-10T22:08:52.140Z"
   },
   {
    "duration": 1219,
    "start_time": "2022-01-10T22:08:52.151Z"
   },
   {
    "duration": 14,
    "start_time": "2022-01-10T22:08:53.373Z"
   },
   {
    "duration": 3,
    "start_time": "2022-01-10T22:08:53.390Z"
   },
   {
    "duration": 4,
    "start_time": "2022-01-10T22:08:53.424Z"
   },
   {
    "duration": 48,
    "start_time": "2022-01-10T22:08:53.431Z"
   },
   {
    "duration": 41,
    "start_time": "2022-01-10T22:08:53.482Z"
   },
   {
    "duration": 69,
    "start_time": "2022-01-10T22:08:53.526Z"
   },
   {
    "duration": 88,
    "start_time": "2022-01-10T22:08:53.598Z"
   },
   {
    "duration": 113,
    "start_time": "2022-01-10T22:08:53.689Z"
   },
   {
    "duration": 119,
    "start_time": "2022-01-10T22:08:53.805Z"
   },
   {
    "duration": 117,
    "start_time": "2022-01-10T22:08:53.927Z"
   },
   {
    "duration": 90,
    "start_time": "2022-01-10T22:08:54.046Z"
   },
   {
    "duration": 5,
    "start_time": "2022-01-10T22:08:54.138Z"
   },
   {
    "duration": 111,
    "start_time": "2022-01-10T22:08:54.146Z"
   },
   {
    "duration": 110,
    "start_time": "2022-01-10T22:08:54.259Z"
   },
   {
    "duration": 6,
    "start_time": "2022-01-11T10:12:37.579Z"
   },
   {
    "duration": 4,
    "start_time": "2022-01-11T10:12:43.715Z"
   },
   {
    "duration": 4,
    "start_time": "2022-01-11T10:12:51.487Z"
   },
   {
    "duration": 103,
    "start_time": "2022-01-11T10:40:43.417Z"
   },
   {
    "duration": 130,
    "start_time": "2022-01-11T10:48:24.400Z"
   },
   {
    "duration": 762,
    "start_time": "2022-01-11T18:24:23.292Z"
   },
   {
    "duration": 55,
    "start_time": "2022-01-11T18:24:24.057Z"
   },
   {
    "duration": 5,
    "start_time": "2022-01-11T18:24:24.115Z"
   },
   {
    "duration": 51,
    "start_time": "2022-01-11T18:24:24.122Z"
   },
   {
    "duration": 15,
    "start_time": "2022-01-11T18:24:24.175Z"
   },
   {
    "duration": 20,
    "start_time": "2022-01-11T18:24:24.192Z"
   },
   {
    "duration": 46,
    "start_time": "2022-01-11T18:24:24.214Z"
   },
   {
    "duration": 15,
    "start_time": "2022-01-11T18:24:24.263Z"
   },
   {
    "duration": 11,
    "start_time": "2022-01-11T18:24:24.281Z"
   },
   {
    "duration": 67,
    "start_time": "2022-01-11T18:24:24.294Z"
   },
   {
    "duration": 35,
    "start_time": "2022-01-11T18:24:24.363Z"
   },
   {
    "duration": 8,
    "start_time": "2022-01-11T18:24:24.401Z"
   },
   {
    "duration": 52,
    "start_time": "2022-01-11T18:24:24.412Z"
   },
   {
    "duration": 9,
    "start_time": "2022-01-11T18:24:24.467Z"
   },
   {
    "duration": 9,
    "start_time": "2022-01-11T18:24:24.480Z"
   },
   {
    "duration": 70,
    "start_time": "2022-01-11T18:24:24.491Z"
   },
   {
    "duration": 10,
    "start_time": "2022-01-11T18:24:24.563Z"
   },
   {
    "duration": 36,
    "start_time": "2022-01-11T18:24:24.576Z"
   },
   {
    "duration": 50,
    "start_time": "2022-01-11T18:24:24.614Z"
   },
   {
    "duration": 40,
    "start_time": "2022-01-11T18:24:24.667Z"
   },
   {
    "duration": 18,
    "start_time": "2022-01-11T18:24:24.709Z"
   },
   {
    "duration": 38,
    "start_time": "2022-01-11T18:24:24.729Z"
   },
   {
    "duration": 9,
    "start_time": "2022-01-11T18:24:24.775Z"
   },
   {
    "duration": 13,
    "start_time": "2022-01-11T18:24:24.790Z"
   },
   {
    "duration": 9,
    "start_time": "2022-01-11T18:24:24.805Z"
   },
   {
    "duration": 18,
    "start_time": "2022-01-11T18:24:24.859Z"
   },
   {
    "duration": 12,
    "start_time": "2022-01-11T18:24:24.880Z"
   },
   {
    "duration": 30,
    "start_time": "2022-01-11T18:24:24.895Z"
   },
   {
    "duration": 53,
    "start_time": "2022-01-11T18:24:24.927Z"
   },
   {
    "duration": 24,
    "start_time": "2022-01-11T18:24:24.983Z"
   },
   {
    "duration": 12,
    "start_time": "2022-01-11T18:24:25.010Z"
   },
   {
    "duration": 36,
    "start_time": "2022-01-11T18:24:25.025Z"
   },
   {
    "duration": 33,
    "start_time": "2022-01-11T18:24:25.063Z"
   },
   {
    "duration": 41,
    "start_time": "2022-01-11T18:24:25.098Z"
   },
   {
    "duration": 17,
    "start_time": "2022-01-11T18:24:25.160Z"
   },
   {
    "duration": 34,
    "start_time": "2022-01-11T18:24:25.179Z"
   },
   {
    "duration": 66,
    "start_time": "2022-01-11T18:24:25.215Z"
   },
   {
    "duration": 39,
    "start_time": "2022-01-11T18:24:25.283Z"
   },
   {
    "duration": 160,
    "start_time": "2022-01-11T18:24:25.324Z"
   },
   {
    "duration": 90,
    "start_time": "2022-01-11T18:24:25.487Z"
   },
   {
    "duration": 81,
    "start_time": "2022-01-11T18:24:25.579Z"
   },
   {
    "duration": 7,
    "start_time": "2022-01-11T18:24:25.663Z"
   },
   {
    "duration": 34,
    "start_time": "2022-01-11T18:24:25.673Z"
   },
   {
    "duration": 61,
    "start_time": "2022-01-11T18:24:25.709Z"
   },
   {
    "duration": 56,
    "start_time": "2022-01-11T18:24:25.773Z"
   },
   {
    "duration": 67,
    "start_time": "2022-01-11T18:24:25.831Z"
   },
   {
    "duration": 7,
    "start_time": "2022-01-11T18:24:25.901Z"
   },
   {
    "duration": 6,
    "start_time": "2022-01-11T18:24:25.911Z"
   },
   {
    "duration": 42,
    "start_time": "2022-01-11T18:24:25.919Z"
   },
   {
    "duration": 10,
    "start_time": "2022-01-11T18:24:25.963Z"
   },
   {
    "duration": 977,
    "start_time": "2022-01-11T18:24:25.975Z"
   },
   {
    "duration": 10,
    "start_time": "2022-01-11T18:24:26.959Z"
   },
   {
    "duration": 37,
    "start_time": "2022-01-11T18:24:26.971Z"
   },
   {
    "duration": 8,
    "start_time": "2022-01-11T18:24:27.011Z"
   },
   {
    "duration": 106,
    "start_time": "2022-01-11T18:24:27.021Z"
   },
   {
    "duration": 88,
    "start_time": "2022-01-11T18:24:27.130Z"
   },
   {
    "duration": 93,
    "start_time": "2022-01-11T18:24:27.220Z"
   },
   {
    "duration": 93,
    "start_time": "2022-01-11T18:24:27.316Z"
   },
   {
    "duration": 93,
    "start_time": "2022-01-11T18:24:27.411Z"
   },
   {
    "duration": 95,
    "start_time": "2022-01-11T18:24:27.507Z"
   },
   {
    "duration": 5,
    "start_time": "2022-01-11T18:24:27.604Z"
   },
   {
    "duration": 81,
    "start_time": "2022-01-11T18:24:27.612Z"
   },
   {
    "duration": 106,
    "start_time": "2022-01-11T18:24:27.696Z"
   },
   {
    "duration": 56,
    "start_time": "2022-01-11T18:24:27.804Z"
   },
   {
    "duration": 5,
    "start_time": "2022-01-11T18:24:27.862Z"
   },
   {
    "duration": 40,
    "start_time": "2022-01-11T18:24:27.869Z"
   },
   {
    "duration": 16,
    "start_time": "2022-01-11T18:24:27.911Z"
   },
   {
    "duration": 11,
    "start_time": "2022-01-11T18:24:27.962Z"
   },
   {
    "duration": 13,
    "start_time": "2022-01-11T18:24:27.977Z"
   },
   {
    "duration": 14,
    "start_time": "2022-01-11T18:24:27.992Z"
   },
   {
    "duration": 11,
    "start_time": "2022-01-11T18:24:28.008Z"
   },
   {
    "duration": 38,
    "start_time": "2022-01-11T18:24:28.060Z"
   },
   {
    "duration": 59,
    "start_time": "2022-01-11T18:24:28.100Z"
   },
   {
    "duration": 6,
    "start_time": "2022-01-11T18:24:28.161Z"
   },
   {
    "duration": 13,
    "start_time": "2022-01-11T18:24:28.169Z"
   },
   {
    "duration": 6,
    "start_time": "2022-01-11T18:24:28.184Z"
   },
   {
    "duration": 8,
    "start_time": "2022-01-11T18:24:28.193Z"
   },
   {
    "duration": 76,
    "start_time": "2022-01-11T18:24:28.204Z"
   },
   {
    "duration": 8,
    "start_time": "2022-01-11T18:24:28.282Z"
   },
   {
    "duration": 34,
    "start_time": "2022-01-11T18:24:28.292Z"
   },
   {
    "duration": 51,
    "start_time": "2022-01-11T18:24:28.328Z"
   },
   {
    "duration": 37,
    "start_time": "2022-01-11T18:24:28.381Z"
   },
   {
    "duration": 46,
    "start_time": "2022-01-11T18:24:28.420Z"
   },
   {
    "duration": 9,
    "start_time": "2022-01-11T18:24:28.469Z"
   },
   {
    "duration": 9,
    "start_time": "2022-01-11T18:24:28.480Z"
   },
   {
    "duration": 15,
    "start_time": "2022-01-11T18:24:28.492Z"
   },
   {
    "duration": 56,
    "start_time": "2022-01-11T18:24:28.509Z"
   },
   {
    "duration": 20,
    "start_time": "2022-01-11T18:24:28.568Z"
   },
   {
    "duration": 12,
    "start_time": "2022-01-11T18:24:28.591Z"
   },
   {
    "duration": 73,
    "start_time": "2022-01-11T18:24:28.606Z"
   },
   {
    "duration": 22,
    "start_time": "2022-01-11T18:24:28.682Z"
   },
   {
    "duration": 53,
    "start_time": "2022-01-11T18:24:28.706Z"
   },
   {
    "duration": 16,
    "start_time": "2022-01-11T18:24:28.762Z"
   },
   {
    "duration": 8,
    "start_time": "2022-01-11T18:24:28.780Z"
   },
   {
    "duration": 29,
    "start_time": "2022-01-11T18:24:28.790Z"
   },
   {
    "duration": 79,
    "start_time": "2022-01-11T18:24:28.821Z"
   },
   {
    "duration": 15,
    "start_time": "2022-01-11T18:24:28.902Z"
   },
   {
    "duration": 61,
    "start_time": "2022-01-11T18:24:28.919Z"
   },
   {
    "duration": 31,
    "start_time": "2022-01-11T18:24:28.982Z"
   },
   {
    "duration": 66,
    "start_time": "2022-01-11T18:24:29.015Z"
   },
   {
    "duration": 147,
    "start_time": "2022-01-11T18:24:29.084Z"
   },
   {
    "duration": 90,
    "start_time": "2022-01-11T18:24:29.233Z"
   },
   {
    "duration": 88,
    "start_time": "2022-01-11T18:24:29.327Z"
   },
   {
    "duration": 11,
    "start_time": "2022-01-11T18:24:29.418Z"
   },
   {
    "duration": 61,
    "start_time": "2022-01-11T18:24:29.431Z"
   },
   {
    "duration": 31,
    "start_time": "2022-01-11T18:24:29.495Z"
   },
   {
    "duration": 80,
    "start_time": "2022-01-11T18:24:29.529Z"
   },
   {
    "duration": 64,
    "start_time": "2022-01-11T18:24:29.612Z"
   },
   {
    "duration": 7,
    "start_time": "2022-01-11T18:24:29.679Z"
   },
   {
    "duration": 8,
    "start_time": "2022-01-11T18:24:29.688Z"
   },
   {
    "duration": 9,
    "start_time": "2022-01-11T18:24:29.698Z"
   },
   {
    "duration": 8,
    "start_time": "2022-01-11T18:24:29.709Z"
   },
   {
    "duration": 1003,
    "start_time": "2022-01-11T18:24:29.719Z"
   },
   {
    "duration": 12,
    "start_time": "2022-01-11T18:24:30.724Z"
   },
   {
    "duration": 55,
    "start_time": "2022-01-11T18:24:30.739Z"
   },
   {
    "duration": 11,
    "start_time": "2022-01-11T18:24:30.797Z"
   },
   {
    "duration": 106,
    "start_time": "2022-01-11T18:24:30.811Z"
   },
   {
    "duration": 86,
    "start_time": "2022-01-11T18:24:30.920Z"
   },
   {
    "duration": 108,
    "start_time": "2022-01-11T18:24:31.009Z"
   },
   {
    "duration": 96,
    "start_time": "2022-01-11T18:24:31.120Z"
   },
   {
    "duration": 94,
    "start_time": "2022-01-11T18:24:31.219Z"
   },
   {
    "duration": 100,
    "start_time": "2022-01-11T18:24:31.316Z"
   },
   {
    "duration": 5,
    "start_time": "2022-01-11T18:24:31.419Z"
   },
   {
    "duration": 91,
    "start_time": "2022-01-11T18:24:31.427Z"
   },
   {
    "duration": 99,
    "start_time": "2022-01-11T18:24:31.521Z"
   }
  ],
  "kernelspec": {
   "display_name": "Python 3",
   "language": "python",
   "name": "python3"
  },
  "language_info": {
   "codemirror_mode": {
    "name": "ipython",
    "version": 3
   },
   "file_extension": ".py",
   "mimetype": "text/x-python",
   "name": "python",
   "nbconvert_exporter": "python",
   "pygments_lexer": "ipython3",
   "version": "3.8.8"
  },
  "toc": {
   "base_numbering": 1,
   "nav_menu": {},
   "number_sections": true,
   "sideBar": true,
   "skip_h1_title": true,
   "title_cell": "Table of Contents",
   "title_sidebar": "Contents",
   "toc_cell": false,
   "toc_position": {},
   "toc_section_display": true,
   "toc_window_display": false
  }
 },
 "nbformat": 4,
 "nbformat_minor": 2
}
